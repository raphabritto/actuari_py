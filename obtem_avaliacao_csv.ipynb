{
 "cells": [
  {
   "cell_type": "code",
   "execution_count": 2,
   "metadata": {
    "collapsed": true
   },
   "outputs": [],
   "source": [
    "import pandas as pd"
   ]
  },
  {
   "cell_type": "code",
   "execution_count": 3,
   "metadata": {
    "collapsed": true
   },
   "outputs": [],
   "source": [
    "#df_aval = pd.read_csv('avaliacao.csv', ';', names = ['avaliacao', 'cadastro', 'plano_previdencia'])"
   ]
  },
  {
   "cell_type": "code",
   "execution_count": 4,
   "metadata": {},
   "outputs": [],
   "source": [
    "#df_aval = pd.read_table('avaliacao.csv', ';', names = ['avaliacao'])"
   ]
  },
  {
   "cell_type": "code",
   "execution_count": 21,
   "metadata": {
    "collapsed": true
   },
   "outputs": [],
   "source": [
    "df_aval = pd.read_csv('avaliacao.csv', ';', decimal=',')"
   ]
  },
  {
   "cell_type": "code",
   "execution_count": 22,
   "metadata": {
    "collapsed": true
   },
   "outputs": [],
   "source": [
    "del df_aval['DS_PLANO_BENEFICIO']"
   ]
  },
  {
   "cell_type": "code",
   "execution_count": 23,
   "metadata": {
    "collapsed": true
   },
   "outputs": [],
   "source": [
    "nomes_colunas = {'ID_AVALIACAO': 'avaliacao', 'ID_CADASTRO': 'cadastro', 'IDPLANOPREV': 'plano_previdencia', 'ID_PLANO_BENEFICIO': 'plano_beneficio', 'DT_CALCULO': 'data_calculo'}"
   ]
  },
  {
   "cell_type": "code",
   "execution_count": 24,
   "metadata": {},
   "outputs": [],
   "source": [
    "df_aval = df_aval.rename(columns = nomes_colunas)"
   ]
  },
  {
   "cell_type": "code",
   "execution_count": 32,
   "metadata": {},
   "outputs": [
    {
     "data": {
      "text/html": [
       "<div>\n",
       "<table border=\"1\" class=\"dataframe\">\n",
       "  <thead>\n",
       "    <tr style=\"text-align: right;\">\n",
       "      <th></th>\n",
       "      <th>avaliacao</th>\n",
       "      <th>cadastro</th>\n",
       "      <th>plano_previdencia</th>\n",
       "      <th>plano_beneficio</th>\n",
       "      <th>data_calculo</th>\n",
       "      <th>FL_CALCULAR_DEMONS_RESULTADO</th>\n",
       "      <th>FL_FLUXO_RECEITA_DESPESA_FOLHA</th>\n",
       "      <th>FL_MEMORIA_CALCULO</th>\n",
       "      <th>DT_REAJUSTE_BENEFICIO</th>\n",
       "      <th>VL_BENEFICIO_MINIMO</th>\n",
       "      <th>...</th>\n",
       "      <th>PC_TAXA_ADMIN_BENEFICIO</th>\n",
       "      <th>PC_TAXA_REAL_CRESC_SALARIAL</th>\n",
       "      <th>PC_TAXA_REAL_CRESC_BENEFICIO</th>\n",
       "      <th>PC_FATOR_VLR_REAL_SALARIO</th>\n",
       "      <th>PC_FATOR_VLR_REAL_BEN_FUNCEF</th>\n",
       "      <th>PC_FATOR_VLR_REAL_BEN_INSS</th>\n",
       "      <th>PC_FATOR_REAJ_BENEF_LIQUIDO</th>\n",
       "      <th>CD_COMPOSICAO_FAMILIAR</th>\n",
       "      <th>PC_OPCAO_BUA</th>\n",
       "      <th>PC_SAQUE_BUA</th>\n",
       "    </tr>\n",
       "  </thead>\n",
       "  <tbody>\n",
       "    <tr>\n",
       "      <th>0</th>\n",
       "      <td>25445</td>\n",
       "      <td>10809</td>\n",
       "      <td>74</td>\n",
       "      <td>5</td>\n",
       "      <td>31/12/2016</td>\n",
       "      <td>S</td>\n",
       "      <td>SG</td>\n",
       "      <td>N</td>\n",
       "      <td>01/01/2016</td>\n",
       "      <td>0.0</td>\n",
       "      <td>...</td>\n",
       "      <td>0.9</td>\n",
       "      <td>2.39</td>\n",
       "      <td>0.0</td>\n",
       "      <td>0.98</td>\n",
       "      <td>0.98</td>\n",
       "      <td>0.98</td>\n",
       "      <td>121.77</td>\n",
       "      <td>FP</td>\n",
       "      <td>0.0</td>\n",
       "      <td>0.0</td>\n",
       "    </tr>\n",
       "  </tbody>\n",
       "</table>\n",
       "<p>1 rows × 33 columns</p>\n",
       "</div>"
      ],
      "text/plain": [
       "   avaliacao  cadastro  plano_previdencia  plano_beneficio data_calculo  \\\n",
       "0      25445     10809                 74                5   31/12/2016   \n",
       "\n",
       "  FL_CALCULAR_DEMONS_RESULTADO FL_FLUXO_RECEITA_DESPESA_FOLHA  \\\n",
       "0                            S                             SG   \n",
       "\n",
       "  FL_MEMORIA_CALCULO DT_REAJUSTE_BENEFICIO  VL_BENEFICIO_MINIMO      ...       \\\n",
       "0                  N            01/01/2016                  0.0      ...        \n",
       "\n",
       "   PC_TAXA_ADMIN_BENEFICIO  PC_TAXA_REAL_CRESC_SALARIAL  \\\n",
       "0                      0.9                         2.39   \n",
       "\n",
       "   PC_TAXA_REAL_CRESC_BENEFICIO  PC_FATOR_VLR_REAL_SALARIO  \\\n",
       "0                           0.0                       0.98   \n",
       "\n",
       "   PC_FATOR_VLR_REAL_BEN_FUNCEF  PC_FATOR_VLR_REAL_BEN_INSS  \\\n",
       "0                          0.98                        0.98   \n",
       "\n",
       "   PC_FATOR_REAJ_BENEF_LIQUIDO  CD_COMPOSICAO_FAMILIAR  PC_OPCAO_BUA  \\\n",
       "0                       121.77                      FP           0.0   \n",
       "\n",
       "   PC_SAQUE_BUA  \n",
       "0           0.0  \n",
       "\n",
       "[1 rows x 33 columns]"
      ]
     },
     "execution_count": 32,
     "metadata": {},
     "output_type": "execute_result"
    }
   ],
   "source": [
    "df_aval"
   ]
  },
  {
   "cell_type": "code",
   "execution_count": 26,
   "metadata": {
    "scrolled": true
   },
   "outputs": [
    {
     "data": {
      "text/plain": [
       "avaliacao                           int64\n",
       "cadastro                            int64\n",
       "plano_previdencia                   int64\n",
       "plano_beneficio                     int64\n",
       "data_calculo                       object\n",
       "FL_CALCULAR_DEMONS_RESULTADO       object\n",
       "FL_FLUXO_RECEITA_DESPESA_FOLHA     object\n",
       "FL_MEMORIA_CALCULO                 object\n",
       "DT_REAJUSTE_BENEFICIO              object\n",
       "VL_BENEFICIO_MINIMO               float64\n",
       "PC_DESPESA_ADM_PARTICIPANTE       float64\n",
       "PC_DESPESA_ADM_PATROCINADORA      float64\n",
       "PC_SAIDA_BPD                      float64\n",
       "PC_SAIDA_PORTABILIDADE            float64\n",
       "PC_SAIDA_RESGATE                  float64\n",
       "VL_PECULIO_MINIMO_MORTE           float64\n",
       "PC_PECULIO_MINIMO_MORTE           float64\n",
       "VL_PECULIO_MORTE_ASSISTIDO        float64\n",
       "NR_PAGTOS_BENEF_CONTRIB_ANO         int64\n",
       "PC_FAIXA_01_CONTRIBUICAO          float64\n",
       "PC_FAIXA_02_CONTRIBUICAO          float64\n",
       "PC_FAIXA_03_CONTRIBUICAO          float64\n",
       "PC_META_CUSTEIO_ADMIN             float64\n",
       "PC_TAXA_ADMIN_BENEFICIO           float64\n",
       "PC_TAXA_REAL_CRESC_SALARIAL       float64\n",
       "PC_TAXA_REAL_CRESC_BENEFICIO      float64\n",
       "PC_FATOR_VLR_REAL_SALARIO         float64\n",
       "PC_FATOR_VLR_REAL_BEN_FUNCEF      float64\n",
       "PC_FATOR_VLR_REAL_BEN_INSS        float64\n",
       "PC_FATOR_REAJ_BENEF_LIQUIDO       float64\n",
       "CD_COMPOSICAO_FAMILIAR             object\n",
       "PC_OPCAO_BUA                      float64\n",
       "PC_SAQUE_BUA                      float64\n",
       "dtype: object"
      ]
     },
     "execution_count": 26,
     "metadata": {},
     "output_type": "execute_result"
    }
   ],
   "source": [
    "df_aval.dtypes"
   ]
  },
  {
   "cell_type": "code",
   "execution_count": 11,
   "metadata": {},
   "outputs": [
    {
     "data": {
      "text/plain": [
       "False"
      ]
     },
     "execution_count": 11,
     "metadata": {},
     "output_type": "execute_result"
    }
   ],
   "source": [
    "df_aval.isnull().values.any()"
   ]
  },
  {
   "cell_type": "code",
   "execution_count": 12,
   "metadata": {},
   "outputs": [],
   "source": [
    "def calculatePercent(x):\n",
    "    if isinstance(x, str):\n",
    "        if (x.count(',') == 1):\n",
    "            x = x.replace(',', '.')\n",
    "            x.astype(float)\n",
    "    x /= 100\n",
    "    return(x)"
   ]
  },
  {
   "cell_type": "code",
   "execution_count": 27,
   "metadata": {},
   "outputs": [],
   "source": [
    "df_aval['PC_FATOR_VLR_REAL_SALARIO'] = [calculatePercent(x) for x in df_aval['PC_FATOR_VLR_REAL_SALARIO']]"
   ]
  },
  {
   "cell_type": "code",
   "execution_count": 28,
   "metadata": {
    "collapsed": true
   },
   "outputs": [],
   "source": [
    "df_aval['PC_FATOR_VLR_REAL_BEN_FUNCEF'] = [calculatePercent(x) for x in df_aval['PC_FATOR_VLR_REAL_BEN_FUNCEF']]"
   ]
  },
  {
   "cell_type": "code",
   "execution_count": 29,
   "metadata": {
    "collapsed": true
   },
   "outputs": [],
   "source": [
    "df_aval['PC_FATOR_VLR_REAL_BEN_INSS'] = [calculatePercent(x) for x in df_aval['PC_FATOR_VLR_REAL_BEN_INSS']]"
   ]
  },
  {
   "cell_type": "code",
   "execution_count": 30,
   "metadata": {},
   "outputs": [],
   "source": [
    "df_aval['PC_OPCAO_BUA'] = [calculatePercent(x) for x in df_aval['PC_OPCAO_BUA']]"
   ]
  },
  {
   "cell_type": "code",
   "execution_count": 18,
   "metadata": {},
   "outputs": [],
   "source": [
    "#df_aval['avaliacao'].astype(int);"
   ]
  },
  {
   "cell_type": "code",
   "execution_count": 31,
   "metadata": {},
   "outputs": [
    {
     "data": {
      "text/plain": [
       "0    True\n",
       "Name: FL_MEMORIA_CALCULO, dtype: bool"
      ]
     },
     "execution_count": 31,
     "metadata": {},
     "output_type": "execute_result"
    }
   ],
   "source": [
    "df_aval['FL_MEMORIA_CALCULO'].astype(bool)"
   ]
  },
  {
   "cell_type": "code",
   "execution_count": null,
   "metadata": {
    "collapsed": true
   },
   "outputs": [],
   "source": [
    "#df_aval = pd.read_csv('avaliacao.csv', ';', names = ['id_avaliacao', 'id_cadastro', 'id_plano_previdencia', 'id_plano_beneficio', 'plano', 'data_calculo', 'calcular_demonstrativo'])"
   ]
  },
  {
   "cell_type": "code",
   "execution_count": null,
   "metadata": {
    "collapsed": true
   },
   "outputs": [],
   "source": [
    "#df_aval = pd.read_table('avaliacao.csv', ';', names = ['id_avaliacao', 'id_cadastro', 'id_plano_previdencia', 'id_plano_beneficio', 'plano', 'data_calculo', 'calcular_demonstrativo'])"
   ]
  },
  {
   "cell_type": "code",
   "execution_count": null,
   "metadata": {},
   "outputs": [],
   "source": [
    "#type(df_aval)"
   ]
  },
  {
   "cell_type": "code",
   "execution_count": null,
   "metadata": {},
   "outputs": [],
   "source": [
    "#df_aval.describe()"
   ]
  },
  {
   "cell_type": "code",
   "execution_count": null,
   "metadata": {},
   "outputs": [],
   "source": [
    "#df_aval.index"
   ]
  },
  {
   "cell_type": "code",
   "execution_count": null,
   "metadata": {},
   "outputs": [],
   "source": [
    "#df_aval.columns"
   ]
  },
  {
   "cell_type": "code",
   "execution_count": null,
   "metadata": {},
   "outputs": [],
   "source": [
    "#df_aval.values"
   ]
  },
  {
   "cell_type": "code",
   "execution_count": null,
   "metadata": {
    "collapsed": true
   },
   "outputs": [],
   "source": []
  }
 ],
 "metadata": {
  "anaconda-cloud": {},
  "kernelspec": {
   "display_name": "Python 3",
   "language": "python",
   "name": "python3"
  },
  "language_info": {
   "codemirror_mode": {
    "name": "ipython",
    "version": 3
   },
   "file_extension": ".py",
   "mimetype": "text/x-python",
   "name": "python",
   "nbconvert_exporter": "python",
   "pygments_lexer": "ipython3",
   "version": "3.6.3"
  }
 },
 "nbformat": 4,
 "nbformat_minor": 1
}
