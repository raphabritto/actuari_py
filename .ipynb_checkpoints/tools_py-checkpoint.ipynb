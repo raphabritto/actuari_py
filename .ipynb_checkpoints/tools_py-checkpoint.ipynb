{
 "cells": [
  {
   "cell_type": "code",
   "execution_count": null,
   "metadata": {
    "collapsed": true
   },
   "outputs": [],
   "source": [
    "from datetime import date, datetime\n",
    "# import pandas as pd\n",
    "from pandas import isnull"
   ]
  },
  {
   "cell_type": "code",
   "execution_count": null,
   "metadata": {
    "collapsed": true
   },
   "outputs": [],
   "source": [
    "def convertToPercent(x):\n",
    "    return (x / 100)"
   ]
  },
  {
   "cell_type": "code",
   "execution_count": null,
   "metadata": {
    "collapsed": true
   },
   "outputs": [],
   "source": [
    "def convertToIndice(x):\n",
    "    return ((x / 100) + 1)"
   ]
  },
  {
   "cell_type": "code",
   "execution_count": null,
   "metadata": {
    "collapsed": true
   },
   "outputs": [],
   "source": [
    "def convertToBoolean(x):\n",
    "    if isinstance(x, str):\n",
    "        if x == 'S':\n",
    "            return True\n",
    "        else:\n",
    "            return False\n",
    "    elif isinstance(x, (int, float)):\n",
    "        if x == 1:\n",
    "            return True\n",
    "        else:\n",
    "            return False"
   ]
  },
  {
   "cell_type": "code",
   "execution_count": null,
   "metadata": {
    "collapsed": true
   },
   "outputs": [],
   "source": [
    "# tipos de beneficios\n",
    "aposent_normal = [149, 156, 492, 495, 503, 513, 514, 480, 479, 487, 517, 319, 252, 320, 318, 152]\n",
    "aposent_especial = [154, 505]\n",
    "aposent_invalidez = [159, 504, 521, 481, 251, 327, 160, 328, 161, 329]\n",
    "pensao = [164, 338, 496, 497, 522, 488, 482, 325, 278, 324, 165, 326, 171]\n",
    "\n",
    "def convertToTipoBeneficio(x):\n",
    "    tipo = 0\n",
    "    if x in aposent_normal:\n",
    "        tipo = 1\n",
    "    elif x in aposent_especial:\n",
    "        tipo = 2\n",
    "    elif x in aposent_invalidez:\n",
    "        tipo = 3\n",
    "    elif x in pensao:\n",
    "        tipo = 4\n",
    "\n",
    "    return int(tipo)"
   ]
  },
  {
   "cell_type": "code",
   "execution_count": null,
   "metadata": {
    "collapsed": true
   },
   "outputs": [],
   "source": [
    "from dateutil import parser\n",
    "\n",
    "def calculateAge(data_nascimento, data_calculo):\n",
    "    dias_ano = 365.25\n",
    "    idade = 0\n",
    "\n",
    "    try:\n",
    "        # if isinstance(data_nascimento, date):\n",
    "        if not isnull(data_nascimento):\n",
    "            data_nascimento = date.strftime(data_nascimento, '%Y-%m-%d')\n",
    "            data_calculo = data_calculo.values\n",
    "                # datetime(data_calculo.values, '%Y-%m-%d')\n",
    "                # datetime.strftime(parser.parse(data_calculo), '%Y-%m-%d')\n",
    "            idade = data_calculo.year - data_nascimento.year\n",
    "            # return int(hoje.year - data_nascimento.year - ((hoje.month, hoje.day) < (data_nascimento.month, data_nascimento.day)))\n",
    "\n",
    "        return idade\n",
    "    except AttributeError as e:\n",
    "        # print('Erro: ', e)\n",
    "        return -1"
   ]
  },
  {
   "cell_type": "code",
   "execution_count": null,
   "metadata": {
    "collapsed": true
   },
   "outputs": [],
   "source": [
    "def changeNullToZero(value):\n",
    "    if isnull(value):\n",
    "        return 0\n",
    "    else:\n",
    "        return value"
   ]
  }
 ],
 "metadata": {
  "kernelspec": {
   "display_name": "Python 3",
   "language": "python",
   "name": "python3"
  },
  "language_info": {
   "codemirror_mode": {
    "name": "ipython",
    "version": 3
   },
   "file_extension": ".py",
   "mimetype": "text/x-python",
   "name": "python",
   "nbconvert_exporter": "python",
   "pygments_lexer": "ipython3",
   "version": "3.6.0"
  }
 },
 "nbformat": 4,
 "nbformat_minor": 2
}
