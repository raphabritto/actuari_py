{
 "cells": [
  {
   "cell_type": "code",
   "execution_count": null,
   "metadata": {
    "collapsed": false
   },
   "outputs": [],
   "source": [
    "#import cx_Oracle as ora"
   ]
  },
  {
   "cell_type": "code",
   "execution_count": null,
   "metadata": {
    "collapsed": false
   },
   "outputs": [],
   "source": [
    "#conOra = ora.connect('webplanus/webplanus99@HOM.FUNCEF.COM.BR/hom')"
   ]
  },
  {
   "cell_type": "code",
   "execution_count": null,
   "metadata": {
    "collapsed": false
   },
   "outputs": [],
   "source": [
    "import pyodbc as od\n",
    "import pandas as pd"
   ]
  },
  {
   "cell_type": "code",
   "execution_count": null,
   "metadata": {
    "collapsed": false
   },
   "outputs": [],
   "source": [
    "oraCon = od.connect(\"DSN=HOM;Uid=webplanus;Pwd=webplanus99\")"
   ]
  },
  {
   "cell_type": "code",
   "execution_count": null,
   "metadata": {
    "collapsed": true
   },
   "outputs": [],
   "source": [
    "# oraCur = oraCon.cursor()"
   ]
  },
  {
   "cell_type": "code",
   "execution_count": null,
   "metadata": {
    "collapsed": false
   },
   "outputs": [],
   "source": [
    "oraQuery = \"SELECT t1.ID_AVALIACAO, \\\n",
    "                c1.ID_PLANO_BENEFICIO, \\\n",
    "                t2.IDPLANOPREV, \\\n",
    "                t1.ID_CADASTRO, \\\n",
    "                t1.DT_CALCULO, \\\n",
    "                t1.NR_IDADE_INI_CONT_INSS_MAS, \\\n",
    "                t1.NR_IDADE_INI_CONT_INSS_FEM, \\\n",
    "                t1.NR_IDADE_INI_APOS_MAS, \\\n",
    "                t1.NR_IDADE_INI_APOS_FEM, \\\n",
    "                t1.NR_TEMPO_CONT_INSS_MAS, \\\n",
    "                t1.NR_TEMPO_CONT_INSS_FEM, \\\n",
    "                t1.NR_MAIORIDADE_PLANO, \\\n",
    "                t1.DT_REAJUSTE_BENEFICIO, \\\n",
    "                t1.VL_BENEFICIO_MINIMO, \\\n",
    "                t1.PC_DESPESA_ADM_PARTICIPANTE, \\\n",
    "                t1.PC_DESPESA_ADM_PATROCINADORA, \\\n",
    "                t1.PC_SAIDA_BPD, \\\n",
    "                t1.PC_SAIDA_PORTABILIDADE, \\\n",
    "                t1.PC_SAIDA_RESGATE, \\\n",
    "                t1.VL_PECULIO_MINIMO_MORTE, \\\n",
    "                t1.PC_PECULIO_MINIMO_MORTE, \\\n",
    "                t1.VL_PECULIO_MORTE_ASSISTIDO, \\\n",
    "                t1.NR_PAGTOS_BENEF_CONTRIB_ANO, \\\n",
    "                t1.PC_FAIXA_01_CONTRIBUICAO, \\\n",
    "                t1.PC_FAIXA_02_CONTRIBUICAO, \\\n",
    "                t1.PC_FAIXA_03_CONTRIBUICAO, \\\n",
    "                t1.PC_CONTRIBUICAO_PATROCINADORA, \\\n",
    "                t1.PC_META_CUSTEIO_ADMIN, \\\n",
    "                t1.PC_TAXA_ADMIN_BENEFICIO, \\\n",
    "                t1.VL_INICIAL_LX, \\\n",
    "                t1.PC_TAXA_REAL_CRESC_SALARIAL, \\\n",
    "                t1.PC_TAXA_REAL_CRESC_BENEFICIO, \\\n",
    "                t1.PC_COTA_FAMILIAR_PENSAO, \\\n",
    "                t1.PC_PROB_PARTIC_CAS_APOS_MAS, \\\n",
    "                t1.PC_PROB_PARTIC_CAS_APOS_FEM, \\\n",
    "                t1.NR_DIFERENCIA_IDADE_CONJ_MAS, \\\n",
    "                t1.NR_DIFERENCIA_IDADE_CONJ_FEM, \\\n",
    "                t1.PC_FATOR_VLR_REAL_SALARIO, \\\n",
    "                t1.PC_FATOR_VLR_REAL_BEN_FUNCEF, \\\n",
    "                t1.PC_FATOR_VLR_REAL_BEN_INSS, \\\n",
    "                t1.VL_TETO_INSS_CONTRIBUICAO, \\\n",
    "                t1.VL_TETO_INSS_BENEFICIO, \\\n",
    "                t1.VL_SALARIO_MINIMO, \\\n",
    "                t1.PC_FATOR_REAJ_BENEF_LIQUIDO, \\\n",
    "                t1.NR_MULT_SAL_PARTIC_BENEF_RISCO, \\\n",
    "                t1.PC_OPCAO_BUA, \\\n",
    "                t1.PC_SAQUE_BUA \\\n",
    "          FROM TB_ATU_AVALIACAO t1, TB_ATU_CADASTRO c1, TB_ATU_PLANO_BENEFICIO t2 \\\n",
    "          WHERE t1.ID_CADASTRO = c1.ID_CADASTRO \\\n",
    "            AND c1.ID_PLANO_BENEFICIO = t2.ID_PLANO_BENEFICIO \\\n",
    "            AND t1.ID_AVALIACAO = \" + str(25445)"
   ]
  },
  {
   "cell_type": "code",
   "execution_count": null,
   "metadata": {
    "collapsed": false
   },
   "outputs": [],
   "source": [
    "#oraCur.execute(oraQuery)"
   ]
  },
  {
   "cell_type": "code",
   "execution_count": null,
   "metadata": {
    "collapsed": false
   },
   "outputs": [],
   "source": [
    "df_aval = pd.read_sql(oraQuery, oraCon)"
   ]
  },
  {
   "cell_type": "code",
   "execution_count": null,
   "metadata": {
    "collapsed": false
   },
   "outputs": [],
   "source": [
    "df_aval.dtypes"
   ]
  },
  {
   "cell_type": "code",
   "execution_count": null,
   "metadata": {
    "collapsed": false
   },
   "outputs": [],
   "source": [
    "df_aval"
   ]
  },
  {
   "cell_type": "code",
   "execution_count": null,
   "metadata": {
    "collapsed": false
   },
   "outputs": [],
   "source": [
    "oraQuery = \"SELECT t1.CD_TIPO_REAJUSTE_SALARIAL, t1.ID_PATROCINADORA, t1.PC_REAJUSTE, t2.DS_TIPO_REAJUSTE_SALARIAL \\\n",
    "              FROM TB_ATU_AVAL_PLANO_REAJ_SAL t1 \\\n",
    "              JOIN TB_ATU_TIPO_REAJUSTE_SALARIAL t2 ON (t1.CD_TIPO_REAJUSTE_SALARIAL = t2.CD_TIPO_REAJUSTE_SALARIAL) \\\n",
    "             WHERE t1.ID_AVALIACAO = \" + str(int(df_aval['ID_AVALIACAO'])) + \" ORDER BY t1.ID_AVAL_PLANO_REAJ_SAL\""
   ]
  },
  {
   "cell_type": "code",
   "execution_count": null,
   "metadata": {
    "collapsed": false
   },
   "outputs": [],
   "source": [
    "df_reaj_sal = pd.read_sql(oraQuery, oraCon)"
   ]
  },
  {
   "cell_type": "code",
   "execution_count": null,
   "metadata": {
    "collapsed": false
   },
   "outputs": [],
   "source": [
    "df_reaj_sal.dtypes"
   ]
  },
  {
   "cell_type": "code",
   "execution_count": null,
   "metadata": {
    "collapsed": false
   },
   "outputs": [],
   "source": [
    "df_reaj_sal"
   ]
  },
  {
   "cell_type": "code",
   "execution_count": null,
   "metadata": {
    "collapsed": true
   },
   "outputs": [],
   "source": [
    "oraQuery = \"SELECT t1.ID_REFERENCIA_IDX_MON, t1.PC_REAJUSTE, t2.DS_REFERENCIA_IDX_MON \\\n",
    "              FROM TB_ATU_AVAL_PLANO_IDX_MON t1 \\\n",
    "              JOIN tb_atu_referencia_idx_mon t2 ON (t1.ID_REFERENCIA_IDX_MON = t2.ID_REFERENCIA_IDX_MON) \\\n",
    "             WHERE t1.ID_AVALIACAO = \" + str(int(df_aval['ID_AVALIACAO'])) + \" ORDER BY t1.ID_REFERENCIA_IDX_MON\""
   ]
  },
  {
   "cell_type": "code",
   "execution_count": null,
   "metadata": {
    "collapsed": true
   },
   "outputs": [],
   "source": [
    "df_ind_monet = pd.read_sql(oraQuery, oraCon)"
   ]
  },
  {
   "cell_type": "code",
   "execution_count": null,
   "metadata": {
    "collapsed": false
   },
   "outputs": [],
   "source": [
    "df_ind_monet.dtypes"
   ]
  },
  {
   "cell_type": "code",
   "execution_count": null,
   "metadata": {
    "collapsed": false
   },
   "outputs": [],
   "source": [
    "df_ind_monet"
   ]
  },
  {
   "cell_type": "code",
   "execution_count": null,
   "metadata": {
    "collapsed": true
   },
   "outputs": [],
   "source": [
    "oraQuery = \"select t1.nr_tempo_taxa_juros, t1.vl_taxa_juros \\\n",
    "              from tb_atu_avaliacao_taxa_juros t1 \\\n",
    "             where t1.id_avaliacao = \" + str(int(df_aval['ID_AVALIACAO'])) + \" order by t1.nr_tempo_taxa_juros\""
   ]
  },
  {
   "cell_type": "code",
   "execution_count": null,
   "metadata": {
    "collapsed": true
   },
   "outputs": [],
   "source": [
    "df_juros = pd.read_sql(oraQuery, oraCon)"
   ]
  },
  {
   "cell_type": "code",
   "execution_count": null,
   "metadata": {
    "collapsed": false
   },
   "outputs": [],
   "source": [
    "df_juros.dtypes"
   ]
  },
  {
   "cell_type": "code",
   "execution_count": null,
   "metadata": {
    "collapsed": false
   },
   "outputs": [],
   "source": [
    "df_juros"
   ]
  },
  {
   "cell_type": "code",
   "execution_count": null,
   "metadata": {
    "collapsed": true
   },
   "outputs": [],
   "source": [
    "oraQuery = \"select t1.nr_tempo_taxa_risco, t1.id_responsabilidade, t1.vl_taxa_risco \\\n",
    "              from tb_atu_avaliacao_taxa_risco t1 \\\n",
    "             where t1.id_avaliacao = \" + str(int(df_aval['ID_AVALIACAO'])) + \" order by t1.id_responsabilidade, t1.nr_tempo_taxa_risco\""
   ]
  },
  {
   "cell_type": "code",
   "execution_count": null,
   "metadata": {
    "collapsed": true
   },
   "outputs": [],
   "source": [
    "df_risco = pd.read_sql(oraQuery, oraCon)"
   ]
  },
  {
   "cell_type": "code",
   "execution_count": null,
   "metadata": {
    "collapsed": false
   },
   "outputs": [],
   "source": [
    "df_risco.dtypes"
   ]
  },
  {
   "cell_type": "code",
   "execution_count": null,
   "metadata": {
    "collapsed": false
   },
   "outputs": [],
   "source": [
    "df_risco"
   ]
  },
  {
   "cell_type": "code",
   "execution_count": null,
   "metadata": {
    "collapsed": true
   },
   "outputs": [],
   "source": [
    "oraQuery = \"SELECT t1.DT_ORIGEM_BNH, t1.DT_INICIO_LEI_9876_1999, t1.DT_INICIO_MEDIA_80PC_MAIORES_S \\\n",
    "              FROM TB_ATU_PARAMETRIZACAO t1 \\\n",
    "             WHERE t1.DT_VIGENCIA_FIM IS NULL \\\n",
    "             ORDER BY t1.ID_PARAMETRIZACAO DESC\""
   ]
  },
  {
   "cell_type": "code",
   "execution_count": null,
   "metadata": {
    "collapsed": true
   },
   "outputs": [],
   "source": [
    "df_param = pd.read_sql(oraQuery, oraCon)"
   ]
  },
  {
   "cell_type": "code",
   "execution_count": null,
   "metadata": {
    "collapsed": false
   },
   "outputs": [],
   "source": [
    "df_param.dtypes"
   ]
  },
  {
   "cell_type": "code",
   "execution_count": null,
   "metadata": {
    "collapsed": false
   },
   "outputs": [],
   "source": [
    "df_param"
   ]
  },
  {
   "cell_type": "code",
   "execution_count": null,
   "metadata": {
    "collapsed": true
   },
   "outputs": [],
   "source": [
    "oraQuery = \"SELECT t1.COTDATA, t1.COTVALOR \\\n",
    "              FROM COTACAOMOEDA t1 \\\n",
    "             WHERE t1.MOECODIGO = 7 \\\n",
    "             ORDER BY t1.COTDATA\""
   ]
  },
  {
   "cell_type": "code",
   "execution_count": null,
   "metadata": {
    "collapsed": true
   },
   "outputs": [],
   "source": [
    "df_cotacao = pd.read_sql(oraQuery, oraCon)"
   ]
  },
  {
   "cell_type": "code",
   "execution_count": null,
   "metadata": {
    "collapsed": false
   },
   "outputs": [],
   "source": [
    "df_cotacao.dtypes"
   ]
  },
  {
   "cell_type": "code",
   "execution_count": null,
   "metadata": {
    "collapsed": false
   },
   "outputs": [],
   "source": [
    "df_cotacao.head(8)"
   ]
  },
  {
   "cell_type": "code",
   "execution_count": null,
   "metadata": {
    "collapsed": true
   },
   "outputs": [],
   "source": [
    "oraQuery = \"SELECT t1.ID_PARTICIPANTE, \\\n",
    "                   t1.id_cadastro, \\\n",
    "                   t1.NR_MATRICULA, \\\n",
    "                   t1.DT_NASCIMENTO, \\\n",
    "                   t1.IR_SEXO, \\\n",
    "                   t1.ID_PATROCINADORA, \\\n",
    "                   t1.CD_SITUACAO_PATROC, \\\n",
    "                   t1.CD_ESTADO_CIVIL, \\\n",
    "                   t2.DS_ESTADO_CIVIL, \\\n",
    "                   t1.DT_OPCAO_BPD, \\\n",
    "                   t1.DT_ADMISSAO, \\\n",
    "                   t1.DT_ASSOCIACAO_FUNDACAO, \\\n",
    "                   t1.PC_BENEFICIO_ESPECIAL, \\\n",
    "                   t1.FL_DEFICIENTE, \\\n",
    "                   t1.NR_MATRICULA_TITULAR, \\\n",
    "                   t1.fl_migrado \\\n",
    "              FROM TB_ATU_PARTICIPANTE t1 \\\n",
    "             INNER JOIN TB_ATU_ESTADO_CIVIL t2 on (t1.CD_ESTADO_CIVIL = t2.CD_ESTADO_CIVIL) \\\n",
    "             WHERE t1.ID_CADASTRO = \" + str(int(df_aval['ID_CADASTRO'])) + \" ORDER BY t1.ID_PARTICIPANTE\""
   ]
  },
  {
   "cell_type": "code",
   "execution_count": null,
   "metadata": {
    "collapsed": true
   },
   "outputs": [],
   "source": [
    "df_partic = pd.read_sql(oraQuery, oraCon)"
   ]
  },
  {
   "cell_type": "code",
   "execution_count": null,
   "metadata": {
    "collapsed": false
   },
   "outputs": [],
   "source": [
    "df_partic.dtypes"
   ]
  },
  {
   "cell_type": "code",
   "execution_count": null,
   "metadata": {
    "collapsed": false
   },
   "outputs": [],
   "source": [
    "df_partic.head(8)"
   ]
  },
  {
   "cell_type": "code",
   "execution_count": null,
   "metadata": {
    "collapsed": false
   },
   "outputs": [],
   "source": [
    "oraQuery = \"SELECT  t1.ID_PARTICIPANTE, \\\n",
    "                    t1.DT_ADESAO, \\\n",
    "                    t1.VL_SLD_SUBCONTA_PARTICIPANTE, \\\n",
    "                    t1.VL_SLD_SUBCONTA_PATROCINADORA, \\\n",
    "                    t1.VL_RESERVA_BPD, \\\n",
    "                    t1.VL_SALDO_PORTADO, \\\n",
    "                    t1.VL_BEN_SALDADO_INICIAL, \\\n",
    "                    t1.VL_SALARIO_PARTICIPACAO, \\\n",
    "                    t1.CD_SITUACAO_FUNDACAO, \\\n",
    "                    t1.PC_CONTRIBUICAO_PARTICIPANTE, \\\n",
    "                    t1.PC_CONTRIBUICAO_PATROCINADORA \\\n",
    "               FROM TB_ATU_PARTIC_PLANO t1 \\\n",
    "              INNER JOIN TB_ATU_PARTICIPANTE t2 ON (t1.ID_PARTICIPANTE = t2.ID_PARTICIPANTE AND t2.ID_CADASTRO = \" + str(int(df_aval['ID_CADASTRO'])) + \") \\\n",
    "              WHERE t1.IDPLANOPREV = \" + str(int(df_aval['IDPLANOPREV'])) + \" ORDER BY t1.ID_PARTICIPANTE\""
   ]
  },
  {
   "cell_type": "code",
   "execution_count": null,
   "metadata": {
    "collapsed": true
   },
   "outputs": [],
   "source": [
    "df_plano = pd.read_sql(oraQuery, oraCon)"
   ]
  },
  {
   "cell_type": "code",
   "execution_count": null,
   "metadata": {
    "collapsed": false
   },
   "outputs": [],
   "source": [
    "df_plano.dtypes"
   ]
  },
  {
   "cell_type": "code",
   "execution_count": null,
   "metadata": {
    "collapsed": false
   },
   "outputs": [],
   "source": [
    "df_plano.head(8)"
   ]
  },
  {
   "cell_type": "code",
   "execution_count": null,
   "metadata": {
    "collapsed": true
   },
   "outputs": [],
   "source": [
    "oraQuery = \"SELECT t1.ID_PARTICIPANTE, t1.DT_INICIO_BENEFICIO, t1.VL_VALOR \\\n",
    "              FROM TB_ATU_PARTIC_BEN_RGPS t1 \\\n",
    "             INNER JOIN TB_ATU_PARTICIPANTE t2 ON (t1.ID_PARTICIPANTE = t2.ID_PARTICIPANTE AND t2.ID_CADASTRO = \" + str(int(df_aval['ID_CADASTRO'])) + \")\\\n",
    "             ORDER BY t1.ID_PARTICIPANTE\""
   ]
  },
  {
   "cell_type": "code",
   "execution_count": null,
   "metadata": {
    "collapsed": true
   },
   "outputs": [],
   "source": [
    "df_ben_inss = pd.read_sql(oraQuery, oraCon)"
   ]
  },
  {
   "cell_type": "code",
   "execution_count": null,
   "metadata": {
    "collapsed": false
   },
   "outputs": [],
   "source": [
    "df_ben_inss.dtypes"
   ]
  },
  {
   "cell_type": "code",
   "execution_count": null,
   "metadata": {
    "collapsed": false
   },
   "outputs": [],
   "source": [
    "df_ben_inss.head(8)"
   ]
  },
  {
   "cell_type": "code",
   "execution_count": null,
   "metadata": {
    "collapsed": true
   },
   "outputs": [],
   "source": [
    "oraQuery = \"SELECT t1.ID_PARTICIPANTE, t1.IDBENEFICIO, b1.nome, t1.VL_VALOR, t1.DT_INICIO_BENEFICIO \\\n",
    "              FROM TB_ATU_PARTIC_BEN_FUNCEF t1 \\\n",
    "             INNER JOIN TB_ATU_PARTICIPANTE t2 ON (t1.ID_PARTICIPANTE = t2.ID_PARTICIPANTE AND t2.ID_CADASTRO = \" + str(int(df_aval['ID_CADASTRO'])) + \")\\\n",
    "             inner join beneficio b1 on (t1.idbeneficio = b1.idbeneficio) \\\n",
    "             WHERE t1.IDPLANOPREV = \" + str(int(df_aval['IDPLANOPREV'])) + \" ORDER BY t1.ID_PARTICIPANTE\""
   ]
  },
  {
   "cell_type": "code",
   "execution_count": null,
   "metadata": {
    "collapsed": true
   },
   "outputs": [],
   "source": [
    "df_ben_func = pd.read_sql(oraQuery, oraCon)"
   ]
  },
  {
   "cell_type": "code",
   "execution_count": null,
   "metadata": {
    "collapsed": false
   },
   "outputs": [],
   "source": [
    "df_ben_func.dtypes"
   ]
  },
  {
   "cell_type": "code",
   "execution_count": null,
   "metadata": {
    "collapsed": false
   },
   "outputs": [],
   "source": [
    "df_ben_func.head(8)"
   ]
  },
  {
   "cell_type": "code",
   "execution_count": null,
   "metadata": {
    "collapsed": true
   },
   "outputs": [],
   "source": [
    "oraQuery = \"SELECT t1.ID_PARTICIPANTE, t1.DT_INICIO_BENEFICIO, t1.VL_VALOR \\\n",
    "              FROM TB_ATU_PARTIC_RUB_JUDICIAL t1 \\\n",
    "             INNER JOIN TB_ATU_PARTICIPANTE t2 ON (t1.ID_PARTICIPANTE = t2.ID_PARTICIPANTE AND t2.ID_CADASTRO = \" + str(int(df_aval['ID_CADASTRO'])) + \") \\\n",
    "             INNER JOIN TB_ATU_PARTIC_PLANO t3 ON (t1.ID_PARTICIPANTE = t3.ID_PARTICIPANTE AND t1.IDPLANOPREV = t3.IDPLANOPREV) \\\n",
    "             ORDER BY t1.ID_PARTICIPANTE\""
   ]
  },
  {
   "cell_type": "code",
   "execution_count": null,
   "metadata": {
    "collapsed": true
   },
   "outputs": [],
   "source": [
    "df_rubr = pd.read_sql(oraQuery, oraCon)"
   ]
  },
  {
   "cell_type": "code",
   "execution_count": null,
   "metadata": {
    "collapsed": false
   },
   "outputs": [],
   "source": [
    "df_rubr.dtypes"
   ]
  },
  {
   "cell_type": "code",
   "execution_count": null,
   "metadata": {
    "collapsed": false
   },
   "outputs": [],
   "source": [
    "df_rubr.head(8)"
   ]
  },
  {
   "cell_type": "code",
   "execution_count": null,
   "metadata": {
    "collapsed": true
   },
   "outputs": [],
   "source": [
    "oraQuery = \"SELECT t1.ID_PARTICIPANTE, \\\n",
    "                   t1.CD_GRAU_DEPENDENCIA, \\\n",
    "                   t1.DT_NASCIMENTO, \\\n",
    "                   t1.IR_SEXO, \\\n",
    "                   t1.FL_INVALIDO, \\\n",
    "                   t1.FL_DESIGNADO_RESGATE, \\\n",
    "                   t1.FL_DEPENDENTE_LEGAL \\\n",
    "              FROM TB_ATU_PARTIC_DEPENDENTE t1 \\\n",
    "             INNER JOIN TB_ATU_PARTICIPANTE t2 ON (t1.ID_PARTICIPANTE = t2.ID_PARTICIPANTE AND t2.ID_CADASTRO = \" + str(int(df_aval['ID_CADASTRO'])) + \")\\\n",
    "             ORDER BY t1.ID_PARTICIPANTE\""
   ]
  },
  {
   "cell_type": "code",
   "execution_count": null,
   "metadata": {
    "collapsed": true
   },
   "outputs": [],
   "source": [
    "df_depen = pd.read_sql(oraQuery, oraCon)"
   ]
  },
  {
   "cell_type": "code",
   "execution_count": null,
   "metadata": {
    "collapsed": false
   },
   "outputs": [],
   "source": [
    "df_depen.dtypes"
   ]
  },
  {
   "cell_type": "code",
   "execution_count": null,
   "metadata": {
    "collapsed": false
   },
   "outputs": [],
   "source": [
    "df_depen.head(8)"
   ]
  },
  {
   "cell_type": "code",
   "execution_count": null,
   "metadata": {
    "collapsed": false
   },
   "outputs": [],
   "source": [
    "# fecha conexao com o banco de dados\n",
    "oraCon.close()"
   ]
  }
 ],
 "metadata": {
  "anaconda-cloud": {},
  "kernelspec": {
   "display_name": "Python [default]",
   "language": "python",
   "name": "python3"
  },
  "language_info": {
   "codemirror_mode": {
    "name": "ipython",
    "version": 3
   },
   "file_extension": ".py",
   "mimetype": "text/x-python",
   "name": "python",
   "nbconvert_exporter": "python",
   "pygments_lexer": "ipython3",
   "version": "3.5.2"
  }
 },
 "nbformat": 4,
 "nbformat_minor": 1
}
