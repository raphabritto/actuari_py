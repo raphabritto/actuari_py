{
 "cells": [
  {
   "cell_type": "code",
   "execution_count": 2,
   "metadata": {
    "collapsed": true
   },
   "outputs": [],
   "source": [
    "import pandas as pd\n",
    "import time"
   ]
  },
  {
   "cell_type": "code",
   "execution_count": 3,
   "metadata": {
    "collapsed": true
   },
   "outputs": [],
   "source": [
    "CtFamPens = 0.8\n",
    "NroBenAno = 13\n",
    "FtBenEnti = 0.98\n",
    "FtBenLiquido = 1\n",
    "PrTxBenef = 0\n",
    "peculioMorteAssistido = 11.62\n",
    "perct_saque_bua = 0\n",
    "perct_opcao_bua = 0\n",
    "CdPlanBen = 5\n",
    "teto_contribuicao_inss = 5481.59\n",
    "faixa_1 = 0\n",
    "faixa_2 = 0\n",
    "faixa_3 = 0\n",
    "Fb = 11/24"
   ]
  },
  {
   "cell_type": "code",
   "execution_count": 4,
   "metadata": {
    "collapsed": true
   },
   "outputs": [],
   "source": [
    "def calcular_contribuicao(beneficio, teto_contribuicao_inss, faixa_1, faixa_2, faixa_3):\n",
    "    contribuicao = 0\n",
    "\n",
    "    if CdPlanBen == 1:\n",
    "        contr1, contr2, contr3 = 0\n",
    "\n",
    "        contr1 = min(beneficio, teto_contribuicao_inss / 2) * faixa_1\n",
    "\n",
    "        if (beneficio > (teto_contribuicao_inss / 2)):\n",
    "            contr2 = (min(beneficio, teto_contribuicao_inss) - (teto_contribuicao_inss / 2)) * faixa_2\n",
    "\n",
    "        if (beneficio > teto_contribuicao_inss):\n",
    "            contr3 = (beneficio - teto_contribuicao_inss) * faixa_3\n",
    "\n",
    "        contribuicao = contr1 + contr2 + contr3\n",
    "\n",
    "    return round(contribuicao, 2)"
   ]
  },
  {
   "cell_type": "code",
   "execution_count": 5,
   "metadata": {
    "collapsed": true
   },
   "outputs": [],
   "source": [
    "def calcular_despesa_bua(row):\n",
    "    despesa_bua_atc = 0\n",
    "    \n",
    "    if (row['tDeterministico'] - row['tCobertura'] == 0):\n",
    "        if (CdPlanBen == 2):\n",
    "            despesa_bua_atc = max(0, ((row['BenTotCobATC'] * (row['axcb'] + CtFamPens * row['PrbCasado'] * (row['ajxcb'] - row['ajxx'])) * NroBenAno) + ((row['BenTotCobATC'] / FtBenEnti) * (row['Ax'] * peculioMorteAssistido))) * row['apx'] * perct_saque_bua * perct_opcao_bua)\n",
    "        elif (CdPlanBen == 4 or CdPlanBen == 5):\n",
    "            despesa_bua_atc = max(0, (row['VlSdoConPartEvol'] + row['VlSdoConPatrEvol']) * row['apx'] * perct_saque_bua * perct_opcao_bua)\n",
    "    \n",
    "    return round(despesa_bua_atc, 2)"
   ]
  },
  {
   "cell_type": "code",
   "execution_count": 6,
   "metadata": {
    "collapsed": true
   },
   "outputs": [],
   "source": [
    "def calcular_v(t, taxa_juros):\n",
    "    v = max(0, 1 / ((1 + taxa_juros) ** t))\n",
    "    return v"
   ]
  },
  {
   "cell_type": "code",
   "execution_count": 7,
   "metadata": {
    "collapsed": true
   },
   "outputs": [],
   "source": [
    "# def calcular_pagamento_atc():\n",
    "    "
   ]
  },
  {
   "cell_type": "code",
   "execution_count": 8,
   "metadata": {
    "collapsed": true
   },
   "outputs": [],
   "source": [
    "ativo_fluxo_atc = pd.read_csv(\"input_csv/30318/fluxo_atc.csv\", sep=\",\", decimal=\".\")"
   ]
  },
  {
   "cell_type": "code",
   "execution_count": 9,
   "metadata": {
    "collapsed": true
   },
   "outputs": [],
   "source": [
    "ativo_fluxo_atc['BenLiqCobATC'] = [float(x.replace(\".\",\"\").replace(\",\", \".\")) for x in ativo_fluxo_atc['BenLiqCobATC']]"
   ]
  },
  {
   "cell_type": "code",
   "execution_count": 10,
   "metadata": {
    "collapsed": true
   },
   "outputs": [],
   "source": [
    "ativo_fluxo_atc['BenTotCobATC'] = [float(x.replace(\".\",\"\").replace(\",\", \".\")) for x in ativo_fluxo_atc['BenTotCobATC']]"
   ]
  },
  {
   "cell_type": "code",
   "execution_count": 11,
   "metadata": {
    "collapsed": true
   },
   "outputs": [],
   "source": [
    "ativo_fluxo_atc['VlSdoConPartEvol'] = [float(x.replace(\".\",\"\").replace(\",\", \".\")) for x in ativo_fluxo_atc['VlSdoConPartEvol']]"
   ]
  },
  {
   "cell_type": "code",
   "execution_count": 12,
   "metadata": {
    "collapsed": true
   },
   "outputs": [],
   "source": [
    "ativo_fluxo_atc['VlSdoConPatrEvol'] = [float(x.replace(\".\",\"\").replace(\",\", \".\")) for x in ativo_fluxo_atc['VlSdoConPatrEvol']]"
   ]
  },
  {
   "cell_type": "code",
   "execution_count": 13,
   "metadata": {},
   "outputs": [
    {
     "data": {
      "text/plain": [
       "ID_PARTICIPANTE       int64\n",
       "tCobertura            int64\n",
       "tDeterministico       int64\n",
       "BenLiqCobATC        float64\n",
       "BenTotCobATC        float64\n",
       "PrbCasado           float64\n",
       "VlSdoConPartEvol    float64\n",
       "VlSdoConPatrEvol    float64\n",
       "px                  float64\n",
       "pxs                 float64\n",
       "axcb                float64\n",
       "apx                 float64\n",
       "ajxcb               float64\n",
       "ajxx                float64\n",
       "Ax                  float64\n",
       "taxa_juros_cob      float64\n",
       "taxa_juros_det      float64\n",
       "dtype: object"
      ]
     },
     "execution_count": 13,
     "metadata": {},
     "output_type": "execute_result"
    }
   ],
   "source": [
    "ativo_fluxo_atc.dtypes"
   ]
  },
  {
   "cell_type": "code",
   "execution_count": 14,
   "metadata": {},
   "outputs": [
    {
     "data": {
      "text/html": [
       "<div>\n",
       "<style>\n",
       "    .dataframe thead tr:only-child th {\n",
       "        text-align: right;\n",
       "    }\n",
       "\n",
       "    .dataframe thead th {\n",
       "        text-align: left;\n",
       "    }\n",
       "\n",
       "    .dataframe tbody tr th {\n",
       "        vertical-align: top;\n",
       "    }\n",
       "</style>\n",
       "<table border=\"1\" class=\"dataframe\">\n",
       "  <thead>\n",
       "    <tr style=\"text-align: right;\">\n",
       "      <th></th>\n",
       "      <th>ID_PARTICIPANTE</th>\n",
       "      <th>tCobertura</th>\n",
       "      <th>tDeterministico</th>\n",
       "      <th>BenLiqCobATC</th>\n",
       "      <th>BenTotCobATC</th>\n",
       "      <th>PrbCasado</th>\n",
       "      <th>VlSdoConPartEvol</th>\n",
       "      <th>VlSdoConPatrEvol</th>\n",
       "      <th>px</th>\n",
       "      <th>pxs</th>\n",
       "      <th>axcb</th>\n",
       "      <th>apx</th>\n",
       "      <th>ajxcb</th>\n",
       "      <th>ajxx</th>\n",
       "      <th>Ax</th>\n",
       "      <th>taxa_juros_cob</th>\n",
       "      <th>taxa_juros_det</th>\n",
       "    </tr>\n",
       "  </thead>\n",
       "  <tbody>\n",
       "    <tr>\n",
       "      <th>count</th>\n",
       "      <td>5.932207e+06</td>\n",
       "      <td>5.932207e+06</td>\n",
       "      <td>5.932207e+06</td>\n",
       "      <td>5.932207e+06</td>\n",
       "      <td>5.932207e+06</td>\n",
       "      <td>5.932207e+06</td>\n",
       "      <td>5.932207e+06</td>\n",
       "      <td>5.932207e+06</td>\n",
       "      <td>5.932207e+06</td>\n",
       "      <td>5932207.0</td>\n",
       "      <td>5.932207e+06</td>\n",
       "      <td>5.932207e+06</td>\n",
       "      <td>5.932207e+06</td>\n",
       "      <td>5.932207e+06</td>\n",
       "      <td>5.932207e+06</td>\n",
       "      <td>5.932207e+06</td>\n",
       "      <td>5.932207e+06</td>\n",
       "    </tr>\n",
       "    <tr>\n",
       "      <th>mean</th>\n",
       "      <td>1.341182e+07</td>\n",
       "      <td>2.253622e+01</td>\n",
       "      <td>4.507244e+01</td>\n",
       "      <td>3.974477e+01</td>\n",
       "      <td>3.974477e+01</td>\n",
       "      <td>7.736695e-01</td>\n",
       "      <td>5.750978e+01</td>\n",
       "      <td>5.585964e+01</td>\n",
       "      <td>2.539024e-01</td>\n",
       "      <td>1.0</td>\n",
       "      <td>3.333314e+00</td>\n",
       "      <td>9.982558e-01</td>\n",
       "      <td>1.837101e-01</td>\n",
       "      <td>1.251342e-01</td>\n",
       "      <td>1.818441e-02</td>\n",
       "      <td>5.510000e-02</td>\n",
       "      <td>5.510000e-02</td>\n",
       "    </tr>\n",
       "    <tr>\n",
       "      <th>std</th>\n",
       "      <td>7.185625e+02</td>\n",
       "      <td>1.633277e+01</td>\n",
       "      <td>1.642742e+01</td>\n",
       "      <td>2.728607e+02</td>\n",
       "      <td>2.728607e+02</td>\n",
       "      <td>1.151359e-01</td>\n",
       "      <td>3.316688e+03</td>\n",
       "      <td>3.218423e+03</td>\n",
       "      <td>3.401463e-01</td>\n",
       "      <td>0.0</td>\n",
       "      <td>2.768346e+00</td>\n",
       "      <td>4.172728e-02</td>\n",
       "      <td>1.291680e+00</td>\n",
       "      <td>9.578371e-01</td>\n",
       "      <td>1.139183e-01</td>\n",
       "      <td>1.956012e-12</td>\n",
       "      <td>1.956012e-12</td>\n",
       "    </tr>\n",
       "    <tr>\n",
       "      <th>min</th>\n",
       "      <td>1.341059e+07</td>\n",
       "      <td>0.000000e+00</td>\n",
       "      <td>0.000000e+00</td>\n",
       "      <td>0.000000e+00</td>\n",
       "      <td>0.000000e+00</td>\n",
       "      <td>6.000000e-01</td>\n",
       "      <td>0.000000e+00</td>\n",
       "      <td>0.000000e+00</td>\n",
       "      <td>0.000000e+00</td>\n",
       "      <td>1.0</td>\n",
       "      <td>0.000000e+00</td>\n",
       "      <td>0.000000e+00</td>\n",
       "      <td>0.000000e+00</td>\n",
       "      <td>0.000000e+00</td>\n",
       "      <td>0.000000e+00</td>\n",
       "      <td>5.510000e-02</td>\n",
       "      <td>5.510000e-02</td>\n",
       "    </tr>\n",
       "    <tr>\n",
       "      <th>25%</th>\n",
       "      <td>1.341120e+07</td>\n",
       "      <td>9.000000e+00</td>\n",
       "      <td>3.300000e+01</td>\n",
       "      <td>0.000000e+00</td>\n",
       "      <td>0.000000e+00</td>\n",
       "      <td>6.000000e-01</td>\n",
       "      <td>0.000000e+00</td>\n",
       "      <td>0.000000e+00</td>\n",
       "      <td>5.760900e-04</td>\n",
       "      <td>1.0</td>\n",
       "      <td>2.074452e+00</td>\n",
       "      <td>1.000000e+00</td>\n",
       "      <td>0.000000e+00</td>\n",
       "      <td>0.000000e+00</td>\n",
       "      <td>0.000000e+00</td>\n",
       "      <td>5.510000e-02</td>\n",
       "      <td>5.510000e-02</td>\n",
       "    </tr>\n",
       "    <tr>\n",
       "      <th>50%</th>\n",
       "      <td>1.341182e+07</td>\n",
       "      <td>2.000000e+01</td>\n",
       "      <td>4.800000e+01</td>\n",
       "      <td>0.000000e+00</td>\n",
       "      <td>0.000000e+00</td>\n",
       "      <td>8.500000e-01</td>\n",
       "      <td>0.000000e+00</td>\n",
       "      <td>0.000000e+00</td>\n",
       "      <td>4.276275e-02</td>\n",
       "      <td>1.0</td>\n",
       "      <td>2.402871e+00</td>\n",
       "      <td>1.000000e+00</td>\n",
       "      <td>0.000000e+00</td>\n",
       "      <td>0.000000e+00</td>\n",
       "      <td>0.000000e+00</td>\n",
       "      <td>5.510000e-02</td>\n",
       "      <td>5.510000e-02</td>\n",
       "    </tr>\n",
       "    <tr>\n",
       "      <th>75%</th>\n",
       "      <td>1.341244e+07</td>\n",
       "      <td>3.400000e+01</td>\n",
       "      <td>5.900000e+01</td>\n",
       "      <td>0.000000e+00</td>\n",
       "      <td>0.000000e+00</td>\n",
       "      <td>8.500000e-01</td>\n",
       "      <td>0.000000e+00</td>\n",
       "      <td>0.000000e+00</td>\n",
       "      <td>4.767216e-01</td>\n",
       "      <td>1.0</td>\n",
       "      <td>4.150645e+00</td>\n",
       "      <td>1.000000e+00</td>\n",
       "      <td>0.000000e+00</td>\n",
       "      <td>0.000000e+00</td>\n",
       "      <td>0.000000e+00</td>\n",
       "      <td>5.510000e-02</td>\n",
       "      <td>5.510000e-02</td>\n",
       "    </tr>\n",
       "    <tr>\n",
       "      <th>max</th>\n",
       "      <td>1.341309e+07</td>\n",
       "      <td>7.600000e+01</td>\n",
       "      <td>7.600000e+01</td>\n",
       "      <td>5.339170e+03</td>\n",
       "      <td>5.339170e+03</td>\n",
       "      <td>8.500000e-01</td>\n",
       "      <td>5.544406e+05</td>\n",
       "      <td>5.489777e+05</td>\n",
       "      <td>1.000000e+00</td>\n",
       "      <td>1.0</td>\n",
       "      <td>1.551571e+01</td>\n",
       "      <td>1.000000e+00</td>\n",
       "      <td>1.619500e+01</td>\n",
       "      <td>1.446925e+01</td>\n",
       "      <td>9.477775e-01</td>\n",
       "      <td>5.510000e-02</td>\n",
       "      <td>5.510000e-02</td>\n",
       "    </tr>\n",
       "  </tbody>\n",
       "</table>\n",
       "</div>"
      ],
      "text/plain": [
       "       ID_PARTICIPANTE    tCobertura  tDeterministico  BenLiqCobATC  \\\n",
       "count     5.932207e+06  5.932207e+06     5.932207e+06  5.932207e+06   \n",
       "mean      1.341182e+07  2.253622e+01     4.507244e+01  3.974477e+01   \n",
       "std       7.185625e+02  1.633277e+01     1.642742e+01  2.728607e+02   \n",
       "min       1.341059e+07  0.000000e+00     0.000000e+00  0.000000e+00   \n",
       "25%       1.341120e+07  9.000000e+00     3.300000e+01  0.000000e+00   \n",
       "50%       1.341182e+07  2.000000e+01     4.800000e+01  0.000000e+00   \n",
       "75%       1.341244e+07  3.400000e+01     5.900000e+01  0.000000e+00   \n",
       "max       1.341309e+07  7.600000e+01     7.600000e+01  5.339170e+03   \n",
       "\n",
       "       BenTotCobATC     PrbCasado  VlSdoConPartEvol  VlSdoConPatrEvol  \\\n",
       "count  5.932207e+06  5.932207e+06      5.932207e+06      5.932207e+06   \n",
       "mean   3.974477e+01  7.736695e-01      5.750978e+01      5.585964e+01   \n",
       "std    2.728607e+02  1.151359e-01      3.316688e+03      3.218423e+03   \n",
       "min    0.000000e+00  6.000000e-01      0.000000e+00      0.000000e+00   \n",
       "25%    0.000000e+00  6.000000e-01      0.000000e+00      0.000000e+00   \n",
       "50%    0.000000e+00  8.500000e-01      0.000000e+00      0.000000e+00   \n",
       "75%    0.000000e+00  8.500000e-01      0.000000e+00      0.000000e+00   \n",
       "max    5.339170e+03  8.500000e-01      5.544406e+05      5.489777e+05   \n",
       "\n",
       "                 px        pxs          axcb           apx         ajxcb  \\\n",
       "count  5.932207e+06  5932207.0  5.932207e+06  5.932207e+06  5.932207e+06   \n",
       "mean   2.539024e-01        1.0  3.333314e+00  9.982558e-01  1.837101e-01   \n",
       "std    3.401463e-01        0.0  2.768346e+00  4.172728e-02  1.291680e+00   \n",
       "min    0.000000e+00        1.0  0.000000e+00  0.000000e+00  0.000000e+00   \n",
       "25%    5.760900e-04        1.0  2.074452e+00  1.000000e+00  0.000000e+00   \n",
       "50%    4.276275e-02        1.0  2.402871e+00  1.000000e+00  0.000000e+00   \n",
       "75%    4.767216e-01        1.0  4.150645e+00  1.000000e+00  0.000000e+00   \n",
       "max    1.000000e+00        1.0  1.551571e+01  1.000000e+00  1.619500e+01   \n",
       "\n",
       "               ajxx            Ax  taxa_juros_cob  taxa_juros_det  \n",
       "count  5.932207e+06  5.932207e+06    5.932207e+06    5.932207e+06  \n",
       "mean   1.251342e-01  1.818441e-02    5.510000e-02    5.510000e-02  \n",
       "std    9.578371e-01  1.139183e-01    1.956012e-12    1.956012e-12  \n",
       "min    0.000000e+00  0.000000e+00    5.510000e-02    5.510000e-02  \n",
       "25%    0.000000e+00  0.000000e+00    5.510000e-02    5.510000e-02  \n",
       "50%    0.000000e+00  0.000000e+00    5.510000e-02    5.510000e-02  \n",
       "75%    0.000000e+00  0.000000e+00    5.510000e-02    5.510000e-02  \n",
       "max    1.446925e+01  9.477775e-01    5.510000e-02    5.510000e-02  "
      ]
     },
     "execution_count": 14,
     "metadata": {},
     "output_type": "execute_result"
    }
   ],
   "source": [
    "ativo_fluxo_atc.describe()"
   ]
  },
  {
   "cell_type": "code",
   "execution_count": 18,
   "metadata": {},
   "outputs": [
    {
     "data": {
      "text/html": [
       "<div>\n",
       "<style>\n",
       "    .dataframe thead tr:only-child th {\n",
       "        text-align: right;\n",
       "    }\n",
       "\n",
       "    .dataframe thead th {\n",
       "        text-align: left;\n",
       "    }\n",
       "\n",
       "    .dataframe tbody tr th {\n",
       "        vertical-align: top;\n",
       "    }\n",
       "</style>\n",
       "<table border=\"1\" class=\"dataframe\">\n",
       "  <thead>\n",
       "    <tr style=\"text-align: right;\">\n",
       "      <th></th>\n",
       "      <th>ID_PARTICIPANTE</th>\n",
       "      <th>tCobertura</th>\n",
       "      <th>tDeterministico</th>\n",
       "      <th>BenLiqCobATC</th>\n",
       "      <th>BenTotCobATC</th>\n",
       "      <th>PrbCasado</th>\n",
       "      <th>VlSdoConPartEvol</th>\n",
       "      <th>VlSdoConPatrEvol</th>\n",
       "      <th>px</th>\n",
       "      <th>pxs</th>\n",
       "      <th>axcb</th>\n",
       "      <th>apx</th>\n",
       "      <th>ajxcb</th>\n",
       "      <th>ajxx</th>\n",
       "      <th>Ax</th>\n",
       "      <th>taxa_juros_cob</th>\n",
       "      <th>taxa_juros_det</th>\n",
       "      <th>despesa_bua_atc</th>\n",
       "    </tr>\n",
       "  </thead>\n",
       "  <tbody>\n",
       "    <tr>\n",
       "      <th>0</th>\n",
       "      <td>13410587</td>\n",
       "      <td>0</td>\n",
       "      <td>0</td>\n",
       "      <td>1570.79</td>\n",
       "      <td>1570.79</td>\n",
       "      <td>0.6</td>\n",
       "      <td>156073.53</td>\n",
       "      <td>150133.2</td>\n",
       "      <td>1.000000</td>\n",
       "      <td>1.0</td>\n",
       "      <td>14.273423</td>\n",
       "      <td>1.0</td>\n",
       "      <td>13.189854</td>\n",
       "      <td>12.124317</td>\n",
       "      <td>0.23067</td>\n",
       "      <td>0.0551</td>\n",
       "      <td>0.0551</td>\n",
       "      <td>0</td>\n",
       "    </tr>\n",
       "    <tr>\n",
       "      <th>1</th>\n",
       "      <td>13410587</td>\n",
       "      <td>0</td>\n",
       "      <td>1</td>\n",
       "      <td>1570.79</td>\n",
       "      <td>1570.79</td>\n",
       "      <td>0.6</td>\n",
       "      <td>0.00</td>\n",
       "      <td>0.0</td>\n",
       "      <td>0.997528</td>\n",
       "      <td>1.0</td>\n",
       "      <td>14.065947</td>\n",
       "      <td>1.0</td>\n",
       "      <td>0.000000</td>\n",
       "      <td>0.000000</td>\n",
       "      <td>0.00000</td>\n",
       "      <td>0.0551</td>\n",
       "      <td>0.0551</td>\n",
       "      <td>0</td>\n",
       "    </tr>\n",
       "    <tr>\n",
       "      <th>2</th>\n",
       "      <td>13410587</td>\n",
       "      <td>0</td>\n",
       "      <td>2</td>\n",
       "      <td>1570.79</td>\n",
       "      <td>1570.79</td>\n",
       "      <td>0.6</td>\n",
       "      <td>0.00</td>\n",
       "      <td>0.0</td>\n",
       "      <td>0.994752</td>\n",
       "      <td>1.0</td>\n",
       "      <td>13.850949</td>\n",
       "      <td>1.0</td>\n",
       "      <td>0.000000</td>\n",
       "      <td>0.000000</td>\n",
       "      <td>0.00000</td>\n",
       "      <td>0.0551</td>\n",
       "      <td>0.0551</td>\n",
       "      <td>0</td>\n",
       "    </tr>\n",
       "    <tr>\n",
       "      <th>3</th>\n",
       "      <td>13410587</td>\n",
       "      <td>0</td>\n",
       "      <td>3</td>\n",
       "      <td>1570.79</td>\n",
       "      <td>1570.79</td>\n",
       "      <td>0.6</td>\n",
       "      <td>0.00</td>\n",
       "      <td>0.0</td>\n",
       "      <td>0.991631</td>\n",
       "      <td>1.0</td>\n",
       "      <td>13.628501</td>\n",
       "      <td>1.0</td>\n",
       "      <td>0.000000</td>\n",
       "      <td>0.000000</td>\n",
       "      <td>0.00000</td>\n",
       "      <td>0.0551</td>\n",
       "      <td>0.0551</td>\n",
       "      <td>0</td>\n",
       "    </tr>\n",
       "    <tr>\n",
       "      <th>4</th>\n",
       "      <td>13410587</td>\n",
       "      <td>0</td>\n",
       "      <td>4</td>\n",
       "      <td>1570.79</td>\n",
       "      <td>1570.79</td>\n",
       "      <td>0.6</td>\n",
       "      <td>0.00</td>\n",
       "      <td>0.0</td>\n",
       "      <td>0.988107</td>\n",
       "      <td>1.0</td>\n",
       "      <td>13.398817</td>\n",
       "      <td>1.0</td>\n",
       "      <td>0.000000</td>\n",
       "      <td>0.000000</td>\n",
       "      <td>0.00000</td>\n",
       "      <td>0.0551</td>\n",
       "      <td>0.0551</td>\n",
       "      <td>0</td>\n",
       "    </tr>\n",
       "  </tbody>\n",
       "</table>\n",
       "</div>"
      ],
      "text/plain": [
       "   ID_PARTICIPANTE  tCobertura  tDeterministico  BenLiqCobATC  BenTotCobATC  \\\n",
       "0         13410587           0                0       1570.79       1570.79   \n",
       "1         13410587           0                1       1570.79       1570.79   \n",
       "2         13410587           0                2       1570.79       1570.79   \n",
       "3         13410587           0                3       1570.79       1570.79   \n",
       "4         13410587           0                4       1570.79       1570.79   \n",
       "\n",
       "   PrbCasado  VlSdoConPartEvol  VlSdoConPatrEvol        px  pxs       axcb  \\\n",
       "0        0.6         156073.53          150133.2  1.000000  1.0  14.273423   \n",
       "1        0.6              0.00               0.0  0.997528  1.0  14.065947   \n",
       "2        0.6              0.00               0.0  0.994752  1.0  13.850949   \n",
       "3        0.6              0.00               0.0  0.991631  1.0  13.628501   \n",
       "4        0.6              0.00               0.0  0.988107  1.0  13.398817   \n",
       "\n",
       "   apx      ajxcb       ajxx       Ax  taxa_juros_cob  taxa_juros_det  \\\n",
       "0  1.0  13.189854  12.124317  0.23067          0.0551          0.0551   \n",
       "1  1.0   0.000000   0.000000  0.00000          0.0551          0.0551   \n",
       "2  1.0   0.000000   0.000000  0.00000          0.0551          0.0551   \n",
       "3  1.0   0.000000   0.000000  0.00000          0.0551          0.0551   \n",
       "4  1.0   0.000000   0.000000  0.00000          0.0551          0.0551   \n",
       "\n",
       "   despesa_bua_atc  \n",
       "0                0  \n",
       "1                0  \n",
       "2                0  \n",
       "3                0  \n",
       "4                0  "
      ]
     },
     "execution_count": 18,
     "metadata": {},
     "output_type": "execute_result"
    }
   ],
   "source": [
    "ativo_fluxo_atc.head()"
   ]
  },
  {
   "cell_type": "code",
   "execution_count": 16,
   "metadata": {
    "collapsed": true
   },
   "outputs": [],
   "source": [
    "# def calcular_vt(t, taxa_juros):\n",
    "#     vt = max(0, 1 / ((1 + taxa_juros) ** t))\n",
    "#     return vt"
   ]
  },
  {
   "cell_type": "code",
   "execution_count": 17,
   "metadata": {},
   "outputs": [
    {
     "name": "stdout",
     "output_type": "stream",
     "text": [
      "170.9220905303955\n"
     ]
    }
   ],
   "source": [
    "start = time.time()\n",
    "ativo_fluxo_atc['despesa_bua_atc'] = ativo_fluxo_atc.apply(calcular_despesa_bua, axis=1)\n",
    "end = time.time()\n",
    "print(end - start)"
   ]
  },
  {
   "cell_type": "code",
   "execution_count": null,
   "metadata": {
    "collapsed": true
   },
   "outputs": [],
   "source": [
    "# ativo_fluxo_atc['v'] = [calcular_v(t, tx) for t, tx in zip(ativo_fluxo_atc['tCobertura'], ativo_fluxo_atc['taxa_juros_cob'])]"
   ]
  },
  {
   "cell_type": "code",
   "execution_count": null,
   "metadata": {
    "collapsed": true
   },
   "outputs": [],
   "source": [
    "#  ativo_fluxo_atc['v2'] = [max(0, 1 / ((1 + tx) ** t)) for t, tx in zip(ativo_fluxo_atc['tCobertura'], ativo_fluxo_atc['taxa_juros_cob'])]"
   ]
  },
  {
   "cell_type": "code",
   "execution_count": null,
   "metadata": {
    "collapsed": true
   },
   "outputs": [],
   "source": [
    "# ativo_fluxo_atc['vt'] = [calcular_v((t2 - t1), tx) for t1, t2, tx in zip(ativo_fluxo_atc['tCobertura'], ativo_fluxo_atc['tDeterministico'], ativo_fluxo_atc['taxa_juros_det'])]"
   ]
  },
  {
   "cell_type": "code",
   "execution_count": null,
   "metadata": {
    "collapsed": true
   },
   "outputs": [],
   "source": [
    "# ativo_fluxo_atc['vt2'] = [max(0, 1 / ((1 + tx) ** (t2 - t1))) for t1, t2, tx in zip(ativo_fluxo_atc['tCobertura'], ativo_fluxo_atc['tDeterministico'], ativo_fluxo_atc['taxa_juros_det'])]"
   ]
  },
  {
   "cell_type": "code",
   "execution_count": null,
   "metadata": {},
   "outputs": [],
   "source": [
    "start = time.time()\n",
    "# for a in range(0, len(ativo_fluxo_atc.iloc[0:5000])):\n",
    "for a in range(0, len(ativo_fluxo_atc)):\n",
    "#     print(row['tCobertura'], row['tDeterministico'])\n",
    "    if (CdPlanBen == 1):\n",
    "        x += 1\n",
    "#         if (ativo_fluxo_atc.iloc[a, 'tCobertura'] == ativo_fluxo_atc.iloc[a, 'tDeterministico']):\n",
    "#             t_vt = 0\n",
    "#             ativo_fluxo_atc.iloc[a, 'beneficio_atc'] = max(0, ativo_fluxo_atc.iloc[a, 'BenTotCobAtc'] / FtBenEnti)\n",
    "#         else:\n",
    "#             ativo_fluxo_atc.iloc[a, 'beneficio_atc'] = max(0, ativo_fluxo_atc.iloc[a - 1, 'beneficio_atc'] * (1 + PrTxBenef))\n",
    "\n",
    "#             ativo_fluxo_atc.iloc[a, 'contribuicao_atc'] = max(0, GetContribuicao(ativo_fluxo_atc.iloc[a, 'beneficio_atc']))\n",
    "#             ativo_fluxo_atc.iloc[a, 'pagamento_atc'] = max(0, (ativo_fluxo_atc.iloc[a, 'beneficio_atc'] - ativo_fluxo_atc.iloc[a, 'contribuicao_atc']) * ativo_fluxo_atc.iloc[a, 'apx'] * NroBenAno)\n",
    "#             ativo_fluxo_atc.iloc[a, 'despesa_total_atc'] = max(0, (ativo_fluxo_atc.iloc[a, 'beneficio_atc'] * ativo_fluxo_atc.iloc[a, 'apx'] * NroBenAno * ativo_fluxo_atc.iloc[a, 'px'] * ativo_fluxo_atc.iloc[a, 'pxs']))\n",
    "#             ativo_fluxo_atc.iloc[a, 'receita_total_atc'] = max(0, (ativo_fluxo_atc.iloc[a, 'contribuicao_atc'] * ativo_fluxo_atc.iloc[a, 'apx'] * NroBenAno * ativo_fluxo_atc.iloc[a, 'px'] * ativo_fluxo_atc.iloc[a, 'pxs']))\n",
    "#             ativo_fluxo_atc.iloc[a, 'despesa_atc'] = max(0, ativo_fluxo_atc.iloc[a, 'despesa_total_atc'] - ativo_fluxo_atc.iloc[a, 'receita_total_atc'])\n",
    "    else:\n",
    "        if (ativo_fluxo_atc.loc[a, 'tCobertura'] == ativo_fluxo_atc.loc[a, 'tDeterministico']):\n",
    "            ativo_fluxo_atc.loc[a, 'pagamento_atc'] = max(0, (ativo_fluxo_atc.loc[a, 'BenLiqCobATC'] / FtBenEnti) * ativo_fluxo_atc.loc[a, 'apx'] * NroBenAno)\n",
    "\n",
    "            if (CdPlanBen == 2):\n",
    "                ativo_fluxo_atc.loc[a, 'despesa_bua_atc'] = max(0, ((ativo_fluxo_atc.loc[a, 'BenTotCobAtc'] * (ativo_fluxo_atc.loc[a, 'axcb'] + CtFamPens * ativo_fluxo_atc.loc[a, 'PrbCasado'] * (ativo_fluxo_atc.loc[a, 'ajxcb'] - ativo_fluxo_atc.loc[a, 'ajxx'])) * NroBenAno) + ((ativo_fluxo_atc.loc[a, 'BenTotCobAtc'] / FtBenEnti) * (ativo_fluxo_atc.loc[a, 'Ax'] * peculioMorteAssistido))) * ativo_fluxo_atc.loc[a, 'apx'] * perct_saque_bua * perct_opcao_bua)\n",
    "            else:\n",
    "                ativo_fluxo_atc.loc[a, 'despesa_bua_atc'] = max(0, (ativo_fluxo_atc.loc[a, 'VlSdoConPartEvol'] + ativo_fluxo_atc.loc[a, 'VlSdoConPatrEvol']) * ativo_fluxo_atc.loc[a, 'apx'] * perct_saque_bua * perct_opcao_bua)\n",
    "        else:\n",
    "            ativo_fluxo_atc.loc[a, 'pagamento_atc'] = max(0, ativo_fluxo_atc.loc[a - 1, 'pagamento_atc'] * (1 + PrTxBenef))\n",
    "            ativo_fluxo_atc.loc[a, 'despesa_bua_atc'] = 0\n",
    "            \n",
    "        ativo_fluxo_atc.loc[a, 'despesa_total_atc'] = max(0, (ativo_fluxo_atc.loc[a, 'pagamento_atc'] + ativo_fluxo_atc.loc[a, 'despesa_bua_atc']) * ativo_fluxo_atc.loc[a, 'px'] * ativo_fluxo_atc.loc[a, 'pxs'])\n",
    "        ativo_fluxo_atc.loc[a, 'despesa_atc'] = ativo_fluxo_atc.loc[a, 'despesa_total_atc']\n",
    "\n",
    "    v = calcular_v(ativo_fluxo_atc.loc[a, 'tCobertura'], ativo_fluxo_atc.loc[a, 'taxa_juros_cob'])\n",
    "    vt = calcular_v((ativo_fluxo_atc.loc[a, 'tDeterministico'] - ativo_fluxo_atc.loc[a, 'tCobertura']), ativo_fluxo_atc.loc[a, 'taxa_juros_det'])\n",
    "\n",
    "    if (ativo_fluxo_atc.loc[a, 'tCobertura'] == ativo_fluxo_atc.loc[a, 'tDeterministico']):\n",
    "        ativo_fluxo_atc.loc[a, 'despesa_vp_atc'] = max(0, ((ativo_fluxo_atc.loc[a, 'pagamento_atc'] * ativo_fluxo_atc.loc[a, 'px'] * vt * FtBenEnti) - (Fb * ativo_fluxo_atc.loc[a, 'pagamento_atc'] * FtBenEnti)) * ativo_fluxo_atc.loc[a, 'pxs'] * v + ativo_fluxo_atc.loc[a, 'despesa_bua_atc'] * v * ativo_fluxo_atc.loc[a, 'pxs'])\n",
    "    else:\n",
    "        ativo_fluxo_atc.loc[a, 'despesa_vp_atc'] = max(0, ativo_fluxo_atc.loc[a, 'pagamento_atc'] * ativo_fluxo_atc.loc[a, 'px'] * vt * ativo_fluxo_atc.loc[a, 'pxs'] * v * FtBenEnti)\n",
    "        \n",
    "    \n",
    "end = time.time()\n",
    "print(end - start)"
   ]
  },
  {
   "cell_type": "code",
   "execution_count": null,
   "metadata": {
    "collapsed": true
   },
   "outputs": [],
   "source": [
    "ativo_fluxo_atc[(ativo_fluxo_atc['ID_PARTICIPANTE'] == 13410588) & (ativo_fluxo_atc['tCobertura'] == 1)]"
   ]
  },
  {
   "cell_type": "code",
   "execution_count": null,
   "metadata": {
    "collapsed": true
   },
   "outputs": [],
   "source": []
  }
 ],
 "metadata": {
  "kernelspec": {
   "display_name": "Python 3",
   "language": "python",
   "name": "python3"
  },
  "language_info": {
   "codemirror_mode": {
    "name": "ipython",
    "version": 3
   },
   "file_extension": ".py",
   "mimetype": "text/x-python",
   "name": "python",
   "nbconvert_exporter": "python",
   "pygments_lexer": "ipython3",
   "version": "3.6.3"
  }
 },
 "nbformat": 4,
 "nbformat_minor": 2
}
