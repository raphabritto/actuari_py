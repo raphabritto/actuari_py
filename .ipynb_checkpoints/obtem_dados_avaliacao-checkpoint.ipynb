{
 "cells": [
  {
   "cell_type": "code",
   "execution_count": 1,
   "metadata": {
    "collapsed": true
   },
   "outputs": [],
   "source": [
    "import pandas as pd\n",
    "#import numpy as np\n",
    "import tools\n",
    "import itertools"
   ]
  },
  {
   "cell_type": "code",
   "execution_count": 2,
   "metadata": {
    "collapsed": true
   },
   "outputs": [],
   "source": [
    "# exibe todas as colunas do dataframe\n",
    "pd.set_option('display.max_columns', None)\n",
    "#pd.set_option('display.max_rows', None)"
   ]
  },
  {
   "cell_type": "markdown",
   "metadata": {},
   "source": [
    "# avaliacao"
   ]
  },
  {
   "cell_type": "code",
   "execution_count": 63,
   "metadata": {
    "collapsed": false
   },
   "outputs": [],
   "source": [
    "if 'df_avaliacao_db' in locals():\n",
    "    del(df_avaliacao_db)\n",
    "\n",
    "date_columns = ['DT_CALCULO', 'DT_REAJUSTE_BENEFICIO']\n",
    "df_avaliacao_db = pd.read_csv(\"input_csv/avaliacao.csv\", sep=\";\", decimal=\",\", parse_dates=date_columns)"
   ]
  },
  {
   "cell_type": "code",
   "execution_count": 64,
   "metadata": {
    "collapsed": true
   },
   "outputs": [],
   "source": [
    "if 'df_avaliacao_tmp'in locals():\n",
    "    del(df_avaliacao_tmp)\n",
    "    \n",
    "name_columns = {'ID_AVALIACAO': 'avaliacao', 'ID_CADASTRO': 'cadastro', 'IDPLANOPREV': 'plano_previdencia', 'ID_PLANO_BENEFICIO': 'plano_beneficio', 'DT_CALCULO': 'data_calculo',\n",
    "                 'DT_REAJUSTE_BENEFICIO': 'data_reajuste_beneficio', 'VL_BENEFICIO_MINIMO': 'beneficio_minimo', 'PC_DESPESA_ADM_PARTICIPANTE': 'despesa_administ_partic',\n",
    "                 'PC_DESPESA_ADM_PATROCINADORA': 'despesa_administ_patroc', 'PC_SAIDA_BPD': 'saida_bpd', 'PC_SAIDA_PORTABILIDADE': 'saida_portabilidade', 'PC_SAIDA_RESGATE': 'saida_resgate',\n",
    "                 'VL_PECULIO_MINIMO_MORTE': 'peculio_minimo_morte', 'PC_PECULIO_MINIMO_MORTE': 'fator_peculio_morte_ativo', 'VL_PECULIO_MORTE_ASSISTIDO': 'fator_peculio_morte_assistido',\n",
    "                 'NR_PAGTOS_BENEF_CONTRIB_ANO': 'numero_contribuicoes_ano', 'PC_FAIXA_01_CONTRIBUICAO': 'faixa_1_contribuicao', 'PC_FAIXA_02_CONTRIBUICAO': 'faixa_2_contribuicao',\n",
    "                 'PC_FAIXA_03_CONTRIBUICAO': 'faixa_3_contribuicao', 'PC_META_CUSTEIO_ADMIN': 'taxa_carregamento_admin', 'PC_TAXA_ADMIN_BENEFICIO': 'taxa_admin_beneficio',\n",
    "                 'PC_TAXA_REAL_CRESC_SALARIAL': 'taxa_cresc_salarial', 'PC_TAXA_REAL_CRESC_BENEFICIO': 'taxa_cresc_beneficio', 'PC_FATOR_VLR_REAL_SALARIO': 'fator_capacidade_salario',\n",
    "                 'PC_FATOR_VLR_REAL_BEN_FUNCEF': 'fator_capacidade_funcef', 'PC_FATOR_VLR_REAL_BEN_INSS': 'fator_capacidade_inss', 'PC_FATOR_REAJ_BENEF_LIQUIDO': 'fator_capacidade_beneficio',\n",
    "                 'PC_OPCAO_BUA': 'opcao_bua', 'PC_SAQUE_BUA': 'saque_bua'}\n",
    "drop_columns = ['DS_PLANO_BENEFICIO', 'FL_CALCULAR_DEMONS_RESULTADO', 'FL_FLUXO_RECEITA_DESPESA_FOLHA', 'FL_MEMORIA_CALCULO', 'CD_COMPOSICAO_FAMILIAR']\n",
    "\n",
    "df_avaliacao_tmp = df_avaliacao_db.rename(columns = name_columns).drop(drop_columns, axis=1)"
   ]
  },
  {
   "cell_type": "code",
   "execution_count": 65,
   "metadata": {
    "collapsed": false
   },
   "outputs": [],
   "source": [
    "df_avaliacao_tmp.despesa_administ_partic = df_avaliacao_tmp.despesa_administ_partic.map(tools.convertToPercent)\n",
    "df_avaliacao_tmp.despesa_administ_patroc = df_avaliacao_tmp.despesa_administ_patroc.map(tools.convertToPercent)\n",
    "df_avaliacao_tmp.saida_bpd = df_avaliacao_tmp.saida_bpd.map(tools.convertToPercent)\n",
    "df_avaliacao_tmp.saida_portabilidade = df_avaliacao_tmp.saida_portabilidade.map(tools.convertToPercent)\n",
    "df_avaliacao_tmp.saida_resgate = df_avaliacao_tmp.saida_resgate.map(tools.convertToPercent)\n",
    "df_avaliacao_tmp.faixa_1_contribuicao = df_avaliacao_tmp.faixa_1_contribuicao.map(tools.convertToPercent)\n",
    "df_avaliacao_tmp.faixa_2_contribuicao = df_avaliacao_tmp.faixa_2_contribuicao.map(tools.convertToPercent)\n",
    "df_avaliacao_tmp.faixa_3_contribuicao = df_avaliacao_tmp.faixa_3_contribuicao.map(tools.convertToPercent)\n",
    "df_avaliacao_tmp.taxa_carregamento_admin = df_avaliacao_tmp.taxa_carregamento_admin.map(tools.convertToPercent)\n",
    "df_avaliacao_tmp.taxa_admin_beneficio = df_avaliacao_tmp.taxa_admin_beneficio.map(tools.convertToPercent)\n",
    "df_avaliacao_tmp.taxa_cresc_salarial = df_avaliacao_tmp.taxa_cresc_salarial.map(tools.convertToPercent)\n",
    "df_avaliacao_tmp.taxa_cresc_beneficio = df_avaliacao_tmp.taxa_cresc_beneficio.map(tools.convertToPercent)\n",
    "df_avaliacao_tmp.fator_capacidade_salario = df_avaliacao_tmp.fator_capacidade_salario.map(tools.convertToPercent)\n",
    "df_avaliacao_tmp.fator_capacidade_funcef = df_avaliacao_tmp.fator_capacidade_funcef.map(tools.convertToPercent)\n",
    "df_avaliacao_tmp.fator_capacidade_inss = df_avaliacao_tmp.fator_capacidade_inss.map(tools.convertToPercent)\n",
    "df_avaliacao_tmp.fator_capacidade_beneficio = df_avaliacao_tmp.fator_capacidade_beneficio.map(tools.convertToIndice)\n",
    "df_avaliacao_tmp.opcao_bua = df_avaliacao_tmp.opcao_bua.map(tools.convertToPercent)\n",
    "df_avaliacao_tmp.saque_bua = df_avaliacao_tmp.saque_bua.map(tools.convertToPercent)"
   ]
  },
  {
   "cell_type": "markdown",
   "metadata": {},
   "source": [
    "# premissas do plano"
   ]
  },
  {
   "cell_type": "code",
   "execution_count": 73,
   "metadata": {
    "collapsed": true
   },
   "outputs": [],
   "source": [
    "# df_prem_plano_db = None\n",
    "if 'df_prem_plano_db' in locals():\n",
    "    del(df_prem_plano_db)\n",
    "    \n",
    "df_prem_plano_db = pd.read_csv(\"input_csv/premissa_planos.csv\", sep=\";\", decimal=\",\")"
   ]
  },
  {
   "cell_type": "code",
   "execution_count": 74,
   "metadata": {
    "collapsed": true
   },
   "outputs": [],
   "source": [
    "if 'df_prem_plano_tmp' in locals():\n",
    "    del(df_prem_plano_tmp)\n",
    "    \n",
    "name_columns = {'ID_PLANO_BENEFICIO': 'plano_beneficio', 'IDADE_INICIO_CONTRIB_INSS_MAS': 'idade_inicio_contrib_inss_mas', 'IDADE_INICIO_CONTRIB_INSS_FEM': 'idade_inicio_contrib_inss_fem',\n",
    "                'IDADE_APOSENT_FUNDACAO_MAS': 'idade_aposent_fundacao_mas', 'IDADE_APOSENT_FUNDACAO_FEM': 'idade_aposent_fundacao_fem', 'TEMPO_CONTRIB_INSS_MAS': 'tempo_contrib_inss_mas',\n",
    "                'TEMPO_CONTRIB_INSS_FEM': 'tempo_contrib_inss_fem', 'MAIORIDADE_PLANO': 'maioridade_plano', 'PERCENTUAL_SRB': 'percentual_srb', 'TEMPO_CARENCIA_APOSENTADORIA': 'carencia_aposentadoria'}\n",
    "drop_columns = ['ID_PREMISSA_PLANO']\n",
    "# df_prem_plano = None\n",
    "df_prem_plano_tmp = df_prem_plano_db.rename(columns = name_columns).drop(drop_columns, axis=1)\n",
    "df_prem_plano_tmp.percentual_srb = df_prem_plano_tmp.percentual_srb.map(tools.convertToPercent)"
   ]
  },
  {
   "cell_type": "markdown",
   "metadata": {},
   "source": [
    "# premissas globais"
   ]
  },
  {
   "cell_type": "code",
   "execution_count": 78,
   "metadata": {
    "collapsed": true
   },
   "outputs": [],
   "source": [
    "#df_prem_global_db = None\n",
    "if 'df_prem_global_db' in locals():\n",
    "    del(df_prem_global_db)\n",
    "    \n",
    "date_columns = ['DT_ORIGEM_BNH', 'DT_LEI_9876_1999', 'DT_MEDIA_80_MAIORES_SALARIOS']\n",
    "df_prem_global_db = pd.read_csv(\"input_csv/premissa_global.csv\", sep=\";\", decimal=\",\", parse_dates = date_columns)"
   ]
  },
  {
   "cell_type": "code",
   "execution_count": 79,
   "metadata": {
    "collapsed": false
   },
   "outputs": [],
   "source": [
    "if 'df_prem_global_tmp' in locals():\n",
    "    del(df_prem_global_tmp)\n",
    "    \n",
    "name_columns = {'DT_ORIGEM_BNH': 'data_bnh', 'DT_LEI_9876_1999': 'data_lei_9876', 'DT_MEDIA_80_MAIORES_SALARIOS': 'data_media_maiores_salarios', 'TETO_CONTRIBUICAO_INSS': 'teto_contribuicao_inss',\n",
    "                'TETO_BENEFICIO_INSS': 'teto_beneficio_inss', 'SALARIO_MINIMO': 'salario_minimo', 'COTA_FAMILIAR_PENSAO': 'cota_pensao_familiar',\n",
    "                'PROB_APOSENTADO_CASADO_MAS': 'prob_aposentado_casado_mas', 'PROB_APOSENTADO_CASADO_FEM': 'prob_aposentado_casado_fem', 'DIF_IDADE_CONJUGE_MAS': 'dif_idade_conjuge_mas',\n",
    "                'DIF_IDADE_CONJUGE_FEM': 'dif_idade_conjuge_fem', 'LX_INICIAL': 'lx_inicial'}\n",
    "drop_columns = ['ID_PREMISSA_GLOBAL']\n",
    "#df_prem_global = None\n",
    "df_prem_global_tmp = df_prem_global_db.rename(columns = name_columns).drop(drop_columns, axis=1)\n",
    "df_prem_global_tmp.cota_pensao_familiar = df_prem_global_tmp.cota_pensao_familiar.map(tools.convertToPercent)\n",
    "df_prem_global_tmp.prob_aposentado_casado_mas = df_prem_global_tmp.prob_aposentado_casado_mas.map(tools.convertToPercent)\n",
    "df_prem_global_tmp.prob_aposentado_casado_fem = df_prem_global_tmp.prob_aposentado_casado_fem.map(tools.convertToPercent)\n",
    "df_prem_global_tmp['avaliacao'] = df_avaliacao_tmp.avaliacao"
   ]
  },
  {
   "cell_type": "markdown",
   "metadata": {},
   "source": [
    "# taxa de juros"
   ]
  },
  {
   "cell_type": "code",
   "execution_count": 80,
   "metadata": {
    "collapsed": true
   },
   "outputs": [],
   "source": [
    "# df_taxa_juros_db = None\n",
    "if 'df_taxa_juros_db' in locals():\n",
    "    del(df_taxa_juros_db)\n",
    "    \n",
    "df_taxa_juros_db = pd.read_csv(\"input_csv/taxa_juros.csv\", sep=\";\", decimal=\",\")"
   ]
  },
  {
   "cell_type": "code",
   "execution_count": 81,
   "metadata": {
    "collapsed": true
   },
   "outputs": [],
   "source": [
    "if 'df_taxa_juros' in locals():\n",
    "    del(df_taxa_juros)\n",
    "    \n",
    "name_columns = {'NR_TEMPO_TAXA_JUROS': 'tempo', 'VL_TAXA_JUROS': 'taxa_juros'}\n",
    "# df_taxa_juros = None\n",
    "df_taxa_juros = df_taxa_juros_db.rename(columns= name_columns)\n",
    "df_taxa_juros.taxa_juros = df_taxa_juros.taxa_juros.map(tools.convertToPercent)"
   ]
  },
  {
   "cell_type": "markdown",
   "metadata": {},
   "source": [
    "# taxa de risco"
   ]
  },
  {
   "cell_type": "code",
   "execution_count": 82,
   "metadata": {
    "collapsed": true
   },
   "outputs": [],
   "source": [
    "# df_taxa_risco_db = None\n",
    "if 'df_taxa_risco_db' in locals():\n",
    "    del(df_taxa_risco_db)\n",
    "    \n",
    "df_taxa_risco_db = pd.read_csv(\"input_csv/taxa_risco.csv\", sep=\";\", decimal=\",\")"
   ]
  },
  {
   "cell_type": "code",
   "execution_count": 83,
   "metadata": {
    "collapsed": true
   },
   "outputs": [],
   "source": [
    "if 'df_taxa_risco' in locals():\n",
    "    del(df_taxa_risco)\n",
    "    \n",
    "name_columns = {'NR_TEMPO_TAXA_RISCO': 'tempo', 'ID_RESPONSABILIDADE': 'responsabilidade', 'VL_TAXA_RISCO': 'taxa_risco'}\n",
    "# df_taxa_risco = None\n",
    "df_taxa_risco = df_taxa_risco_db.rename(columns = name_columns)\n",
    "df_taxa_risco.taxa_risco = df_taxa_risco.taxa_risco.map(tools.convertToPercent)"
   ]
  },
  {
   "cell_type": "markdown",
   "metadata": {},
   "source": [
    "# indice INPC - cotacao moeda"
   ]
  },
  {
   "cell_type": "code",
   "execution_count": 84,
   "metadata": {
    "collapsed": true
   },
   "outputs": [],
   "source": [
    "# df_indice_db = None\n",
    "if 'df_indice_db' in locals():\n",
    "    del(df_indice_db)\n",
    "    \n",
    "date_columns = ['COTDATA']\n",
    "df_indice_db = pd.read_csv(\"input_csv/cotacao.csv\", sep=\";\", decimal=\",\", parse_dates = date_columns)"
   ]
  },
  {
   "cell_type": "code",
   "execution_count": 85,
   "metadata": {
    "collapsed": true
   },
   "outputs": [],
   "source": [
    "if 'df_indice' in locals():\n",
    "    del(df_indice)\n",
    "    \n",
    "name_columns = {'COTDATA': 'data', 'COTVALOR': 'valor'}\n",
    "# df_indice = None\n",
    "df_indice = df_indice_db.rename(columns= name_columns)\n",
    "df_indice.valor = df_indice.valor.map(tools.convertToIndice)"
   ]
  },
  {
   "cell_type": "markdown",
   "metadata": {},
   "source": [
    "# indexador monetario"
   ]
  },
  {
   "cell_type": "code",
   "execution_count": 86,
   "metadata": {
    "collapsed": true
   },
   "outputs": [],
   "source": [
    "# df_indexador_db = None\n",
    "if 'df_indexador_db' in locals():\n",
    "    del(df_indexador_db)\n",
    "    \n",
    "df_indexador_db = pd.read_csv(\"input_csv/indexador_monetario.csv\", sep=\";\", decimal=\",\")"
   ]
  },
  {
   "cell_type": "code",
   "execution_count": 87,
   "metadata": {
    "collapsed": true
   },
   "outputs": [],
   "source": [
    "if 'df_indexador' in locals():\n",
    "    del(df_indexador)\n",
    "    \n",
    "name_columns = {'ID_REFERENCIA_IDX_MON': 'indexador', 'PC_REAJUSTE': 'valor'}\n",
    "drop_columns = ['DS_REFERENCIA_IDX_MON']\n",
    "# df_indexador = None\n",
    "df_indexador = df_indexador_db.rename(columns=name_columns).drop(drop_columns, axis=1)"
   ]
  },
  {
   "cell_type": "markdown",
   "metadata": {},
   "source": [
    "# reajuste salarial"
   ]
  },
  {
   "cell_type": "code",
   "execution_count": 88,
   "metadata": {
    "collapsed": true
   },
   "outputs": [],
   "source": [
    "# df_reaj_salarial_db = None\n",
    "if 'df_reaj_salarial_db' in locals():\n",
    "    del(df_reaj_salarial_db)\n",
    "    \n",
    "df_reaj_salarial_db = pd.read_csv(\"input_csv/reajuste_salarial.csv\", sep=\";\", decimal=\",\")"
   ]
  },
  {
   "cell_type": "code",
   "execution_count": 89,
   "metadata": {
    "collapsed": false
   },
   "outputs": [],
   "source": [
    "if 'df_reaj_salarial' in locals():\n",
    "    del(df_reaj_salarial)\n",
    "    \n",
    "name_columns = {'CD_TIPO_REAJUSTE_SALARIAL': 'tipo', 'ID_PATROCINADORA': 'patrocinadora', 'PC_REAJUSTE': 'valor'}\n",
    "drop_columns = ['DS_TIPO_REAJUSTE_SALARIAL']\n",
    "# df_reaj_salarial = None\n",
    "df_reaj_salarial = df_reaj_salarial_db.rename(columns = name_columns).drop(drop_columns, axis= 1)\n",
    "df_reaj_salarial.valor = df_reaj_salarial.valor.map(tools.convertToPercent)"
   ]
  },
  {
   "cell_type": "markdown",
   "metadata": {},
   "source": [
    "# join : avaliacao + premissa plano + premissa global"
   ]
  },
  {
   "cell_type": "code",
   "execution_count": 90,
   "metadata": {
    "collapsed": true
   },
   "outputs": [],
   "source": [
    "if 'df_avaliacao' in locals():\n",
    "    del(df_avaliacao)\n",
    "    \n",
    "df_avaliacao = pd.merge(df_avaliacao_tmp, df_prem_plano_tmp, how='inner', on='plano_beneficio')"
   ]
  },
  {
   "cell_type": "code",
   "execution_count": 91,
   "metadata": {
    "collapsed": true
   },
   "outputs": [],
   "source": [
    "df_avaliacao = pd.merge(df_avaliacao, df_prem_global_tmp, how='inner', on='avaliacao')"
   ]
  },
  {
   "cell_type": "code",
   "execution_count": 92,
   "metadata": {
    "collapsed": false
   },
   "outputs": [
    {
     "data": {
      "text/plain": [
       "avaliacao                                 int64\n",
       "cadastro                                  int64\n",
       "plano_previdencia                         int64\n",
       "plano_beneficio                           int64\n",
       "data_calculo                     datetime64[ns]\n",
       "data_reajuste_beneficio          datetime64[ns]\n",
       "beneficio_minimo                        float64\n",
       "despesa_administ_partic                 float64\n",
       "despesa_administ_patroc                 float64\n",
       "saida_bpd                               float64\n",
       "saida_portabilidade                     float64\n",
       "saida_resgate                           float64\n",
       "peculio_minimo_morte                    float64\n",
       "fator_peculio_morte_ativo               float64\n",
       "fator_peculio_morte_assistido           float64\n",
       "numero_contribuicoes_ano                  int64\n",
       "faixa_1_contribuicao                    float64\n",
       "faixa_2_contribuicao                    float64\n",
       "faixa_3_contribuicao                    float64\n",
       "taxa_carregamento_admin                 float64\n",
       "taxa_admin_beneficio                    float64\n",
       "taxa_cresc_salarial                     float64\n",
       "taxa_cresc_beneficio                    float64\n",
       "fator_capacidade_salario                float64\n",
       "fator_capacidade_funcef                 float64\n",
       "fator_capacidade_inss                   float64\n",
       "fator_capacidade_beneficio              float64\n",
       "opcao_bua                               float64\n",
       "saque_bua                               float64\n",
       "idade_inicio_contrib_inss_mas             int64\n",
       "idade_inicio_contrib_inss_fem             int64\n",
       "idade_aposent_fundacao_mas                int64\n",
       "idade_aposent_fundacao_fem                int64\n",
       "tempo_contrib_inss_mas                    int64\n",
       "tempo_contrib_inss_fem                    int64\n",
       "maioridade_plano                          int64\n",
       "percentual_srb                          float64\n",
       "carencia_aposentadoria                    int64\n",
       "data_bnh                         datetime64[ns]\n",
       "data_lei_9876                    datetime64[ns]\n",
       "data_media_maiores_salarios      datetime64[ns]\n",
       "teto_contribuicao_inss                  float64\n",
       "teto_beneficio_inss                     float64\n",
       "salario_minimo                          float64\n",
       "cota_pensao_familiar                    float64\n",
       "prob_aposentado_casado_mas              float64\n",
       "prob_aposentado_casado_fem              float64\n",
       "dif_idade_conjuge_mas                     int64\n",
       "dif_idade_conjuge_fem                     int64\n",
       "lx_inicial                                int64\n",
       "dtype: object"
      ]
     },
     "execution_count": 92,
     "metadata": {},
     "output_type": "execute_result"
    }
   ],
   "source": [
    "df_avaliacao.dtypes"
   ]
  },
  {
   "cell_type": "code",
   "execution_count": 93,
   "metadata": {
    "collapsed": false
   },
   "outputs": [
    {
     "data": {
      "text/html": [
       "<div>\n",
       "<table border=\"1\" class=\"dataframe\">\n",
       "  <thead>\n",
       "    <tr style=\"text-align: right;\">\n",
       "      <th></th>\n",
       "      <th>avaliacao</th>\n",
       "      <th>cadastro</th>\n",
       "      <th>plano_previdencia</th>\n",
       "      <th>plano_beneficio</th>\n",
       "      <th>data_calculo</th>\n",
       "      <th>data_reajuste_beneficio</th>\n",
       "      <th>beneficio_minimo</th>\n",
       "      <th>despesa_administ_partic</th>\n",
       "      <th>despesa_administ_patroc</th>\n",
       "      <th>saida_bpd</th>\n",
       "      <th>saida_portabilidade</th>\n",
       "      <th>saida_resgate</th>\n",
       "      <th>peculio_minimo_morte</th>\n",
       "      <th>fator_peculio_morte_ativo</th>\n",
       "      <th>fator_peculio_morte_assistido</th>\n",
       "      <th>numero_contribuicoes_ano</th>\n",
       "      <th>faixa_1_contribuicao</th>\n",
       "      <th>faixa_2_contribuicao</th>\n",
       "      <th>faixa_3_contribuicao</th>\n",
       "      <th>taxa_carregamento_admin</th>\n",
       "      <th>taxa_admin_beneficio</th>\n",
       "      <th>taxa_cresc_salarial</th>\n",
       "      <th>taxa_cresc_beneficio</th>\n",
       "      <th>fator_capacidade_salario</th>\n",
       "      <th>fator_capacidade_funcef</th>\n",
       "      <th>fator_capacidade_inss</th>\n",
       "      <th>fator_capacidade_beneficio</th>\n",
       "      <th>opcao_bua</th>\n",
       "      <th>saque_bua</th>\n",
       "      <th>idade_inicio_contrib_inss_mas</th>\n",
       "      <th>idade_inicio_contrib_inss_fem</th>\n",
       "      <th>idade_aposent_fundacao_mas</th>\n",
       "      <th>idade_aposent_fundacao_fem</th>\n",
       "      <th>tempo_contrib_inss_mas</th>\n",
       "      <th>tempo_contrib_inss_fem</th>\n",
       "      <th>maioridade_plano</th>\n",
       "      <th>percentual_srb</th>\n",
       "      <th>carencia_aposentadoria</th>\n",
       "      <th>data_bnh</th>\n",
       "      <th>data_lei_9876</th>\n",
       "      <th>data_media_maiores_salarios</th>\n",
       "      <th>teto_contribuicao_inss</th>\n",
       "      <th>teto_beneficio_inss</th>\n",
       "      <th>salario_minimo</th>\n",
       "      <th>cota_pensao_familiar</th>\n",
       "      <th>prob_aposentado_casado_mas</th>\n",
       "      <th>prob_aposentado_casado_fem</th>\n",
       "      <th>dif_idade_conjuge_mas</th>\n",
       "      <th>dif_idade_conjuge_fem</th>\n",
       "      <th>lx_inicial</th>\n",
       "    </tr>\n",
       "  </thead>\n",
       "  <tbody>\n",
       "    <tr>\n",
       "      <th>0</th>\n",
       "      <td>25445</td>\n",
       "      <td>10809</td>\n",
       "      <td>74</td>\n",
       "      <td>5</td>\n",
       "      <td>2016-12-31</td>\n",
       "      <td>2016-01-01</td>\n",
       "      <td>0.0</td>\n",
       "      <td>0.0398</td>\n",
       "      <td>0.0398</td>\n",
       "      <td>0.0</td>\n",
       "      <td>0.5</td>\n",
       "      <td>0.5</td>\n",
       "      <td>0.0</td>\n",
       "      <td>2.5</td>\n",
       "      <td>11.62</td>\n",
       "      <td>13</td>\n",
       "      <td>0.0</td>\n",
       "      <td>0.0</td>\n",
       "      <td>0.0</td>\n",
       "      <td>0.0398</td>\n",
       "      <td>0.009</td>\n",
       "      <td>0.0239</td>\n",
       "      <td>0.0</td>\n",
       "      <td>0.98</td>\n",
       "      <td>0.98</td>\n",
       "      <td>0.98</td>\n",
       "      <td>2.2177</td>\n",
       "      <td>0.0</td>\n",
       "      <td>0.0</td>\n",
       "      <td>18</td>\n",
       "      <td>18</td>\n",
       "      <td>53</td>\n",
       "      <td>48</td>\n",
       "      <td>35</td>\n",
       "      <td>30</td>\n",
       "      <td>24</td>\n",
       "      <td>0.2</td>\n",
       "      <td>10</td>\n",
       "      <td>1998-09-23</td>\n",
       "      <td>1999-11-29</td>\n",
       "      <td>1999-07-31</td>\n",
       "      <td>5189.82</td>\n",
       "      <td>5078.94</td>\n",
       "      <td>880.0</td>\n",
       "      <td>0.8</td>\n",
       "      <td>0.85</td>\n",
       "      <td>0.6</td>\n",
       "      <td>5</td>\n",
       "      <td>2</td>\n",
       "      <td>10000000</td>\n",
       "    </tr>\n",
       "  </tbody>\n",
       "</table>\n",
       "</div>"
      ],
      "text/plain": [
       "   avaliacao  cadastro  plano_previdencia  plano_beneficio data_calculo  \\\n",
       "0      25445     10809                 74                5   2016-12-31   \n",
       "\n",
       "  data_reajuste_beneficio  beneficio_minimo  despesa_administ_partic  \\\n",
       "0              2016-01-01               0.0                   0.0398   \n",
       "\n",
       "   despesa_administ_patroc  saida_bpd  saida_portabilidade  saida_resgate  \\\n",
       "0                   0.0398        0.0                  0.5            0.5   \n",
       "\n",
       "   peculio_minimo_morte  fator_peculio_morte_ativo  \\\n",
       "0                   0.0                        2.5   \n",
       "\n",
       "   fator_peculio_morte_assistido  numero_contribuicoes_ano  \\\n",
       "0                          11.62                        13   \n",
       "\n",
       "   faixa_1_contribuicao  faixa_2_contribuicao  faixa_3_contribuicao  \\\n",
       "0                   0.0                   0.0                   0.0   \n",
       "\n",
       "   taxa_carregamento_admin  taxa_admin_beneficio  taxa_cresc_salarial  \\\n",
       "0                   0.0398                 0.009               0.0239   \n",
       "\n",
       "   taxa_cresc_beneficio  fator_capacidade_salario  fator_capacidade_funcef  \\\n",
       "0                   0.0                      0.98                     0.98   \n",
       "\n",
       "   fator_capacidade_inss  fator_capacidade_beneficio  opcao_bua  saque_bua  \\\n",
       "0                   0.98                      2.2177        0.0        0.0   \n",
       "\n",
       "   idade_inicio_contrib_inss_mas  idade_inicio_contrib_inss_fem  \\\n",
       "0                             18                             18   \n",
       "\n",
       "   idade_aposent_fundacao_mas  idade_aposent_fundacao_fem  \\\n",
       "0                          53                          48   \n",
       "\n",
       "   tempo_contrib_inss_mas  tempo_contrib_inss_fem  maioridade_plano  \\\n",
       "0                      35                      30                24   \n",
       "\n",
       "   percentual_srb  carencia_aposentadoria   data_bnh data_lei_9876  \\\n",
       "0             0.2                      10 1998-09-23    1999-11-29   \n",
       "\n",
       "  data_media_maiores_salarios  teto_contribuicao_inss  teto_beneficio_inss  \\\n",
       "0                  1999-07-31                 5189.82              5078.94   \n",
       "\n",
       "   salario_minimo  cota_pensao_familiar  prob_aposentado_casado_mas  \\\n",
       "0           880.0                   0.8                        0.85   \n",
       "\n",
       "   prob_aposentado_casado_fem  dif_idade_conjuge_mas  dif_idade_conjuge_fem  \\\n",
       "0                         0.6                      5                      2   \n",
       "\n",
       "   lx_inicial  \n",
       "0    10000000  "
      ]
     },
     "execution_count": 93,
     "metadata": {},
     "output_type": "execute_result"
    }
   ],
   "source": [
    "df_avaliacao"
   ]
  },
  {
   "cell_type": "markdown",
   "metadata": {},
   "source": [
    "# participante"
   ]
  },
  {
   "cell_type": "code",
   "execution_count": 95,
   "metadata": {
    "collapsed": true
   },
   "outputs": [],
   "source": [
    "if 'df_partic_db' in locals():\n",
    "    del(df_partic_db)\n",
    "\n",
    "date_columns = ['DT_NASCIMENTO', 'DT_OPCAO_BPD', 'DT_ADMISSAO', 'DT_ASSOCIACAO_FUNDACAO']\n",
    "data_type = {'NR_MATRICULA': str, 'matricula_titular': str}\n",
    "\n",
    "df_partic_db = pd.read_csv(\"input_csv/participante.csv\", sep=\";\", decimal=\",\", encoding=\"latin1\", parse_dates = date_columns, dtype = data_type, low_memory = False)"
   ]
  },
  {
   "cell_type": "code",
   "execution_count": 98,
   "metadata": {
    "collapsed": false
   },
   "outputs": [],
   "source": [
    "if 'df_partic_temp' in locals():\n",
    "    del(df_partic_temp)\n",
    "    \n",
    "name_columns = {'ID_PARTICIPANTE': 'id_participante', 'NR_MATRICULA': 'matricula', 'DT_NASCIMENTO': 'data_nascimento_partic', 'IR_SEXO': 'sexo_partic', 'ID_PATROCINADORA': 'patrocinadora',\n",
    "                'CD_ESTADO_CIVIL': 'estado_civil', 'DT_ADMISSAO': 'data_admissao', 'DT_ASSOCIACAO_FUNDACAO': 'data_associacao', 'PC_BENEFICIO_ESPECIAL': 'pbe', 'FL_DEFICIENTE': 'deficiente',\n",
    "                'NR_MATRICULA_TITULAR': 'matricula_titular', 'FL_MIGRADO': 'migrado'}\n",
    "drop_columns = ['CD_SITUACAO_PATROC', 'DS_ESTADO_CIVIL', 'DT_OPCAO_BPD']\n",
    "# df_partic2 = df_partic1.rename(columns= nomes_colunas).drop(['CD_SITUACAO_PATROC', 'DS_ESTADO_CIVIL', 'DT_OPCAO_BPD'], axis= 1)\n",
    "df_partic_temp = df_partic_db.rename(columns= name_columns).drop(drop_columns, axis= 1)"
   ]
  },
  {
   "cell_type": "code",
   "execution_count": 99,
   "metadata": {
    "collapsed": true
   },
   "outputs": [],
   "source": [
    "df_partic_temp.deficiente = list(map(tools.convertToBoolean, df_partic_temp.deficiente))\n",
    "df_partic_temp.migrado = df_partic_temp.migrado.map(tools.convertToBoolean)\n",
    "df_partic_temp.pbe = df_partic_temp.pbe.map(tools.convertToPercent)"
   ]
  },
  {
   "cell_type": "markdown",
   "metadata": {},
   "source": [
    "# plano de beneficios"
   ]
  },
  {
   "cell_type": "code",
   "execution_count": 100,
   "metadata": {
    "collapsed": true
   },
   "outputs": [],
   "source": [
    "if 'df_plano_db' in locals():\n",
    "    del(df_plano_db)\n",
    "    \n",
    "date_columns = ['DT_ADESAO']\n",
    "df_plano_db = pd.read_csv(\"input_csv/plano_beneficio.csv\", sep=\";\", decimal=\",\", parse_dates = date_columns)"
   ]
  },
  {
   "cell_type": "code",
   "execution_count": 101,
   "metadata": {
    "collapsed": true
   },
   "outputs": [],
   "source": [
    "if 'df_plano_tmp' in locals():\n",
    "    del(df_plano_tmp)\n",
    "    \n",
    "name_columns = {'ID_PARTICIPANTE': 'id_participante', 'DT_ADESAO': 'data_adesao', 'VL_SLD_SUBCONTA_PARTICIPANTE': 'saldo_conta_partic', 'VL_SLD_SUBCONTA_PATROCINADORA': 'saldo_conta_patroc',\n",
    "                'VL_RESERVA_BPD': 'reserva_bpd', 'VL_SALDO_PORTADO': 'saldo_portado', 'VL_BEN_SALDADO_INICIAL': 'beneficio_saldado', 'VL_SALARIO_PARTICIPACAO': 'salario_participacao',\n",
    "                'PC_CONTRIBUICAO_PARTICIPANTE': 'contribuicao_partic', 'PC_CONTRIBUICAO_PATROCINADORA': 'contribuicao_patroc'}\n",
    "df_plano_tmp = df_plano_db.rename(columns= name_columns)"
   ]
  },
  {
   "cell_type": "code",
   "execution_count": 102,
   "metadata": {
    "collapsed": true
   },
   "outputs": [],
   "source": [
    "df_plano_tmp.contribuicao_partic = df_plano_tmp.contribuicao_partic.map(tools.convertToPercent)\n",
    "df_plano_tmp.contribuicao_patroc = df_plano_tmp.contribuicao_patroc.map(tools.convertToPercent)"
   ]
  },
  {
   "cell_type": "markdown",
   "metadata": {},
   "source": [
    "# beneficio inss"
   ]
  },
  {
   "cell_type": "code",
   "execution_count": 103,
   "metadata": {
    "collapsed": true
   },
   "outputs": [],
   "source": [
    "if 'df_benef_inss_db' in locals():\n",
    "    del(df_benef_inss_db)\n",
    "\n",
    "date_columns = ['DT_INICIO_BENEFICIO']\n",
    "df_benef_inss_db = pd.read_csv(\"input_csv/beneficio_inss.csv\", sep=\";\", decimal=\",\", parse_dates = date_columns)"
   ]
  },
  {
   "cell_type": "code",
   "execution_count": 104,
   "metadata": {
    "collapsed": true
   },
   "outputs": [],
   "source": [
    "if 'df_benef_inss_tmp' in locals():\n",
    "    del(df_benef_inss_tmp)\n",
    "    \n",
    "name_columns = {'ID_PARTICIPANTE': 'id_participante', 'DT_INICIO_BENEFICIO': 'dib_inss', 'VL_VALOR': 'valor_beneficio_inss'}\n",
    "df_benef_inss_tmp = df_benef_inss_db.rename(columns = name_columns)"
   ]
  },
  {
   "cell_type": "markdown",
   "metadata": {},
   "source": [
    "# beneficio previdencia"
   ]
  },
  {
   "cell_type": "code",
   "execution_count": 105,
   "metadata": {
    "collapsed": true
   },
   "outputs": [],
   "source": [
    "if 'df_benef_prev_db' in locals():\n",
    "    del(df_benef_prev_db)\n",
    "\n",
    "date_columns = ['DT_INICIO_BENEFICIO']\n",
    "df_benef_prev_db = pd.read_csv(\"input_csv/beneficio_funcef.csv\", sep=\";\", decimal=\",\", encoding=\"latin1\", parse_dates= date_columns)"
   ]
  },
  {
   "cell_type": "code",
   "execution_count": 106,
   "metadata": {
    "collapsed": true
   },
   "outputs": [],
   "source": [
    "if 'df_benef_prev_tmp' in locals():\n",
    "    del(df_benef_prev_tmp)\n",
    "    \n",
    "name_columns = {'ID_PARTICIPANTE': 'id_participante', 'IDBENEFICIO': 'beneficio', 'VL_VALOR': 'valor_beneficio_funcef', 'DT_INICIO_BENEFICIO': 'dib_funcef'}\n",
    "drop_columns = ['NOME']\n",
    "df_benef_prev_tmp = df_benef_prev_db.rename(columns= name_columns).drop(drop_columns, axis= 1)"
   ]
  },
  {
   "cell_type": "code",
   "execution_count": 107,
   "metadata": {
    "collapsed": true
   },
   "outputs": [],
   "source": [
    "df_benef_prev_tmp['tipo_beneficio'] = df_benef_prev_tmp.beneficio.map(tools.convertToTipoBeneficio)\n",
    "df_benef_prev_tmp = df_benef_prev_tmp[df_benef_prev_tmp.tipo_beneficio != 0]\n",
    "drop_columns = ['beneficio']\n",
    "df_benef_prev_tmp = df_benef_prev_tmp.drop(drop_columns, axis = 1)"
   ]
  },
  {
   "cell_type": "markdown",
   "metadata": {},
   "source": [
    "# dependentes"
   ]
  },
  {
   "cell_type": "code",
   "execution_count": 108,
   "metadata": {
    "collapsed": true
   },
   "outputs": [],
   "source": [
    "if 'df_depend_db' in locals():\n",
    "    del(df_depend_db)\n",
    "    \n",
    "date_columns = ['DT_NASCIMENTO']\n",
    "df_depend_db = pd.read_csv(\"input_csv/dependente.csv\", sep=\";\", decimal=\",\", encoding=\"latin1\", parse_dates= date_columns)"
   ]
  },
  {
   "cell_type": "code",
   "execution_count": 109,
   "metadata": {
    "collapsed": true
   },
   "outputs": [],
   "source": [
    "if 'df_depend_tmp' in locals():\n",
    "    del(df_depend_tmp)\n",
    "\n",
    "# nomes_colunas = {'ID_PARTICIPANTE': 'id_participante', 'CD_GRAU_DEPENDENCIA': 'parentesco', 'DT_NASCIMENTO': 'data_nascimento', 'IR_SEXO': 'sexo', 'FL_INVALIDO': 'invalido'}\n",
    "name_columns = {'ID_PARTICIPANTE': 'id_participante', 'CD_GRAU_DEPENDENCIA': 'parentesco', 'FL_INVALIDO': 'invalido'}\n",
    "drop_columns = ['FL_DESIGNADO_RESGATE', 'FL_DEPENDENTE_LEGAL']\n",
    "df_depend_tmp = df_depend_db.rename(columns= name_columns).drop(drop_columns, axis=1)"
   ]
  },
  {
   "cell_type": "code",
   "execution_count": 110,
   "metadata": {
    "collapsed": true
   },
   "outputs": [],
   "source": [
    "df_depend_tmp.invalido = df_depend_tmp.invalido.map(tools.convertToBoolean)"
   ]
  },
  {
   "cell_type": "markdown",
   "metadata": {},
   "source": [
    "# dependente valido (conjuge)"
   ]
  },
  {
   "cell_type": "code",
   "execution_count": 112,
   "metadata": {
    "collapsed": false
   },
   "outputs": [],
   "source": [
    "if 'df_depend_valido_tmp' in locals():\n",
    "    del(df_depend_valido_tmp)\n",
    "    \n",
    "df_depend_valido_tmp = df_depend_tmp[(df_depend_tmp.parentesco == 'COM') & (df_depend_tmp.invalido == False)]\n",
    "\n",
    "name_columns = {'IR_SEXO': 'sexo_depend_valido', 'DT_NASCIMENTO': 'data_nascimento_depend_valido'}\n",
    "drop_columns = ['parentesco', 'invalido']\n",
    "\n",
    "df_depend_valido_tmp = df_depend_valido_tmp.rename(columns = name_columns).drop(drop_columns, axis = 1)"
   ]
  },
  {
   "cell_type": "markdown",
   "metadata": {},
   "source": [
    "# dependente temporario (filho menor idade valido)"
   ]
  },
  {
   "cell_type": "code",
   "execution_count": 113,
   "metadata": {
    "collapsed": true
   },
   "outputs": [],
   "source": [
    "if 'df_depend_temporario_tmp' in locals():\n",
    "    del(df_depend_temporario_tmp)\n",
    "    \n",
    "df_depend_temporario_tmp = df_depend_tmp[(df_depend_tmp.parentesco == 'FIL') & (df_depend_tmp.invalido == False)]\n",
    "\n",
    "name_columns = {'IR_SEXO': 'sexo_depend_temporario', 'DT_NASCIMENTO': 'data_nascimento_depend_temporario'}\n",
    "drop_columns = ['parentesco', 'invalido']\n",
    "\n",
    "df_depend_temporario_tmp = df_depend_temporario_tmp.rename(columns = name_columns).drop(drop_columns, axis = 1)"
   ]
  },
  {
   "cell_type": "markdown",
   "metadata": {},
   "source": [
    "# dependente invalido (conjuge invalido ou filho invalido)"
   ]
  },
  {
   "cell_type": "code",
   "execution_count": 115,
   "metadata": {
    "collapsed": false
   },
   "outputs": [],
   "source": [
    "if 'df_depend_invalido_tmp' in locals():\n",
    "    del(df_depend_invalido_tmp)\n",
    "\n",
    "df_depend_invalido_tmp = df_depend_tmp[df_depend_tmp.invalido == True]\n",
    "\n",
    "name_columns = {'IR_SEXO': 'sexo_depend_invalido', 'DT_NASCIMENTO': 'data_nascimento_depend_invalido'}\n",
    "drop_columns = ['parentesco', 'invalido']\n",
    "\n",
    "df_depend_invalido_tmp = df_depend_invalido_tmp.rename(columns = name_columns).drop(drop_columns, axis = 1)"
   ]
  },
  {
   "cell_type": "markdown",
   "metadata": {},
   "source": [
    "# join: participante + plano"
   ]
  },
  {
   "cell_type": "code",
   "execution_count": 121,
   "metadata": {
    "collapsed": true
   },
   "outputs": [],
   "source": [
    "if 'df_participante' in locals():\n",
    "    del(df_participante)\n",
    "    \n",
    "if len(df_partic_temp) == len(df_plano_tmp):\n",
    "    df_participante = pd.merge(df_partic_temp, df_plano_tmp, how='inner', on='id_participante')"
   ]
  },
  {
   "cell_type": "code",
   "execution_count": 123,
   "metadata": {
    "collapsed": false
   },
   "outputs": [],
   "source": [
    "if 'df_participante' in locals():\n",
    "    if len(df_participante) == len(df_partic_temp):\n",
    "        df_participante = pd.merge(df_participante, df_benef_inss_tmp, how='left', on='id_participante')\n",
    "        df_participante = pd.merge(df_participante, df_benef_prev_tmp, how='left', on='id_participante')\n",
    "        df_participante = pd.merge(df_participante, df_depend_valido_tmp, how='left', on='id_participante')\n",
    "        df_participante = pd.merge(df_participante, df_depend_temporario_tmp, how='left', on='id_participante')\n",
    "        df_participante = pd.merge(df_participante, df_depend_invalido_tmp, how='left', on='id_participante')"
   ]
  },
  {
   "cell_type": "code",
   "execution_count": 125,
   "metadata": {
    "collapsed": false
   },
   "outputs": [
    {
     "data": {
      "text/plain": [
       "id_participante                               int64\n",
       "matricula                                    object\n",
       "data_nascimento_partic               datetime64[ns]\n",
       "sexo_partic                                  object\n",
       "patrocinadora                                 int64\n",
       "estado_civil                                 object\n",
       "data_admissao                        datetime64[ns]\n",
       "data_associacao                      datetime64[ns]\n",
       "pbe                                         float64\n",
       "deficiente                                     bool\n",
       "matricula_titular                            object\n",
       "migrado                                        bool\n",
       "data_adesao                          datetime64[ns]\n",
       "saldo_conta_partic                          float64\n",
       "saldo_conta_patroc                          float64\n",
       "reserva_bpd                                 float64\n",
       "saldo_portado                               float64\n",
       "beneficio_saldado                           float64\n",
       "salario_participacao                        float64\n",
       "CD_SITUACAO_FUNDACAO                          int64\n",
       "contribuicao_partic                         float64\n",
       "contribuicao_patroc                         float64\n",
       "dib_inss                             datetime64[ns]\n",
       "valor_beneficio_inss                        float64\n",
       "valor_beneficio_funcef                      float64\n",
       "dib_funcef                           datetime64[ns]\n",
       "tipo_beneficio                              float64\n",
       "data_nascimento_depend_valido        datetime64[ns]\n",
       "sexo_depend_valido                           object\n",
       "data_nascimento_depend_temporario    datetime64[ns]\n",
       "sexo_depend_temporario                       object\n",
       "data_nascimento_depend_invalido      datetime64[ns]\n",
       "sexo_depend_invalido                         object\n",
       "dtype: object"
      ]
     },
     "execution_count": 125,
     "metadata": {},
     "output_type": "execute_result"
    }
   ],
   "source": [
    "df_participante.dtypes"
   ]
  },
  {
   "cell_type": "code",
   "execution_count": 126,
   "metadata": {
    "collapsed": false
   },
   "outputs": [
    {
     "data": {
      "text/html": [
       "<div>\n",
       "<table border=\"1\" class=\"dataframe\">\n",
       "  <thead>\n",
       "    <tr style=\"text-align: right;\">\n",
       "      <th></th>\n",
       "      <th>id_participante</th>\n",
       "      <th>matricula</th>\n",
       "      <th>data_nascimento_partic</th>\n",
       "      <th>sexo_partic</th>\n",
       "      <th>patrocinadora</th>\n",
       "      <th>estado_civil</th>\n",
       "      <th>data_admissao</th>\n",
       "      <th>data_associacao</th>\n",
       "      <th>pbe</th>\n",
       "      <th>deficiente</th>\n",
       "      <th>matricula_titular</th>\n",
       "      <th>migrado</th>\n",
       "      <th>data_adesao</th>\n",
       "      <th>saldo_conta_partic</th>\n",
       "      <th>saldo_conta_patroc</th>\n",
       "      <th>reserva_bpd</th>\n",
       "      <th>saldo_portado</th>\n",
       "      <th>beneficio_saldado</th>\n",
       "      <th>salario_participacao</th>\n",
       "      <th>CD_SITUACAO_FUNDACAO</th>\n",
       "      <th>contribuicao_partic</th>\n",
       "      <th>contribuicao_patroc</th>\n",
       "      <th>dib_inss</th>\n",
       "      <th>valor_beneficio_inss</th>\n",
       "      <th>valor_beneficio_funcef</th>\n",
       "      <th>dib_funcef</th>\n",
       "      <th>tipo_beneficio</th>\n",
       "      <th>data_nascimento_depend_valido</th>\n",
       "      <th>sexo_depend_valido</th>\n",
       "      <th>data_nascimento_depend_temporario</th>\n",
       "      <th>sexo_depend_temporario</th>\n",
       "      <th>data_nascimento_depend_invalido</th>\n",
       "      <th>sexo_depend_invalido</th>\n",
       "    </tr>\n",
       "  </thead>\n",
       "  <tbody>\n",
       "    <tr>\n",
       "      <th>0</th>\n",
       "      <td>10036696</td>\n",
       "      <td>0000017</td>\n",
       "      <td>1958-04-09</td>\n",
       "      <td>M</td>\n",
       "      <td>91008</td>\n",
       "      <td>C</td>\n",
       "      <td>1983-02-21</td>\n",
       "      <td>1983-02-21</td>\n",
       "      <td>0.0</td>\n",
       "      <td>False</td>\n",
       "      <td>NaN</td>\n",
       "      <td>False</td>\n",
       "      <td>2006-01-09</td>\n",
       "      <td>131686.86</td>\n",
       "      <td>129553.83</td>\n",
       "      <td>0.0</td>\n",
       "      <td>0.0</td>\n",
       "      <td>1925.46</td>\n",
       "      <td>13574.57</td>\n",
       "      <td>1</td>\n",
       "      <td>0.1200</td>\n",
       "      <td>0.1200</td>\n",
       "      <td>NaT</td>\n",
       "      <td>NaN</td>\n",
       "      <td>NaN</td>\n",
       "      <td>NaT</td>\n",
       "      <td>NaN</td>\n",
       "      <td>1960-09-15</td>\n",
       "      <td>F</td>\n",
       "      <td>1994-08-19</td>\n",
       "      <td>M</td>\n",
       "      <td>NaT</td>\n",
       "      <td>NaN</td>\n",
       "    </tr>\n",
       "    <tr>\n",
       "      <th>1</th>\n",
       "      <td>10036697</td>\n",
       "      <td>0000030</td>\n",
       "      <td>1961-04-02</td>\n",
       "      <td>F</td>\n",
       "      <td>91008</td>\n",
       "      <td>C</td>\n",
       "      <td>1983-10-02</td>\n",
       "      <td>1983-10-02</td>\n",
       "      <td>0.0</td>\n",
       "      <td>False</td>\n",
       "      <td>NaN</td>\n",
       "      <td>False</td>\n",
       "      <td>2006-01-09</td>\n",
       "      <td>144031.70</td>\n",
       "      <td>138926.83</td>\n",
       "      <td>0.0</td>\n",
       "      <td>0.0</td>\n",
       "      <td>4109.00</td>\n",
       "      <td>21851.89</td>\n",
       "      <td>1</td>\n",
       "      <td>0.0536</td>\n",
       "      <td>0.0536</td>\n",
       "      <td>NaT</td>\n",
       "      <td>NaN</td>\n",
       "      <td>NaN</td>\n",
       "      <td>NaT</td>\n",
       "      <td>NaN</td>\n",
       "      <td>NaT</td>\n",
       "      <td>NaN</td>\n",
       "      <td>NaT</td>\n",
       "      <td>NaN</td>\n",
       "      <td>NaT</td>\n",
       "      <td>NaN</td>\n",
       "    </tr>\n",
       "    <tr>\n",
       "      <th>2</th>\n",
       "      <td>10036698</td>\n",
       "      <td>0000129</td>\n",
       "      <td>1959-12-17</td>\n",
       "      <td>M</td>\n",
       "      <td>91008</td>\n",
       "      <td>C</td>\n",
       "      <td>1983-02-16</td>\n",
       "      <td>1983-02-16</td>\n",
       "      <td>0.0</td>\n",
       "      <td>False</td>\n",
       "      <td>NaN</td>\n",
       "      <td>False</td>\n",
       "      <td>2006-01-09</td>\n",
       "      <td>124043.99</td>\n",
       "      <td>121493.24</td>\n",
       "      <td>0.0</td>\n",
       "      <td>0.0</td>\n",
       "      <td>3519.18</td>\n",
       "      <td>13432.95</td>\n",
       "      <td>1</td>\n",
       "      <td>0.1200</td>\n",
       "      <td>0.1200</td>\n",
       "      <td>NaT</td>\n",
       "      <td>NaN</td>\n",
       "      <td>NaN</td>\n",
       "      <td>NaT</td>\n",
       "      <td>NaN</td>\n",
       "      <td>1962-12-19</td>\n",
       "      <td>F</td>\n",
       "      <td>1993-05-04</td>\n",
       "      <td>M</td>\n",
       "      <td>NaT</td>\n",
       "      <td>NaN</td>\n",
       "    </tr>\n",
       "    <tr>\n",
       "      <th>3</th>\n",
       "      <td>10036699</td>\n",
       "      <td>0000135</td>\n",
       "      <td>1958-02-09</td>\n",
       "      <td>M</td>\n",
       "      <td>91008</td>\n",
       "      <td>C</td>\n",
       "      <td>1983-02-16</td>\n",
       "      <td>1983-02-16</td>\n",
       "      <td>0.0</td>\n",
       "      <td>False</td>\n",
       "      <td>NaN</td>\n",
       "      <td>False</td>\n",
       "      <td>2006-01-09</td>\n",
       "      <td>152490.91</td>\n",
       "      <td>149994.91</td>\n",
       "      <td>0.0</td>\n",
       "      <td>0.0</td>\n",
       "      <td>2915.02</td>\n",
       "      <td>13448.68</td>\n",
       "      <td>1</td>\n",
       "      <td>0.1200</td>\n",
       "      <td>0.1200</td>\n",
       "      <td>NaT</td>\n",
       "      <td>NaN</td>\n",
       "      <td>NaN</td>\n",
       "      <td>NaT</td>\n",
       "      <td>NaN</td>\n",
       "      <td>1962-06-10</td>\n",
       "      <td>F</td>\n",
       "      <td>1997-03-07</td>\n",
       "      <td>M</td>\n",
       "      <td>NaT</td>\n",
       "      <td>NaN</td>\n",
       "    </tr>\n",
       "    <tr>\n",
       "      <th>4</th>\n",
       "      <td>10036700</td>\n",
       "      <td>0000170</td>\n",
       "      <td>1959-04-11</td>\n",
       "      <td>M</td>\n",
       "      <td>91008</td>\n",
       "      <td>D</td>\n",
       "      <td>1983-02-16</td>\n",
       "      <td>1983-02-16</td>\n",
       "      <td>0.0</td>\n",
       "      <td>False</td>\n",
       "      <td>NaN</td>\n",
       "      <td>False</td>\n",
       "      <td>2006-01-09</td>\n",
       "      <td>145427.77</td>\n",
       "      <td>142346.31</td>\n",
       "      <td>0.0</td>\n",
       "      <td>0.0</td>\n",
       "      <td>2742.64</td>\n",
       "      <td>15057.81</td>\n",
       "      <td>1</td>\n",
       "      <td>0.0500</td>\n",
       "      <td>0.0500</td>\n",
       "      <td>NaT</td>\n",
       "      <td>NaN</td>\n",
       "      <td>NaN</td>\n",
       "      <td>NaT</td>\n",
       "      <td>NaN</td>\n",
       "      <td>1981-11-04</td>\n",
       "      <td>F</td>\n",
       "      <td>2007-05-21</td>\n",
       "      <td>M</td>\n",
       "      <td>NaT</td>\n",
       "      <td>NaN</td>\n",
       "    </tr>\n",
       "  </tbody>\n",
       "</table>\n",
       "</div>"
      ],
      "text/plain": [
       "   id_participante matricula data_nascimento_partic sexo_partic  \\\n",
       "0         10036696   0000017             1958-04-09           M   \n",
       "1         10036697   0000030             1961-04-02           F   \n",
       "2         10036698   0000129             1959-12-17           M   \n",
       "3         10036699   0000135             1958-02-09           M   \n",
       "4         10036700   0000170             1959-04-11           M   \n",
       "\n",
       "   patrocinadora estado_civil data_admissao data_associacao  pbe deficiente  \\\n",
       "0          91008            C    1983-02-21      1983-02-21  0.0      False   \n",
       "1          91008            C    1983-10-02      1983-10-02  0.0      False   \n",
       "2          91008            C    1983-02-16      1983-02-16  0.0      False   \n",
       "3          91008            C    1983-02-16      1983-02-16  0.0      False   \n",
       "4          91008            D    1983-02-16      1983-02-16  0.0      False   \n",
       "\n",
       "  matricula_titular migrado data_adesao  saldo_conta_partic  \\\n",
       "0               NaN   False  2006-01-09           131686.86   \n",
       "1               NaN   False  2006-01-09           144031.70   \n",
       "2               NaN   False  2006-01-09           124043.99   \n",
       "3               NaN   False  2006-01-09           152490.91   \n",
       "4               NaN   False  2006-01-09           145427.77   \n",
       "\n",
       "   saldo_conta_patroc  reserva_bpd  saldo_portado  beneficio_saldado  \\\n",
       "0           129553.83          0.0            0.0            1925.46   \n",
       "1           138926.83          0.0            0.0            4109.00   \n",
       "2           121493.24          0.0            0.0            3519.18   \n",
       "3           149994.91          0.0            0.0            2915.02   \n",
       "4           142346.31          0.0            0.0            2742.64   \n",
       "\n",
       "   salario_participacao  CD_SITUACAO_FUNDACAO  contribuicao_partic  \\\n",
       "0              13574.57                     1               0.1200   \n",
       "1              21851.89                     1               0.0536   \n",
       "2              13432.95                     1               0.1200   \n",
       "3              13448.68                     1               0.1200   \n",
       "4              15057.81                     1               0.0500   \n",
       "\n",
       "   contribuicao_patroc dib_inss  valor_beneficio_inss  valor_beneficio_funcef  \\\n",
       "0               0.1200      NaT                   NaN                     NaN   \n",
       "1               0.0536      NaT                   NaN                     NaN   \n",
       "2               0.1200      NaT                   NaN                     NaN   \n",
       "3               0.1200      NaT                   NaN                     NaN   \n",
       "4               0.0500      NaT                   NaN                     NaN   \n",
       "\n",
       "  dib_funcef  tipo_beneficio data_nascimento_depend_valido sexo_depend_valido  \\\n",
       "0        NaT             NaN                    1960-09-15                  F   \n",
       "1        NaT             NaN                           NaT                NaN   \n",
       "2        NaT             NaN                    1962-12-19                  F   \n",
       "3        NaT             NaN                    1962-06-10                  F   \n",
       "4        NaT             NaN                    1981-11-04                  F   \n",
       "\n",
       "  data_nascimento_depend_temporario sexo_depend_temporario  \\\n",
       "0                        1994-08-19                      M   \n",
       "1                               NaT                    NaN   \n",
       "2                        1993-05-04                      M   \n",
       "3                        1997-03-07                      M   \n",
       "4                        2007-05-21                      M   \n",
       "\n",
       "  data_nascimento_depend_invalido sexo_depend_invalido  \n",
       "0                             NaT                  NaN  \n",
       "1                             NaT                  NaN  \n",
       "2                             NaT                  NaN  \n",
       "3                             NaT                  NaN  \n",
       "4                             NaT                  NaN  "
      ]
     },
     "execution_count": 126,
     "metadata": {},
     "output_type": "execute_result"
    }
   ],
   "source": [
    "df_participante.head()"
   ]
  },
  {
   "cell_type": "code",
   "execution_count": 127,
   "metadata": {
    "collapsed": false
   },
   "outputs": [
    {
     "data": {
      "text/html": [
       "<div>\n",
       "<table border=\"1\" class=\"dataframe\">\n",
       "  <thead>\n",
       "    <tr style=\"text-align: right;\">\n",
       "      <th></th>\n",
       "      <th>id_participante</th>\n",
       "      <th>matricula</th>\n",
       "      <th>data_nascimento_partic</th>\n",
       "      <th>sexo_partic</th>\n",
       "      <th>patrocinadora</th>\n",
       "      <th>estado_civil</th>\n",
       "      <th>data_admissao</th>\n",
       "      <th>data_associacao</th>\n",
       "      <th>pbe</th>\n",
       "      <th>deficiente</th>\n",
       "      <th>matricula_titular</th>\n",
       "      <th>migrado</th>\n",
       "      <th>data_adesao</th>\n",
       "      <th>saldo_conta_partic</th>\n",
       "      <th>saldo_conta_patroc</th>\n",
       "      <th>reserva_bpd</th>\n",
       "      <th>saldo_portado</th>\n",
       "      <th>beneficio_saldado</th>\n",
       "      <th>salario_participacao</th>\n",
       "      <th>CD_SITUACAO_FUNDACAO</th>\n",
       "      <th>contribuicao_partic</th>\n",
       "      <th>contribuicao_patroc</th>\n",
       "      <th>dib_inss</th>\n",
       "      <th>valor_beneficio_inss</th>\n",
       "      <th>valor_beneficio_funcef</th>\n",
       "      <th>dib_funcef</th>\n",
       "      <th>tipo_beneficio</th>\n",
       "      <th>data_nascimento_depend_valido</th>\n",
       "      <th>sexo_depend_valido</th>\n",
       "      <th>data_nascimento_depend_temporario</th>\n",
       "      <th>sexo_depend_temporario</th>\n",
       "      <th>data_nascimento_depend_invalido</th>\n",
       "      <th>sexo_depend_invalido</th>\n",
       "    </tr>\n",
       "  </thead>\n",
       "  <tbody>\n",
       "    <tr>\n",
       "      <th>91505</th>\n",
       "      <td>10128201</td>\n",
       "      <td>9776825</td>\n",
       "      <td>2003-04-20</td>\n",
       "      <td>F</td>\n",
       "      <td>91008</td>\n",
       "      <td>S</td>\n",
       "      <td>2000-04-12</td>\n",
       "      <td>2007-05-09</td>\n",
       "      <td>0.0</td>\n",
       "      <td>False</td>\n",
       "      <td>0546710</td>\n",
       "      <td>False</td>\n",
       "      <td>2007-05-09</td>\n",
       "      <td>0.0</td>\n",
       "      <td>0.0</td>\n",
       "      <td>0.0</td>\n",
       "      <td>0.0</td>\n",
       "      <td>0.0</td>\n",
       "      <td>0.0</td>\n",
       "      <td>26</td>\n",
       "      <td>0.0</td>\n",
       "      <td>0.0</td>\n",
       "      <td>NaT</td>\n",
       "      <td>NaN</td>\n",
       "      <td>47.90</td>\n",
       "      <td>2016-03-11</td>\n",
       "      <td>4.0</td>\n",
       "      <td>NaT</td>\n",
       "      <td>NaN</td>\n",
       "      <td>NaT</td>\n",
       "      <td>NaN</td>\n",
       "      <td>NaT</td>\n",
       "      <td>NaN</td>\n",
       "    </tr>\n",
       "    <tr>\n",
       "      <th>91506</th>\n",
       "      <td>10128202</td>\n",
       "      <td>9776831</td>\n",
       "      <td>2005-05-10</td>\n",
       "      <td>F</td>\n",
       "      <td>91008</td>\n",
       "      <td>S</td>\n",
       "      <td>2000-04-12</td>\n",
       "      <td>2007-05-09</td>\n",
       "      <td>0.0</td>\n",
       "      <td>False</td>\n",
       "      <td>0546710</td>\n",
       "      <td>False</td>\n",
       "      <td>2007-05-09</td>\n",
       "      <td>0.0</td>\n",
       "      <td>0.0</td>\n",
       "      <td>0.0</td>\n",
       "      <td>0.0</td>\n",
       "      <td>0.0</td>\n",
       "      <td>0.0</td>\n",
       "      <td>26</td>\n",
       "      <td>0.0</td>\n",
       "      <td>0.0</td>\n",
       "      <td>NaT</td>\n",
       "      <td>NaN</td>\n",
       "      <td>47.90</td>\n",
       "      <td>2016-03-11</td>\n",
       "      <td>4.0</td>\n",
       "      <td>NaT</td>\n",
       "      <td>NaN</td>\n",
       "      <td>NaT</td>\n",
       "      <td>NaN</td>\n",
       "      <td>NaT</td>\n",
       "      <td>NaN</td>\n",
       "    </tr>\n",
       "    <tr>\n",
       "      <th>91507</th>\n",
       "      <td>10128203</td>\n",
       "      <td>9776860</td>\n",
       "      <td>2001-07-03</td>\n",
       "      <td>F</td>\n",
       "      <td>91008</td>\n",
       "      <td>S</td>\n",
       "      <td>2002-02-05</td>\n",
       "      <td>2002-01-06</td>\n",
       "      <td>0.0</td>\n",
       "      <td>False</td>\n",
       "      <td>0642661</td>\n",
       "      <td>False</td>\n",
       "      <td>2012-09-04</td>\n",
       "      <td>0.0</td>\n",
       "      <td>0.0</td>\n",
       "      <td>0.0</td>\n",
       "      <td>0.0</td>\n",
       "      <td>0.0</td>\n",
       "      <td>0.0</td>\n",
       "      <td>26</td>\n",
       "      <td>0.0</td>\n",
       "      <td>0.0</td>\n",
       "      <td>NaT</td>\n",
       "      <td>NaN</td>\n",
       "      <td>3955.97</td>\n",
       "      <td>2016-10-23</td>\n",
       "      <td>4.0</td>\n",
       "      <td>NaT</td>\n",
       "      <td>NaN</td>\n",
       "      <td>NaT</td>\n",
       "      <td>NaN</td>\n",
       "      <td>NaT</td>\n",
       "      <td>NaN</td>\n",
       "    </tr>\n",
       "    <tr>\n",
       "      <th>91508</th>\n",
       "      <td>10128204</td>\n",
       "      <td>9776908</td>\n",
       "      <td>2001-08-14</td>\n",
       "      <td>M</td>\n",
       "      <td>91008</td>\n",
       "      <td>S</td>\n",
       "      <td>1989-08-05</td>\n",
       "      <td>1989-08-05</td>\n",
       "      <td>0.0</td>\n",
       "      <td>False</td>\n",
       "      <td>0269630</td>\n",
       "      <td>True</td>\n",
       "      <td>2006-01-09</td>\n",
       "      <td>0.0</td>\n",
       "      <td>0.0</td>\n",
       "      <td>0.0</td>\n",
       "      <td>0.0</td>\n",
       "      <td>0.0</td>\n",
       "      <td>0.0</td>\n",
       "      <td>26</td>\n",
       "      <td>0.0</td>\n",
       "      <td>0.0</td>\n",
       "      <td>2016-09-27</td>\n",
       "      <td>5029.02</td>\n",
       "      <td>3126.90</td>\n",
       "      <td>2016-09-27</td>\n",
       "      <td>4.0</td>\n",
       "      <td>NaT</td>\n",
       "      <td>NaN</td>\n",
       "      <td>NaT</td>\n",
       "      <td>NaN</td>\n",
       "      <td>NaT</td>\n",
       "      <td>NaN</td>\n",
       "    </tr>\n",
       "    <tr>\n",
       "      <th>91509</th>\n",
       "      <td>10128205</td>\n",
       "      <td>1128459</td>\n",
       "      <td>1967-06-05</td>\n",
       "      <td>F</td>\n",
       "      <td>91008</td>\n",
       "      <td>S</td>\n",
       "      <td>1979-08-20</td>\n",
       "      <td>1979-08-20</td>\n",
       "      <td>0.0</td>\n",
       "      <td>False</td>\n",
       "      <td>3348703</td>\n",
       "      <td>True</td>\n",
       "      <td>2006-01-09</td>\n",
       "      <td>0.0</td>\n",
       "      <td>0.0</td>\n",
       "      <td>0.0</td>\n",
       "      <td>0.0</td>\n",
       "      <td>0.0</td>\n",
       "      <td>0.0</td>\n",
       "      <td>25</td>\n",
       "      <td>0.0</td>\n",
       "      <td>0.0</td>\n",
       "      <td>NaT</td>\n",
       "      <td>NaN</td>\n",
       "      <td>453.24</td>\n",
       "      <td>2016-11-30</td>\n",
       "      <td>4.0</td>\n",
       "      <td>NaT</td>\n",
       "      <td>NaN</td>\n",
       "      <td>NaT</td>\n",
       "      <td>NaN</td>\n",
       "      <td>NaT</td>\n",
       "      <td>NaN</td>\n",
       "    </tr>\n",
       "  </tbody>\n",
       "</table>\n",
       "</div>"
      ],
      "text/plain": [
       "       id_participante matricula data_nascimento_partic sexo_partic  \\\n",
       "91505         10128201   9776825             2003-04-20           F   \n",
       "91506         10128202   9776831             2005-05-10           F   \n",
       "91507         10128203   9776860             2001-07-03           F   \n",
       "91508         10128204   9776908             2001-08-14           M   \n",
       "91509         10128205   1128459             1967-06-05           F   \n",
       "\n",
       "       patrocinadora estado_civil data_admissao data_associacao  pbe  \\\n",
       "91505          91008            S    2000-04-12      2007-05-09  0.0   \n",
       "91506          91008            S    2000-04-12      2007-05-09  0.0   \n",
       "91507          91008            S    2002-02-05      2002-01-06  0.0   \n",
       "91508          91008            S    1989-08-05      1989-08-05  0.0   \n",
       "91509          91008            S    1979-08-20      1979-08-20  0.0   \n",
       "\n",
       "      deficiente matricula_titular migrado data_adesao  saldo_conta_partic  \\\n",
       "91505      False           0546710   False  2007-05-09                 0.0   \n",
       "91506      False           0546710   False  2007-05-09                 0.0   \n",
       "91507      False           0642661   False  2012-09-04                 0.0   \n",
       "91508      False           0269630    True  2006-01-09                 0.0   \n",
       "91509      False           3348703    True  2006-01-09                 0.0   \n",
       "\n",
       "       saldo_conta_patroc  reserva_bpd  saldo_portado  beneficio_saldado  \\\n",
       "91505                 0.0          0.0            0.0                0.0   \n",
       "91506                 0.0          0.0            0.0                0.0   \n",
       "91507                 0.0          0.0            0.0                0.0   \n",
       "91508                 0.0          0.0            0.0                0.0   \n",
       "91509                 0.0          0.0            0.0                0.0   \n",
       "\n",
       "       salario_participacao  CD_SITUACAO_FUNDACAO  contribuicao_partic  \\\n",
       "91505                   0.0                    26                  0.0   \n",
       "91506                   0.0                    26                  0.0   \n",
       "91507                   0.0                    26                  0.0   \n",
       "91508                   0.0                    26                  0.0   \n",
       "91509                   0.0                    25                  0.0   \n",
       "\n",
       "       contribuicao_patroc   dib_inss  valor_beneficio_inss  \\\n",
       "91505                  0.0        NaT                   NaN   \n",
       "91506                  0.0        NaT                   NaN   \n",
       "91507                  0.0        NaT                   NaN   \n",
       "91508                  0.0 2016-09-27               5029.02   \n",
       "91509                  0.0        NaT                   NaN   \n",
       "\n",
       "       valor_beneficio_funcef dib_funcef  tipo_beneficio  \\\n",
       "91505                   47.90 2016-03-11             4.0   \n",
       "91506                   47.90 2016-03-11             4.0   \n",
       "91507                 3955.97 2016-10-23             4.0   \n",
       "91508                 3126.90 2016-09-27             4.0   \n",
       "91509                  453.24 2016-11-30             4.0   \n",
       "\n",
       "      data_nascimento_depend_valido sexo_depend_valido  \\\n",
       "91505                           NaT                NaN   \n",
       "91506                           NaT                NaN   \n",
       "91507                           NaT                NaN   \n",
       "91508                           NaT                NaN   \n",
       "91509                           NaT                NaN   \n",
       "\n",
       "      data_nascimento_depend_temporario sexo_depend_temporario  \\\n",
       "91505                               NaT                    NaN   \n",
       "91506                               NaT                    NaN   \n",
       "91507                               NaT                    NaN   \n",
       "91508                               NaT                    NaN   \n",
       "91509                               NaT                    NaN   \n",
       "\n",
       "      data_nascimento_depend_invalido sexo_depend_invalido  \n",
       "91505                             NaT                  NaN  \n",
       "91506                             NaT                  NaN  \n",
       "91507                             NaT                  NaN  \n",
       "91508                             NaT                  NaN  \n",
       "91509                             NaT                  NaN  "
      ]
     },
     "execution_count": 127,
     "metadata": {},
     "output_type": "execute_result"
    }
   ],
   "source": [
    "df_participante.tail()"
   ]
  },
  {
   "cell_type": "code",
   "execution_count": null,
   "metadata": {
    "collapsed": false
   },
   "outputs": [],
   "source": [
    "#df_participantes.valor_beneficio_inss.map(lambda x: if pd.isnull(x)) = [0.00 for x in df_participantes.valor_beneficio_inss if pd.isnull(x)]"
   ]
  },
  {
   "cell_type": "code",
   "execution_count": null,
   "metadata": {
    "collapsed": false
   },
   "outputs": [],
   "source": [
    "[0.00 for x in df_participantes.valor_beneficio_inss if np.isnan(x)]"
   ]
  },
  {
   "cell_type": "code",
   "execution_count": null,
   "metadata": {
    "collapsed": false
   },
   "outputs": [],
   "source": [
    "df_participantes[pd.isnull(df_participantes['valor_beneficio_funcef'])].valor_beneficio_funcef = 0.00"
   ]
  },
  {
   "cell_type": "code",
   "execution_count": null,
   "metadata": {
    "collapsed": false
   },
   "outputs": [],
   "source": [
    "#if len(df_depend_valido) > 0:\n",
    "    #df_participantes['idade_depend_valido'] = list(map(tools.calculateAge, df_depend_valido.data_nascimento, itertools.repeat(df_avaliacao.data_calculo, len(df_depend_valido))))\n",
    "    #df_depend_valido.head(10)\n",
    "#else:\n",
    "    #del(df_depend_valido)\n",
    "    \n",
    "#df_depend_valido = df_depend_valido.drop(['data_nascimento'], axis = 1)"
   ]
  },
  {
   "cell_type": "code",
   "execution_count": null,
   "metadata": {
    "collapsed": true
   },
   "outputs": [],
   "source": [
    "#if len(df_depend_invalido) > 0:\n",
    "    #df_participantes['idade_invalido'] = list(map(tools.calculateAge, df_depend_invalido.data_nascimento_valido, itertools.repeat(df_avaliacao.data_calculo, len(df_depend_invalido))))\n",
    "    #df_depend_invalido.head(10)\n",
    "#else:\n",
    "#    del(df_depend_invalido)\n",
    "\n",
    "#df_depend_invalido = df_depend_invalido.drop(['data_nascimento'], axis = 1)"
   ]
  },
  {
   "cell_type": "code",
   "execution_count": null,
   "metadata": {
    "collapsed": true
   },
   "outputs": [],
   "source": [
    "#if len(df_depend_temporario) > 0:\n",
    "    #df_depend_temporario['idade_temporario'] = list(map(tools.calculateAge, df_depend_temporario.data_nascimento, itertools.repeat(df_avaliacao.data_calculo, len(df_depend_temporario))))\n",
    "    #df_depend_temporario.head(10)\n",
    "#else:\n",
    "#    del(df_depend_temporario)\n",
    "\n",
    "#df_depend_temporario = df_depend_temporario.drop(['data_nascimento'], axis = 1)"
   ]
  },
  {
   "cell_type": "code",
   "execution_count": null,
   "metadata": {
    "collapsed": true
   },
   "outputs": [],
   "source": []
  }
 ],
 "metadata": {
  "anaconda-cloud": {},
  "kernelspec": {
   "display_name": "Python 3",
   "language": "python",
   "name": "python3"
  },
  "language_info": {
   "codemirror_mode": {
    "name": "ipython",
    "version": 3
   },
   "file_extension": ".py",
   "mimetype": "text/x-python",
   "name": "python",
   "nbconvert_exporter": "python",
   "pygments_lexer": "ipython3",
   "version": "3.6.0"
  }
 },
 "nbformat": 4,
 "nbformat_minor": 1
}
