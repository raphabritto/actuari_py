{
 "cells": [
  {
   "cell_type": "code",
   "execution_count": 1,
   "metadata": {
    "collapsed": false
   },
   "outputs": [],
   "source": [
    "# !pip install ggplot"
   ]
  },
  {
   "cell_type": "code",
   "execution_count": 2,
   "metadata": {
    "collapsed": false
   },
   "outputs": [],
   "source": [
    "# !pip install seaborn"
   ]
  },
  {
   "cell_type": "code",
   "execution_count": 3,
   "metadata": {
    "collapsed": false
   },
   "outputs": [],
   "source": [
    "from pandas import read_csv, set_option, merge, DataFrame, isnull, notnull, NaT\n",
    "import numpy as np\n",
    "import tools\n",
    "from itertools import repeat\n",
    "from datetime import date\n",
    "# import IPython\n",
    "import seaborn as sns\n",
    "# from ggplot import *"
   ]
  },
  {
   "cell_type": "code",
   "execution_count": 4,
   "metadata": {
    "collapsed": true
   },
   "outputs": [],
   "source": [
    "%matplotlib inline"
   ]
  },
  {
   "cell_type": "code",
   "execution_count": 5,
   "metadata": {
    "collapsed": false
   },
   "outputs": [],
   "source": [
    "# exibe todas as colunas do dataframe\n",
    "set_option('display.max_columns', None)\n",
    "#pd.set_option('display.max_rows', None)"
   ]
  },
  {
   "cell_type": "markdown",
   "metadata": {},
   "source": [
    "# avaliacao"
   ]
  },
  {
   "cell_type": "code",
   "execution_count": 6,
   "metadata": {
    "collapsed": false
   },
   "outputs": [],
   "source": [
    "if 'df_avaliacao_db' in locals():\n",
    "    del(df_avaliacao_db)\n",
    "\n",
    "date_columns = ['DT_CALCULO', 'DT_REAJUSTE_BENEFICIO']\n",
    "df_avaliacao_db = read_csv(\"input_csv/avaliacao.csv\", sep=\";\", decimal=\",\", parse_dates=date_columns)"
   ]
  },
  {
   "cell_type": "code",
   "execution_count": 7,
   "metadata": {
    "collapsed": true
   },
   "outputs": [],
   "source": [
    "if 'df_avaliacao_tmp'in locals():\n",
    "    del(df_avaliacao_tmp)\n",
    "    \n",
    "name_columns = {'ID_AVALIACAO': 'avaliacao', 'ID_CADASTRO': 'cadastro', 'IDPLANOPREV': 'plano_previdencia', 'ID_PLANO_BENEFICIO': 'plano_beneficio', 'DT_CALCULO': 'data_calculo',\n",
    "                 'DT_REAJUSTE_BENEFICIO': 'data_reajuste_beneficio', 'VL_BENEFICIO_MINIMO': 'beneficio_minimo', 'PC_DESPESA_ADM_PARTICIPANTE': 'despesa_administ_partic',\n",
    "                 'PC_DESPESA_ADM_PATROCINADORA': 'despesa_administ_patroc', 'PC_SAIDA_BPD': 'saida_bpd', 'PC_SAIDA_PORTABILIDADE': 'saida_portabilidade', 'PC_SAIDA_RESGATE': 'saida_resgate',\n",
    "                 'VL_PECULIO_MINIMO_MORTE': 'peculio_minimo_morte', 'PC_PECULIO_MINIMO_MORTE': 'fator_peculio_morte_ativo', 'VL_PECULIO_MORTE_ASSISTIDO': 'fator_peculio_morte_assistido',\n",
    "                 'NR_PAGTOS_BENEF_CONTRIB_ANO': 'numero_contribuicoes_ano', 'PC_FAIXA_01_CONTRIBUICAO': 'faixa_1_contribuicao', 'PC_FAIXA_02_CONTRIBUICAO': 'faixa_2_contribuicao',\n",
    "                 'PC_FAIXA_03_CONTRIBUICAO': 'faixa_3_contribuicao', 'PC_META_CUSTEIO_ADMIN': 'taxa_carregamento_admin', 'PC_TAXA_ADMIN_BENEFICIO': 'taxa_admin_beneficio',\n",
    "                 'PC_TAXA_REAL_CRESC_SALARIAL': 'taxa_cresc_salarial', 'PC_TAXA_REAL_CRESC_BENEFICIO': 'taxa_cresc_beneficio', 'PC_FATOR_VLR_REAL_SALARIO': 'fator_capacidade_salario',\n",
    "                 'PC_FATOR_VLR_REAL_BEN_FUNCEF': 'fator_capacidade_funcef', 'PC_FATOR_VLR_REAL_BEN_INSS': 'fator_capacidade_inss', 'PC_FATOR_REAJ_BENEF_LIQUIDO': 'fator_capacidade_beneficio',\n",
    "                 'PC_OPCAO_BUA': 'opcao_bua', 'PC_SAQUE_BUA': 'saque_bua'}\n",
    "drop_columns = ['DS_PLANO_BENEFICIO', 'FL_CALCULAR_DEMONS_RESULTADO', 'FL_FLUXO_RECEITA_DESPESA_FOLHA', 'FL_MEMORIA_CALCULO', 'CD_COMPOSICAO_FAMILIAR']\n",
    "\n",
    "df_avaliacao_tmp = df_avaliacao_db.rename(columns = name_columns).drop(drop_columns, axis=1)"
   ]
  },
  {
   "cell_type": "code",
   "execution_count": 8,
   "metadata": {
    "collapsed": false
   },
   "outputs": [],
   "source": [
    "df_avaliacao_tmp.despesa_administ_partic = df_avaliacao_tmp.despesa_administ_partic.map(tools.convertToPercent)\n",
    "df_avaliacao_tmp.despesa_administ_patroc = df_avaliacao_tmp.despesa_administ_patroc.map(tools.convertToPercent)\n",
    "df_avaliacao_tmp.saida_bpd = df_avaliacao_tmp.saida_bpd.map(tools.convertToPercent)\n",
    "df_avaliacao_tmp.saida_portabilidade = df_avaliacao_tmp.saida_portabilidade.map(tools.convertToPercent)\n",
    "df_avaliacao_tmp.saida_resgate = df_avaliacao_tmp.saida_resgate.map(tools.convertToPercent)\n",
    "df_avaliacao_tmp.faixa_1_contribuicao = df_avaliacao_tmp.faixa_1_contribuicao.map(tools.convertToPercent)\n",
    "df_avaliacao_tmp.faixa_2_contribuicao = df_avaliacao_tmp.faixa_2_contribuicao.map(tools.convertToPercent)\n",
    "df_avaliacao_tmp.faixa_3_contribuicao = df_avaliacao_tmp.faixa_3_contribuicao.map(tools.convertToPercent)\n",
    "df_avaliacao_tmp.taxa_carregamento_admin = df_avaliacao_tmp.taxa_carregamento_admin.map(tools.convertToPercent)\n",
    "df_avaliacao_tmp.taxa_admin_beneficio = df_avaliacao_tmp.taxa_admin_beneficio.map(tools.convertToPercent)\n",
    "df_avaliacao_tmp.taxa_cresc_salarial = df_avaliacao_tmp.taxa_cresc_salarial.map(tools.convertToPercent)\n",
    "df_avaliacao_tmp.taxa_cresc_beneficio = df_avaliacao_tmp.taxa_cresc_beneficio.map(tools.convertToPercent)\n",
    "df_avaliacao_tmp.fator_capacidade_salario = df_avaliacao_tmp.fator_capacidade_salario.map(tools.convertToPercent)\n",
    "df_avaliacao_tmp.fator_capacidade_funcef = df_avaliacao_tmp.fator_capacidade_funcef.map(tools.convertToPercent)\n",
    "df_avaliacao_tmp.fator_capacidade_inss = df_avaliacao_tmp.fator_capacidade_inss.map(tools.convertToPercent)\n",
    "df_avaliacao_tmp.fator_capacidade_beneficio = df_avaliacao_tmp.fator_capacidade_beneficio.map(tools.convertToIndice)\n",
    "df_avaliacao_tmp.opcao_bua = df_avaliacao_tmp.opcao_bua.map(tools.convertToPercent)\n",
    "df_avaliacao_tmp.saque_bua = df_avaliacao_tmp.saque_bua.map(tools.convertToPercent)"
   ]
  },
  {
   "cell_type": "markdown",
   "metadata": {},
   "source": [
    "# premissas do plano"
   ]
  },
  {
   "cell_type": "code",
   "execution_count": 9,
   "metadata": {
    "collapsed": true
   },
   "outputs": [],
   "source": [
    "# df_prem_plano_db = None\n",
    "if 'df_prem_plano_db' in locals():\n",
    "    del(df_prem_plano_db)\n",
    "    \n",
    "df_prem_plano_db = read_csv(\"input_csv/premissa_planos.csv\", sep=\";\", decimal=\",\")"
   ]
  },
  {
   "cell_type": "code",
   "execution_count": 10,
   "metadata": {
    "collapsed": false
   },
   "outputs": [],
   "source": [
    "if 'df_prem_plano_tmp' in locals():\n",
    "    del(df_prem_plano_tmp)\n",
    "    \n",
    "name_columns = {'ID_PLANO_BENEFICIO': 'plano_beneficio', 'IDADE_INICIO_CONTRIB_INSS_MAS': 'idade_inicio_contrib_inss_mas', 'IDADE_INICIO_CONTRIB_INSS_FEM': 'idade_inicio_contrib_inss_fem',\n",
    "                'IDADE_APOSENT_FUNDACAO_MAS': 'idade_aposent_fundacao_mas', 'IDADE_APOSENT_FUNDACAO_FEM': 'idade_aposent_fundacao_fem', 'TEMPO_CONTRIB_INSS_MAS': 'tempo_contrib_inss_mas',\n",
    "                'TEMPO_CONTRIB_INSS_FEM': 'tempo_contrib_inss_fem', 'MAIORIDADE_PLANO': 'maioridade_plano', 'PERCENTUAL_SRB': 'percentual_srb', 'TEMPO_CARENCIA_APOSENTADORIA': 'carencia_aposentadoria'}\n",
    "drop_columns = ['ID_PREMISSA_PLANO']\n",
    "# df_prem_plano = None\n",
    "df_prem_plano_tmp = df_prem_plano_db.rename(columns = name_columns).drop(drop_columns, axis=1)\n",
    "df_prem_plano_tmp.percentual_srb = df_prem_plano_tmp.percentual_srb.map(tools.convertToPercent)\n",
    "# maioridade = df_prem_plano_db['MAIORIDADE_PLANO']"
   ]
  },
  {
   "cell_type": "markdown",
   "metadata": {},
   "source": [
    "# premissas globais"
   ]
  },
  {
   "cell_type": "code",
   "execution_count": 11,
   "metadata": {
    "collapsed": true
   },
   "outputs": [],
   "source": [
    "#df_prem_global_db = None\n",
    "if 'df_prem_global_db' in locals():\n",
    "    del(df_prem_global_db)\n",
    "    \n",
    "date_columns = ['DT_ORIGEM_BNH', 'DT_LEI_9876_1999', 'DT_MEDIA_80_MAIORES_SALARIOS']\n",
    "df_prem_global_db = read_csv(\"input_csv/premissa_global.csv\", sep=\";\", decimal=\",\", parse_dates = date_columns)"
   ]
  },
  {
   "cell_type": "code",
   "execution_count": 12,
   "metadata": {
    "collapsed": false
   },
   "outputs": [],
   "source": [
    "if 'df_prem_global_tmp' in locals():\n",
    "    del(df_prem_global_tmp)\n",
    "    \n",
    "name_columns = {'DT_ORIGEM_BNH': 'data_bnh', 'DT_LEI_9876_1999': 'data_lei_9876', 'DT_MEDIA_80_MAIORES_SALARIOS': 'data_media_maiores_salarios', 'TETO_CONTRIBUICAO_INSS': 'teto_contribuicao_inss',\n",
    "                'TETO_BENEFICIO_INSS': 'teto_beneficio_inss', 'SALARIO_MINIMO': 'salario_minimo', 'COTA_FAMILIAR_PENSAO': 'cota_pensao_familiar',\n",
    "                'PROB_APOSENTADO_CASADO_MAS': 'prob_aposentado_casado_mas', 'PROB_APOSENTADO_CASADO_FEM': 'prob_aposentado_casado_fem', 'LX_INICIAL': 'lx_inicial'}\n",
    "drop_columns = ['ID_PREMISSA_GLOBAL']\n",
    "#df_prem_global = None\n",
    "df_prem_global_tmp = df_prem_global_db.rename(columns = name_columns).drop(drop_columns, axis=1)\n",
    "df_prem_global_tmp.cota_pensao_familiar = df_prem_global_tmp.cota_pensao_familiar.map(tools.convertToPercent)\n",
    "df_prem_global_tmp.prob_aposentado_casado_mas = df_prem_global_tmp.prob_aposentado_casado_mas.map(tools.convertToPercent)\n",
    "df_prem_global_tmp.prob_aposentado_casado_fem = df_prem_global_tmp.prob_aposentado_casado_fem.map(tools.convertToPercent)\n",
    "df_prem_global_tmp['avaliacao'] = df_avaliacao_tmp.avaliacao"
   ]
  },
  {
   "cell_type": "code",
   "execution_count": 13,
   "metadata": {
    "collapsed": false
   },
   "outputs": [],
   "source": [
    "df_prem_dif_idade = df_prem_global_tmp[['DIF_IDADE_CONJUGE_MAS', 'DIF_IDADE_CONJUGE_FEM']]\n",
    "name_columns = {'DIF_IDADE_CONJUGE_FEM': 'F', 'DIF_IDADE_CONJUGE_MAS': 'M'}\n",
    "df_prem_dif_idade = df_prem_dif_idade.rename(columns=name_columns)"
   ]
  },
  {
   "cell_type": "code",
   "execution_count": 14,
   "metadata": {
    "collapsed": false
   },
   "outputs": [],
   "source": [
    "df_dif_idade_depen_valido = df_prem_dif_idade.transpose()\n",
    "# df_prem_dif_idade_transp.index = range(0,len(df_prem_dif_idade_transp))\n",
    "# df_prem_dif_idade_transp.insert(0, 'Id', range(0, len(df_prem_dif_idade_transp)))\n",
    "# df_prem_dif_idade_transp.set_index('Id')\n",
    "df_dif_idade_depen_valido.reset_index(level=0, inplace=True)\n",
    "df_dif_idade_depen_valido.columns = ['sexo_partic', 'diferenca_idade']\n",
    "# df_dif_idade_depen_valido"
   ]
  },
  {
   "cell_type": "code",
   "execution_count": 15,
   "metadata": {
    "collapsed": false
   },
   "outputs": [],
   "source": [
    "# df_prem_dif_idade.index"
   ]
  },
  {
   "cell_type": "markdown",
   "metadata": {},
   "source": [
    "# taxa de juros"
   ]
  },
  {
   "cell_type": "code",
   "execution_count": 16,
   "metadata": {
    "collapsed": true
   },
   "outputs": [],
   "source": [
    "# obtem as taxas de juros\n",
    "if 'df_taxa_juros_db' in locals():\n",
    "    del(df_taxa_juros_db)\n",
    "    \n",
    "df_taxa_juros_db = read_csv(\"input_csv/taxa_juros.csv\", sep=\";\", decimal=\",\")"
   ]
  },
  {
   "cell_type": "code",
   "execution_count": 17,
   "metadata": {
    "collapsed": true
   },
   "outputs": [],
   "source": [
    "if 'df_taxa_juros' in locals():\n",
    "    del(df_taxa_juros)\n",
    "    \n",
    "name_columns = {'NR_TEMPO_TAXA_JUROS': 'tempo', 'VL_TAXA_JUROS': 'taxa_juros'}\n",
    "df_taxa_juros = df_taxa_juros_db.rename(columns= name_columns)\n",
    "df_taxa_juros.taxa_juros = df_taxa_juros.taxa_juros.map(tools.convertToPercent)"
   ]
  },
  {
   "cell_type": "markdown",
   "metadata": {},
   "source": [
    "# taxa de risco"
   ]
  },
  {
   "cell_type": "code",
   "execution_count": 18,
   "metadata": {
    "collapsed": true
   },
   "outputs": [],
   "source": [
    "# df_taxa_risco_db = None\n",
    "if 'df_taxa_risco_db' in locals():\n",
    "    del(df_taxa_risco_db)\n",
    "    \n",
    "df_taxa_risco_db = read_csv(\"input_csv/taxa_risco.csv\", sep=\";\", decimal=\",\")"
   ]
  },
  {
   "cell_type": "code",
   "execution_count": 19,
   "metadata": {
    "collapsed": true
   },
   "outputs": [],
   "source": [
    "if 'df_taxa_risco' in locals():\n",
    "    del(df_taxa_risco)\n",
    "    \n",
    "name_columns = {'NR_TEMPO_TAXA_RISCO': 'tempo', 'ID_RESPONSABILIDADE': 'responsabilidade', 'VL_TAXA_RISCO': 'taxa_risco'}\n",
    "df_taxa_risco = df_taxa_risco_db.rename(columns = name_columns)\n",
    "df_taxa_risco.taxa_risco = df_taxa_risco.taxa_risco.map(tools.convertToPercent)"
   ]
  },
  {
   "cell_type": "markdown",
   "metadata": {},
   "source": [
    "# indice INPC - cotacao moeda"
   ]
  },
  {
   "cell_type": "code",
   "execution_count": 20,
   "metadata": {
    "collapsed": true
   },
   "outputs": [],
   "source": [
    "# df_indice_db = None\n",
    "if 'df_indice_db' in locals():\n",
    "    del(df_indice_db)\n",
    "    \n",
    "date_columns = ['COTDATA']\n",
    "df_indice_db = read_csv(\"input_csv/cotacao.csv\", sep=\";\", decimal=\",\", parse_dates = date_columns)"
   ]
  },
  {
   "cell_type": "code",
   "execution_count": 21,
   "metadata": {
    "collapsed": true
   },
   "outputs": [],
   "source": [
    "if 'df_indice' in locals():\n",
    "    del(df_indice)\n",
    "    \n",
    "name_columns = {'COTDATA': 'data', 'COTVALOR': 'valor'}\n",
    "# df_indice = None\n",
    "df_indice = df_indice_db.rename(columns= name_columns)\n",
    "df_indice.valor = df_indice.valor.map(tools.convertToIndice)"
   ]
  },
  {
   "cell_type": "markdown",
   "metadata": {},
   "source": [
    "# indexador monetario"
   ]
  },
  {
   "cell_type": "code",
   "execution_count": 22,
   "metadata": {
    "collapsed": true
   },
   "outputs": [],
   "source": [
    "# df_indexador_db = None\n",
    "if 'df_indexador_db' in locals():\n",
    "    del(df_indexador_db)\n",
    "    \n",
    "df_indexador_db = read_csv(\"input_csv/indexador_monetario.csv\", sep=\";\", decimal=\",\")"
   ]
  },
  {
   "cell_type": "code",
   "execution_count": 23,
   "metadata": {
    "collapsed": true
   },
   "outputs": [],
   "source": [
    "if 'df_indexador' in locals():\n",
    "    del(df_indexador)\n",
    "    \n",
    "name_columns = {'ID_REFERENCIA_IDX_MON': 'indexador', 'PC_REAJUSTE': 'valor'}\n",
    "drop_columns = ['DS_REFERENCIA_IDX_MON']\n",
    "df_indexador = df_indexador_db.rename(columns=name_columns).drop(drop_columns, axis=1)"
   ]
  },
  {
   "cell_type": "markdown",
   "metadata": {},
   "source": [
    "# reajuste salarial"
   ]
  },
  {
   "cell_type": "code",
   "execution_count": 24,
   "metadata": {
    "collapsed": true
   },
   "outputs": [],
   "source": [
    "# df_reaj_salarial_db = None\n",
    "if 'df_reaj_salarial_db' in locals():\n",
    "    del(df_reaj_salarial_db)\n",
    "    \n",
    "df_reaj_salarial_db = read_csv(\"input_csv/reajuste_salarial.csv\", sep=\";\", decimal=\",\")"
   ]
  },
  {
   "cell_type": "code",
   "execution_count": 25,
   "metadata": {
    "collapsed": false
   },
   "outputs": [],
   "source": [
    "if 'df_reaj_salarial' in locals():\n",
    "    del(df_reaj_salarial)\n",
    "    \n",
    "name_columns = {'CD_TIPO_REAJUSTE_SALARIAL': 'tipo', 'ID_PATROCINADORA': 'patrocinadora', 'PC_REAJUSTE': 'valor'}\n",
    "drop_columns = ['DS_TIPO_REAJUSTE_SALARIAL']\n",
    "df_reaj_salarial = df_reaj_salarial_db.rename(columns = name_columns).drop(drop_columns, axis= 1)\n",
    "df_reaj_salarial.valor = df_reaj_salarial.valor.map(tools.convertToPercent)"
   ]
  },
  {
   "cell_type": "markdown",
   "metadata": {},
   "source": [
    "# join : avaliacao + premissa plano + premissa global"
   ]
  },
  {
   "cell_type": "code",
   "execution_count": 26,
   "metadata": {
    "collapsed": false
   },
   "outputs": [],
   "source": [
    "if 'df_avaliacao' in locals():\n",
    "    del(df_avaliacao)\n",
    "    \n",
    "df_avaliacao = merge(df_avaliacao_tmp, df_prem_plano_tmp, how='inner', on='plano_beneficio')"
   ]
  },
  {
   "cell_type": "code",
   "execution_count": 27,
   "metadata": {
    "collapsed": true
   },
   "outputs": [],
   "source": [
    "df_avaliacao = merge(df_avaliacao, df_prem_global_tmp, how='inner', on='avaliacao')"
   ]
  },
  {
   "cell_type": "code",
   "execution_count": 28,
   "metadata": {
    "collapsed": false
   },
   "outputs": [],
   "source": [
    "# df_avaliacao.dtypes"
   ]
  },
  {
   "cell_type": "code",
   "execution_count": 29,
   "metadata": {
    "collapsed": false
   },
   "outputs": [
    {
     "data": {
      "text/html": [
       "<div>\n",
       "<table border=\"1\" class=\"dataframe\">\n",
       "  <thead>\n",
       "    <tr style=\"text-align: right;\">\n",
       "      <th></th>\n",
       "      <th>avaliacao</th>\n",
       "      <th>cadastro</th>\n",
       "      <th>plano_previdencia</th>\n",
       "      <th>plano_beneficio</th>\n",
       "      <th>data_calculo</th>\n",
       "      <th>data_reajuste_beneficio</th>\n",
       "      <th>beneficio_minimo</th>\n",
       "      <th>despesa_administ_partic</th>\n",
       "      <th>despesa_administ_patroc</th>\n",
       "      <th>saida_bpd</th>\n",
       "      <th>saida_portabilidade</th>\n",
       "      <th>saida_resgate</th>\n",
       "      <th>peculio_minimo_morte</th>\n",
       "      <th>fator_peculio_morte_ativo</th>\n",
       "      <th>fator_peculio_morte_assistido</th>\n",
       "      <th>numero_contribuicoes_ano</th>\n",
       "      <th>faixa_1_contribuicao</th>\n",
       "      <th>faixa_2_contribuicao</th>\n",
       "      <th>faixa_3_contribuicao</th>\n",
       "      <th>taxa_carregamento_admin</th>\n",
       "      <th>taxa_admin_beneficio</th>\n",
       "      <th>taxa_cresc_salarial</th>\n",
       "      <th>taxa_cresc_beneficio</th>\n",
       "      <th>fator_capacidade_salario</th>\n",
       "      <th>fator_capacidade_funcef</th>\n",
       "      <th>fator_capacidade_inss</th>\n",
       "      <th>fator_capacidade_beneficio</th>\n",
       "      <th>opcao_bua</th>\n",
       "      <th>saque_bua</th>\n",
       "      <th>idade_inicio_contrib_inss_mas</th>\n",
       "      <th>idade_inicio_contrib_inss_fem</th>\n",
       "      <th>idade_aposent_fundacao_mas</th>\n",
       "      <th>idade_aposent_fundacao_fem</th>\n",
       "      <th>tempo_contrib_inss_mas</th>\n",
       "      <th>tempo_contrib_inss_fem</th>\n",
       "      <th>maioridade_plano</th>\n",
       "      <th>percentual_srb</th>\n",
       "      <th>carencia_aposentadoria</th>\n",
       "      <th>data_bnh</th>\n",
       "      <th>data_lei_9876</th>\n",
       "      <th>data_media_maiores_salarios</th>\n",
       "      <th>teto_contribuicao_inss</th>\n",
       "      <th>teto_beneficio_inss</th>\n",
       "      <th>salario_minimo</th>\n",
       "      <th>cota_pensao_familiar</th>\n",
       "      <th>prob_aposentado_casado_mas</th>\n",
       "      <th>prob_aposentado_casado_fem</th>\n",
       "      <th>DIF_IDADE_CONJUGE_MAS</th>\n",
       "      <th>DIF_IDADE_CONJUGE_FEM</th>\n",
       "      <th>lx_inicial</th>\n",
       "    </tr>\n",
       "  </thead>\n",
       "  <tbody>\n",
       "    <tr>\n",
       "      <th>0</th>\n",
       "      <td>25445</td>\n",
       "      <td>10809</td>\n",
       "      <td>74</td>\n",
       "      <td>5</td>\n",
       "      <td>2016-12-31</td>\n",
       "      <td>2016-01-01</td>\n",
       "      <td>0.0</td>\n",
       "      <td>0.0398</td>\n",
       "      <td>0.0398</td>\n",
       "      <td>0.0</td>\n",
       "      <td>0.5</td>\n",
       "      <td>0.5</td>\n",
       "      <td>0.0</td>\n",
       "      <td>2.5</td>\n",
       "      <td>11.62</td>\n",
       "      <td>13</td>\n",
       "      <td>0.0</td>\n",
       "      <td>0.0</td>\n",
       "      <td>0.0</td>\n",
       "      <td>0.0398</td>\n",
       "      <td>0.009</td>\n",
       "      <td>0.0239</td>\n",
       "      <td>0.0</td>\n",
       "      <td>0.98</td>\n",
       "      <td>0.98</td>\n",
       "      <td>0.98</td>\n",
       "      <td>2.2177</td>\n",
       "      <td>0.0</td>\n",
       "      <td>0.0</td>\n",
       "      <td>18</td>\n",
       "      <td>18</td>\n",
       "      <td>53</td>\n",
       "      <td>48</td>\n",
       "      <td>35</td>\n",
       "      <td>30</td>\n",
       "      <td>24</td>\n",
       "      <td>0.2</td>\n",
       "      <td>10</td>\n",
       "      <td>1998-09-23</td>\n",
       "      <td>1999-11-29</td>\n",
       "      <td>1999-07-31</td>\n",
       "      <td>5189.82</td>\n",
       "      <td>5078.94</td>\n",
       "      <td>880.0</td>\n",
       "      <td>0.8</td>\n",
       "      <td>0.85</td>\n",
       "      <td>0.6</td>\n",
       "      <td>5</td>\n",
       "      <td>2</td>\n",
       "      <td>10000000</td>\n",
       "    </tr>\n",
       "  </tbody>\n",
       "</table>\n",
       "</div>"
      ],
      "text/plain": [
       "   avaliacao  cadastro  plano_previdencia  plano_beneficio data_calculo  \\\n",
       "0      25445     10809                 74                5   2016-12-31   \n",
       "\n",
       "  data_reajuste_beneficio  beneficio_minimo  despesa_administ_partic  \\\n",
       "0              2016-01-01               0.0                   0.0398   \n",
       "\n",
       "   despesa_administ_patroc  saida_bpd  saida_portabilidade  saida_resgate  \\\n",
       "0                   0.0398        0.0                  0.5            0.5   \n",
       "\n",
       "   peculio_minimo_morte  fator_peculio_morte_ativo  \\\n",
       "0                   0.0                        2.5   \n",
       "\n",
       "   fator_peculio_morte_assistido  numero_contribuicoes_ano  \\\n",
       "0                          11.62                        13   \n",
       "\n",
       "   faixa_1_contribuicao  faixa_2_contribuicao  faixa_3_contribuicao  \\\n",
       "0                   0.0                   0.0                   0.0   \n",
       "\n",
       "   taxa_carregamento_admin  taxa_admin_beneficio  taxa_cresc_salarial  \\\n",
       "0                   0.0398                 0.009               0.0239   \n",
       "\n",
       "   taxa_cresc_beneficio  fator_capacidade_salario  fator_capacidade_funcef  \\\n",
       "0                   0.0                      0.98                     0.98   \n",
       "\n",
       "   fator_capacidade_inss  fator_capacidade_beneficio  opcao_bua  saque_bua  \\\n",
       "0                   0.98                      2.2177        0.0        0.0   \n",
       "\n",
       "   idade_inicio_contrib_inss_mas  idade_inicio_contrib_inss_fem  \\\n",
       "0                             18                             18   \n",
       "\n",
       "   idade_aposent_fundacao_mas  idade_aposent_fundacao_fem  \\\n",
       "0                          53                          48   \n",
       "\n",
       "   tempo_contrib_inss_mas  tempo_contrib_inss_fem  maioridade_plano  \\\n",
       "0                      35                      30                24   \n",
       "\n",
       "   percentual_srb  carencia_aposentadoria   data_bnh data_lei_9876  \\\n",
       "0             0.2                      10 1998-09-23    1999-11-29   \n",
       "\n",
       "  data_media_maiores_salarios  teto_contribuicao_inss  teto_beneficio_inss  \\\n",
       "0                  1999-07-31                 5189.82              5078.94   \n",
       "\n",
       "   salario_minimo  cota_pensao_familiar  prob_aposentado_casado_mas  \\\n",
       "0           880.0                   0.8                        0.85   \n",
       "\n",
       "   prob_aposentado_casado_fem  DIF_IDADE_CONJUGE_MAS  DIF_IDADE_CONJUGE_FEM  \\\n",
       "0                         0.6                      5                      2   \n",
       "\n",
       "   lx_inicial  \n",
       "0    10000000  "
      ]
     },
     "execution_count": 29,
     "metadata": {},
     "output_type": "execute_result"
    }
   ],
   "source": [
    "df_avaliacao"
   ]
  },
  {
   "cell_type": "markdown",
   "metadata": {},
   "source": [
    "# participante"
   ]
  },
  {
   "cell_type": "code",
   "execution_count": 30,
   "metadata": {
    "collapsed": true
   },
   "outputs": [],
   "source": [
    "if 'df_partic_db' in locals():\n",
    "    del(df_partic_db)\n",
    "\n",
    "date_columns = ['DT_NASCIMENTO', 'DT_OPCAO_BPD', 'DT_ADMISSAO', 'DT_ASSOCIACAO_FUNDACAO']\n",
    "data_type = {'NR_MATRICULA': str, 'matricula_titular': str}\n",
    "\n",
    "df_partic_db = read_csv(\"input_csv/participante.csv\", sep=\";\", decimal=\",\", encoding=\"latin1\", parse_dates=date_columns, dtype = data_type, low_memory = False)"
   ]
  },
  {
   "cell_type": "code",
   "execution_count": 31,
   "metadata": {
    "collapsed": false
   },
   "outputs": [],
   "source": [
    "if 'df_partic_temp' in locals():\n",
    "    del(df_partic_temp)\n",
    "    \n",
    "name_columns = {'ID_PARTICIPANTE': 'id_participante', 'ID_CADASTRO': 'cadastro', 'NR_MATRICULA': 'matricula', 'DT_NASCIMENTO': 'data_nascimento_partic', 'IR_SEXO': 'sexo_partic', 'ID_PATROCINADORA': 'patrocinadora',\n",
    "                'CD_ESTADO_CIVIL': 'estado_civil', 'DT_ADMISSAO': 'data_admissao', 'DT_ASSOCIACAO_FUNDACAO': 'data_associacao', 'PC_BENEFICIO_ESPECIAL': 'pbe', 'FL_DEFICIENTE': 'deficiente',\n",
    "                'NR_MATRICULA_TITULAR': 'matricula_titular', 'FL_MIGRADO': 'migrado'}\n",
    "drop_columns = ['CD_SITUACAO_PATROC', 'DS_ESTADO_CIVIL', 'DT_OPCAO_BPD']\n",
    "# df_partic2 = df_partic1.rename(columns= nomes_colunas).drop(['CD_SITUACAO_PATROC', 'DS_ESTADO_CIVIL', 'DT_OPCAO_BPD'], axis= 1)\n",
    "df_partic_temp = df_partic_db.rename(columns= name_columns).drop(drop_columns, axis= 1)"
   ]
  },
  {
   "cell_type": "code",
   "execution_count": 32,
   "metadata": {
    "collapsed": false
   },
   "outputs": [],
   "source": [
    "df_partic_temp.deficiente = list(map(tools.convertToBoolean, df_partic_temp.deficiente))\n",
    "df_partic_temp.migrado = df_partic_temp.migrado.map(tools.convertToBoolean)\n",
    "df_partic_temp.pbe = df_partic_temp.pbe.map(tools.convertToPercent)"
   ]
  },
  {
   "cell_type": "markdown",
   "metadata": {},
   "source": [
    "# plano de beneficios"
   ]
  },
  {
   "cell_type": "code",
   "execution_count": 33,
   "metadata": {
    "collapsed": true
   },
   "outputs": [],
   "source": [
    "if 'df_plano_db' in locals():\n",
    "    del(df_plano_db)\n",
    "    \n",
    "date_columns = ['DT_ADESAO']\n",
    "df_plano_db = read_csv(\"input_csv/plano_beneficio.csv\", sep=\";\", decimal=\",\", parse_dates=date_columns)"
   ]
  },
  {
   "cell_type": "code",
   "execution_count": 34,
   "metadata": {
    "collapsed": true
   },
   "outputs": [],
   "source": [
    "if 'df_plano_tmp' in locals():\n",
    "    del(df_plano_tmp)\n",
    "    \n",
    "name_columns = {'ID_PARTICIPANTE': 'id_participante', 'DT_ADESAO': 'data_adesao', 'VL_SLD_SUBCONTA_PARTICIPANTE': 'saldo_conta_partic', 'VL_SLD_SUBCONTA_PATROCINADORA': 'saldo_conta_patroc',\n",
    "                'VL_RESERVA_BPD': 'reserva_bpd', 'VL_SALDO_PORTADO': 'saldo_portado', 'VL_BEN_SALDADO_INICIAL': 'beneficio_saldado', 'VL_SALARIO_PARTICIPACAO': 'salario_participacao',\n",
    "                'PC_CONTRIBUICAO_PARTICIPANTE': 'contribuicao_partic', 'PC_CONTRIBUICAO_PATROCINADORA': 'contribuicao_patroc'}\n",
    "df_plano_tmp = df_plano_db.rename(columns= name_columns)"
   ]
  },
  {
   "cell_type": "code",
   "execution_count": 35,
   "metadata": {
    "collapsed": true
   },
   "outputs": [],
   "source": [
    "df_plano_tmp.contribuicao_partic = df_plano_tmp.contribuicao_partic.map(tools.convertToPercent)\n",
    "df_plano_tmp.contribuicao_patroc = df_plano_tmp.contribuicao_patroc.map(tools.convertToPercent)"
   ]
  },
  {
   "cell_type": "markdown",
   "metadata": {},
   "source": [
    "# beneficio inss"
   ]
  },
  {
   "cell_type": "code",
   "execution_count": 36,
   "metadata": {
    "collapsed": true
   },
   "outputs": [],
   "source": [
    "if 'df_benef_inss_db' in locals():\n",
    "    del(df_benef_inss_db)\n",
    "\n",
    "date_columns = ['DT_INICIO_BENEFICIO']\n",
    "df_benef_inss_db = read_csv(\"input_csv/beneficio_inss.csv\", sep=\";\", decimal=\",\", parse_dates = date_columns)"
   ]
  },
  {
   "cell_type": "code",
   "execution_count": 37,
   "metadata": {
    "collapsed": true
   },
   "outputs": [],
   "source": [
    "if 'df_benef_inss_tmp' in locals():\n",
    "    del(df_benef_inss_tmp)\n",
    "    \n",
    "name_columns = {'ID_PARTICIPANTE': 'id_participante', 'DT_INICIO_BENEFICIO': 'dib_inss', 'VL_VALOR': 'valor_beneficio_inss'}\n",
    "df_benef_inss_tmp = df_benef_inss_db.rename(columns = name_columns)"
   ]
  },
  {
   "cell_type": "markdown",
   "metadata": {},
   "source": [
    "# beneficio previdencia privada"
   ]
  },
  {
   "cell_type": "code",
   "execution_count": 38,
   "metadata": {
    "collapsed": true
   },
   "outputs": [],
   "source": [
    "if 'df_benef_prev_db' in locals():\n",
    "    del(df_benef_prev_db)\n",
    "\n",
    "date_columns = ['DT_INICIO_BENEFICIO']\n",
    "df_benef_prev_db = read_csv(\"input_csv/beneficio_funcef.csv\", sep=\";\", decimal=\",\", encoding=\"latin1\", parse_dates= date_columns)"
   ]
  },
  {
   "cell_type": "code",
   "execution_count": 39,
   "metadata": {
    "collapsed": true
   },
   "outputs": [],
   "source": [
    "if 'df_benef_prev_tmp' in locals():\n",
    "    del(df_benef_prev_tmp)\n",
    "    \n",
    "name_columns = {'ID_PARTICIPANTE': 'id_participante', 'IDBENEFICIO': 'beneficio', 'VL_VALOR': 'valor_beneficio_funcef', 'DT_INICIO_BENEFICIO': 'dib_funcef'}\n",
    "drop_columns = ['NOME']\n",
    "df_benef_prev_tmp = df_benef_prev_db.rename(columns= name_columns).drop(drop_columns, axis= 1)"
   ]
  },
  {
   "cell_type": "code",
   "execution_count": 40,
   "metadata": {
    "collapsed": true
   },
   "outputs": [],
   "source": [
    "df_benef_prev_tmp['tipo_beneficio'] = df_benef_prev_tmp.beneficio.map(tools.convertToTipoBeneficio)\n",
    "df_benef_prev_tmp = df_benef_prev_tmp[df_benef_prev_tmp.tipo_beneficio != 0]\n",
    "drop_columns = ['beneficio']\n",
    "df_benef_prev_tmp = df_benef_prev_tmp.drop(drop_columns, axis = 1)"
   ]
  },
  {
   "cell_type": "markdown",
   "metadata": {},
   "source": [
    "# dependentes"
   ]
  },
  {
   "cell_type": "code",
   "execution_count": 41,
   "metadata": {
    "collapsed": true
   },
   "outputs": [],
   "source": [
    "if 'df_depend_db' in locals():\n",
    "    del(df_depend_db)\n",
    "    \n",
    "date_columns = ['DT_NASCIMENTO']\n",
    "df_depend_db = read_csv(\"input_csv/dependente.csv\", sep=\";\", decimal=\",\", encoding=\"latin1\", parse_dates= date_columns)"
   ]
  },
  {
   "cell_type": "code",
   "execution_count": 42,
   "metadata": {
    "collapsed": true
   },
   "outputs": [],
   "source": [
    "if 'df_depend_tmp' in locals():\n",
    "    del(df_depend_tmp)\n",
    "\n",
    "# nomes_colunas = {'ID_PARTICIPANTE': 'id_participante', 'CD_GRAU_DEPENDENCIA': 'parentesco', 'DT_NASCIMENTO': 'data_nascimento', 'IR_SEXO': 'sexo', 'FL_INVALIDO': 'invalido'}\n",
    "name_columns = {'ID_PARTICIPANTE': 'id_participante', 'CD_GRAU_DEPENDENCIA': 'parentesco', 'FL_INVALIDO': 'invalido'}\n",
    "drop_columns = ['FL_DESIGNADO_RESGATE', 'FL_DEPENDENTE_LEGAL']\n",
    "df_depend_tmp = df_depend_db.rename(columns= name_columns).drop(drop_columns, axis=1)"
   ]
  },
  {
   "cell_type": "code",
   "execution_count": 43,
   "metadata": {
    "collapsed": true
   },
   "outputs": [],
   "source": [
    "df_depend_tmp.invalido = df_depend_tmp.invalido.map(tools.convertToBoolean)"
   ]
  },
  {
   "cell_type": "markdown",
   "metadata": {},
   "source": [
    "# dependente vitalicio valido (conjuge)"
   ]
  },
  {
   "cell_type": "code",
   "execution_count": 44,
   "metadata": {
    "collapsed": false
   },
   "outputs": [],
   "source": [
    "if 'df_depend_valido_tmp' in locals():\n",
    "    del(df_depend_valido_tmp)\n",
    "    \n",
    "df_depend_valido_tmp = DataFrame.copy(df_depend_tmp[(df_depend_tmp.parentesco == 'COM') & (df_depend_tmp.invalido == False)])\n",
    "\n",
    "name_columns = {'IR_SEXO': 'sexo_depend_valido', 'DT_NASCIMENTO': 'data_nascimento_depend_valido'}\n",
    "drop_columns = ['parentesco', 'invalido']\n",
    "\n",
    "df_depend_valido_tmp = df_depend_valido_tmp.rename(columns = name_columns).drop(drop_columns, axis = 1)"
   ]
  },
  {
   "cell_type": "markdown",
   "metadata": {},
   "source": [
    "# dependente temporario (filho menor idade valido)"
   ]
  },
  {
   "cell_type": "code",
   "execution_count": 45,
   "metadata": {
    "collapsed": true
   },
   "outputs": [],
   "source": [
    "if 'df_depend_temporario_tmp' in locals():\n",
    "    del(df_depend_temporario_tmp)\n",
    "    \n",
    "df_depend_temporario_tmp = DataFrame.copy(df_depend_tmp[(df_depend_tmp.parentesco == 'FIL') & (df_depend_tmp.invalido == False)])\n",
    "\n",
    "name_columns = {'IR_SEXO': 'sexo_depend_temporario', 'DT_NASCIMENTO': 'data_nascimento_depend_temporario'}\n",
    "drop_columns = ['parentesco', 'invalido']\n",
    "\n",
    "df_depend_temporario_tmp = df_depend_temporario_tmp.rename(columns = name_columns).drop(drop_columns, axis = 1)"
   ]
  },
  {
   "cell_type": "markdown",
   "metadata": {},
   "source": [
    "# dependente vitalicio invalido (conjuge invalido ou filho invalido)"
   ]
  },
  {
   "cell_type": "code",
   "execution_count": 46,
   "metadata": {
    "collapsed": false
   },
   "outputs": [],
   "source": [
    "if 'df_depend_invalido_tmp' in locals():\n",
    "    del(df_depend_invalido_tmp)\n",
    "\n",
    "df_depend_invalido_tmp = DataFrame.copy(df_depend_tmp[df_depend_tmp.invalido == True])\n",
    "\n",
    "name_columns = {'IR_SEXO': 'sexo_depend_invalido', 'DT_NASCIMENTO': 'data_nascimento_depend_invalido'}\n",
    "drop_columns = ['parentesco', 'invalido']\n",
    "\n",
    "df_depend_invalido_tmp = df_depend_invalido_tmp.rename(columns = name_columns).drop(drop_columns, axis = 1)"
   ]
  },
  {
   "cell_type": "markdown",
   "metadata": {},
   "source": [
    "# join: participante + plano + beneficio INSS + beneficio fundação"
   ]
  },
  {
   "cell_type": "code",
   "execution_count": 47,
   "metadata": {
    "collapsed": false
   },
   "outputs": [],
   "source": [
    "if 'df_participante' in locals():\n",
    "    del(df_participante)\n",
    "    \n",
    "df_participante = merge(df_partic_temp, df_plano_tmp, how='inner', on='id_participante')\n",
    "df_participante = merge(df_participante, df_benef_inss_tmp, how='left', on='id_participante')\n",
    "df_participante = merge(df_participante, df_benef_prev_tmp, how='left', on='id_participante')"
   ]
  },
  {
   "cell_type": "code",
   "execution_count": 48,
   "metadata": {
    "collapsed": false
   },
   "outputs": [],
   "source": [
    "# df_participante.dtypes"
   ]
  },
  {
   "cell_type": "markdown",
   "metadata": {},
   "source": [
    "# enquadramento participantes"
   ]
  },
  {
   "cell_type": "code",
   "execution_count": 49,
   "metadata": {
    "collapsed": false
   },
   "outputs": [],
   "source": [
    "# calcula idade dos participantes (ativos e assistidos[aposentados e pensionistas])\n",
    "# df_participante['idade_partic'] = list(map(tools.calculateAge, df_participante.data_nascimento_partic, repeat(df_avaliacao.data_calculo[0], len(df_participante))))\n",
    "df_participante['idade_partic'] = 0\n",
    "\n",
    "for i, row in df_participante.iterrows():\n",
    "    idade = -1\n",
    "    \n",
    "    idade = tools.calculateAge(row['data_nascimento_partic'], df_avaliacao.data_calculo[0])\n",
    "    df_participante.set_value(i, 'idade_partic', idade)"
   ]
  },
  {
   "cell_type": "code",
   "execution_count": 50,
   "metadata": {
    "collapsed": false
   },
   "outputs": [],
   "source": [
    "# quantidade de participantes com idade nula\n",
    "# len(df_participante[isnull(df_participante.idade_partic)][['idade_partic', 'sexo_partic']])"
   ]
  },
  {
   "cell_type": "code",
   "execution_count": 51,
   "metadata": {
    "collapsed": false
   },
   "outputs": [],
   "source": [
    "# df_participante.groupby('idade_partic').size()"
   ]
  },
  {
   "cell_type": "code",
   "execution_count": 52,
   "metadata": {
    "collapsed": false
   },
   "outputs": [
    {
     "data": {
      "text/plain": [
       "sexo_partic\n",
       "F    41987\n",
       "M    49523\n",
       "dtype: int64"
      ]
     },
     "execution_count": 52,
     "metadata": {},
     "output_type": "execute_result"
    }
   ],
   "source": [
    "df_participante.groupby('sexo_partic').size()"
   ]
  },
  {
   "cell_type": "code",
   "execution_count": 53,
   "metadata": {
    "collapsed": false
   },
   "outputs": [],
   "source": [
    "# adicina a diferenca de idade do conjuge de acordo com o sexo do participante\n",
    "# df_participante = merge(df_participante, df_dif_idade_depen_valido, on='sexo_partic', how='inner')\n",
    "df_participante['diferenca_idade'] = [df_avaliacao.DIF_IDADE_CONJUGE_FEM[0] if sexo == 'F' else df_avaliacao.DIF_IDADE_CONJUGE_MAS[0] for sexo in df_participante.sexo_partic]"
   ]
  },
  {
   "cell_type": "code",
   "execution_count": 54,
   "metadata": {
    "collapsed": false
   },
   "outputs": [],
   "source": [
    "# df_participante['casado'] = list(map(lambda estado_civil: False if estado_civil != 'C' else True, df_participante.estado_civil))\n",
    "df_participante['casado'] = [True if estado_civil == 'C' else False for estado_civil in df_participante.estado_civil]"
   ]
  },
  {
   "cell_type": "code",
   "execution_count": 55,
   "metadata": {
    "collapsed": false
   },
   "outputs": [],
   "source": [
    "# df_participante.groupby('casado').size()"
   ]
  },
  {
   "cell_type": "code",
   "execution_count": 56,
   "metadata": {
    "collapsed": true
   },
   "outputs": [],
   "source": [
    "drop_columns = ['estado_civil']\n",
    "df_participante = df_participante.drop(drop_columns, axis=1)"
   ]
  },
  {
   "cell_type": "markdown",
   "metadata": {},
   "source": [
    "# ativos"
   ]
  },
  {
   "cell_type": "code",
   "execution_count": 57,
   "metadata": {
    "collapsed": false
   },
   "outputs": [],
   "source": [
    "# cria uma tabela com os participantes ativos\n",
    "if 'df_ativos' in locals():\n",
    "    del(df_ativos)\n",
    "\n",
    "df_ativos = DataFrame.copy(df_participante[isnull(df_participante.dib_funcef)])"
   ]
  },
  {
   "cell_type": "code",
   "execution_count": 58,
   "metadata": {
    "collapsed": true
   },
   "outputs": [],
   "source": [
    "df_ativos.index = range(0, len(df_ativos))"
   ]
  },
  {
   "cell_type": "code",
   "execution_count": 59,
   "metadata": {
    "collapsed": false
   },
   "outputs": [
    {
     "data": {
      "text/plain": [
       "casado  sexo_partic\n",
       "False   F              20469\n",
       "        M              23143\n",
       "True    F              18862\n",
       "        M              24250\n",
       "dtype: int64"
      ]
     },
     "execution_count": 59,
     "metadata": {},
     "output_type": "execute_result"
    }
   ],
   "source": [
    "df_ativos.groupby(['casado', 'sexo_partic']).size()"
   ]
  },
  {
   "cell_type": "code",
   "execution_count": 60,
   "metadata": {
    "collapsed": false
   },
   "outputs": [
    {
     "data": {
      "text/plain": [
       "<matplotlib.axes._subplots.AxesSubplot at 0x10e529cf8>"
      ]
     },
     "execution_count": 60,
     "metadata": {},
     "output_type": "execute_result"
    },
    {
     "data": {
      "image/png": "[encoded data removed]",
      "text/plain": [
       "<matplotlib.figure.Figure at 0x10d6e6710>"
      ]
     },
     "metadata": {},
     "output_type": "display_data"
    }
   ],
   "source": [
    "sns.countplot(x='casado', hue='sexo_partic', data=df_ativos)"
   ]
  },
  {
   "cell_type": "code",
   "execution_count": 61,
   "metadata": {
    "collapsed": false
   },
   "outputs": [
    {
     "data": {
      "text/plain": [
       "<matplotlib.axes._subplots.AxesSubplot at 0x11a7a0748>"
      ]
     },
     "execution_count": 61,
     "metadata": {},
     "output_type": "execute_result"
    },
    {
     "data": {
      "image/png": "[encoded data removed]",
      "text/plain": [
       "<matplotlib.figure.Figure at 0x10d752f60>"
      ]
     },
     "metadata": {},
     "output_type": "display_data"
    }
   ],
   "source": [
    "sns.countplot(x = 'idade_partic', hue='sexo_partic', data = df_ativos)"
   ]
  },
  {
   "cell_type": "code",
   "execution_count": 62,
   "metadata": {
    "collapsed": false
   },
   "outputs": [
    {
     "data": {
      "text/plain": [
       "<matplotlib.axes._subplots.AxesSubplot at 0x1127b3828>"
      ]
     },
     "execution_count": 62,
     "metadata": {},
     "output_type": "execute_result"
    },
    {
     "data": {
      "image/png": "[encoded data removed]",
      "text/plain": [
       "<matplotlib.figure.Figure at 0x1087f3b38>"
      ]
     },
     "metadata": {},
     "output_type": "display_data"
    }
   ],
   "source": [
    "sns.stripplot(x = 'sexo_partic', y = 'idade_partic', data = df_ativos, jitter= True)"
   ]
  },
  {
   "cell_type": "code",
   "execution_count": 63,
   "metadata": {
    "collapsed": false
   },
   "outputs": [
    {
     "data": {
      "text/plain": [
       "<matplotlib.axes._subplots.AxesSubplot at 0x11df8a9b0>"
      ]
     },
     "execution_count": 63,
     "metadata": {},
     "output_type": "execute_result"
    },
    {
     "data": {
      "image/png": "[encoded data removed]",
      "text/plain": [
       "<matplotlib.figure.Figure at 0x11df15a90>"
      ]
     },
     "metadata": {},
     "output_type": "display_data"
    }
   ],
   "source": [
    "sns.boxplot(x = 'sexo_partic', y = 'idade_partic', data = df_ativos)"
   ]
  },
  {
   "cell_type": "code",
   "execution_count": 64,
   "metadata": {
    "collapsed": false
   },
   "outputs": [],
   "source": [
    "# une os dados do dependente vitalicio valido\n",
    "df_ativos = merge(df_ativos, df_depend_valido_tmp, how='left', on='id_participante')"
   ]
  },
  {
   "cell_type": "code",
   "execution_count": 65,
   "metadata": {
    "collapsed": true
   },
   "outputs": [],
   "source": [
    "# calcula idade do dependente valido (conjuge) e adiciona o sexo caso nao tenha\n",
    "df_ativos['idade_depend_valido'] = 0\n",
    "\n",
    "for i, row in df_ativos.iterrows():\n",
    "    idade = -1\n",
    "    \n",
    "    idade = tools.calculateAgeDif(row['sexo_partic'], row['idade_partic'], row['diferenca_idade'])\n",
    "    \n",
    "    if isnull(row['sexo_depend_valido']):\n",
    "        if row['sexo_partic'] == 'F':\n",
    "            sexo = 'M'\n",
    "        else:\n",
    "            sexo = 'F'\n",
    "            \n",
    "        df_ativos.set_value(i, 'sexo_depend_valido', sexo)\n",
    "        \n",
    "    df_ativos.set_value(i, 'idade_depend_valido', idade)"
   ]
  },
  {
   "cell_type": "code",
   "execution_count": 66,
   "metadata": {
    "collapsed": false
   },
   "outputs": [],
   "source": [
    "df_ativos['idade_aposentadoria_fundacao'] = [df_avaliacao.idade_aposent_fundacao_fem[0] if sexo == 'F' else df_avaliacao.idade_aposent_fundacao_mas[0] for sexo in df_ativos.sexo_partic]"
   ]
  },
  {
   "cell_type": "code",
   "execution_count": 67,
   "metadata": {
    "collapsed": true
   },
   "outputs": [],
   "source": [
    "df_ativos['idade_inicio_contrib_inss'] = [df_avaliacao.idade_inicio_contrib_inss_fem[0] if sexo == 'F' else df_avaliacao.idade_inicio_contrib_inss_mas[0] for sexo in df_ativos.sexo_partic]"
   ]
  },
  {
   "cell_type": "code",
   "execution_count": 68,
   "metadata": {
    "collapsed": true
   },
   "outputs": [],
   "source": [
    "df_ativos['tempo_contrib_inss'] = [df_avaliacao.tempo_contrib_inss_fem[0] if sexo == 'F' else df_avaliacao.tempo_contrib_inss_mas[0] for sexo in df_ativos.sexo_partic]"
   ]
  },
  {
   "cell_type": "code",
   "execution_count": 69,
   "metadata": {
    "collapsed": true
   },
   "outputs": [],
   "source": [
    "df_ativos['probabilidade_casado'] = [df_avaliacao.prob_aposentado_casado_fem[0] if sexo == 'F' else df_avaliacao.prob_aposentado_casado_mas[0] for sexo in df_ativos.sexo_partic]"
   ]
  },
  {
   "cell_type": "code",
   "execution_count": 124,
   "metadata": {
    "collapsed": true
   },
   "outputs": [],
   "source": [
    "df_ativos['idade_admissao'] = list(map(tools.calculateAge, df_ativos.data_nascimento_partic, df_ativos.data_admissao))"
   ]
  },
  {
   "cell_type": "code",
   "execution_count": 128,
   "metadata": {
    "collapsed": false
   },
   "outputs": [],
   "source": [
    "df_ativos['idade_inicio_contrib_inss'] = [min(a, b) for a, b in zip(df_ativos.idade_inicio_contrib_inss, df_ativos.idade_admissao)]"
   ]
  },
  {
   "cell_type": "code",
   "execution_count": 136,
   "metadata": {
    "collapsed": true
   },
   "outputs": [],
   "source": [
    "def calculateDate(data, anos):\n",
    "    try:\n",
    "        return data.replace(year = int(data.year + anos))\n",
    "    except ValueError:\n",
    "        return data.replace(year = int(data.year + anos), day=28)"
   ]
  },
  {
   "cell_type": "code",
   "execution_count": 146,
   "metadata": {
    "collapsed": false
   },
   "outputs": [],
   "source": [
    "df_ativos['data_inicio_contrib_inss'] = [calculateDate(d, a) for d, a in zip(df_ativos.data_nascimento_partic, df_ativos.idade_inicio_contrib_inss)]"
   ]
  },
  {
   "cell_type": "code",
   "execution_count": 147,
   "metadata": {
    "collapsed": true
   },
   "outputs": [],
   "source": [
    "df_ativos['tempo_aposentadoria_inss'] = [a + b for a, b in zip(df_ativos.idade_inicio_contrib_inss, df_ativos.tempo_contrib_inss)]"
   ]
  },
  {
   "cell_type": "code",
   "execution_count": 148,
   "metadata": {
    "collapsed": true
   },
   "outputs": [],
   "source": [
    "df_ativos['data_aposentadoria_inss'] = [calculateDate(d, a) for d, a in zip(df_ativos.data_nascimento_partic, df_ativos.tempo_aposentadoria_inss)]"
   ]
  },
  {
   "cell_type": "code",
   "execution_count": 151,
   "metadata": {
    "collapsed": false
   },
   "outputs": [
    {
     "data": {
      "text/html": [
       "<div>\n",
       "<table border=\"1\" class=\"dataframe\">\n",
       "  <thead>\n",
       "    <tr style=\"text-align: right;\">\n",
       "      <th></th>\n",
       "      <th>sexo_partic</th>\n",
       "      <th>idade_aposentadoria_fundacao</th>\n",
       "      <th>idade_inicio_contrib_inss</th>\n",
       "      <th>tempo_contrib_inss</th>\n",
       "      <th>diferenca_idade</th>\n",
       "      <th>probabilidade_casado</th>\n",
       "      <th>idade_admissao</th>\n",
       "      <th>data_inicio_contrib_inss</th>\n",
       "      <th>tempo_aposentadoria_inss</th>\n",
       "      <th>data_aposentadoria_inss</th>\n",
       "    </tr>\n",
       "  </thead>\n",
       "  <tbody>\n",
       "    <tr>\n",
       "      <th>0</th>\n",
       "      <td>M</td>\n",
       "      <td>53</td>\n",
       "      <td>18</td>\n",
       "      <td>35</td>\n",
       "      <td>5</td>\n",
       "      <td>0.85</td>\n",
       "      <td>24</td>\n",
       "      <td>1976-04-09</td>\n",
       "      <td>53</td>\n",
       "      <td>2011-04-09</td>\n",
       "    </tr>\n",
       "    <tr>\n",
       "      <th>1</th>\n",
       "      <td>F</td>\n",
       "      <td>48</td>\n",
       "      <td>18</td>\n",
       "      <td>30</td>\n",
       "      <td>2</td>\n",
       "      <td>0.60</td>\n",
       "      <td>22</td>\n",
       "      <td>1979-04-02</td>\n",
       "      <td>48</td>\n",
       "      <td>2009-04-02</td>\n",
       "    </tr>\n",
       "    <tr>\n",
       "      <th>2</th>\n",
       "      <td>M</td>\n",
       "      <td>53</td>\n",
       "      <td>18</td>\n",
       "      <td>35</td>\n",
       "      <td>5</td>\n",
       "      <td>0.85</td>\n",
       "      <td>23</td>\n",
       "      <td>1977-12-17</td>\n",
       "      <td>53</td>\n",
       "      <td>2012-12-17</td>\n",
       "    </tr>\n",
       "    <tr>\n",
       "      <th>3</th>\n",
       "      <td>M</td>\n",
       "      <td>53</td>\n",
       "      <td>18</td>\n",
       "      <td>35</td>\n",
       "      <td>5</td>\n",
       "      <td>0.85</td>\n",
       "      <td>25</td>\n",
       "      <td>1976-02-09</td>\n",
       "      <td>53</td>\n",
       "      <td>2011-02-09</td>\n",
       "    </tr>\n",
       "    <tr>\n",
       "      <th>4</th>\n",
       "      <td>M</td>\n",
       "      <td>53</td>\n",
       "      <td>18</td>\n",
       "      <td>35</td>\n",
       "      <td>5</td>\n",
       "      <td>0.85</td>\n",
       "      <td>23</td>\n",
       "      <td>1977-04-11</td>\n",
       "      <td>53</td>\n",
       "      <td>2012-04-11</td>\n",
       "    </tr>\n",
       "    <tr>\n",
       "      <th>5</th>\n",
       "      <td>F</td>\n",
       "      <td>48</td>\n",
       "      <td>18</td>\n",
       "      <td>30</td>\n",
       "      <td>2</td>\n",
       "      <td>0.60</td>\n",
       "      <td>23</td>\n",
       "      <td>1978-05-31</td>\n",
       "      <td>48</td>\n",
       "      <td>2008-05-31</td>\n",
       "    </tr>\n",
       "    <tr>\n",
       "      <th>6</th>\n",
       "      <td>M</td>\n",
       "      <td>53</td>\n",
       "      <td>18</td>\n",
       "      <td>35</td>\n",
       "      <td>5</td>\n",
       "      <td>0.85</td>\n",
       "      <td>23</td>\n",
       "      <td>1977-07-21</td>\n",
       "      <td>53</td>\n",
       "      <td>2012-07-21</td>\n",
       "    </tr>\n",
       "    <tr>\n",
       "      <th>7</th>\n",
       "      <td>M</td>\n",
       "      <td>53</td>\n",
       "      <td>18</td>\n",
       "      <td>35</td>\n",
       "      <td>5</td>\n",
       "      <td>0.85</td>\n",
       "      <td>25</td>\n",
       "      <td>1976-01-24</td>\n",
       "      <td>53</td>\n",
       "      <td>2011-01-24</td>\n",
       "    </tr>\n",
       "    <tr>\n",
       "      <th>8</th>\n",
       "      <td>F</td>\n",
       "      <td>48</td>\n",
       "      <td>18</td>\n",
       "      <td>30</td>\n",
       "      <td>2</td>\n",
       "      <td>0.60</td>\n",
       "      <td>22</td>\n",
       "      <td>1978-09-24</td>\n",
       "      <td>48</td>\n",
       "      <td>2008-09-24</td>\n",
       "    </tr>\n",
       "    <tr>\n",
       "      <th>9</th>\n",
       "      <td>M</td>\n",
       "      <td>53</td>\n",
       "      <td>18</td>\n",
       "      <td>35</td>\n",
       "      <td>5</td>\n",
       "      <td>0.85</td>\n",
       "      <td>22</td>\n",
       "      <td>1978-09-20</td>\n",
       "      <td>53</td>\n",
       "      <td>2013-09-20</td>\n",
       "    </tr>\n",
       "    <tr>\n",
       "      <th>10</th>\n",
       "      <td>M</td>\n",
       "      <td>53</td>\n",
       "      <td>18</td>\n",
       "      <td>35</td>\n",
       "      <td>5</td>\n",
       "      <td>0.85</td>\n",
       "      <td>23</td>\n",
       "      <td>1977-05-24</td>\n",
       "      <td>53</td>\n",
       "      <td>2012-05-24</td>\n",
       "    </tr>\n",
       "    <tr>\n",
       "      <th>11</th>\n",
       "      <td>F</td>\n",
       "      <td>48</td>\n",
       "      <td>18</td>\n",
       "      <td>30</td>\n",
       "      <td>2</td>\n",
       "      <td>0.60</td>\n",
       "      <td>22</td>\n",
       "      <td>1978-07-14</td>\n",
       "      <td>48</td>\n",
       "      <td>2008-07-14</td>\n",
       "    </tr>\n",
       "    <tr>\n",
       "      <th>12</th>\n",
       "      <td>M</td>\n",
       "      <td>53</td>\n",
       "      <td>18</td>\n",
       "      <td>35</td>\n",
       "      <td>5</td>\n",
       "      <td>0.85</td>\n",
       "      <td>25</td>\n",
       "      <td>1975-10-10</td>\n",
       "      <td>53</td>\n",
       "      <td>2010-10-10</td>\n",
       "    </tr>\n",
       "    <tr>\n",
       "      <th>13</th>\n",
       "      <td>M</td>\n",
       "      <td>53</td>\n",
       "      <td>18</td>\n",
       "      <td>35</td>\n",
       "      <td>5</td>\n",
       "      <td>0.85</td>\n",
       "      <td>23</td>\n",
       "      <td>1978-01-04</td>\n",
       "      <td>53</td>\n",
       "      <td>2013-01-04</td>\n",
       "    </tr>\n",
       "    <tr>\n",
       "      <th>14</th>\n",
       "      <td>M</td>\n",
       "      <td>53</td>\n",
       "      <td>18</td>\n",
       "      <td>35</td>\n",
       "      <td>5</td>\n",
       "      <td>0.85</td>\n",
       "      <td>24</td>\n",
       "      <td>1977-06-24</td>\n",
       "      <td>53</td>\n",
       "      <td>2012-06-24</td>\n",
       "    </tr>\n",
       "    <tr>\n",
       "      <th>15</th>\n",
       "      <td>M</td>\n",
       "      <td>53</td>\n",
       "      <td>18</td>\n",
       "      <td>35</td>\n",
       "      <td>5</td>\n",
       "      <td>0.85</td>\n",
       "      <td>22</td>\n",
       "      <td>1978-09-25</td>\n",
       "      <td>53</td>\n",
       "      <td>2013-09-25</td>\n",
       "    </tr>\n",
       "    <tr>\n",
       "      <th>16</th>\n",
       "      <td>M</td>\n",
       "      <td>53</td>\n",
       "      <td>18</td>\n",
       "      <td>35</td>\n",
       "      <td>5</td>\n",
       "      <td>0.85</td>\n",
       "      <td>24</td>\n",
       "      <td>1976-07-26</td>\n",
       "      <td>53</td>\n",
       "      <td>2011-07-26</td>\n",
       "    </tr>\n",
       "    <tr>\n",
       "      <th>17</th>\n",
       "      <td>M</td>\n",
       "      <td>53</td>\n",
       "      <td>18</td>\n",
       "      <td>35</td>\n",
       "      <td>5</td>\n",
       "      <td>0.85</td>\n",
       "      <td>23</td>\n",
       "      <td>1978-03-18</td>\n",
       "      <td>53</td>\n",
       "      <td>2013-03-18</td>\n",
       "    </tr>\n",
       "    <tr>\n",
       "      <th>18</th>\n",
       "      <td>M</td>\n",
       "      <td>53</td>\n",
       "      <td>18</td>\n",
       "      <td>35</td>\n",
       "      <td>5</td>\n",
       "      <td>0.85</td>\n",
       "      <td>24</td>\n",
       "      <td>1976-08-29</td>\n",
       "      <td>53</td>\n",
       "      <td>2011-08-29</td>\n",
       "    </tr>\n",
       "    <tr>\n",
       "      <th>19</th>\n",
       "      <td>M</td>\n",
       "      <td>53</td>\n",
       "      <td>18</td>\n",
       "      <td>35</td>\n",
       "      <td>5</td>\n",
       "      <td>0.85</td>\n",
       "      <td>21</td>\n",
       "      <td>1979-07-09</td>\n",
       "      <td>53</td>\n",
       "      <td>2014-07-09</td>\n",
       "    </tr>\n",
       "    <tr>\n",
       "      <th>20</th>\n",
       "      <td>M</td>\n",
       "      <td>53</td>\n",
       "      <td>18</td>\n",
       "      <td>35</td>\n",
       "      <td>5</td>\n",
       "      <td>0.85</td>\n",
       "      <td>21</td>\n",
       "      <td>1979-07-23</td>\n",
       "      <td>53</td>\n",
       "      <td>2014-07-23</td>\n",
       "    </tr>\n",
       "    <tr>\n",
       "      <th>21</th>\n",
       "      <td>M</td>\n",
       "      <td>53</td>\n",
       "      <td>18</td>\n",
       "      <td>35</td>\n",
       "      <td>5</td>\n",
       "      <td>0.85</td>\n",
       "      <td>21</td>\n",
       "      <td>1979-02-27</td>\n",
       "      <td>53</td>\n",
       "      <td>2014-02-27</td>\n",
       "    </tr>\n",
       "    <tr>\n",
       "      <th>22</th>\n",
       "      <td>M</td>\n",
       "      <td>53</td>\n",
       "      <td>18</td>\n",
       "      <td>35</td>\n",
       "      <td>5</td>\n",
       "      <td>0.85</td>\n",
       "      <td>21</td>\n",
       "      <td>1979-09-25</td>\n",
       "      <td>53</td>\n",
       "      <td>2014-09-25</td>\n",
       "    </tr>\n",
       "    <tr>\n",
       "      <th>23</th>\n",
       "      <td>M</td>\n",
       "      <td>53</td>\n",
       "      <td>18</td>\n",
       "      <td>35</td>\n",
       "      <td>5</td>\n",
       "      <td>0.85</td>\n",
       "      <td>22</td>\n",
       "      <td>1978-05-25</td>\n",
       "      <td>53</td>\n",
       "      <td>2013-05-25</td>\n",
       "    </tr>\n",
       "    <tr>\n",
       "      <th>24</th>\n",
       "      <td>F</td>\n",
       "      <td>48</td>\n",
       "      <td>18</td>\n",
       "      <td>30</td>\n",
       "      <td>2</td>\n",
       "      <td>0.60</td>\n",
       "      <td>22</td>\n",
       "      <td>1979-01-05</td>\n",
       "      <td>48</td>\n",
       "      <td>2009-01-05</td>\n",
       "    </tr>\n",
       "    <tr>\n",
       "      <th>25</th>\n",
       "      <td>M</td>\n",
       "      <td>53</td>\n",
       "      <td>18</td>\n",
       "      <td>35</td>\n",
       "      <td>5</td>\n",
       "      <td>0.85</td>\n",
       "      <td>20</td>\n",
       "      <td>1980-12-10</td>\n",
       "      <td>53</td>\n",
       "      <td>2015-12-10</td>\n",
       "    </tr>\n",
       "    <tr>\n",
       "      <th>26</th>\n",
       "      <td>M</td>\n",
       "      <td>53</td>\n",
       "      <td>18</td>\n",
       "      <td>35</td>\n",
       "      <td>5</td>\n",
       "      <td>0.85</td>\n",
       "      <td>22</td>\n",
       "      <td>1979-02-04</td>\n",
       "      <td>53</td>\n",
       "      <td>2014-02-04</td>\n",
       "    </tr>\n",
       "    <tr>\n",
       "      <th>27</th>\n",
       "      <td>F</td>\n",
       "      <td>48</td>\n",
       "      <td>18</td>\n",
       "      <td>30</td>\n",
       "      <td>2</td>\n",
       "      <td>0.60</td>\n",
       "      <td>23</td>\n",
       "      <td>1977-10-12</td>\n",
       "      <td>48</td>\n",
       "      <td>2007-10-12</td>\n",
       "    </tr>\n",
       "    <tr>\n",
       "      <th>28</th>\n",
       "      <td>M</td>\n",
       "      <td>53</td>\n",
       "      <td>18</td>\n",
       "      <td>35</td>\n",
       "      <td>5</td>\n",
       "      <td>0.85</td>\n",
       "      <td>26</td>\n",
       "      <td>1974-12-24</td>\n",
       "      <td>53</td>\n",
       "      <td>2009-12-24</td>\n",
       "    </tr>\n",
       "    <tr>\n",
       "      <th>29</th>\n",
       "      <td>F</td>\n",
       "      <td>48</td>\n",
       "      <td>18</td>\n",
       "      <td>30</td>\n",
       "      <td>2</td>\n",
       "      <td>0.60</td>\n",
       "      <td>21</td>\n",
       "      <td>1980-06-27</td>\n",
       "      <td>48</td>\n",
       "      <td>2010-06-27</td>\n",
       "    </tr>\n",
       "    <tr>\n",
       "      <th>...</th>\n",
       "      <td>...</td>\n",
       "      <td>...</td>\n",
       "      <td>...</td>\n",
       "      <td>...</td>\n",
       "      <td>...</td>\n",
       "      <td>...</td>\n",
       "      <td>...</td>\n",
       "      <td>...</td>\n",
       "      <td>...</td>\n",
       "      <td>...</td>\n",
       "    </tr>\n",
       "    <tr>\n",
       "      <th>86694</th>\n",
       "      <td>M</td>\n",
       "      <td>53</td>\n",
       "      <td>18</td>\n",
       "      <td>35</td>\n",
       "      <td>5</td>\n",
       "      <td>0.85</td>\n",
       "      <td>18</td>\n",
       "      <td>1981-11-01</td>\n",
       "      <td>53</td>\n",
       "      <td>2016-11-01</td>\n",
       "    </tr>\n",
       "    <tr>\n",
       "      <th>86695</th>\n",
       "      <td>M</td>\n",
       "      <td>53</td>\n",
       "      <td>18</td>\n",
       "      <td>35</td>\n",
       "      <td>5</td>\n",
       "      <td>0.85</td>\n",
       "      <td>24</td>\n",
       "      <td>1973-02-13</td>\n",
       "      <td>53</td>\n",
       "      <td>2008-02-13</td>\n",
       "    </tr>\n",
       "    <tr>\n",
       "      <th>86696</th>\n",
       "      <td>M</td>\n",
       "      <td>53</td>\n",
       "      <td>18</td>\n",
       "      <td>35</td>\n",
       "      <td>5</td>\n",
       "      <td>0.85</td>\n",
       "      <td>23</td>\n",
       "      <td>1976-01-13</td>\n",
       "      <td>53</td>\n",
       "      <td>2011-01-13</td>\n",
       "    </tr>\n",
       "    <tr>\n",
       "      <th>86697</th>\n",
       "      <td>M</td>\n",
       "      <td>53</td>\n",
       "      <td>18</td>\n",
       "      <td>35</td>\n",
       "      <td>5</td>\n",
       "      <td>0.85</td>\n",
       "      <td>23</td>\n",
       "      <td>1976-06-14</td>\n",
       "      <td>53</td>\n",
       "      <td>2011-06-14</td>\n",
       "    </tr>\n",
       "    <tr>\n",
       "      <th>86698</th>\n",
       "      <td>M</td>\n",
       "      <td>53</td>\n",
       "      <td>18</td>\n",
       "      <td>35</td>\n",
       "      <td>5</td>\n",
       "      <td>0.85</td>\n",
       "      <td>20</td>\n",
       "      <td>1978-08-31</td>\n",
       "      <td>53</td>\n",
       "      <td>2013-08-31</td>\n",
       "    </tr>\n",
       "    <tr>\n",
       "      <th>86699</th>\n",
       "      <td>M</td>\n",
       "      <td>53</td>\n",
       "      <td>18</td>\n",
       "      <td>35</td>\n",
       "      <td>5</td>\n",
       "      <td>0.85</td>\n",
       "      <td>24</td>\n",
       "      <td>1976-01-07</td>\n",
       "      <td>53</td>\n",
       "      <td>2011-01-07</td>\n",
       "    </tr>\n",
       "    <tr>\n",
       "      <th>86700</th>\n",
       "      <td>M</td>\n",
       "      <td>53</td>\n",
       "      <td>18</td>\n",
       "      <td>35</td>\n",
       "      <td>5</td>\n",
       "      <td>0.85</td>\n",
       "      <td>21</td>\n",
       "      <td>1979-04-30</td>\n",
       "      <td>53</td>\n",
       "      <td>2014-04-30</td>\n",
       "    </tr>\n",
       "    <tr>\n",
       "      <th>86701</th>\n",
       "      <td>M</td>\n",
       "      <td>53</td>\n",
       "      <td>18</td>\n",
       "      <td>35</td>\n",
       "      <td>5</td>\n",
       "      <td>0.85</td>\n",
       "      <td>22</td>\n",
       "      <td>1978-11-16</td>\n",
       "      <td>53</td>\n",
       "      <td>2013-11-16</td>\n",
       "    </tr>\n",
       "    <tr>\n",
       "      <th>86702</th>\n",
       "      <td>M</td>\n",
       "      <td>53</td>\n",
       "      <td>18</td>\n",
       "      <td>35</td>\n",
       "      <td>5</td>\n",
       "      <td>0.85</td>\n",
       "      <td>20</td>\n",
       "      <td>1980-01-13</td>\n",
       "      <td>53</td>\n",
       "      <td>2015-01-13</td>\n",
       "    </tr>\n",
       "    <tr>\n",
       "      <th>86703</th>\n",
       "      <td>M</td>\n",
       "      <td>53</td>\n",
       "      <td>18</td>\n",
       "      <td>35</td>\n",
       "      <td>5</td>\n",
       "      <td>0.85</td>\n",
       "      <td>23</td>\n",
       "      <td>1976-01-08</td>\n",
       "      <td>53</td>\n",
       "      <td>2011-01-08</td>\n",
       "    </tr>\n",
       "    <tr>\n",
       "      <th>86704</th>\n",
       "      <td>M</td>\n",
       "      <td>53</td>\n",
       "      <td>18</td>\n",
       "      <td>35</td>\n",
       "      <td>5</td>\n",
       "      <td>0.85</td>\n",
       "      <td>21</td>\n",
       "      <td>1977-08-29</td>\n",
       "      <td>53</td>\n",
       "      <td>2012-08-29</td>\n",
       "    </tr>\n",
       "    <tr>\n",
       "      <th>86705</th>\n",
       "      <td>M</td>\n",
       "      <td>53</td>\n",
       "      <td>18</td>\n",
       "      <td>35</td>\n",
       "      <td>5</td>\n",
       "      <td>0.85</td>\n",
       "      <td>19</td>\n",
       "      <td>1980-11-07</td>\n",
       "      <td>53</td>\n",
       "      <td>2015-11-07</td>\n",
       "    </tr>\n",
       "    <tr>\n",
       "      <th>86706</th>\n",
       "      <td>M</td>\n",
       "      <td>53</td>\n",
       "      <td>18</td>\n",
       "      <td>35</td>\n",
       "      <td>5</td>\n",
       "      <td>0.85</td>\n",
       "      <td>21</td>\n",
       "      <td>1978-05-10</td>\n",
       "      <td>53</td>\n",
       "      <td>2013-05-10</td>\n",
       "    </tr>\n",
       "    <tr>\n",
       "      <th>86707</th>\n",
       "      <td>M</td>\n",
       "      <td>53</td>\n",
       "      <td>18</td>\n",
       "      <td>35</td>\n",
       "      <td>5</td>\n",
       "      <td>0.85</td>\n",
       "      <td>20</td>\n",
       "      <td>1979-11-21</td>\n",
       "      <td>53</td>\n",
       "      <td>2014-11-21</td>\n",
       "    </tr>\n",
       "    <tr>\n",
       "      <th>86708</th>\n",
       "      <td>M</td>\n",
       "      <td>53</td>\n",
       "      <td>18</td>\n",
       "      <td>35</td>\n",
       "      <td>5</td>\n",
       "      <td>0.85</td>\n",
       "      <td>20</td>\n",
       "      <td>1980-03-05</td>\n",
       "      <td>53</td>\n",
       "      <td>2015-03-05</td>\n",
       "    </tr>\n",
       "    <tr>\n",
       "      <th>86709</th>\n",
       "      <td>M</td>\n",
       "      <td>53</td>\n",
       "      <td>18</td>\n",
       "      <td>35</td>\n",
       "      <td>5</td>\n",
       "      <td>0.85</td>\n",
       "      <td>23</td>\n",
       "      <td>1977-10-17</td>\n",
       "      <td>53</td>\n",
       "      <td>2012-10-17</td>\n",
       "    </tr>\n",
       "    <tr>\n",
       "      <th>86710</th>\n",
       "      <td>M</td>\n",
       "      <td>53</td>\n",
       "      <td>18</td>\n",
       "      <td>35</td>\n",
       "      <td>5</td>\n",
       "      <td>0.85</td>\n",
       "      <td>23</td>\n",
       "      <td>1977-01-11</td>\n",
       "      <td>53</td>\n",
       "      <td>2012-01-11</td>\n",
       "    </tr>\n",
       "    <tr>\n",
       "      <th>86711</th>\n",
       "      <td>F</td>\n",
       "      <td>48</td>\n",
       "      <td>18</td>\n",
       "      <td>30</td>\n",
       "      <td>2</td>\n",
       "      <td>0.60</td>\n",
       "      <td>19</td>\n",
       "      <td>1979-08-07</td>\n",
       "      <td>48</td>\n",
       "      <td>2009-08-07</td>\n",
       "    </tr>\n",
       "    <tr>\n",
       "      <th>86712</th>\n",
       "      <td>F</td>\n",
       "      <td>48</td>\n",
       "      <td>18</td>\n",
       "      <td>30</td>\n",
       "      <td>2</td>\n",
       "      <td>0.60</td>\n",
       "      <td>21</td>\n",
       "      <td>1978-05-11</td>\n",
       "      <td>48</td>\n",
       "      <td>2008-05-11</td>\n",
       "    </tr>\n",
       "    <tr>\n",
       "      <th>86713</th>\n",
       "      <td>F</td>\n",
       "      <td>48</td>\n",
       "      <td>18</td>\n",
       "      <td>30</td>\n",
       "      <td>2</td>\n",
       "      <td>0.60</td>\n",
       "      <td>20</td>\n",
       "      <td>1980-07-01</td>\n",
       "      <td>48</td>\n",
       "      <td>2010-07-01</td>\n",
       "    </tr>\n",
       "    <tr>\n",
       "      <th>86714</th>\n",
       "      <td>M</td>\n",
       "      <td>53</td>\n",
       "      <td>18</td>\n",
       "      <td>35</td>\n",
       "      <td>5</td>\n",
       "      <td>0.85</td>\n",
       "      <td>24</td>\n",
       "      <td>1971-06-25</td>\n",
       "      <td>53</td>\n",
       "      <td>2006-06-25</td>\n",
       "    </tr>\n",
       "    <tr>\n",
       "      <th>86715</th>\n",
       "      <td>F</td>\n",
       "      <td>48</td>\n",
       "      <td>18</td>\n",
       "      <td>30</td>\n",
       "      <td>2</td>\n",
       "      <td>0.60</td>\n",
       "      <td>22</td>\n",
       "      <td>1977-04-10</td>\n",
       "      <td>48</td>\n",
       "      <td>2007-04-10</td>\n",
       "    </tr>\n",
       "    <tr>\n",
       "      <th>86716</th>\n",
       "      <td>F</td>\n",
       "      <td>48</td>\n",
       "      <td>18</td>\n",
       "      <td>30</td>\n",
       "      <td>2</td>\n",
       "      <td>0.60</td>\n",
       "      <td>21</td>\n",
       "      <td>1979-09-02</td>\n",
       "      <td>48</td>\n",
       "      <td>2009-09-02</td>\n",
       "    </tr>\n",
       "    <tr>\n",
       "      <th>86717</th>\n",
       "      <td>M</td>\n",
       "      <td>53</td>\n",
       "      <td>18</td>\n",
       "      <td>35</td>\n",
       "      <td>5</td>\n",
       "      <td>0.85</td>\n",
       "      <td>22</td>\n",
       "      <td>1977-11-29</td>\n",
       "      <td>53</td>\n",
       "      <td>2012-11-29</td>\n",
       "    </tr>\n",
       "    <tr>\n",
       "      <th>86718</th>\n",
       "      <td>F</td>\n",
       "      <td>48</td>\n",
       "      <td>18</td>\n",
       "      <td>30</td>\n",
       "      <td>2</td>\n",
       "      <td>0.60</td>\n",
       "      <td>24</td>\n",
       "      <td>1976-04-28</td>\n",
       "      <td>48</td>\n",
       "      <td>2006-04-28</td>\n",
       "    </tr>\n",
       "    <tr>\n",
       "      <th>86719</th>\n",
       "      <td>F</td>\n",
       "      <td>48</td>\n",
       "      <td>18</td>\n",
       "      <td>30</td>\n",
       "      <td>2</td>\n",
       "      <td>0.60</td>\n",
       "      <td>20</td>\n",
       "      <td>1979-09-19</td>\n",
       "      <td>48</td>\n",
       "      <td>2009-09-19</td>\n",
       "    </tr>\n",
       "    <tr>\n",
       "      <th>86720</th>\n",
       "      <td>F</td>\n",
       "      <td>48</td>\n",
       "      <td>18</td>\n",
       "      <td>30</td>\n",
       "      <td>2</td>\n",
       "      <td>0.60</td>\n",
       "      <td>21</td>\n",
       "      <td>1979-08-01</td>\n",
       "      <td>48</td>\n",
       "      <td>2009-08-01</td>\n",
       "    </tr>\n",
       "    <tr>\n",
       "      <th>86721</th>\n",
       "      <td>F</td>\n",
       "      <td>48</td>\n",
       "      <td>18</td>\n",
       "      <td>30</td>\n",
       "      <td>2</td>\n",
       "      <td>0.60</td>\n",
       "      <td>19</td>\n",
       "      <td>1979-09-27</td>\n",
       "      <td>48</td>\n",
       "      <td>2009-09-27</td>\n",
       "    </tr>\n",
       "    <tr>\n",
       "      <th>86722</th>\n",
       "      <td>F</td>\n",
       "      <td>48</td>\n",
       "      <td>18</td>\n",
       "      <td>30</td>\n",
       "      <td>2</td>\n",
       "      <td>0.60</td>\n",
       "      <td>20</td>\n",
       "      <td>1972-11-02</td>\n",
       "      <td>48</td>\n",
       "      <td>2002-11-02</td>\n",
       "    </tr>\n",
       "    <tr>\n",
       "      <th>86723</th>\n",
       "      <td>F</td>\n",
       "      <td>48</td>\n",
       "      <td>18</td>\n",
       "      <td>30</td>\n",
       "      <td>2</td>\n",
       "      <td>0.60</td>\n",
       "      <td>26</td>\n",
       "      <td>1970-08-10</td>\n",
       "      <td>48</td>\n",
       "      <td>2000-08-10</td>\n",
       "    </tr>\n",
       "  </tbody>\n",
       "</table>\n",
       "<p>86724 rows × 10 columns</p>\n",
       "</div>"
      ],
      "text/plain": [
       "      sexo_partic  idade_aposentadoria_fundacao  idade_inicio_contrib_inss  \\\n",
       "0               M                            53                         18   \n",
       "1               F                            48                         18   \n",
       "2               M                            53                         18   \n",
       "3               M                            53                         18   \n",
       "4               M                            53                         18   \n",
       "5               F                            48                         18   \n",
       "6               M                            53                         18   \n",
       "7               M                            53                         18   \n",
       "8               F                            48                         18   \n",
       "9               M                            53                         18   \n",
       "10              M                            53                         18   \n",
       "11              F                            48                         18   \n",
       "12              M                            53                         18   \n",
       "13              M                            53                         18   \n",
       "14              M                            53                         18   \n",
       "15              M                            53                         18   \n",
       "16              M                            53                         18   \n",
       "17              M                            53                         18   \n",
       "18              M                            53                         18   \n",
       "19              M                            53                         18   \n",
       "20              M                            53                         18   \n",
       "21              M                            53                         18   \n",
       "22              M                            53                         18   \n",
       "23              M                            53                         18   \n",
       "24              F                            48                         18   \n",
       "25              M                            53                         18   \n",
       "26              M                            53                         18   \n",
       "27              F                            48                         18   \n",
       "28              M                            53                         18   \n",
       "29              F                            48                         18   \n",
       "...           ...                           ...                        ...   \n",
       "86694           M                            53                         18   \n",
       "86695           M                            53                         18   \n",
       "86696           M                            53                         18   \n",
       "86697           M                            53                         18   \n",
       "86698           M                            53                         18   \n",
       "86699           M                            53                         18   \n",
       "86700           M                            53                         18   \n",
       "86701           M                            53                         18   \n",
       "86702           M                            53                         18   \n",
       "86703           M                            53                         18   \n",
       "86704           M                            53                         18   \n",
       "86705           M                            53                         18   \n",
       "86706           M                            53                         18   \n",
       "86707           M                            53                         18   \n",
       "86708           M                            53                         18   \n",
       "86709           M                            53                         18   \n",
       "86710           M                            53                         18   \n",
       "86711           F                            48                         18   \n",
       "86712           F                            48                         18   \n",
       "86713           F                            48                         18   \n",
       "86714           M                            53                         18   \n",
       "86715           F                            48                         18   \n",
       "86716           F                            48                         18   \n",
       "86717           M                            53                         18   \n",
       "86718           F                            48                         18   \n",
       "86719           F                            48                         18   \n",
       "86720           F                            48                         18   \n",
       "86721           F                            48                         18   \n",
       "86722           F                            48                         18   \n",
       "86723           F                            48                         18   \n",
       "\n",
       "       tempo_contrib_inss  diferenca_idade  probabilidade_casado  \\\n",
       "0                      35                5                  0.85   \n",
       "1                      30                2                  0.60   \n",
       "2                      35                5                  0.85   \n",
       "3                      35                5                  0.85   \n",
       "4                      35                5                  0.85   \n",
       "5                      30                2                  0.60   \n",
       "6                      35                5                  0.85   \n",
       "7                      35                5                  0.85   \n",
       "8                      30                2                  0.60   \n",
       "9                      35                5                  0.85   \n",
       "10                     35                5                  0.85   \n",
       "11                     30                2                  0.60   \n",
       "12                     35                5                  0.85   \n",
       "13                     35                5                  0.85   \n",
       "14                     35                5                  0.85   \n",
       "15                     35                5                  0.85   \n",
       "16                     35                5                  0.85   \n",
       "17                     35                5                  0.85   \n",
       "18                     35                5                  0.85   \n",
       "19                     35                5                  0.85   \n",
       "20                     35                5                  0.85   \n",
       "21                     35                5                  0.85   \n",
       "22                     35                5                  0.85   \n",
       "23                     35                5                  0.85   \n",
       "24                     30                2                  0.60   \n",
       "25                     35                5                  0.85   \n",
       "26                     35                5                  0.85   \n",
       "27                     30                2                  0.60   \n",
       "28                     35                5                  0.85   \n",
       "29                     30                2                  0.60   \n",
       "...                   ...              ...                   ...   \n",
       "86694                  35                5                  0.85   \n",
       "86695                  35                5                  0.85   \n",
       "86696                  35                5                  0.85   \n",
       "86697                  35                5                  0.85   \n",
       "86698                  35                5                  0.85   \n",
       "86699                  35                5                  0.85   \n",
       "86700                  35                5                  0.85   \n",
       "86701                  35                5                  0.85   \n",
       "86702                  35                5                  0.85   \n",
       "86703                  35                5                  0.85   \n",
       "86704                  35                5                  0.85   \n",
       "86705                  35                5                  0.85   \n",
       "86706                  35                5                  0.85   \n",
       "86707                  35                5                  0.85   \n",
       "86708                  35                5                  0.85   \n",
       "86709                  35                5                  0.85   \n",
       "86710                  35                5                  0.85   \n",
       "86711                  30                2                  0.60   \n",
       "86712                  30                2                  0.60   \n",
       "86713                  30                2                  0.60   \n",
       "86714                  35                5                  0.85   \n",
       "86715                  30                2                  0.60   \n",
       "86716                  30                2                  0.60   \n",
       "86717                  35                5                  0.85   \n",
       "86718                  30                2                  0.60   \n",
       "86719                  30                2                  0.60   \n",
       "86720                  30                2                  0.60   \n",
       "86721                  30                2                  0.60   \n",
       "86722                  30                2                  0.60   \n",
       "86723                  30                2                  0.60   \n",
       "\n",
       "       idade_admissao data_inicio_contrib_inss  tempo_aposentadoria_inss  \\\n",
       "0                  24               1976-04-09                        53   \n",
       "1                  22               1979-04-02                        48   \n",
       "2                  23               1977-12-17                        53   \n",
       "3                  25               1976-02-09                        53   \n",
       "4                  23               1977-04-11                        53   \n",
       "5                  23               1978-05-31                        48   \n",
       "6                  23               1977-07-21                        53   \n",
       "7                  25               1976-01-24                        53   \n",
       "8                  22               1978-09-24                        48   \n",
       "9                  22               1978-09-20                        53   \n",
       "10                 23               1977-05-24                        53   \n",
       "11                 22               1978-07-14                        48   \n",
       "12                 25               1975-10-10                        53   \n",
       "13                 23               1978-01-04                        53   \n",
       "14                 24               1977-06-24                        53   \n",
       "15                 22               1978-09-25                        53   \n",
       "16                 24               1976-07-26                        53   \n",
       "17                 23               1978-03-18                        53   \n",
       "18                 24               1976-08-29                        53   \n",
       "19                 21               1979-07-09                        53   \n",
       "20                 21               1979-07-23                        53   \n",
       "21                 21               1979-02-27                        53   \n",
       "22                 21               1979-09-25                        53   \n",
       "23                 22               1978-05-25                        53   \n",
       "24                 22               1979-01-05                        48   \n",
       "25                 20               1980-12-10                        53   \n",
       "26                 22               1979-02-04                        53   \n",
       "27                 23               1977-10-12                        48   \n",
       "28                 26               1974-12-24                        53   \n",
       "29                 21               1980-06-27                        48   \n",
       "...               ...                      ...                       ...   \n",
       "86694              18               1981-11-01                        53   \n",
       "86695              24               1973-02-13                        53   \n",
       "86696              23               1976-01-13                        53   \n",
       "86697              23               1976-06-14                        53   \n",
       "86698              20               1978-08-31                        53   \n",
       "86699              24               1976-01-07                        53   \n",
       "86700              21               1979-04-30                        53   \n",
       "86701              22               1978-11-16                        53   \n",
       "86702              20               1980-01-13                        53   \n",
       "86703              23               1976-01-08                        53   \n",
       "86704              21               1977-08-29                        53   \n",
       "86705              19               1980-11-07                        53   \n",
       "86706              21               1978-05-10                        53   \n",
       "86707              20               1979-11-21                        53   \n",
       "86708              20               1980-03-05                        53   \n",
       "86709              23               1977-10-17                        53   \n",
       "86710              23               1977-01-11                        53   \n",
       "86711              19               1979-08-07                        48   \n",
       "86712              21               1978-05-11                        48   \n",
       "86713              20               1980-07-01                        48   \n",
       "86714              24               1971-06-25                        53   \n",
       "86715              22               1977-04-10                        48   \n",
       "86716              21               1979-09-02                        48   \n",
       "86717              22               1977-11-29                        53   \n",
       "86718              24               1976-04-28                        48   \n",
       "86719              20               1979-09-19                        48   \n",
       "86720              21               1979-08-01                        48   \n",
       "86721              19               1979-09-27                        48   \n",
       "86722              20               1972-11-02                        48   \n",
       "86723              26               1970-08-10                        48   \n",
       "\n",
       "      data_aposentadoria_inss  \n",
       "0                  2011-04-09  \n",
       "1                  2009-04-02  \n",
       "2                  2012-12-17  \n",
       "3                  2011-02-09  \n",
       "4                  2012-04-11  \n",
       "5                  2008-05-31  \n",
       "6                  2012-07-21  \n",
       "7                  2011-01-24  \n",
       "8                  2008-09-24  \n",
       "9                  2013-09-20  \n",
       "10                 2012-05-24  \n",
       "11                 2008-07-14  \n",
       "12                 2010-10-10  \n",
       "13                 2013-01-04  \n",
       "14                 2012-06-24  \n",
       "15                 2013-09-25  \n",
       "16                 2011-07-26  \n",
       "17                 2013-03-18  \n",
       "18                 2011-08-29  \n",
       "19                 2014-07-09  \n",
       "20                 2014-07-23  \n",
       "21                 2014-02-27  \n",
       "22                 2014-09-25  \n",
       "23                 2013-05-25  \n",
       "24                 2009-01-05  \n",
       "25                 2015-12-10  \n",
       "26                 2014-02-04  \n",
       "27                 2007-10-12  \n",
       "28                 2009-12-24  \n",
       "29                 2010-06-27  \n",
       "...                       ...  \n",
       "86694              2016-11-01  \n",
       "86695              2008-02-13  \n",
       "86696              2011-01-13  \n",
       "86697              2011-06-14  \n",
       "86698              2013-08-31  \n",
       "86699              2011-01-07  \n",
       "86700              2014-04-30  \n",
       "86701              2013-11-16  \n",
       "86702              2015-01-13  \n",
       "86703              2011-01-08  \n",
       "86704              2012-08-29  \n",
       "86705              2015-11-07  \n",
       "86706              2013-05-10  \n",
       "86707              2014-11-21  \n",
       "86708              2015-03-05  \n",
       "86709              2012-10-17  \n",
       "86710              2012-01-11  \n",
       "86711              2009-08-07  \n",
       "86712              2008-05-11  \n",
       "86713              2010-07-01  \n",
       "86714              2006-06-25  \n",
       "86715              2007-04-10  \n",
       "86716              2009-09-02  \n",
       "86717              2012-11-29  \n",
       "86718              2006-04-28  \n",
       "86719              2009-09-19  \n",
       "86720              2009-08-01  \n",
       "86721              2009-09-27  \n",
       "86722              2002-11-02  \n",
       "86723              2000-08-10  \n",
       "\n",
       "[86724 rows x 10 columns]"
      ]
     },
     "execution_count": 151,
     "metadata": {},
     "output_type": "execute_result"
    }
   ],
   "source": [
    "df_ativos[['sexo_partic', 'idade_aposentadoria_fundacao', 'idade_inicio_contrib_inss', 'tempo_contrib_inss', 'diferenca_idade', 'probabilidade_casado', 'idade_admissao', 'data_inicio_contrib_inss', 'tempo_aposentadoria_inss', 'data_aposentadoria_inss']]"
   ]
  },
  {
   "cell_type": "code",
   "execution_count": 71,
   "metadata": {
    "collapsed": false
   },
   "outputs": [],
   "source": [
    "# df_ativos['idade_depend_valido'] = list(map(tools.calculateAgeDif, df_ativos.sexo_partic, df_ativos.idade_partic, df_ativos.diferenca_idade))"
   ]
  },
  {
   "cell_type": "code",
   "execution_count": 72,
   "metadata": {
    "collapsed": false
   },
   "outputs": [
    {
     "data": {
      "text/plain": [
       "<matplotlib.axes._subplots.AxesSubplot at 0x11050fc18>"
      ]
     },
     "execution_count": 72,
     "metadata": {},
     "output_type": "execute_result"
    },
    {
     "data": {
      "image/png": "[encoded data removed]",
      "text/plain": [
       "<matplotlib.figure.Figure at 0x10d6c69b0>"
      ]
     },
     "metadata": {},
     "output_type": "display_data"
    }
   ],
   "source": [
    "sns.countplot(x = 'sexo_depend_valido', data = df_ativos)"
   ]
  },
  {
   "cell_type": "code",
   "execution_count": 73,
   "metadata": {
    "collapsed": false
   },
   "outputs": [
    {
     "data": {
      "text/plain": [
       "<matplotlib.axes._subplots.AxesSubplot at 0x11df35668>"
      ]
     },
     "execution_count": 73,
     "metadata": {},
     "output_type": "execute_result"
    },
    {
     "data": {
      "image/png": "[encoded data removed]",
      "text/plain": [
       "<matplotlib.figure.Figure at 0x112ca61d0>"
      ]
     },
     "metadata": {},
     "output_type": "display_data"
    }
   ],
   "source": [
    "sns.boxplot(x = 'sexo_depend_valido', y = 'idade_depend_valido', data = df_ativos)"
   ]
  },
  {
   "cell_type": "code",
   "execution_count": 74,
   "metadata": {
    "collapsed": false
   },
   "outputs": [],
   "source": [
    "# df_ativos[['sexo_partic', 'idade_partic', 'diferenca_idade', 'sexo_depend_valido', 'idade_depend_valido']]"
   ]
  },
  {
   "cell_type": "code",
   "execution_count": 75,
   "metadata": {
    "collapsed": true
   },
   "outputs": [],
   "source": [
    "# campo pra informar se o participante é assistido = 1 e ativos = 0\n",
    "# df_participante['assistido'] = list(map(lambda d: True if not pd.isnull(d) else False, df_participante.dib_funcef))"
   ]
  },
  {
   "cell_type": "code",
   "execution_count": 76,
   "metadata": {
    "collapsed": true
   },
   "outputs": [],
   "source": [
    "# apaga as colunas nao utilizadas nos calculos\n",
    "# drop_columns = ['data_nascimento_partic', 'estado_civil', 'matricula_titular', 'migrado', 'CD_SITUACAO_FUNDACAO', 'data_nascimento_depend_valido', 'diferenca_idade', 'casado', 'deficiente']\n",
    "# df_ativos = df_ativos.drop(drop_columns, axis=1)"
   ]
  },
  {
   "cell_type": "code",
   "execution_count": 77,
   "metadata": {
    "collapsed": false,
    "scrolled": true
   },
   "outputs": [],
   "source": [
    "# df_ativos.head()"
   ]
  },
  {
   "cell_type": "code",
   "execution_count": 78,
   "metadata": {
    "collapsed": false
   },
   "outputs": [],
   "source": [
    "# df = df_ativos.apply(tools.func1, axis=1)"
   ]
  },
  {
   "cell_type": "markdown",
   "metadata": {},
   "source": [
    "# assistidos (aposentados + pensionistas)"
   ]
  },
  {
   "cell_type": "code",
   "execution_count": 79,
   "metadata": {
    "collapsed": false
   },
   "outputs": [],
   "source": [
    "# cria uma tabela com os participantes assistidos (aposentados e pensionistas)\n",
    "if 'df_assistidos' in locals():\n",
    "    del(df_assistidos)\n",
    "    \n",
    "df_assistidos = DataFrame.copy(df_participante[notnull(df_participante.dib_funcef)])"
   ]
  },
  {
   "cell_type": "code",
   "execution_count": 80,
   "metadata": {
    "collapsed": false
   },
   "outputs": [],
   "source": [
    "df_assistidos.index = range(0, len(df_assistidos))"
   ]
  },
  {
   "cell_type": "code",
   "execution_count": 81,
   "metadata": {
    "collapsed": false
   },
   "outputs": [],
   "source": [
    "# df_assistidos.index"
   ]
  },
  {
   "cell_type": "code",
   "execution_count": 82,
   "metadata": {
    "collapsed": false
   },
   "outputs": [],
   "source": [
    "# define o tipo de assistido[aposentado = 1 ou pensionista = 2]\n",
    "df_assistidos['tipo_assistido'] = list(map(tools.getTipoAssistido, df_assistidos.matricula_titular))"
   ]
  },
  {
   "cell_type": "code",
   "execution_count": 83,
   "metadata": {
    "collapsed": false
   },
   "outputs": [
    {
     "data": {
      "text/plain": [
       "<matplotlib.axes._subplots.AxesSubplot at 0x103ad8860>"
      ]
     },
     "execution_count": 83,
     "metadata": {},
     "output_type": "execute_result"
    },
    {
     "data": {
      "image/png": "[encoded data removed]",
      "text/plain": [
       "<matplotlib.figure.Figure at 0x10e654780>"
      ]
     },
     "metadata": {},
     "output_type": "display_data"
    }
   ],
   "source": [
    "sns.countplot(x = 'tipo_assistido', hue= 'sexo_partic', data= df_assistidos)"
   ]
  },
  {
   "cell_type": "markdown",
   "metadata": {},
   "source": [
    "# calcula idade dependente valido (conjuge)"
   ]
  },
  {
   "cell_type": "code",
   "execution_count": 84,
   "metadata": {
    "collapsed": false
   },
   "outputs": [],
   "source": [
    "# df_depend_valido_idade_p1 = pd.merge(df_assistidos[['id_participante']][df_assistidos.tipo_assistido == 1], df_depend_valido_tmp[['id_participante', 'data_nascimento_depend_valido']], on='id_participante', how='inner')"
   ]
  },
  {
   "cell_type": "code",
   "execution_count": 85,
   "metadata": {
    "collapsed": false
   },
   "outputs": [],
   "source": [
    "# df_depend_valido_idade_p2 = pd.merge(df_assistidos[['id_participante']][(df_assistidos.tipo_assistido == 1) & (df_assistidos.casado)], df_depend_valido_tmp[['id_participante', 'data_nascimento_depend_valido']], on='id_participante', how='left')\n",
    "# df_assistidos[(df_assistidos.casado) & (pd.isnull(df_assistidos.data_nascimento_depend_valido))]\n",
    "\n",
    "# import pandasql as ps\n",
    "# pysql = lambda q: ps.sqldf(q, globals())\n",
    "\n",
    "# query = \"select t1.id_participante, t1.casado, t1.data_nascimento_partic \\\n",
    "#          from df_assistidos t1 \\\n",
    "#          where not exists (select * from df_depend_valido_tmp t2 where t2.id_participante = t1.id_participante) \\\n",
    "#          and casado = 1\"\n",
    "# df = pysql(query)"
   ]
  },
  {
   "cell_type": "code",
   "execution_count": 86,
   "metadata": {
    "collapsed": false
   },
   "outputs": [],
   "source": [
    "# teste de calculo da idade dos dependentes validos vitalicios - nao funcional\n",
    "# df['idade'] = 0\n",
    "# for row in df.itertuples(index=True, name='Pandas'):\n",
    "#     idade = 0\n",
    "#     tipo_assistido = getattr(row, 'tipo_assistido')\n",
    "    \n",
    "#     if tipo_assistido == 1:\n",
    "#         idade = 10\n",
    "        \n",
    "#     setattr(row, 'idade', idade)"
   ]
  },
  {
   "cell_type": "code",
   "execution_count": 87,
   "metadata": {
    "collapsed": true
   },
   "outputs": [],
   "source": [
    "df_assistidos = merge(df_assistidos, df_depend_valido_tmp, on= 'id_participante', how= 'left')"
   ]
  },
  {
   "cell_type": "code",
   "execution_count": 88,
   "metadata": {
    "collapsed": false
   },
   "outputs": [],
   "source": [
    "# este codigo esta funcionando para calcular a idade dos dependentes validos vitalicios\n",
    "# cria a coluna idade dependente valido e inicializa com 0\n",
    "df_assistidos['idade_depend_valido'] = 0\n",
    "\n",
    "for i, row in df_assistidos.iterrows():\n",
    "    idade = -1\n",
    "    \n",
    "    if row['tipo_assistido'] == 1:\n",
    "        if notnull(row['data_nascimento_depend_valido']):\n",
    "            idade = tools.calculateAge(row['data_nascimento_depend_valido'], df_avaliacao.data_calculo[0])\n",
    "        elif isnull(row['data_nascimento_depend_valido']) and row['casado']:\n",
    "            idade = tools.calculateAgeDif(row['sexo_partic'], row['idade_partic'], row['diferenca_idade'])\n",
    "            \n",
    "            if row['sexo_partic'] == 'F':\n",
    "                sexo = 'M'\n",
    "            else:\n",
    "                sexo = 'F'\n",
    "                \n",
    "            df_assistidos.set_value(i, 'sexo_depend_valido', sexo)\n",
    "        \n",
    "    df_assistidos.set_value(i, 'idade_depend_valido', idade)"
   ]
  },
  {
   "cell_type": "code",
   "execution_count": 89,
   "metadata": {
    "collapsed": false
   },
   "outputs": [
    {
     "data": {
      "text/plain": [
       "<matplotlib.axes._subplots.AxesSubplot at 0x10e6882e8>"
      ]
     },
     "execution_count": 89,
     "metadata": {},
     "output_type": "execute_result"
    },
    {
     "data": {
      "image/png": "[encoded data removed]",
      "text/plain": [
       "<matplotlib.figure.Figure at 0x12631cf28>"
      ]
     },
     "metadata": {},
     "output_type": "display_data"
    }
   ],
   "source": [
    "sns.boxplot(x = 'sexo_depend_valido', y = 'idade_depend_valido', data = df_assistidos[df_assistidos.tipo_assistido == 1])"
   ]
  },
  {
   "cell_type": "code",
   "execution_count": 90,
   "metadata": {
    "collapsed": false
   },
   "outputs": [
    {
     "data": {
      "text/plain": [
       "<matplotlib.axes._subplots.AxesSubplot at 0x125ae6668>"
      ]
     },
     "execution_count": 90,
     "metadata": {},
     "output_type": "execute_result"
    },
    {
     "data": {
      "image/png": "[encoded data removed]",
      "text/plain": [
       "<matplotlib.figure.Figure at 0x114de6518>"
      ]
     },
     "metadata": {},
     "output_type": "display_data"
    }
   ],
   "source": [
    "sns.countplot(x = 'idade_depend_valido', hue='sexo_depend_valido', data = df_assistidos[df_assistidos.tipo_assistido == 1])"
   ]
  },
  {
   "cell_type": "code",
   "execution_count": 91,
   "metadata": {
    "collapsed": false
   },
   "outputs": [
    {
     "data": {
      "text/plain": [
       "sexo_depend_valido\n",
       "F    1632\n",
       "M    1528\n",
       "dtype: int64"
      ]
     },
     "execution_count": 91,
     "metadata": {},
     "output_type": "execute_result"
    }
   ],
   "source": [
    "df_assistidos.groupby('sexo_depend_valido').size()"
   ]
  },
  {
   "cell_type": "code",
   "execution_count": 92,
   "metadata": {
    "collapsed": false
   },
   "outputs": [],
   "source": [
    "# df_assistidos[['data_nascimento_depend_valido', 'idade_depend_valido']]"
   ]
  },
  {
   "cell_type": "code",
   "execution_count": 93,
   "metadata": {
    "collapsed": false
   },
   "outputs": [],
   "source": [
    "# df_assistidos[['data_nascimento_partic', 'sexo_partic', 'casado', 'diferenca_idade', 'data_nascimento_depend_valido', 'tipo_assistido']]"
   ]
  },
  {
   "cell_type": "code",
   "execution_count": 94,
   "metadata": {
    "collapsed": false
   },
   "outputs": [],
   "source": [
    "# for index, row in df_assistidos.iterrows():\n",
    "#     if row.tipo_assistido == 1:\n",
    "#         if pd.notnull(row.data_nascimento_depend_valido):\n",
    "#             row[idade_depend_valido] = tools.calculateAge(row.data_nascimento_depend_valido, df_avaliacao.data_calculo)\n",
    "#         else:\n",
    "#             row[idade_depend_valido] = 0"
   ]
  },
  {
   "cell_type": "markdown",
   "metadata": {},
   "source": [
    "# calcula idade dependente temporario (filho válido)"
   ]
  },
  {
   "cell_type": "code",
   "execution_count": 95,
   "metadata": {
    "collapsed": false
   },
   "outputs": [],
   "source": [
    "# adiciona os dependentes vitalicio temporario\n",
    "if len(df_assistidos) > 0:\n",
    "    df_assistidos = merge(df_assistidos, df_depend_temporario_tmp, how='left', on='id_participante')\n",
    "#     df_assistidos = pd.merge(df_assistidos, df_depend_invalido_tmp, how='left', on='id_participante')"
   ]
  },
  {
   "cell_type": "code",
   "execution_count": 96,
   "metadata": {
    "collapsed": false
   },
   "outputs": [],
   "source": [
    "# apaga data nascimento e sexo dependentes temporarios que são pensionistas (tipo assistido = 2)\n",
    "# for i, row in df_assistidos.iterrows():\n",
    "#     if row['tipo_assistido'] == 2:\n",
    "#         df_assistidos.set_value(i, 'sexo_depend_temporario', np.NaN)\n",
    "#         df_assistidos.set_value(i, 'data_nascimento_depend_temporario', NaT)"
   ]
  },
  {
   "cell_type": "code",
   "execution_count": 97,
   "metadata": {
    "collapsed": false
   },
   "outputs": [],
   "source": [
    "# calcula idade dos dependente vitalicio temporario dos aposentados (tipo assistido = 1)\n",
    "# apaga data nascimento e sexo dependentes temporarios que são pensionistas (tipo assistido = 2)\n",
    "\n",
    "df_assistidos['idade_depend_temporario'] = 0\n",
    "\n",
    "for i, row in df_assistidos.iterrows():\n",
    "    if row['tipo_assistido'] == 1:\n",
    "        if notnull(row['data_nascimento_depend_temporario']):\n",
    "            idade = tools.calculateAge(row['data_nascimento_depend_temporario'], df_avaliacao.data_calculo[0])\n",
    "        \n",
    "            if idade <= df_avaliacao.maioridade_plano[0]:\n",
    "                df_assistidos.set_value(i, 'idade_depend_temporario', idade)\n",
    "            else:\n",
    "                df_assistidos.set_value(i, 'sexo_depend_temporario', np.NaN)\n",
    "                df_assistidos.set_value(i, 'data_nascimento_depend_temporario', NaT)\n",
    "    else:\n",
    "        df_assistidos.set_value(i, 'sexo_depend_temporario', np.NaN)\n",
    "        df_assistidos.set_value(i, 'data_nascimento_depend_temporario', NaT)"
   ]
  },
  {
   "cell_type": "code",
   "execution_count": 98,
   "metadata": {
    "collapsed": false
   },
   "outputs": [
    {
     "data": {
      "image/png": "[encoded data removed]",
      "text/plain": [
       "<matplotlib.figure.Figure at 0x1231abcc0>"
      ]
     },
     "metadata": {},
     "output_type": "display_data"
    }
   ],
   "source": [
    "if len(df_assistidos[(df_assistidos.tipo_assistido == 1) & (notnull(df_assistidos.data_nascimento_depend_temporario))]) > 0:\n",
    "    sns.countplot(x = 'idade_depend_temporario', hue='sexo_depend_temporario', data = df_assistidos[df_assistidos.tipo_assistido == 1])"
   ]
  },
  {
   "cell_type": "code",
   "execution_count": 99,
   "metadata": {
    "collapsed": false
   },
   "outputs": [
    {
     "data": {
      "image/png": "[encoded data removed]",
      "text/plain": [
       "<matplotlib.figure.Figure at 0x10ea4e668>"
      ]
     },
     "metadata": {},
     "output_type": "display_data"
    }
   ],
   "source": [
    "if len(df_assistidos[(df_assistidos.tipo_assistido == 1) & (notnull(df_assistidos.data_nascimento_depend_temporario))]) > 0:\n",
    "    sns.boxplot(x = 'sexo_depend_temporario', y = 'idade_depend_temporario', data = df_assistidos[df_assistidos.tipo_assistido == 1])"
   ]
  },
  {
   "cell_type": "markdown",
   "metadata": {},
   "source": [
    "# calcula idade dependente invalido (conjuge ou filho inválido)"
   ]
  },
  {
   "cell_type": "code",
   "execution_count": 100,
   "metadata": {
    "collapsed": false
   },
   "outputs": [],
   "source": [
    "# adiciona os dependentes vitalicio invalido\n",
    "if len(df_assistidos) > 0:\n",
    "#     df_assistidos = pd.merge(df_assistidos, df_depend_temporario_tmp, how='left', on='id_participante')\n",
    "    df_assistidos = merge(df_assistidos, df_depend_invalido_tmp, how='left', on='id_participante')"
   ]
  },
  {
   "cell_type": "code",
   "execution_count": 101,
   "metadata": {
    "collapsed": false
   },
   "outputs": [],
   "source": [
    "# calcula idade dos dependente vitalicio invalido dos aposentados (tipo assistido = 1)\n",
    "# apaga data nascimento e sexo dependentes temporarios que são pensionistas (tipo assistido = 2)\n",
    "\n",
    "df_assistidos['idade_depend_invalido'] = 0\n",
    "\n",
    "for i, row in df_assistidos.iterrows():\n",
    "    if row['tipo_assistido'] == 1:\n",
    "        if notnull(row['data_nascimento_depend_invalido']):\n",
    "            idade = tools.calculateAge(row['data_nascimento_depend_invalido'], df_avaliacao.data_calculo[0])\n",
    "            df_assistidos.set_value(i, 'idade_depend_temporario', idade)\n",
    "    else:\n",
    "        df_assistidos.set_value(i, 'sexo_depend_invalido', np.NaN)\n",
    "        df_assistidos.set_value(i, 'data_nascimento_depend_invalido', NaT)"
   ]
  },
  {
   "cell_type": "code",
   "execution_count": 102,
   "metadata": {
    "collapsed": false
   },
   "outputs": [],
   "source": [
    "# df_assistidos[['data_nascimento_depend_invalido', 'sexo_depend_invalido', 'idade_depend_invalido']]"
   ]
  },
  {
   "cell_type": "code",
   "execution_count": 103,
   "metadata": {
    "collapsed": false
   },
   "outputs": [],
   "source": [
    "if len(df_assistidos[(df_assistidos.tipo_assistido == 1) & (notnull(df_assistidos.data_nascimento_depend_invalido))]) > 0:\n",
    "    sns.countplot(x = 'idade_depend_invalido', hue='sexo_depend_invalido', data = df_assistidos[df_assistidos.tipo_assistido == 1])"
   ]
  },
  {
   "cell_type": "code",
   "execution_count": 104,
   "metadata": {
    "collapsed": false
   },
   "outputs": [],
   "source": [
    "if len(df_assistidos[(df_assistidos.tipo_assistido == 1) & (notnull(df_assistidos.data_nascimento_depend_invalido))]) > 0:\n",
    "    sns.boxplot(x = 'sexo_depend_invalido', y = 'idade_depend_invalido', data = df_assistidos[df_assistidos.tipo_assistido == 1])"
   ]
  },
  {
   "cell_type": "code",
   "execution_count": 105,
   "metadata": {
    "collapsed": true
   },
   "outputs": [],
   "source": [
    "# calcula idade dependente vitalicio invalido\n",
    "# df_assistidos['idade_depend_invalido'] = list(map(tools.calculateAge, df_assistidos.data_nascimento_depend_invalido, repeat(df_avaliacao.data_calculo[0], len(df_assistidos))))"
   ]
  },
  {
   "cell_type": "code",
   "execution_count": 106,
   "metadata": {
    "collapsed": false
   },
   "outputs": [],
   "source": [
    "# df_assistidos.idade_depend_temporario[pd.notnull(df_assistidos.idade_depend_temporario)]"
   ]
  },
  {
   "cell_type": "code",
   "execution_count": 107,
   "metadata": {
    "collapsed": false
   },
   "outputs": [],
   "source": [
    "# df_assistidos.idade_depend_temporario[df_assistidos.idade_depend_temporario > 21]"
   ]
  },
  {
   "cell_type": "code",
   "execution_count": 108,
   "metadata": {
    "collapsed": false
   },
   "outputs": [],
   "source": [
    "# df_assistidos[['data_nascimento_depend_temporario', 'sexo_depend_temporario', 'idade_depend_temporario']]"
   ]
  },
  {
   "cell_type": "code",
   "execution_count": 109,
   "metadata": {
    "collapsed": true
   },
   "outputs": [],
   "source": [
    "df_assistidos['idade_depend_invalido'] = list(map(tools.calculateAge, df_assistidos.data_nascimento_depend_invalido, repeat(df_avaliacao.data_calculo, len(df_assistidos))))"
   ]
  },
  {
   "cell_type": "code",
   "execution_count": 110,
   "metadata": {
    "collapsed": false
   },
   "outputs": [],
   "source": [
    "# df_assistidos[['data_nascimento_depend_invalido', 'sexo_depend_invalido', 'idade_depend_invalido']]"
   ]
  },
  {
   "cell_type": "code",
   "execution_count": 111,
   "metadata": {
    "collapsed": false
   },
   "outputs": [],
   "source": [
    "# apaga as colunas que não são utilizadas nos calculos\n",
    "drop_columns = ['data_nascimento_depend_invalido', 'data_nascimento_depend_temporario', 'data_nascimento_depend_valido', 'data_nascimento_partic', 'casado', 'diferenca_idade']\n",
    "df_assistidos = df_assistidos.drop(drop_columns, axis = 1)"
   ]
  },
  {
   "cell_type": "code",
   "execution_count": 112,
   "metadata": {
    "collapsed": false
   },
   "outputs": [
    {
     "data": {
      "text/html": [
       "<div>\n",
       "<table border=\"1\" class=\"dataframe\">\n",
       "  <thead>\n",
       "    <tr style=\"text-align: right;\">\n",
       "      <th></th>\n",
       "      <th>id_participante</th>\n",
       "      <th>cadastro</th>\n",
       "      <th>matricula</th>\n",
       "      <th>sexo_partic</th>\n",
       "      <th>patrocinadora</th>\n",
       "      <th>data_admissao</th>\n",
       "      <th>data_associacao</th>\n",
       "      <th>pbe</th>\n",
       "      <th>deficiente</th>\n",
       "      <th>matricula_titular</th>\n",
       "      <th>migrado</th>\n",
       "      <th>data_adesao</th>\n",
       "      <th>saldo_conta_partic</th>\n",
       "      <th>saldo_conta_patroc</th>\n",
       "      <th>reserva_bpd</th>\n",
       "      <th>saldo_portado</th>\n",
       "      <th>beneficio_saldado</th>\n",
       "      <th>salario_participacao</th>\n",
       "      <th>CD_SITUACAO_FUNDACAO</th>\n",
       "      <th>contribuicao_partic</th>\n",
       "      <th>contribuicao_patroc</th>\n",
       "      <th>dib_inss</th>\n",
       "      <th>valor_beneficio_inss</th>\n",
       "      <th>valor_beneficio_funcef</th>\n",
       "      <th>dib_funcef</th>\n",
       "      <th>tipo_beneficio</th>\n",
       "      <th>idade_partic</th>\n",
       "      <th>tipo_assistido</th>\n",
       "      <th>sexo_depend_valido</th>\n",
       "      <th>idade_depend_valido</th>\n",
       "      <th>sexo_depend_temporario</th>\n",
       "      <th>idade_depend_temporario</th>\n",
       "      <th>sexo_depend_invalido</th>\n",
       "      <th>idade_depend_invalido</th>\n",
       "    </tr>\n",
       "  </thead>\n",
       "  <tbody>\n",
       "    <tr>\n",
       "      <th>0</th>\n",
       "      <td>10123420</td>\n",
       "      <td>10809</td>\n",
       "      <td>0000247</td>\n",
       "      <td>M</td>\n",
       "      <td>91008</td>\n",
       "      <td>1983-02-28</td>\n",
       "      <td>1983-02-28</td>\n",
       "      <td>0.0</td>\n",
       "      <td>False</td>\n",
       "      <td>NaN</td>\n",
       "      <td>True</td>\n",
       "      <td>2006-01-09</td>\n",
       "      <td>0.0</td>\n",
       "      <td>0.0</td>\n",
       "      <td>0.0</td>\n",
       "      <td>0.0</td>\n",
       "      <td>0.0</td>\n",
       "      <td>0.0</td>\n",
       "      <td>4</td>\n",
       "      <td>0.0</td>\n",
       "      <td>0.0</td>\n",
       "      <td>2010-01-11</td>\n",
       "      <td>3182.15</td>\n",
       "      <td>707.70</td>\n",
       "      <td>2013-01-03</td>\n",
       "      <td>1.0</td>\n",
       "      <td>59</td>\n",
       "      <td>1</td>\n",
       "      <td>NaN</td>\n",
       "      <td>-1</td>\n",
       "      <td>M</td>\n",
       "      <td>8</td>\n",
       "      <td>NaN</td>\n",
       "      <td>0</td>\n",
       "    </tr>\n",
       "    <tr>\n",
       "      <th>1</th>\n",
       "      <td>10123421</td>\n",
       "      <td>10809</td>\n",
       "      <td>0000419</td>\n",
       "      <td>F</td>\n",
       "      <td>91008</td>\n",
       "      <td>1983-02-21</td>\n",
       "      <td>1983-02-21</td>\n",
       "      <td>0.0</td>\n",
       "      <td>False</td>\n",
       "      <td>NaN</td>\n",
       "      <td>True</td>\n",
       "      <td>2006-01-09</td>\n",
       "      <td>0.0</td>\n",
       "      <td>0.0</td>\n",
       "      <td>0.0</td>\n",
       "      <td>0.0</td>\n",
       "      <td>0.0</td>\n",
       "      <td>0.0</td>\n",
       "      <td>4</td>\n",
       "      <td>0.0</td>\n",
       "      <td>0.0</td>\n",
       "      <td>2013-02-21</td>\n",
       "      <td>2875.15</td>\n",
       "      <td>834.72</td>\n",
       "      <td>2016-04-25</td>\n",
       "      <td>1.0</td>\n",
       "      <td>55</td>\n",
       "      <td>1</td>\n",
       "      <td>M</td>\n",
       "      <td>57</td>\n",
       "      <td>NaN</td>\n",
       "      <td>0</td>\n",
       "      <td>NaN</td>\n",
       "      <td>0</td>\n",
       "    </tr>\n",
       "    <tr>\n",
       "      <th>2</th>\n",
       "      <td>10123422</td>\n",
       "      <td>10809</td>\n",
       "      <td>0000595</td>\n",
       "      <td>M</td>\n",
       "      <td>91008</td>\n",
       "      <td>1983-02-21</td>\n",
       "      <td>1983-02-21</td>\n",
       "      <td>0.0</td>\n",
       "      <td>False</td>\n",
       "      <td>NaN</td>\n",
       "      <td>True</td>\n",
       "      <td>2006-01-09</td>\n",
       "      <td>0.0</td>\n",
       "      <td>0.0</td>\n",
       "      <td>0.0</td>\n",
       "      <td>0.0</td>\n",
       "      <td>0.0</td>\n",
       "      <td>0.0</td>\n",
       "      <td>4</td>\n",
       "      <td>0.0</td>\n",
       "      <td>0.0</td>\n",
       "      <td>2011-04-24</td>\n",
       "      <td>2903.90</td>\n",
       "      <td>440.59</td>\n",
       "      <td>2012-07-28</td>\n",
       "      <td>1.0</td>\n",
       "      <td>58</td>\n",
       "      <td>1</td>\n",
       "      <td>F</td>\n",
       "      <td>55</td>\n",
       "      <td>NaN</td>\n",
       "      <td>0</td>\n",
       "      <td>NaN</td>\n",
       "      <td>0</td>\n",
       "    </tr>\n",
       "    <tr>\n",
       "      <th>3</th>\n",
       "      <td>10123423</td>\n",
       "      <td>10809</td>\n",
       "      <td>0000885</td>\n",
       "      <td>F</td>\n",
       "      <td>91008</td>\n",
       "      <td>1983-10-02</td>\n",
       "      <td>1983-10-02</td>\n",
       "      <td>0.0</td>\n",
       "      <td>False</td>\n",
       "      <td>NaN</td>\n",
       "      <td>True</td>\n",
       "      <td>2006-01-09</td>\n",
       "      <td>0.0</td>\n",
       "      <td>0.0</td>\n",
       "      <td>0.0</td>\n",
       "      <td>0.0</td>\n",
       "      <td>0.0</td>\n",
       "      <td>0.0</td>\n",
       "      <td>4</td>\n",
       "      <td>0.0</td>\n",
       "      <td>0.0</td>\n",
       "      <td>2012-03-01</td>\n",
       "      <td>4190.99</td>\n",
       "      <td>146.30</td>\n",
       "      <td>2012-03-01</td>\n",
       "      <td>1.0</td>\n",
       "      <td>58</td>\n",
       "      <td>1</td>\n",
       "      <td>NaN</td>\n",
       "      <td>-1</td>\n",
       "      <td>NaN</td>\n",
       "      <td>0</td>\n",
       "      <td>NaN</td>\n",
       "      <td>0</td>\n",
       "    </tr>\n",
       "    <tr>\n",
       "      <th>4</th>\n",
       "      <td>10123424</td>\n",
       "      <td>10809</td>\n",
       "      <td>0000968</td>\n",
       "      <td>F</td>\n",
       "      <td>91008</td>\n",
       "      <td>1983-02-21</td>\n",
       "      <td>1983-02-21</td>\n",
       "      <td>0.0</td>\n",
       "      <td>False</td>\n",
       "      <td>NaN</td>\n",
       "      <td>True</td>\n",
       "      <td>2006-01-09</td>\n",
       "      <td>0.0</td>\n",
       "      <td>0.0</td>\n",
       "      <td>0.0</td>\n",
       "      <td>0.0</td>\n",
       "      <td>0.0</td>\n",
       "      <td>0.0</td>\n",
       "      <td>4</td>\n",
       "      <td>0.0</td>\n",
       "      <td>0.0</td>\n",
       "      <td>2009-01-03</td>\n",
       "      <td>2755.83</td>\n",
       "      <td>394.41</td>\n",
       "      <td>2010-04-27</td>\n",
       "      <td>1.0</td>\n",
       "      <td>56</td>\n",
       "      <td>1</td>\n",
       "      <td>M</td>\n",
       "      <td>49</td>\n",
       "      <td>M</td>\n",
       "      <td>17</td>\n",
       "      <td>NaN</td>\n",
       "      <td>0</td>\n",
       "    </tr>\n",
       "  </tbody>\n",
       "</table>\n",
       "</div>"
      ],
      "text/plain": [
       "   id_participante  cadastro matricula sexo_partic  patrocinadora  \\\n",
       "0         10123420     10809   0000247           M          91008   \n",
       "1         10123421     10809   0000419           F          91008   \n",
       "2         10123422     10809   0000595           M          91008   \n",
       "3         10123423     10809   0000885           F          91008   \n",
       "4         10123424     10809   0000968           F          91008   \n",
       "\n",
       "  data_admissao data_associacao  pbe deficiente matricula_titular migrado  \\\n",
       "0    1983-02-28      1983-02-28  0.0      False               NaN    True   \n",
       "1    1983-02-21      1983-02-21  0.0      False               NaN    True   \n",
       "2    1983-02-21      1983-02-21  0.0      False               NaN    True   \n",
       "3    1983-10-02      1983-10-02  0.0      False               NaN    True   \n",
       "4    1983-02-21      1983-02-21  0.0      False               NaN    True   \n",
       "\n",
       "  data_adesao  saldo_conta_partic  saldo_conta_patroc  reserva_bpd  \\\n",
       "0  2006-01-09                 0.0                 0.0          0.0   \n",
       "1  2006-01-09                 0.0                 0.0          0.0   \n",
       "2  2006-01-09                 0.0                 0.0          0.0   \n",
       "3  2006-01-09                 0.0                 0.0          0.0   \n",
       "4  2006-01-09                 0.0                 0.0          0.0   \n",
       "\n",
       "   saldo_portado  beneficio_saldado  salario_participacao  \\\n",
       "0            0.0                0.0                   0.0   \n",
       "1            0.0                0.0                   0.0   \n",
       "2            0.0                0.0                   0.0   \n",
       "3            0.0                0.0                   0.0   \n",
       "4            0.0                0.0                   0.0   \n",
       "\n",
       "   CD_SITUACAO_FUNDACAO  contribuicao_partic  contribuicao_patroc   dib_inss  \\\n",
       "0                     4                  0.0                  0.0 2010-01-11   \n",
       "1                     4                  0.0                  0.0 2013-02-21   \n",
       "2                     4                  0.0                  0.0 2011-04-24   \n",
       "3                     4                  0.0                  0.0 2012-03-01   \n",
       "4                     4                  0.0                  0.0 2009-01-03   \n",
       "\n",
       "   valor_beneficio_inss  valor_beneficio_funcef dib_funcef  tipo_beneficio  \\\n",
       "0               3182.15                  707.70 2013-01-03             1.0   \n",
       "1               2875.15                  834.72 2016-04-25             1.0   \n",
       "2               2903.90                  440.59 2012-07-28             1.0   \n",
       "3               4190.99                  146.30 2012-03-01             1.0   \n",
       "4               2755.83                  394.41 2010-04-27             1.0   \n",
       "\n",
       "   idade_partic  tipo_assistido sexo_depend_valido  idade_depend_valido  \\\n",
       "0            59               1                NaN                   -1   \n",
       "1            55               1                  M                   57   \n",
       "2            58               1                  F                   55   \n",
       "3            58               1                NaN                   -1   \n",
       "4            56               1                  M                   49   \n",
       "\n",
       "  sexo_depend_temporario  idade_depend_temporario sexo_depend_invalido  \\\n",
       "0                      M                        8                  NaN   \n",
       "1                    NaN                        0                  NaN   \n",
       "2                    NaN                        0                  NaN   \n",
       "3                    NaN                        0                  NaN   \n",
       "4                      M                       17                  NaN   \n",
       "\n",
       "   idade_depend_invalido  \n",
       "0                      0  \n",
       "1                      0  \n",
       "2                      0  \n",
       "3                      0  \n",
       "4                      0  "
      ]
     },
     "execution_count": 112,
     "metadata": {},
     "output_type": "execute_result"
    }
   ],
   "source": [
    "df_assistidos.head()"
   ]
  },
  {
   "cell_type": "code",
   "execution_count": 113,
   "metadata": {
    "collapsed": false
   },
   "outputs": [],
   "source": [
    "# df_assistidos.tail()"
   ]
  },
  {
   "cell_type": "code",
   "execution_count": 114,
   "metadata": {
    "collapsed": false
   },
   "outputs": [],
   "source": [
    "# slice dataframe por colunas\n",
    "# df_avaliacao[['dif_idade_conjuge_mas', 'dif_idade_conjuge_fem']]"
   ]
  },
  {
   "cell_type": "code",
   "execution_count": 115,
   "metadata": {
    "collapsed": false
   },
   "outputs": [],
   "source": [
    "# df_participante.valor_beneficio_inss = df_participante.valor_beneficio_inss.map(tools.changeNullToZero)"
   ]
  },
  {
   "cell_type": "code",
   "execution_count": 116,
   "metadata": {
    "collapsed": true
   },
   "outputs": [],
   "source": [
    "# df_participante.valor_beneficio_inss = list(map(lambda x: x if not pd.isnull(x) else 0.00, df_participante.valor_beneficio_inss))"
   ]
  },
  {
   "cell_type": "code",
   "execution_count": 117,
   "metadata": {
    "collapsed": false
   },
   "outputs": [],
   "source": [
    "# df_participante.valor_beneficio_funcef = list(map(lambda x: x if not pd.isnull(x) else 0.00, df_participante.valor_beneficio_funcef))"
   ]
  },
  {
   "cell_type": "code",
   "execution_count": 118,
   "metadata": {
    "collapsed": false,
    "scrolled": false
   },
   "outputs": [],
   "source": [
    "# df_participante['idade_partic'] = list(map(tools.calculateAge, df_participante.data_nascimento_partic, itertools.repeat(df_avaliacao.data_calculo, len(df_participante))))"
   ]
  },
  {
   "cell_type": "code",
   "execution_count": 119,
   "metadata": {
    "collapsed": false
   },
   "outputs": [],
   "source": [
    "#del(df_participante['idade_depend_valido'])\n",
    "# df_participante['idade_depend_valido'] = list(map(tools.calculateAge, df_participante.data_nascimento_depend_valido, itertools.repeat(df_avaliacao.data_calculo, len(df_participante))))"
   ]
  },
  {
   "cell_type": "code",
   "execution_count": 120,
   "metadata": {
    "collapsed": false,
    "scrolled": true
   },
   "outputs": [],
   "source": [
    "# df_participante['idade_depend_valido']"
   ]
  },
  {
   "cell_type": "code",
   "execution_count": 121,
   "metadata": {
    "collapsed": false
   },
   "outputs": [],
   "source": [
    "#if len(df_depend_valido) > 0:\n",
    "    #df_participantes['idade_depend_valido'] = list(map(tools.calculateAge, df_depend_valido.data_nascimento, itertools.repeat(df_avaliacao.data_calculo, len(df_depend_valido))))\n",
    "    #df_depend_valido.head(10)\n",
    "#else:\n",
    "    #del(df_depend_valido)\n",
    "    \n",
    "#df_depend_valido = df_depend_valido.drop(['data_nascimento'], axis = 1)"
   ]
  },
  {
   "cell_type": "code",
   "execution_count": 122,
   "metadata": {
    "collapsed": true
   },
   "outputs": [],
   "source": [
    "#if len(df_depend_invalido) > 0:\n",
    "    #df_participantes['idade_invalido'] = list(map(tools.calculateAge, df_depend_invalido.data_nascimento_valido, itertools.repeat(df_avaliacao.data_calculo, len(df_depend_invalido))))\n",
    "    #df_depend_invalido.head(10)\n",
    "#else:\n",
    "#    del(df_depend_invalido)\n",
    "\n",
    "#df_depend_invalido = df_depend_invalido.drop(['data_nascimento'], axis = 1)"
   ]
  },
  {
   "cell_type": "code",
   "execution_count": 123,
   "metadata": {
    "collapsed": true
   },
   "outputs": [],
   "source": [
    "#if len(df_depend_temporario) > 0:\n",
    "    #df_depend_temporario['idade_temporario'] = list(map(tools.calculateAge, df_depend_temporario.data_nascimento, itertools.repeat(df_avaliacao.data_calculo, len(df_depend_temporario))))\n",
    "    #df_depend_temporario.head(10)\n",
    "#else:\n",
    "#    del(df_depend_temporario)\n",
    "\n",
    "#df_depend_temporario = df_depend_temporario.drop(['data_nascimento'], axis = 1)"
   ]
  },
  {
   "cell_type": "code",
   "execution_count": null,
   "metadata": {
    "collapsed": true
   },
   "outputs": [],
   "source": []
  },
  {
   "cell_type": "code",
   "execution_count": null,
   "metadata": {
    "collapsed": true
   },
   "outputs": [],
   "source": []
  }
 ],
 "metadata": {
  "anaconda-cloud": {},
  "kernelspec": {
   "display_name": "Python 3",
   "language": "python",
   "name": "python3"
  },
  "language_info": {
   "codemirror_mode": {
    "name": "ipython",
    "version": 3
   },
   "file_extension": ".py",
   "mimetype": "text/x-python",
   "name": "python",
   "nbconvert_exporter": "python",
   "pygments_lexer": "ipython3",
   "version": "3.6.0"
  }
 },
 "nbformat": 4,
 "nbformat_minor": 1
}
