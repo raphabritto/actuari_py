{
 "cells": [
  {
   "cell_type": "code",
   "execution_count": 1,
   "metadata": {
    "collapsed": true
   },
   "outputs": [],
   "source": [
    "import pandas as pd\n",
    "import tools\n",
    "import itertools"
   ]
  },
  {
   "cell_type": "code",
   "execution_count": 2,
   "metadata": {
    "collapsed": true
   },
   "outputs": [],
   "source": [
    "df_aval1 = pd.read_csv(\"input_csv/avaliacao.csv\", sep=\";\", decimal=\",\", parse_dates=['DT_CALCULO', 'DT_REAJUSTE_BENEFICIO'])"
   ]
  },
  {
   "cell_type": "code",
   "execution_count": 3,
   "metadata": {
    "collapsed": true
   },
   "outputs": [],
   "source": [
    "df_taxa_juros1 = pd.read_csv(\"input_csv/taxa_juros.csv\", sep=\";\", decimal=\",\")"
   ]
  },
  {
   "cell_type": "code",
   "execution_count": 4,
   "metadata": {
    "collapsed": true
   },
   "outputs": [],
   "source": [
    "df_taxa_risco1 = pd.read_csv(\"input_csv/taxa_risco.csv\", sep=\";\", decimal=\",\")"
   ]
  },
  {
   "cell_type": "code",
   "execution_count": 5,
   "metadata": {
    "collapsed": true
   },
   "outputs": [],
   "source": [
    "df_prem_plano1 = pd.read_csv(\"input_csv/premissa_planos.csv\", sep=\";\", decimal=\",\")"
   ]
  },
  {
   "cell_type": "code",
   "execution_count": 6,
   "metadata": {
    "collapsed": true
   },
   "outputs": [],
   "source": [
    "df_prem_global1 = pd.read_csv(\"input_csv/premissa_global.csv\", sep=\";\", decimal=\",\", parse_dates=['DT_ORIGEM_BNH', 'DT_LEI_9876_1999', 'DT_MEDIA_80_MAIORES_SALARIOS'])"
   ]
  },
  {
   "cell_type": "code",
   "execution_count": 7,
   "metadata": {
    "collapsed": true
   },
   "outputs": [],
   "source": [
    "df_indice1 = pd.read_csv(\"input_csv/cotacao.csv\", sep=\";\", decimal=\",\", parse_dates=['COTDATA'])"
   ]
  },
  {
   "cell_type": "code",
   "execution_count": 8,
   "metadata": {
    "collapsed": true
   },
   "outputs": [],
   "source": [
    "df_indexador1 = pd.read_csv(\"input_csv/indexador_monetario.csv\", sep=\";\", decimal=\",\")"
   ]
  },
  {
   "cell_type": "code",
   "execution_count": 9,
   "metadata": {
    "collapsed": true
   },
   "outputs": [],
   "source": [
    "df_reaj_salarial1 = pd.read_csv(\"input_csv/reajuste_salarial.csv\", sep=\";\", decimal=\",\")"
   ]
  },
  {
   "cell_type": "code",
   "execution_count": 10,
   "metadata": {
    "collapsed": true
   },
   "outputs": [],
   "source": [
    "df_aval2 = df_aval1.drop(['DS_PLANO_BENEFICIO', 'FL_CALCULAR_DEMONS_RESULTADO', 'FL_FLUXO_RECEITA_DESPESA_FOLHA', 'FL_MEMORIA_CALCULO', 'CD_COMPOSICAO_FAMILIAR'], axis=1)"
   ]
  },
  {
   "cell_type": "code",
   "execution_count": 11,
   "metadata": {
    "collapsed": true
   },
   "outputs": [],
   "source": [
    "# renomear columas dataframe\n",
    "nomes_colunas = {'ID_AVALIACAO': 'avaliacao', 'ID_CADASTRO': 'cadastro', 'IDPLANOPREV': 'plano_previdencia', 'ID_PLANO_BENEFICIO': 'plano_beneficio', 'DT_CALCULO': 'data_calculo',\n",
    "                 'DT_REAJUSTE_BENEFICIO': 'data_reajuste_beneficio', 'VL_BENEFICIO_MINIMO': 'beneficio_minimo', 'PC_DESPESA_ADM_PARTICIPANTE': 'despesa_administrativa_partic',\n",
    "                 'PC_DESPESA_ADM_PATROCINADORA': 'despesa_administrativa_patroc', 'PC_SAIDA_BPD': 'saida_bpd', 'PC_SAIDA_PORTABILIDADE': 'saida_portabilidade', 'PC_SAIDA_RESGATE': 'saida_resgate',\n",
    "                 'VL_PECULIO_MINIMO_MORTE': 'peculio_minimo_morte', 'PC_PECULIO_MINIMO_MORTE': 'fator_peculio_morte_ativo', 'VL_PECULIO_MORTE_ASSISTIDO': 'fator_peculio_morte_assistido',\n",
    "                 'NR_PAGTOS_BENEF_CONTRIB_ANO': 'numero_pagamentos_ano', 'PC_FAIXA_01_CONTRIBUICAO': 'faixa_1_contribuicao', 'PC_FAIXA_02_CONTRIBUICAO': 'faixa_2_contribuicao',\n",
    "                 'PC_FAIXA_03_CONTRIBUICAO': 'faixa_3_contribuicao', 'PC_META_CUSTEIO_ADMIN': 'taxa_carregamento_admin', 'PC_TAXA_ADMIN_BENEFICIO': 'taxa_admin_beneficio',\n",
    "                 'PC_TAXA_REAL_CRESC_SALARIAL': 'taxa_cresc_salarial', 'PC_TAXA_REAL_CRESC_BENEFICIO': 'taxa_cresc_beneficio', 'PC_FATOR_VLR_REAL_SALARIO': 'fator_capacidade_salario',\n",
    "                 'PC_FATOR_VLR_REAL_BEN_FUNCEF': 'fator_capacidade_funcef', 'PC_FATOR_VLR_REAL_BEN_INSS': 'fator_capacidade_inss', 'PC_FATOR_REAJ_BENEF_LIQUIDO': 'fator_capacidade_beneficio',\n",
    "                 'PC_OPCAO_BUA': 'opcao_bua', 'PC_SAQUE_BUA': 'saque_bua'}\n",
    "df_aval2 = df_aval2.rename(columns = nomes_colunas)"
   ]
  },
  {
   "cell_type": "code",
   "execution_count": 12,
   "metadata": {
    "collapsed": true
   },
   "outputs": [],
   "source": [
    "df_aval2['despesa_administrativa_partic'] = df_aval2.despesa_administrativa_partic.map(tools.convertToPercent)\n",
    "df_aval2['despesa_administrativa_patroc'] = df_aval2.despesa_administrativa_patroc.map(tools.convertToPercent)\n",
    "df_aval2['saida_bpd'] = df_aval2.saida_bpd.map(tools.convertToPercent)\n",
    "df_aval2['saida_portabilidade'] = df_aval2.saida_portabilidade.map(tools.convertToPercent)\n",
    "df_aval2['saida_resgate'] = df_aval2.saida_resgate.map(tools.convertToPercent)\n",
    "df_aval2['faixa_1_contribuicao'] = df_aval2.faixa_1_contribuicao.map(tools.convertToPercent)\n",
    "df_aval2['faixa_2_contribuicao'] = df_aval2.faixa_2_contribuicao.map(tools.convertToPercent)\n",
    "df_aval2['faixa_3_contribuicao'] = df_aval2.faixa_3_contribuicao.map(tools.convertToPercent)\n",
    "df_aval2['taxa_carregamento_admin'] = df_aval2.taxa_carregamento_admin.map(tools.convertToPercent)\n",
    "df_aval2['taxa_admin_beneficio'] = df_aval2.taxa_admin_beneficio.map(tools.convertToPercent)\n",
    "df_aval2['taxa_cresc_salarial'] = df_aval2.taxa_cresc_salarial.map(tools.convertToPercent)\n",
    "df_aval2['taxa_cresc_beneficio'] = df_aval2.taxa_cresc_beneficio.map(tools.convertToPercent)\n",
    "df_aval2['fator_capacidade_salario'] = df_aval2.fator_capacidade_salario.map(tools.convertToPercent)\n",
    "df_aval2['fator_capacidade_funcef'] = df_aval2.fator_capacidade_funcef.map(tools.convertToPercent)\n",
    "df_aval2['fator_capacidade_inss'] = df_aval2.fator_capacidade_inss.map(tools.convertToPercent)\n",
    "df_aval2['fator_capacidade_beneficio'] = df_aval2.fator_capacidade_beneficio.map(tools.convertToIndice)\n",
    "df_aval2['opcao_bua'] = df_aval2.opcao_bua.map(tools.convertToPercent)\n",
    "df_aval2['saque_bua'] = df_aval2.saque_bua.map(tools.convertToPercent)"
   ]
  },
  {
   "cell_type": "code",
   "execution_count": 13,
   "metadata": {
    "collapsed": false
   },
   "outputs": [
    {
     "data": {
      "text/html": [
       "<div>\n",
       "<table border=\"1\" class=\"dataframe\">\n",
       "  <thead>\n",
       "    <tr style=\"text-align: right;\">\n",
       "      <th></th>\n",
       "      <th>avaliacao</th>\n",
       "      <th>cadastro</th>\n",
       "      <th>plano_previdencia</th>\n",
       "      <th>plano_beneficio</th>\n",
       "      <th>data_calculo</th>\n",
       "      <th>data_reajuste_beneficio</th>\n",
       "      <th>beneficio_minimo</th>\n",
       "      <th>despesa_administrativa_partic</th>\n",
       "      <th>despesa_administrativa_patroc</th>\n",
       "      <th>saida_bpd</th>\n",
       "      <th>...</th>\n",
       "      <th>taxa_carregamento_admin</th>\n",
       "      <th>taxa_admin_beneficio</th>\n",
       "      <th>taxa_cresc_salarial</th>\n",
       "      <th>taxa_cresc_beneficio</th>\n",
       "      <th>fator_capacidade_salario</th>\n",
       "      <th>fator_capacidade_funcef</th>\n",
       "      <th>fator_capacidade_inss</th>\n",
       "      <th>fator_capacidade_beneficio</th>\n",
       "      <th>opcao_bua</th>\n",
       "      <th>saque_bua</th>\n",
       "    </tr>\n",
       "  </thead>\n",
       "  <tbody>\n",
       "    <tr>\n",
       "      <th>0</th>\n",
       "      <td>25445</td>\n",
       "      <td>10809</td>\n",
       "      <td>74</td>\n",
       "      <td>5</td>\n",
       "      <td>2016-12-31</td>\n",
       "      <td>2016-01-01</td>\n",
       "      <td>0.0</td>\n",
       "      <td>0.0398</td>\n",
       "      <td>0.0398</td>\n",
       "      <td>0.0</td>\n",
       "      <td>...</td>\n",
       "      <td>0.0398</td>\n",
       "      <td>0.009</td>\n",
       "      <td>0.0239</td>\n",
       "      <td>0.0</td>\n",
       "      <td>0.98</td>\n",
       "      <td>0.98</td>\n",
       "      <td>0.98</td>\n",
       "      <td>2.2177</td>\n",
       "      <td>0.0</td>\n",
       "      <td>0.0</td>\n",
       "    </tr>\n",
       "  </tbody>\n",
       "</table>\n",
       "<p>1 rows × 29 columns</p>\n",
       "</div>"
      ],
      "text/plain": [
       "   avaliacao  cadastro  plano_previdencia  plano_beneficio data_calculo  \\\n",
       "0      25445     10809                 74                5   2016-12-31   \n",
       "\n",
       "  data_reajuste_beneficio  beneficio_minimo  despesa_administrativa_partic  \\\n",
       "0              2016-01-01               0.0                         0.0398   \n",
       "\n",
       "   despesa_administrativa_patroc  saida_bpd    ...      \\\n",
       "0                         0.0398        0.0    ...       \n",
       "\n",
       "   taxa_carregamento_admin  taxa_admin_beneficio  taxa_cresc_salarial  \\\n",
       "0                   0.0398                 0.009               0.0239   \n",
       "\n",
       "   taxa_cresc_beneficio  fator_capacidade_salario  fator_capacidade_funcef  \\\n",
       "0                   0.0                      0.98                     0.98   \n",
       "\n",
       "   fator_capacidade_inss  fator_capacidade_beneficio  opcao_bua  saque_bua  \n",
       "0                   0.98                      2.2177        0.0        0.0  \n",
       "\n",
       "[1 rows x 29 columns]"
      ]
     },
     "execution_count": 13,
     "metadata": {},
     "output_type": "execute_result"
    }
   ],
   "source": [
    "df_aval2"
   ]
  },
  {
   "cell_type": "code",
   "execution_count": 14,
   "metadata": {
    "collapsed": true
   },
   "outputs": [],
   "source": [
    "nomes_colunas = {'NR_TEMPO_TAXA_JUROS': 't', 'VL_TAXA_JUROS': 'taxa_juros'}\n",
    "df_taxa_juros2 = df_taxa_juros1.rename(columns= nomes_colunas)\n",
    "df_taxa_juros2['taxa_juros'] = df_taxa_juros2.taxa_juros.map(tools.convertToPercent)"
   ]
  },
  {
   "cell_type": "code",
   "execution_count": 15,
   "metadata": {
    "collapsed": true
   },
   "outputs": [],
   "source": [
    "nomes_colunas = {'NR_TEMPO_TAXA_RISCO': 't', 'ID_RESPONSABILIDADE': 'responsabilidade', 'VL_TAXA_RISCO': 'taxa_risco'}\n",
    "df_taxa_risco2 = df_taxa_risco1.rename(columns= nomes_colunas)\n",
    "df_taxa_risco2['taxa_risco'] = df_taxa_risco2.taxa_risco.map(tools.convertToPercent)"
   ]
  },
  {
   "cell_type": "code",
   "execution_count": 16,
   "metadata": {
    "collapsed": true
   },
   "outputs": [],
   "source": [
    "nomes_colunas = {'ID_PLANO_BENEFICIO': 'plano_beneficio', 'IDADE_INICIO_CONTRIB_INSS_MAS': 'idade_inicio_contrib_inss_mas', 'IDADE_INICIO_CONTRIB_INSS_FEM': 'idade_inicio_contrib_inss_fem',\n",
    "                 'IDADE_APOSENT_FUNDACAO_MAS': 'idade_aposent_fundacao_mas', 'IDADE_APOSENT_FUNDACAO_FEM': 'idade_aposent_fundacao_fem', 'TEMPO_CONTRIB_INSS_MAS': 'tempo_contrib_inss_mas',\n",
    "                 'TEMPO_CONTRIB_INSS_FEM': 'tempo_contrib_inss_fem', 'MAIORIDADE_PLANO': 'maioridade_plano', 'PERCENTUAL_SRB': 'percentual_srb', 'TEMPO_CARENCIA_APOSENTADORIA': 'carencia_aposentadoria'}\n",
    "df_prem_plano2 = df_prem_plano1.rename(columns= nomes_colunas).drop(['ID_PREMISSA_PLANO'], axis=1)[df_prem_plano1.ID_PLANO_BENEFICIO == int(df_aval2.plano_beneficio)]\n",
    "df_prem_plano2['percentual_srb'] = df_prem_plano2.percentual_srb.map(tools.convertToPercent)"
   ]
  },
  {
   "cell_type": "code",
   "execution_count": 17,
   "metadata": {
    "collapsed": true
   },
   "outputs": [],
   "source": [
    "nomes_colunas = {'DT_ORIGEM_BNH': 'data_bnh', 'DT_LEI_9876_1999': 'data_lei_9876', 'DT_MEDIA_80_MAIORES_SALARIOS': 'data_media_maiores_salarios', 'TETO_CONTRIBUICAO_INSS': 'teto_contribuicao_inss',\n",
    "                 'TETO_BENEFICIO_INSS': 'teto_beneficio_inss', 'SALARIO_MINIMO': 'salario_minimo', 'COTA_FAMILIAR_PENSAO': 'cota_pensao_familiar',\n",
    "                 'PROB_APOSENTADO_CASADO_MAS': 'prob_aposentado_casado_mas', 'PROB_APOSENTADO_CASADO_FEM': 'prob_aposentado_casado_fem', 'DIF_IDADE_CONJUGE_MAS': 'dif_idade_conjuge_mas',\n",
    "                 'DIF_IDADE_CONJUGE_FEM': 'dif_idade_conjuge_fem', 'LX_INICIAL': 'lx_inicial'}\n",
    "df_prem_global2 = df_prem_global1.rename(columns= nomes_colunas).drop(['ID_PREMISSA_GLOBAL'], axis=1)\n",
    "df_prem_global2.cota_pensao_familiar = df_prem_global2.cota_pensao_familiar.map(tools.convertToPercent)\n",
    "df_prem_global2.prob_aposentado_casado_mas = df_prem_global2.prob_aposentado_casado_mas.map(tools.convertToPercent)\n",
    "df_prem_global2.prob_aposentado_casado_fem = df_prem_global2.prob_aposentado_casado_fem.map(tools.convertToPercent)\n",
    "df_prem_global2['avaliacao'] = df_aval2.avaliacao"
   ]
  },
  {
   "cell_type": "code",
   "execution_count": 18,
   "metadata": {
    "collapsed": true
   },
   "outputs": [],
   "source": [
    "nomes_colunas = {'COTDATA': 'data_indice', 'COTVALOR': 'indice'}\n",
    "df_indice2 = df_indice1.rename(columns= nomes_colunas)\n",
    "df_indice2.indice = df_indice2.indice.map(tools.convertToIndice)"
   ]
  },
  {
   "cell_type": "code",
   "execution_count": 19,
   "metadata": {
    "collapsed": true
   },
   "outputs": [],
   "source": [
    "nomes_colunas = {'ID_REFERENCIA_IDX_MON': 'id_indexador', 'PC_REAJUSTE': 'pc_indexador'}\n",
    "df_indexador2 = df_indexador1.rename(columns=nomes_colunas).drop(['DS_REFERENCIA_IDX_MON'], axis=1)"
   ]
  },
  {
   "cell_type": "code",
   "execution_count": 20,
   "metadata": {
    "collapsed": true
   },
   "outputs": [],
   "source": [
    "nomes_colunas = {'CD_TIPO_REAJUSTE_SALARIAL': 'id_reajuste', 'ID_PATROCINADORA': 'patrocinadora', 'PC_REAJUSTE': 'pc_reajuste'}\n",
    "df_reaj_salarial2 = df_reaj_salarial1.rename(columns= nomes_colunas).drop(['DS_TIPO_REAJUSTE_SALARIAL'], axis= 1)\n",
    "df_reaj_salarial2.pc_reajuste = df_reaj_salarial2.pc_reajuste.map(tools.convertToPercent)"
   ]
  },
  {
   "cell_type": "code",
   "execution_count": 21,
   "metadata": {
    "collapsed": true
   },
   "outputs": [],
   "source": [
    "df_avaliacao = pd.merge(df_aval2, df_prem_plano2, how='inner', on='plano_beneficio')"
   ]
  },
  {
   "cell_type": "code",
   "execution_count": 22,
   "metadata": {
    "collapsed": true
   },
   "outputs": [],
   "source": [
    "df_avaliacao = pd.merge(df_avaliacao, df_prem_global2, how='inner', on='avaliacao')"
   ]
  },
  {
   "cell_type": "code",
   "execution_count": 23,
   "metadata": {
    "collapsed": false
   },
   "outputs": [
    {
     "data": {
      "text/html": [
       "<div>\n",
       "<table border=\"1\" class=\"dataframe\">\n",
       "  <thead>\n",
       "    <tr style=\"text-align: right;\">\n",
       "      <th></th>\n",
       "      <th>avaliacao</th>\n",
       "      <th>cadastro</th>\n",
       "      <th>plano_previdencia</th>\n",
       "      <th>plano_beneficio</th>\n",
       "      <th>data_calculo</th>\n",
       "      <th>data_reajuste_beneficio</th>\n",
       "      <th>beneficio_minimo</th>\n",
       "      <th>despesa_administrativa_partic</th>\n",
       "      <th>despesa_administrativa_patroc</th>\n",
       "      <th>saida_bpd</th>\n",
       "      <th>...</th>\n",
       "      <th>data_media_maiores_salarios</th>\n",
       "      <th>teto_contribuicao_inss</th>\n",
       "      <th>teto_beneficio_inss</th>\n",
       "      <th>salario_minimo</th>\n",
       "      <th>cota_pensao_familiar</th>\n",
       "      <th>prob_aposentado_casado_mas</th>\n",
       "      <th>prob_aposentado_casado_fem</th>\n",
       "      <th>dif_idade_conjuge_mas</th>\n",
       "      <th>dif_idade_conjuge_fem</th>\n",
       "      <th>lx_inicial</th>\n",
       "    </tr>\n",
       "  </thead>\n",
       "  <tbody>\n",
       "    <tr>\n",
       "      <th>0</th>\n",
       "      <td>25445</td>\n",
       "      <td>10809</td>\n",
       "      <td>74</td>\n",
       "      <td>5</td>\n",
       "      <td>2016-12-31</td>\n",
       "      <td>2016-01-01</td>\n",
       "      <td>0.0</td>\n",
       "      <td>0.0398</td>\n",
       "      <td>0.0398</td>\n",
       "      <td>0.0</td>\n",
       "      <td>...</td>\n",
       "      <td>1999-07-31</td>\n",
       "      <td>5189.82</td>\n",
       "      <td>5078.94</td>\n",
       "      <td>880.0</td>\n",
       "      <td>0.8</td>\n",
       "      <td>0.85</td>\n",
       "      <td>0.6</td>\n",
       "      <td>5</td>\n",
       "      <td>2</td>\n",
       "      <td>10000000</td>\n",
       "    </tr>\n",
       "  </tbody>\n",
       "</table>\n",
       "<p>1 rows × 50 columns</p>\n",
       "</div>"
      ],
      "text/plain": [
       "   avaliacao  cadastro  plano_previdencia  plano_beneficio data_calculo  \\\n",
       "0      25445     10809                 74                5   2016-12-31   \n",
       "\n",
       "  data_reajuste_beneficio  beneficio_minimo  despesa_administrativa_partic  \\\n",
       "0              2016-01-01               0.0                         0.0398   \n",
       "\n",
       "   despesa_administrativa_patroc  saida_bpd     ...      \\\n",
       "0                         0.0398        0.0     ...       \n",
       "\n",
       "   data_media_maiores_salarios  teto_contribuicao_inss  teto_beneficio_inss  \\\n",
       "0                   1999-07-31                 5189.82              5078.94   \n",
       "\n",
       "   salario_minimo  cota_pensao_familiar  prob_aposentado_casado_mas  \\\n",
       "0           880.0                   0.8                        0.85   \n",
       "\n",
       "   prob_aposentado_casado_fem  dif_idade_conjuge_mas  dif_idade_conjuge_fem  \\\n",
       "0                         0.6                      5                      2   \n",
       "\n",
       "   lx_inicial  \n",
       "0    10000000  \n",
       "\n",
       "[1 rows x 50 columns]"
      ]
     },
     "execution_count": 23,
     "metadata": {},
     "output_type": "execute_result"
    }
   ],
   "source": [
    "df_avaliacao"
   ]
  },
  {
   "cell_type": "code",
   "execution_count": 24,
   "metadata": {
    "collapsed": true
   },
   "outputs": [],
   "source": [
    "# participantes\n",
    "nomes_colunas = {'ID_PARTICIPANTE': 'id_participante', 'NR_MATRICULA': 'matricula', 'DT_NASCIMENTO': 'data_nascimento_partic', 'IR_SEXO': 'sexo_partic', 'ID_PATROCINADORA': 'patrocinadora',\n",
    "                 'CD_ESTADO_CIVIL': 'estado_civil', 'DT_ADMISSAO': 'data_admissao', 'DT_ASSOCIACAO_FUNDACAO': 'data_associacao', 'PC_BENEFICIO_ESPECIAL': 'pbe', 'FL_DEFICIENTE': 'deficiente',\n",
    "                 'NR_MATRICULA_TITULAR': 'matricula_titular', 'FL_MIGRADO': 'migrado'}\n",
    "df_partic1 = pd.read_csv(\"input_csv/participante.csv\", sep=\";\", decimal=\",\", encoding=\"latin1\", parse_dates=['DT_NASCIMENTO', 'DT_OPCAO_BPD', 'DT_ADMISSAO', 'DT_ASSOCIACAO_FUNDACAO'], dtype= {'NR_MATRICULA': str, 'matricula_titular': str}, low_memory = False).rename(columns= nomes_colunas).drop(['CD_SITUACAO_PATROC', 'DS_ESTADO_CIVIL', 'DT_OPCAO_BPD'], axis= 1)\n",
    "#df_partic2 = df_partic1.rename(columns= nomes_colunas).drop(['CD_SITUACAO_PATROC', 'DS_ESTADO_CIVIL', 'DT_OPCAO_BPD'], axis= 1)\n",
    "df_partic1.deficiente = df_partic1.deficiente.map(tools.convertToBoolean)\n",
    "df_partic1.migrado = df_partic1.migrado.map(tools.convertToBoolean)\n",
    "df_partic1.pbe = df_partic1.pbe.map(tools.convertToPercent)"
   ]
  },
  {
   "cell_type": "code",
   "execution_count": 25,
   "metadata": {
    "collapsed": true
   },
   "outputs": [],
   "source": [
    "nomes_colunas = {'ID_PARTICIPANTE': 'id_participante', 'DT_ADESAO': 'data_adesao', 'VL_SLD_SUBCONTA_PARTICIPANTE': 'saldo_conta_partic', 'VL_SLD_SUBCONTA_PATROCINADORA': 'saldo_conta_patroc',\n",
    "                 'VL_RESERVA_BPD': 'reserva_bpd', 'VL_SALDO_PORTADO': 'saldo_portado', 'VL_BEN_SALDADO_INICIAL': 'beneficio_saldado', 'VL_SALARIO_PARTICIPACAO': 'salario_participacao',\n",
    "                 'PC_CONTRIBUICAO_PARTICIPANTE': 'contribuicao_partic', 'PC_CONTRIBUICAO_PATROCINADORA': 'contribuicao_patroc'}\n",
    "df_plano1 = pd.read_csv(\"input_csv/plano_beneficio.csv\", sep=\";\", decimal=\",\", parse_dates=['DT_ADESAO']).rename(columns= nomes_colunas)\n",
    "df_plano1.contribuicao_partic = df_plano1.contribuicao_partic.map(tools.convertToPercent)\n",
    "df_plano1.contribuicao_patroc = df_plano1.contribuicao_patroc.map(tools.convertToPercent)"
   ]
  },
  {
   "cell_type": "code",
   "execution_count": 26,
   "metadata": {
    "collapsed": true
   },
   "outputs": [],
   "source": [
    "nomes_colunas = {'ID_PARTICIPANTE': 'id_participante', 'DT_INICIO_BENEFICIO': 'dib_inss', 'VL_VALOR': 'valor_beneficio_inss'}\n",
    "df_benef_inss1 = pd.read_csv(\"input_csv/beneficio_inss.csv\", sep=\";\", decimal=\",\", parse_dates=['DT_INICIO_BENEFICIO']).rename(columns = nomes_colunas)\n",
    "#df_benef_inss1 = df_benef_inss1.rename(columns= nomes_colunas)"
   ]
  },
  {
   "cell_type": "code",
   "execution_count": 27,
   "metadata": {
    "collapsed": true
   },
   "outputs": [],
   "source": [
    "nomes_colunas = {'ID_PARTICIPANTE': 'id_participante', 'IDBENEFICIO': 'beneficio', 'VL_VALOR': 'valor_beneficio_funcef', 'DT_INICIO_BENEFICIO': 'dib_funcef'}\n",
    "df_benef_func1 = pd.read_csv(\"input_csv/beneficio_funcef.csv\", sep=\";\", decimal=\",\", encoding=\"latin1\", parse_dates=['DT_INICIO_BENEFICIO']).rename(columns= nomes_colunas).drop(['NOME'], axis= 1)\n",
    "df_benef_func1['tipo_beneficio'] = df_benef_func1.beneficio.map(tools.convertToTipoBeneficio)\n",
    "df_benef_func2 = df_benef_func1[df_benef_func1.tipo_beneficio != 0].drop(['beneficio'], axis = 1)"
   ]
  },
  {
   "cell_type": "code",
   "execution_count": 28,
   "metadata": {
    "collapsed": true
   },
   "outputs": [],
   "source": [
    "nomes_colunas = {'ID_PARTICIPANTE': 'id_participante', 'CD_GRAU_DEPENDENCIA': 'parentesco', 'DT_NASCIMENTO': 'data_nascimento', 'IR_SEXO': 'sexo', 'FL_INVALIDO': 'invalido'}\n",
    "df_depend1 = pd.read_csv(\"input_csv/dependente.csv\", sep=\";\", decimal=\",\", encoding=\"latin1\", parse_dates=['DT_NASCIMENTO']).rename(columns= nomes_colunas).drop(['FL_DESIGNADO_RESGATE', 'FL_DEPENDENTE_LEGAL'], axis=1)\n",
    "df_depend1.invalido = df_depend1.invalido.map(tools.convertToBoolean)"
   ]
  },
  {
   "cell_type": "code",
   "execution_count": 29,
   "metadata": {
    "collapsed": false
   },
   "outputs": [
    {
     "data": {
      "text/html": [
       "<div>\n",
       "<table border=\"1\" class=\"dataframe\">\n",
       "  <thead>\n",
       "    <tr style=\"text-align: right;\">\n",
       "      <th></th>\n",
       "      <th>id_participante</th>\n",
       "      <th>data_nascimento</th>\n",
       "      <th>sexo_valido</th>\n",
       "      <th>idade_valido</th>\n",
       "    </tr>\n",
       "  </thead>\n",
       "  <tbody>\n",
       "    <tr>\n",
       "      <th>1</th>\n",
       "      <td>10036696</td>\n",
       "      <td>1960-09-15</td>\n",
       "      <td>F</td>\n",
       "      <td>56</td>\n",
       "    </tr>\n",
       "    <tr>\n",
       "      <th>2</th>\n",
       "      <td>10036698</td>\n",
       "      <td>1962-12-19</td>\n",
       "      <td>F</td>\n",
       "      <td>54</td>\n",
       "    </tr>\n",
       "    <tr>\n",
       "      <th>4</th>\n",
       "      <td>10036699</td>\n",
       "      <td>1962-06-10</td>\n",
       "      <td>F</td>\n",
       "      <td>55</td>\n",
       "    </tr>\n",
       "    <tr>\n",
       "      <th>7</th>\n",
       "      <td>10036700</td>\n",
       "      <td>1981-11-04</td>\n",
       "      <td>F</td>\n",
       "      <td>35</td>\n",
       "    </tr>\n",
       "    <tr>\n",
       "      <th>8</th>\n",
       "      <td>10036701</td>\n",
       "      <td>1958-05-23</td>\n",
       "      <td>M</td>\n",
       "      <td>59</td>\n",
       "    </tr>\n",
       "    <tr>\n",
       "      <th>9</th>\n",
       "      <td>10036702</td>\n",
       "      <td>1960-11-25</td>\n",
       "      <td>F</td>\n",
       "      <td>56</td>\n",
       "    </tr>\n",
       "    <tr>\n",
       "      <th>10</th>\n",
       "      <td>10036703</td>\n",
       "      <td>1960-01-17</td>\n",
       "      <td>F</td>\n",
       "      <td>57</td>\n",
       "    </tr>\n",
       "    <tr>\n",
       "      <th>11</th>\n",
       "      <td>10036704</td>\n",
       "      <td>1960-04-22</td>\n",
       "      <td>M</td>\n",
       "      <td>57</td>\n",
       "    </tr>\n",
       "    <tr>\n",
       "      <th>12</th>\n",
       "      <td>10036705</td>\n",
       "      <td>1964-11-10</td>\n",
       "      <td>F</td>\n",
       "      <td>52</td>\n",
       "    </tr>\n",
       "    <tr>\n",
       "      <th>13</th>\n",
       "      <td>10036706</td>\n",
       "      <td>1958-07-30</td>\n",
       "      <td>F</td>\n",
       "      <td>58</td>\n",
       "    </tr>\n",
       "  </tbody>\n",
       "</table>\n",
       "</div>"
      ],
      "text/plain": [
       "    id_participante data_nascimento sexo_valido  idade_valido\n",
       "1          10036696      1960-09-15           F            56\n",
       "2          10036698      1962-12-19           F            54\n",
       "4          10036699      1962-06-10           F            55\n",
       "7          10036700      1981-11-04           F            35\n",
       "8          10036701      1958-05-23           M            59\n",
       "9          10036702      1960-11-25           F            56\n",
       "10         10036703      1960-01-17           F            57\n",
       "11         10036704      1960-04-22           M            57\n",
       "12         10036705      1964-11-10           F            52\n",
       "13         10036706      1958-07-30           F            58"
      ]
     },
     "execution_count": 29,
     "metadata": {},
     "output_type": "execute_result"
    }
   ],
   "source": [
    "df_depend_valido = df_depend1[(df_depend1.parentesco == 'COM') & (df_depend1.invalido == False)].rename(columns = {'sexo': 'sexo_valido'}).drop(['parentesco', 'invalido'], axis = 1)\n",
    "if len(df_depend_valido) > 0:\n",
    "    df_depend_valido['idade_valido'] = list(map(tools.calculateAge, df_depend_valido.data_nascimento, itertools.repeat(df_avaliacao.data_calculo, len(df_depend_valido))))\n",
    "    df_depend_valido.head(10)\n",
    "else:\n",
    "    del(df_depend_valido)\n",
    "    \n",
    "df_depend_valido.head(10)"
   ]
  },
  {
   "cell_type": "code",
   "execution_count": 30,
   "metadata": {
    "collapsed": false
   },
   "outputs": [],
   "source": [
    "df_depend_invalido = df_depend1[df_depend1.invalido == True].rename(columns = {'sexo': 'sexo_invalido'}).drop(['parentesco', 'invalido'], axis = 1)\n",
    "if len(df_depend_invalido) > 0:\n",
    "    df_depend_invalido['idade_invalido'] = list(map(tools.calculateAge, df_depend_invalido.data_nascimento, itertools.repeat(df_avaliacao.data_calculo, len(df_depend_invalido))))\n",
    "    df_depend_invalido.head(10)\n",
    "else:\n",
    "    del(df_depend_invalido)"
   ]
  },
  {
   "cell_type": "code",
   "execution_count": 31,
   "metadata": {
    "collapsed": true
   },
   "outputs": [],
   "source": [
    "df_depend_temporario = df_depend1[(df_depend1.parentesco == 'FIL') & (df_depend1.invalido == False)].rename(columns = {'sexo': 'sexo_temporario'}).drop(['parentesco', 'invalido'], axis = 1)\n",
    "if len(df_depend_temporario) > 0:\n",
    "    df_depend_temporario['idade_temporario'] = list(map(tools.calculateAge, df_depend_temporario.data_nascimento, itertools.repeat(df_avaliacao.data_calculo, len(df_depend_temporario))))\n",
    "    df_depend_temporario.head(10)\n",
    "else:\n",
    "    del(df_depend_temporario)"
   ]
  },
  {
   "cell_type": "code",
   "execution_count": null,
   "metadata": {
    "collapsed": true
   },
   "outputs": [],
   "source": []
  }
 ],
 "metadata": {
  "kernelspec": {
   "display_name": "Python [default]",
   "language": "python",
   "name": "python3"
  },
  "language_info": {
   "codemirror_mode": {
    "name": "ipython",
    "version": 3
   },
   "file_extension": ".py",
   "mimetype": "text/x-python",
   "name": "python",
   "nbconvert_exporter": "python",
   "pygments_lexer": "ipython3",
   "version": "3.5.2"
  }
 },
 "nbformat": 4,
 "nbformat_minor": 1
}
