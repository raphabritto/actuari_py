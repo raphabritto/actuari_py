{
 "cells": [
  {
   "cell_type": "code",
   "execution_count": null,
   "metadata": {
    "collapsed": false
   },
   "outputs": [],
   "source": [
    "#import cx_Oracle as ora"
   ]
  },
  {
   "cell_type": "code",
   "execution_count": null,
   "metadata": {
    "collapsed": false
   },
   "outputs": [],
   "source": [
    "#conOra = ora.connect('webplanus/webplanus99@HOM.FUNCEF.COM.BR/hom')"
   ]
  },
  {
   "cell_type": "code",
   "execution_count": 1,
   "metadata": {
    "collapsed": false
   },
   "outputs": [],
   "source": [
    "import pyodbc as od\n",
    "import pandas as pd"
   ]
  },
  {
   "cell_type": "code",
   "execution_count": 2,
   "metadata": {
    "collapsed": false
   },
   "outputs": [],
   "source": [
    "oraCon = od.connect(\"DSN=HOM;Uid=webplanus;Pwd=webplanus99\")"
   ]
  },
  {
   "cell_type": "code",
   "execution_count": 3,
   "metadata": {
    "collapsed": true
   },
   "outputs": [],
   "source": [
    "# oraCur = oraCon.cursor()"
   ]
  },
  {
   "cell_type": "code",
   "execution_count": 4,
   "metadata": {
    "collapsed": false
   },
   "outputs": [],
   "source": [
    "oraQuery = \"SELECT t1.ID_AVALIACAO, \\\n",
    "                c1.ID_PLANO_BENEFICIO, \\\n",
    "                t2.IDPLANOPREV, \\\n",
    "                t1.ID_CADASTRO, \\\n",
    "                t1.DT_CALCULO, \\\n",
    "                t1.NR_IDADE_INI_CONT_INSS_MAS, \\\n",
    "                t1.NR_IDADE_INI_CONT_INSS_FEM, \\\n",
    "                t1.NR_IDADE_INI_APOS_MAS, \\\n",
    "                t1.NR_IDADE_INI_APOS_FEM, \\\n",
    "                t1.NR_TEMPO_CONT_INSS_MAS, \\\n",
    "                t1.NR_TEMPO_CONT_INSS_FEM, \\\n",
    "                t1.NR_MAIORIDADE_PLANO, \\\n",
    "                t1.DT_REAJUSTE_BENEFICIO, \\\n",
    "                t1.VL_BENEFICIO_MINIMO, \\\n",
    "                t1.PC_DESPESA_ADM_PARTICIPANTE, \\\n",
    "                t1.PC_DESPESA_ADM_PATROCINADORA, \\\n",
    "                t1.PC_SAIDA_BPD, \\\n",
    "                t1.PC_SAIDA_PORTABILIDADE, \\\n",
    "                t1.PC_SAIDA_RESGATE, \\\n",
    "                t1.VL_PECULIO_MINIMO_MORTE, \\\n",
    "                t1.PC_PECULIO_MINIMO_MORTE, \\\n",
    "                t1.VL_PECULIO_MORTE_ASSISTIDO, \\\n",
    "                t1.NR_PAGTOS_BENEF_CONTRIB_ANO, \\\n",
    "                t1.PC_FAIXA_01_CONTRIBUICAO, \\\n",
    "                t1.PC_FAIXA_02_CONTRIBUICAO, \\\n",
    "                t1.PC_FAIXA_03_CONTRIBUICAO, \\\n",
    "                t1.PC_CONTRIBUICAO_PATROCINADORA, \\\n",
    "                t1.PC_META_CUSTEIO_ADMIN, \\\n",
    "                t1.PC_TAXA_ADMIN_BENEFICIO, \\\n",
    "                t1.VL_INICIAL_LX, \\\n",
    "                t1.PC_TAXA_REAL_CRESC_SALARIAL, \\\n",
    "                t1.PC_TAXA_REAL_CRESC_BENEFICIO, \\\n",
    "                t1.PC_COTA_FAMILIAR_PENSAO, \\\n",
    "                t1.PC_PROB_PARTIC_CAS_APOS_MAS, \\\n",
    "                t1.PC_PROB_PARTIC_CAS_APOS_FEM, \\\n",
    "                t1.NR_DIFERENCIA_IDADE_CONJ_MAS, \\\n",
    "                t1.NR_DIFERENCIA_IDADE_CONJ_FEM, \\\n",
    "                t1.PC_FATOR_VLR_REAL_SALARIO, \\\n",
    "                t1.PC_FATOR_VLR_REAL_BEN_FUNCEF, \\\n",
    "                t1.PC_FATOR_VLR_REAL_BEN_INSS, \\\n",
    "                t1.VL_TETO_INSS_CONTRIBUICAO, \\\n",
    "                t1.VL_TETO_INSS_BENEFICIO, \\\n",
    "                t1.VL_SALARIO_MINIMO, \\\n",
    "                t1.PC_FATOR_REAJ_BENEF_LIQUIDO, \\\n",
    "                t1.NR_MULT_SAL_PARTIC_BENEF_RISCO, \\\n",
    "                t1.PC_OPCAO_BUA, \\\n",
    "                t1.PC_SAQUE_BUA \\\n",
    "          FROM TB_ATU_AVALIACAO t1, TB_ATU_CADASTRO c1, TB_ATU_PLANO_BENEFICIO t2 \\\n",
    "          WHERE t1.ID_CADASTRO = c1.ID_CADASTRO \\\n",
    "            AND c1.ID_PLANO_BENEFICIO = t2.ID_PLANO_BENEFICIO \\\n",
    "            AND t1.ID_AVALIACAO = \" + str(25445)"
   ]
  },
  {
   "cell_type": "code",
   "execution_count": 5,
   "metadata": {
    "collapsed": false
   },
   "outputs": [],
   "source": [
    "#oraCur.execute(oraQuery)"
   ]
  },
  {
   "cell_type": "code",
   "execution_count": 6,
   "metadata": {
    "collapsed": false
   },
   "outputs": [],
   "source": [
    "df_aval = pd.read_sql(oraQuery, oraCon)"
   ]
  },
  {
   "cell_type": "code",
   "execution_count": 7,
   "metadata": {
    "collapsed": false
   },
   "outputs": [
    {
     "data": {
      "text/plain": [
       "ID_AVALIACAO                             float64\n",
       "ID_PLANO_BENEFICIO                       float64\n",
       "IDPLANOPREV                              float64\n",
       "ID_CADASTRO                              float64\n",
       "DT_CALCULO                        datetime64[ns]\n",
       "NR_IDADE_INI_CONT_INSS_MAS               float64\n",
       "NR_IDADE_INI_CONT_INSS_FEM               float64\n",
       "NR_IDADE_INI_APOS_MAS                    float64\n",
       "NR_IDADE_INI_APOS_FEM                    float64\n",
       "NR_TEMPO_CONT_INSS_MAS                   float64\n",
       "NR_TEMPO_CONT_INSS_FEM                   float64\n",
       "NR_MAIORIDADE_PLANO                      float64\n",
       "DT_REAJUSTE_BENEFICIO             datetime64[ns]\n",
       "VL_BENEFICIO_MINIMO                      float64\n",
       "PC_DESPESA_ADM_PARTICIPANTE              float64\n",
       "PC_DESPESA_ADM_PATROCINADORA             float64\n",
       "PC_SAIDA_BPD                             float64\n",
       "PC_SAIDA_PORTABILIDADE                   float64\n",
       "PC_SAIDA_RESGATE                         float64\n",
       "VL_PECULIO_MINIMO_MORTE                  float64\n",
       "PC_PECULIO_MINIMO_MORTE                  float64\n",
       "VL_PECULIO_MORTE_ASSISTIDO               float64\n",
       "NR_PAGTOS_BENEF_CONTRIB_ANO              float64\n",
       "PC_FAIXA_01_CONTRIBUICAO                 float64\n",
       "PC_FAIXA_02_CONTRIBUICAO                 float64\n",
       "PC_FAIXA_03_CONTRIBUICAO                 float64\n",
       "PC_CONTRIBUICAO_PATROCINADORA            float64\n",
       "PC_META_CUSTEIO_ADMIN                    float64\n",
       "PC_TAXA_ADMIN_BENEFICIO                  float64\n",
       "VL_INICIAL_LX                            float64\n",
       "PC_TAXA_REAL_CRESC_SALARIAL              float64\n",
       "PC_TAXA_REAL_CRESC_BENEFICIO             float64\n",
       "PC_COTA_FAMILIAR_PENSAO                  float64\n",
       "PC_PROB_PARTIC_CAS_APOS_MAS              float64\n",
       "PC_PROB_PARTIC_CAS_APOS_FEM              float64\n",
       "NR_DIFERENCIA_IDADE_CONJ_MAS             float64\n",
       "NR_DIFERENCIA_IDADE_CONJ_FEM             float64\n",
       "PC_FATOR_VLR_REAL_SALARIO                float64\n",
       "PC_FATOR_VLR_REAL_BEN_FUNCEF             float64\n",
       "PC_FATOR_VLR_REAL_BEN_INSS               float64\n",
       "VL_TETO_INSS_CONTRIBUICAO                float64\n",
       "VL_TETO_INSS_BENEFICIO                   float64\n",
       "VL_SALARIO_MINIMO                        float64\n",
       "PC_FATOR_REAJ_BENEF_LIQUIDO              float64\n",
       "NR_MULT_SAL_PARTIC_BENEF_RISCO           float64\n",
       "PC_OPCAO_BUA                             float64\n",
       "PC_SAQUE_BUA                             float64\n",
       "dtype: object"
      ]
     },
     "execution_count": 7,
     "metadata": {},
     "output_type": "execute_result"
    }
   ],
   "source": [
    "df_aval.dtypes"
   ]
  },
  {
   "cell_type": "code",
   "execution_count": 8,
   "metadata": {
    "collapsed": false
   },
   "outputs": [
    {
     "data": {
      "text/html": [
       "<div>\n",
       "<table border=\"1\" class=\"dataframe\">\n",
       "  <thead>\n",
       "    <tr style=\"text-align: right;\">\n",
       "      <th></th>\n",
       "      <th>ID_AVALIACAO</th>\n",
       "      <th>ID_PLANO_BENEFICIO</th>\n",
       "      <th>IDPLANOPREV</th>\n",
       "      <th>ID_CADASTRO</th>\n",
       "      <th>DT_CALCULO</th>\n",
       "      <th>NR_IDADE_INI_CONT_INSS_MAS</th>\n",
       "      <th>NR_IDADE_INI_CONT_INSS_FEM</th>\n",
       "      <th>NR_IDADE_INI_APOS_MAS</th>\n",
       "      <th>NR_IDADE_INI_APOS_FEM</th>\n",
       "      <th>NR_TEMPO_CONT_INSS_MAS</th>\n",
       "      <th>...</th>\n",
       "      <th>PC_FATOR_VLR_REAL_SALARIO</th>\n",
       "      <th>PC_FATOR_VLR_REAL_BEN_FUNCEF</th>\n",
       "      <th>PC_FATOR_VLR_REAL_BEN_INSS</th>\n",
       "      <th>VL_TETO_INSS_CONTRIBUICAO</th>\n",
       "      <th>VL_TETO_INSS_BENEFICIO</th>\n",
       "      <th>VL_SALARIO_MINIMO</th>\n",
       "      <th>PC_FATOR_REAJ_BENEF_LIQUIDO</th>\n",
       "      <th>NR_MULT_SAL_PARTIC_BENEF_RISCO</th>\n",
       "      <th>PC_OPCAO_BUA</th>\n",
       "      <th>PC_SAQUE_BUA</th>\n",
       "    </tr>\n",
       "  </thead>\n",
       "  <tbody>\n",
       "    <tr>\n",
       "      <th>0</th>\n",
       "      <td>25445.0</td>\n",
       "      <td>5.0</td>\n",
       "      <td>74.0</td>\n",
       "      <td>10809.0</td>\n",
       "      <td>2016-12-31</td>\n",
       "      <td>18.0</td>\n",
       "      <td>18.0</td>\n",
       "      <td>53.0</td>\n",
       "      <td>48.0</td>\n",
       "      <td>35.0</td>\n",
       "      <td>...</td>\n",
       "      <td>98.0</td>\n",
       "      <td>98.0</td>\n",
       "      <td>98.0</td>\n",
       "      <td>5189.82</td>\n",
       "      <td>5078.94</td>\n",
       "      <td>880.0</td>\n",
       "      <td>121.77</td>\n",
       "      <td>20.0</td>\n",
       "      <td>0.0</td>\n",
       "      <td>0.0</td>\n",
       "    </tr>\n",
       "  </tbody>\n",
       "</table>\n",
       "<p>1 rows × 47 columns</p>\n",
       "</div>"
      ],
      "text/plain": [
       "   ID_AVALIACAO  ID_PLANO_BENEFICIO  IDPLANOPREV  ID_CADASTRO DT_CALCULO  \\\n",
       "0       25445.0                 5.0         74.0      10809.0 2016-12-31   \n",
       "\n",
       "   NR_IDADE_INI_CONT_INSS_MAS  NR_IDADE_INI_CONT_INSS_FEM  \\\n",
       "0                        18.0                        18.0   \n",
       "\n",
       "   NR_IDADE_INI_APOS_MAS  NR_IDADE_INI_APOS_FEM  NR_TEMPO_CONT_INSS_MAS  \\\n",
       "0                   53.0                   48.0                    35.0   \n",
       "\n",
       "       ...       PC_FATOR_VLR_REAL_SALARIO  PC_FATOR_VLR_REAL_BEN_FUNCEF  \\\n",
       "0      ...                            98.0                          98.0   \n",
       "\n",
       "  PC_FATOR_VLR_REAL_BEN_INSS  VL_TETO_INSS_CONTRIBUICAO  \\\n",
       "0                       98.0                    5189.82   \n",
       "\n",
       "   VL_TETO_INSS_BENEFICIO  VL_SALARIO_MINIMO  PC_FATOR_REAJ_BENEF_LIQUIDO  \\\n",
       "0                 5078.94              880.0                       121.77   \n",
       "\n",
       "   NR_MULT_SAL_PARTIC_BENEF_RISCO  PC_OPCAO_BUA  PC_SAQUE_BUA  \n",
       "0                            20.0           0.0           0.0  \n",
       "\n",
       "[1 rows x 47 columns]"
      ]
     },
     "execution_count": 8,
     "metadata": {},
     "output_type": "execute_result"
    }
   ],
   "source": [
    "df_aval"
   ]
  },
  {
   "cell_type": "code",
   "execution_count": 9,
   "metadata": {
    "collapsed": false
   },
   "outputs": [],
   "source": [
    "oraQuery = \"SELECT t1.CD_TIPO_REAJUSTE_SALARIAL, t1.ID_PATROCINADORA, t1.PC_REAJUSTE, t2.DS_TIPO_REAJUSTE_SALARIAL \\\n",
    "              FROM TB_ATU_AVAL_PLANO_REAJ_SAL t1 \\\n",
    "              JOIN TB_ATU_TIPO_REAJUSTE_SALARIAL t2 ON (t1.CD_TIPO_REAJUSTE_SALARIAL = t2.CD_TIPO_REAJUSTE_SALARIAL) \\\n",
    "             WHERE t1.ID_AVALIACAO = \" + str(int(df_aval['ID_AVALIACAO'])) + \" ORDER BY t1.ID_AVAL_PLANO_REAJ_SAL\""
   ]
  },
  {
   "cell_type": "code",
   "execution_count": 10,
   "metadata": {
    "collapsed": false
   },
   "outputs": [],
   "source": [
    "df_reaj_sal = pd.read_sql(oraQuery, oraCon)"
   ]
  },
  {
   "cell_type": "code",
   "execution_count": 11,
   "metadata": {
    "collapsed": false
   },
   "outputs": [
    {
     "data": {
      "text/plain": [
       "CD_TIPO_REAJUSTE_SALARIAL    float64\n",
       "ID_PATROCINADORA             float64\n",
       "PC_REAJUSTE                  float64\n",
       "DS_TIPO_REAJUSTE_SALARIAL     object\n",
       "dtype: object"
      ]
     },
     "execution_count": 11,
     "metadata": {},
     "output_type": "execute_result"
    }
   ],
   "source": [
    "df_reaj_sal.dtypes"
   ]
  },
  {
   "cell_type": "code",
   "execution_count": 12,
   "metadata": {
    "collapsed": false
   },
   "outputs": [
    {
     "data": {
      "text/html": [
       "<div>\n",
       "<table border=\"1\" class=\"dataframe\">\n",
       "  <thead>\n",
       "    <tr style=\"text-align: right;\">\n",
       "      <th></th>\n",
       "      <th>CD_TIPO_REAJUSTE_SALARIAL</th>\n",
       "      <th>ID_PATROCINADORA</th>\n",
       "      <th>PC_REAJUSTE</th>\n",
       "      <th>DS_TIPO_REAJUSTE_SALARIAL</th>\n",
       "    </tr>\n",
       "  </thead>\n",
       "  <tbody>\n",
       "    <tr>\n",
       "      <th>0</th>\n",
       "      <td>1.0</td>\n",
       "      <td>1.0</td>\n",
       "      <td>0.000000</td>\n",
       "      <td>Fator de Atualizac?o do Salario de Participac?o</td>\n",
       "    </tr>\n",
       "    <tr>\n",
       "      <th>1</th>\n",
       "      <td>2.0</td>\n",
       "      <td>1.0</td>\n",
       "      <td>0.000000</td>\n",
       "      <td>Fator de Atualizac?o do Beneficio</td>\n",
       "    </tr>\n",
       "    <tr>\n",
       "      <th>2</th>\n",
       "      <td>1.0</td>\n",
       "      <td>91008.0</td>\n",
       "      <td>0.460760</td>\n",
       "      <td>Fator de Atualizac?o do Salario de Participac?o</td>\n",
       "    </tr>\n",
       "    <tr>\n",
       "      <th>3</th>\n",
       "      <td>2.0</td>\n",
       "      <td>91008.0</td>\n",
       "      <td>6.579964</td>\n",
       "      <td>Fator de Atualizac?o do Beneficio</td>\n",
       "    </tr>\n",
       "  </tbody>\n",
       "</table>\n",
       "</div>"
      ],
      "text/plain": [
       "   CD_TIPO_REAJUSTE_SALARIAL  ID_PATROCINADORA  PC_REAJUSTE  \\\n",
       "0                        1.0               1.0     0.000000   \n",
       "1                        2.0               1.0     0.000000   \n",
       "2                        1.0           91008.0     0.460760   \n",
       "3                        2.0           91008.0     6.579964   \n",
       "\n",
       "                         DS_TIPO_REAJUSTE_SALARIAL  \n",
       "0  Fator de Atualizac?o do Salario de Participac?o  \n",
       "1                Fator de Atualizac?o do Beneficio  \n",
       "2  Fator de Atualizac?o do Salario de Participac?o  \n",
       "3                Fator de Atualizac?o do Beneficio  "
      ]
     },
     "execution_count": 12,
     "metadata": {},
     "output_type": "execute_result"
    }
   ],
   "source": [
    "df_reaj_sal"
   ]
  },
  {
   "cell_type": "code",
   "execution_count": 13,
   "metadata": {
    "collapsed": true
   },
   "outputs": [],
   "source": [
    "oraQuery = \"SELECT t1.ID_REFERENCIA_IDX_MON, t1.PC_REAJUSTE, t2.DS_REFERENCIA_IDX_MON \\\n",
    "              FROM TB_ATU_AVAL_PLANO_IDX_MON t1 \\\n",
    "              JOIN tb_atu_referencia_idx_mon t2 ON (t1.ID_REFERENCIA_IDX_MON = t2.ID_REFERENCIA_IDX_MON) \\\n",
    "             WHERE t1.ID_AVALIACAO = \" + str(int(df_aval['ID_AVALIACAO'])) + \" ORDER BY t1.ID_REFERENCIA_IDX_MON\""
   ]
  },
  {
   "cell_type": "code",
   "execution_count": 14,
   "metadata": {
    "collapsed": true
   },
   "outputs": [],
   "source": [
    "df_ind_monet = pd.read_sql(oraQuery, oraCon)"
   ]
  },
  {
   "cell_type": "code",
   "execution_count": 15,
   "metadata": {
    "collapsed": false
   },
   "outputs": [
    {
     "data": {
      "text/plain": [
       "ID_REFERENCIA_IDX_MON    float64\n",
       "PC_REAJUSTE              float64\n",
       "DS_REFERENCIA_IDX_MON     object\n",
       "dtype: object"
      ]
     },
     "execution_count": 15,
     "metadata": {},
     "output_type": "execute_result"
    }
   ],
   "source": [
    "df_ind_monet.dtypes"
   ]
  },
  {
   "cell_type": "code",
   "execution_count": 16,
   "metadata": {
    "collapsed": false
   },
   "outputs": [
    {
     "data": {
      "text/html": [
       "<div>\n",
       "<table border=\"1\" class=\"dataframe\">\n",
       "  <thead>\n",
       "    <tr style=\"text-align: right;\">\n",
       "      <th></th>\n",
       "      <th>ID_REFERENCIA_IDX_MON</th>\n",
       "      <th>PC_REAJUSTE</th>\n",
       "      <th>DS_REFERENCIA_IDX_MON</th>\n",
       "    </tr>\n",
       "  </thead>\n",
       "  <tbody>\n",
       "    <tr>\n",
       "      <th>0</th>\n",
       "      <td>1.0</td>\n",
       "      <td>3.044187</td>\n",
       "      <td>Beneficio Minimo</td>\n",
       "    </tr>\n",
       "    <tr>\n",
       "      <th>1</th>\n",
       "      <td>2.0</td>\n",
       "      <td>1.064310</td>\n",
       "      <td>INSS Beneficios</td>\n",
       "    </tr>\n",
       "    <tr>\n",
       "      <th>2</th>\n",
       "      <td>3.0</td>\n",
       "      <td>1.065800</td>\n",
       "      <td>Teto INSS Contribuic?o</td>\n",
       "    </tr>\n",
       "    <tr>\n",
       "      <th>3</th>\n",
       "      <td>4.0</td>\n",
       "      <td>1.000000</td>\n",
       "      <td>Teto INSS Beneficio</td>\n",
       "    </tr>\n",
       "    <tr>\n",
       "      <th>4</th>\n",
       "      <td>5.0</td>\n",
       "      <td>1.064310</td>\n",
       "      <td>Salario Minimo</td>\n",
       "    </tr>\n",
       "    <tr>\n",
       "      <th>5</th>\n",
       "      <td>6.0</td>\n",
       "      <td>1.000000</td>\n",
       "      <td>Peculio por Morte</td>\n",
       "    </tr>\n",
       "  </tbody>\n",
       "</table>\n",
       "</div>"
      ],
      "text/plain": [
       "   ID_REFERENCIA_IDX_MON  PC_REAJUSTE   DS_REFERENCIA_IDX_MON\n",
       "0                    1.0     3.044187        Beneficio Minimo\n",
       "1                    2.0     1.064310         INSS Beneficios\n",
       "2                    3.0     1.065800  Teto INSS Contribuic?o\n",
       "3                    4.0     1.000000     Teto INSS Beneficio\n",
       "4                    5.0     1.064310          Salario Minimo\n",
       "5                    6.0     1.000000       Peculio por Morte"
      ]
     },
     "execution_count": 16,
     "metadata": {},
     "output_type": "execute_result"
    }
   ],
   "source": [
    "df_ind_monet"
   ]
  },
  {
   "cell_type": "code",
   "execution_count": 17,
   "metadata": {
    "collapsed": true
   },
   "outputs": [],
   "source": [
    "oraQuery = \"select t1.nr_tempo_taxa_juros, t1.vl_taxa_juros \\\n",
    "              from tb_atu_avaliacao_taxa_juros t1 \\\n",
    "             where t1.id_avaliacao = \" + str(int(df_aval['ID_AVALIACAO'])) + \" order by t1.nr_tempo_taxa_juros\""
   ]
  },
  {
   "cell_type": "code",
   "execution_count": 18,
   "metadata": {
    "collapsed": true
   },
   "outputs": [],
   "source": [
    "df_juros = pd.read_sql(oraQuery, oraCon)"
   ]
  },
  {
   "cell_type": "code",
   "execution_count": 19,
   "metadata": {
    "collapsed": false
   },
   "outputs": [
    {
     "data": {
      "text/plain": [
       "NR_TEMPO_TAXA_JUROS    float64\n",
       "VL_TAXA_JUROS          float64\n",
       "dtype: object"
      ]
     },
     "execution_count": 19,
     "metadata": {},
     "output_type": "execute_result"
    }
   ],
   "source": [
    "df_juros.dtypes"
   ]
  },
  {
   "cell_type": "code",
   "execution_count": 20,
   "metadata": {
    "collapsed": false
   },
   "outputs": [
    {
     "data": {
      "text/html": [
       "<div>\n",
       "<table border=\"1\" class=\"dataframe\">\n",
       "  <thead>\n",
       "    <tr style=\"text-align: right;\">\n",
       "      <th></th>\n",
       "      <th>NR_TEMPO_TAXA_JUROS</th>\n",
       "      <th>VL_TAXA_JUROS</th>\n",
       "    </tr>\n",
       "  </thead>\n",
       "  <tbody>\n",
       "    <tr>\n",
       "      <th>0</th>\n",
       "      <td>0.0</td>\n",
       "      <td>5.51</td>\n",
       "    </tr>\n",
       "    <tr>\n",
       "      <th>1</th>\n",
       "      <td>1.0</td>\n",
       "      <td>5.39</td>\n",
       "    </tr>\n",
       "    <tr>\n",
       "      <th>2</th>\n",
       "      <td>2.0</td>\n",
       "      <td>5.27</td>\n",
       "    </tr>\n",
       "    <tr>\n",
       "      <th>3</th>\n",
       "      <td>3.0</td>\n",
       "      <td>5.15</td>\n",
       "    </tr>\n",
       "    <tr>\n",
       "      <th>4</th>\n",
       "      <td>4.0</td>\n",
       "      <td>5.03</td>\n",
       "    </tr>\n",
       "    <tr>\n",
       "      <th>5</th>\n",
       "      <td>5.0</td>\n",
       "      <td>4.91</td>\n",
       "    </tr>\n",
       "    <tr>\n",
       "      <th>6</th>\n",
       "      <td>6.0</td>\n",
       "      <td>4.80</td>\n",
       "    </tr>\n",
       "    <tr>\n",
       "      <th>7</th>\n",
       "      <td>7.0</td>\n",
       "      <td>4.68</td>\n",
       "    </tr>\n",
       "    <tr>\n",
       "      <th>8</th>\n",
       "      <td>8.0</td>\n",
       "      <td>4.56</td>\n",
       "    </tr>\n",
       "    <tr>\n",
       "      <th>9</th>\n",
       "      <td>9.0</td>\n",
       "      <td>4.44</td>\n",
       "    </tr>\n",
       "    <tr>\n",
       "      <th>10</th>\n",
       "      <td>10.0</td>\n",
       "      <td>4.32</td>\n",
       "    </tr>\n",
       "    <tr>\n",
       "      <th>11</th>\n",
       "      <td>11.0</td>\n",
       "      <td>4.20</td>\n",
       "    </tr>\n",
       "  </tbody>\n",
       "</table>\n",
       "</div>"
      ],
      "text/plain": [
       "    NR_TEMPO_TAXA_JUROS  VL_TAXA_JUROS\n",
       "0                   0.0           5.51\n",
       "1                   1.0           5.39\n",
       "2                   2.0           5.27\n",
       "3                   3.0           5.15\n",
       "4                   4.0           5.03\n",
       "5                   5.0           4.91\n",
       "6                   6.0           4.80\n",
       "7                   7.0           4.68\n",
       "8                   8.0           4.56\n",
       "9                   9.0           4.44\n",
       "10                 10.0           4.32\n",
       "11                 11.0           4.20"
      ]
     },
     "execution_count": 20,
     "metadata": {},
     "output_type": "execute_result"
    }
   ],
   "source": [
    "df_juros"
   ]
  },
  {
   "cell_type": "code",
   "execution_count": 21,
   "metadata": {
    "collapsed": true
   },
   "outputs": [],
   "source": [
    "oraQuery = \"select t1.nr_tempo_taxa_risco, t1.id_responsabilidade, t1.vl_taxa_risco \\\n",
    "              from tb_atu_avaliacao_taxa_risco t1 \\\n",
    "             where t1.id_avaliacao = \" + str(int(df_aval['ID_AVALIACAO'])) + \" order by t1.id_responsabilidade, t1.nr_tempo_taxa_risco\""
   ]
  },
  {
   "cell_type": "code",
   "execution_count": 22,
   "metadata": {
    "collapsed": true
   },
   "outputs": [],
   "source": [
    "df_risco = pd.read_sql(oraQuery, oraCon)"
   ]
  },
  {
   "cell_type": "code",
   "execution_count": 23,
   "metadata": {
    "collapsed": false
   },
   "outputs": [
    {
     "data": {
      "text/plain": [
       "NR_TEMPO_TAXA_RISCO    float64\n",
       "ID_RESPONSABILIDADE    float64\n",
       "VL_TAXA_RISCO          float64\n",
       "dtype: object"
      ]
     },
     "execution_count": 23,
     "metadata": {},
     "output_type": "execute_result"
    }
   ],
   "source": [
    "df_risco.dtypes"
   ]
  },
  {
   "cell_type": "code",
   "execution_count": 24,
   "metadata": {
    "collapsed": false
   },
   "outputs": [
    {
     "data": {
      "text/html": [
       "<div>\n",
       "<table border=\"1\" class=\"dataframe\">\n",
       "  <thead>\n",
       "    <tr style=\"text-align: right;\">\n",
       "      <th></th>\n",
       "      <th>NR_TEMPO_TAXA_RISCO</th>\n",
       "      <th>ID_RESPONSABILIDADE</th>\n",
       "      <th>VL_TAXA_RISCO</th>\n",
       "    </tr>\n",
       "  </thead>\n",
       "  <tbody>\n",
       "    <tr>\n",
       "      <th>0</th>\n",
       "      <td>0.0</td>\n",
       "      <td>1.0</td>\n",
       "      <td>0.00</td>\n",
       "    </tr>\n",
       "    <tr>\n",
       "      <th>1</th>\n",
       "      <td>0.0</td>\n",
       "      <td>2.0</td>\n",
       "      <td>0.49</td>\n",
       "    </tr>\n",
       "  </tbody>\n",
       "</table>\n",
       "</div>"
      ],
      "text/plain": [
       "   NR_TEMPO_TAXA_RISCO  ID_RESPONSABILIDADE  VL_TAXA_RISCO\n",
       "0                  0.0                  1.0           0.00\n",
       "1                  0.0                  2.0           0.49"
      ]
     },
     "execution_count": 24,
     "metadata": {},
     "output_type": "execute_result"
    }
   ],
   "source": [
    "df_risco"
   ]
  },
  {
   "cell_type": "code",
   "execution_count": 25,
   "metadata": {
    "collapsed": true
   },
   "outputs": [],
   "source": [
    "oraQuery = \"SELECT t1.DT_ORIGEM_BNH, t1.DT_INICIO_LEI_9876_1999, t1.DT_INICIO_MEDIA_80PC_MAIORES_S \\\n",
    "              FROM TB_ATU_PARAMETRIZACAO t1 \\\n",
    "             WHERE t1.DT_VIGENCIA_FIM IS NULL \\\n",
    "             ORDER BY t1.ID_PARAMETRIZACAO DESC\""
   ]
  },
  {
   "cell_type": "code",
   "execution_count": 26,
   "metadata": {
    "collapsed": true
   },
   "outputs": [],
   "source": [
    "df_param = pd.read_sql(oraQuery, oraCon)"
   ]
  },
  {
   "cell_type": "code",
   "execution_count": 27,
   "metadata": {
    "collapsed": false
   },
   "outputs": [
    {
     "data": {
      "text/plain": [
       "DT_ORIGEM_BNH                     datetime64[ns]\n",
       "DT_INICIO_LEI_9876_1999           datetime64[ns]\n",
       "DT_INICIO_MEDIA_80PC_MAIORES_S    datetime64[ns]\n",
       "dtype: object"
      ]
     },
     "execution_count": 27,
     "metadata": {},
     "output_type": "execute_result"
    }
   ],
   "source": [
    "df_param.dtypes"
   ]
  },
  {
   "cell_type": "code",
   "execution_count": 28,
   "metadata": {
    "collapsed": false
   },
   "outputs": [
    {
     "data": {
      "text/html": [
       "<div>\n",
       "<table border=\"1\" class=\"dataframe\">\n",
       "  <thead>\n",
       "    <tr style=\"text-align: right;\">\n",
       "      <th></th>\n",
       "      <th>DT_ORIGEM_BNH</th>\n",
       "      <th>DT_INICIO_LEI_9876_1999</th>\n",
       "      <th>DT_INICIO_MEDIA_80PC_MAIORES_S</th>\n",
       "    </tr>\n",
       "  </thead>\n",
       "  <tbody>\n",
       "    <tr>\n",
       "      <th>0</th>\n",
       "      <td>1998-09-23</td>\n",
       "      <td>1999-11-29</td>\n",
       "      <td>1994-07-31</td>\n",
       "    </tr>\n",
       "  </tbody>\n",
       "</table>\n",
       "</div>"
      ],
      "text/plain": [
       "  DT_ORIGEM_BNH DT_INICIO_LEI_9876_1999 DT_INICIO_MEDIA_80PC_MAIORES_S\n",
       "0    1998-09-23              1999-11-29                     1994-07-31"
      ]
     },
     "execution_count": 28,
     "metadata": {},
     "output_type": "execute_result"
    }
   ],
   "source": [
    "df_param"
   ]
  },
  {
   "cell_type": "code",
   "execution_count": 29,
   "metadata": {
    "collapsed": true
   },
   "outputs": [],
   "source": [
    "oraQuery = \"SELECT t1.COTDATA, t1.COTVALOR \\\n",
    "              FROM COTACAOMOEDA t1 \\\n",
    "             WHERE t1.MOECODIGO = 7 \\\n",
    "             ORDER BY t1.COTDATA\""
   ]
  },
  {
   "cell_type": "code",
   "execution_count": 30,
   "metadata": {
    "collapsed": true
   },
   "outputs": [],
   "source": [
    "df_cotacao = pd.read_sql(oraQuery, oraCon)"
   ]
  },
  {
   "cell_type": "code",
   "execution_count": 31,
   "metadata": {
    "collapsed": false
   },
   "outputs": [
    {
     "data": {
      "text/plain": [
       "COTDATA     datetime64[ns]\n",
       "COTVALOR           float64\n",
       "dtype: object"
      ]
     },
     "execution_count": 31,
     "metadata": {},
     "output_type": "execute_result"
    }
   ],
   "source": [
    "df_cotacao.dtypes"
   ]
  },
  {
   "cell_type": "code",
   "execution_count": 32,
   "metadata": {
    "collapsed": false
   },
   "outputs": [
    {
     "data": {
      "text/html": [
       "<div>\n",
       "<table border=\"1\" class=\"dataframe\">\n",
       "  <thead>\n",
       "    <tr style=\"text-align: right;\">\n",
       "      <th></th>\n",
       "      <th>COTDATA</th>\n",
       "      <th>COTVALOR</th>\n",
       "    </tr>\n",
       "  </thead>\n",
       "  <tbody>\n",
       "    <tr>\n",
       "      <th>0</th>\n",
       "      <td>1979-04-01</td>\n",
       "      <td>3.45</td>\n",
       "    </tr>\n",
       "    <tr>\n",
       "      <th>1</th>\n",
       "      <td>1979-05-01</td>\n",
       "      <td>1.76</td>\n",
       "    </tr>\n",
       "    <tr>\n",
       "      <th>2</th>\n",
       "      <td>1979-06-01</td>\n",
       "      <td>3.00</td>\n",
       "    </tr>\n",
       "    <tr>\n",
       "      <th>3</th>\n",
       "      <td>1979-07-01</td>\n",
       "      <td>5.36</td>\n",
       "    </tr>\n",
       "    <tr>\n",
       "      <th>4</th>\n",
       "      <td>1979-08-01</td>\n",
       "      <td>5.79</td>\n",
       "    </tr>\n",
       "    <tr>\n",
       "      <th>5</th>\n",
       "      <td>1979-09-01</td>\n",
       "      <td>6.61</td>\n",
       "    </tr>\n",
       "    <tr>\n",
       "      <th>6</th>\n",
       "      <td>1979-10-01</td>\n",
       "      <td>5.06</td>\n",
       "    </tr>\n",
       "    <tr>\n",
       "      <th>7</th>\n",
       "      <td>1979-11-01</td>\n",
       "      <td>6.10</td>\n",
       "    </tr>\n",
       "  </tbody>\n",
       "</table>\n",
       "</div>"
      ],
      "text/plain": [
       "     COTDATA  COTVALOR\n",
       "0 1979-04-01      3.45\n",
       "1 1979-05-01      1.76\n",
       "2 1979-06-01      3.00\n",
       "3 1979-07-01      5.36\n",
       "4 1979-08-01      5.79\n",
       "5 1979-09-01      6.61\n",
       "6 1979-10-01      5.06\n",
       "7 1979-11-01      6.10"
      ]
     },
     "execution_count": 32,
     "metadata": {},
     "output_type": "execute_result"
    }
   ],
   "source": [
    "df_cotacao.head(8)"
   ]
  },
  {
   "cell_type": "code",
   "execution_count": 33,
   "metadata": {
    "collapsed": true
   },
   "outputs": [],
   "source": [
    "oraQuery = \"SELECT t1.ID_PARTICIPANTE, \\\n",
    "                   t1.id_cadastro, \\\n",
    "                   t1.NR_MATRICULA, \\\n",
    "                   t1.DT_NASCIMENTO, \\\n",
    "                   t1.IR_SEXO, \\\n",
    "                   t1.ID_PATROCINADORA, \\\n",
    "                   t1.CD_SITUACAO_PATROC, \\\n",
    "                   t1.CD_ESTADO_CIVIL, \\\n",
    "                   t2.DS_ESTADO_CIVIL, \\\n",
    "                   t1.DT_OPCAO_BPD, \\\n",
    "                   t1.DT_ADMISSAO, \\\n",
    "                   t1.DT_ASSOCIACAO_FUNDACAO, \\\n",
    "                   t1.PC_BENEFICIO_ESPECIAL, \\\n",
    "                   t1.FL_DEFICIENTE, \\\n",
    "                   t1.NR_MATRICULA_TITULAR, \\\n",
    "                   t1.fl_migrado \\\n",
    "              FROM TB_ATU_PARTICIPANTE t1 \\\n",
    "             INNER JOIN TB_ATU_ESTADO_CIVIL t2 on (t1.CD_ESTADO_CIVIL = t2.CD_ESTADO_CIVIL) \\\n",
    "             WHERE t1.ID_CADASTRO = \" + str(int(df_aval['ID_CADASTRO'])) + \" ORDER BY t1.ID_PARTICIPANTE\""
   ]
  },
  {
   "cell_type": "code",
   "execution_count": 34,
   "metadata": {
    "collapsed": true
   },
   "outputs": [],
   "source": [
    "df_partic = pd.read_sql(oraQuery, oraCon)"
   ]
  },
  {
   "cell_type": "code",
   "execution_count": 35,
   "metadata": {
    "collapsed": false
   },
   "outputs": [
    {
     "data": {
      "text/plain": [
       "ID_PARTICIPANTE                  float64\n",
       "ID_CADASTRO                      float64\n",
       "NR_MATRICULA                      object\n",
       "DT_NASCIMENTO             datetime64[ns]\n",
       "IR_SEXO                           object\n",
       "ID_PATROCINADORA                 float64\n",
       "CD_SITUACAO_PATROC               float64\n",
       "CD_ESTADO_CIVIL                   object\n",
       "DS_ESTADO_CIVIL                   object\n",
       "DT_OPCAO_BPD                      object\n",
       "DT_ADMISSAO               datetime64[ns]\n",
       "DT_ASSOCIACAO_FUNDACAO    datetime64[ns]\n",
       "PC_BENEFICIO_ESPECIAL            float64\n",
       "FL_DEFICIENTE                     object\n",
       "NR_MATRICULA_TITULAR              object\n",
       "FL_MIGRADO                       float64\n",
       "dtype: object"
      ]
     },
     "execution_count": 35,
     "metadata": {},
     "output_type": "execute_result"
    }
   ],
   "source": [
    "df_partic.dtypes"
   ]
  },
  {
   "cell_type": "code",
   "execution_count": 36,
   "metadata": {
    "collapsed": false
   },
   "outputs": [
    {
     "data": {
      "text/html": [
       "<div>\n",
       "<table border=\"1\" class=\"dataframe\">\n",
       "  <thead>\n",
       "    <tr style=\"text-align: right;\">\n",
       "      <th></th>\n",
       "      <th>ID_PARTICIPANTE</th>\n",
       "      <th>ID_CADASTRO</th>\n",
       "      <th>NR_MATRICULA</th>\n",
       "      <th>DT_NASCIMENTO</th>\n",
       "      <th>IR_SEXO</th>\n",
       "      <th>ID_PATROCINADORA</th>\n",
       "      <th>CD_SITUACAO_PATROC</th>\n",
       "      <th>CD_ESTADO_CIVIL</th>\n",
       "      <th>DS_ESTADO_CIVIL</th>\n",
       "      <th>DT_OPCAO_BPD</th>\n",
       "      <th>DT_ADMISSAO</th>\n",
       "      <th>DT_ASSOCIACAO_FUNDACAO</th>\n",
       "      <th>PC_BENEFICIO_ESPECIAL</th>\n",
       "      <th>FL_DEFICIENTE</th>\n",
       "      <th>NR_MATRICULA_TITULAR</th>\n",
       "      <th>FL_MIGRADO</th>\n",
       "    </tr>\n",
       "  </thead>\n",
       "  <tbody>\n",
       "    <tr>\n",
       "      <th>0</th>\n",
       "      <td>10036696.0</td>\n",
       "      <td>10809.0</td>\n",
       "      <td>0000017</td>\n",
       "      <td>1958-09-04</td>\n",
       "      <td>M</td>\n",
       "      <td>91008.0</td>\n",
       "      <td>8.0</td>\n",
       "      <td>C</td>\n",
       "      <td>CASADO(A)</td>\n",
       "      <td>None</td>\n",
       "      <td>1983-02-21</td>\n",
       "      <td>1983-02-21</td>\n",
       "      <td>0.0</td>\n",
       "      <td>N</td>\n",
       "      <td>None</td>\n",
       "      <td>0.0</td>\n",
       "    </tr>\n",
       "    <tr>\n",
       "      <th>1</th>\n",
       "      <td>10036697.0</td>\n",
       "      <td>10809.0</td>\n",
       "      <td>0000030</td>\n",
       "      <td>1961-02-04</td>\n",
       "      <td>F</td>\n",
       "      <td>91008.0</td>\n",
       "      <td>8.0</td>\n",
       "      <td>C</td>\n",
       "      <td>CASADO(A)</td>\n",
       "      <td>None</td>\n",
       "      <td>1983-02-10</td>\n",
       "      <td>1983-02-10</td>\n",
       "      <td>0.0</td>\n",
       "      <td>N</td>\n",
       "      <td>None</td>\n",
       "      <td>0.0</td>\n",
       "    </tr>\n",
       "    <tr>\n",
       "      <th>2</th>\n",
       "      <td>10036698.0</td>\n",
       "      <td>10809.0</td>\n",
       "      <td>0000129</td>\n",
       "      <td>1959-12-17</td>\n",
       "      <td>M</td>\n",
       "      <td>91008.0</td>\n",
       "      <td>8.0</td>\n",
       "      <td>C</td>\n",
       "      <td>CASADO(A)</td>\n",
       "      <td>None</td>\n",
       "      <td>1983-02-16</td>\n",
       "      <td>1983-02-16</td>\n",
       "      <td>0.0</td>\n",
       "      <td>N</td>\n",
       "      <td>None</td>\n",
       "      <td>0.0</td>\n",
       "    </tr>\n",
       "    <tr>\n",
       "      <th>3</th>\n",
       "      <td>10036699.0</td>\n",
       "      <td>10809.0</td>\n",
       "      <td>0000135</td>\n",
       "      <td>1958-09-02</td>\n",
       "      <td>M</td>\n",
       "      <td>91008.0</td>\n",
       "      <td>8.0</td>\n",
       "      <td>C</td>\n",
       "      <td>CASADO(A)</td>\n",
       "      <td>None</td>\n",
       "      <td>1983-02-16</td>\n",
       "      <td>1983-02-16</td>\n",
       "      <td>0.0</td>\n",
       "      <td>N</td>\n",
       "      <td>None</td>\n",
       "      <td>0.0</td>\n",
       "    </tr>\n",
       "    <tr>\n",
       "      <th>4</th>\n",
       "      <td>10036700.0</td>\n",
       "      <td>10809.0</td>\n",
       "      <td>0000170</td>\n",
       "      <td>1959-11-04</td>\n",
       "      <td>M</td>\n",
       "      <td>91008.0</td>\n",
       "      <td>8.0</td>\n",
       "      <td>D</td>\n",
       "      <td>DIVORCIADO(A)</td>\n",
       "      <td>None</td>\n",
       "      <td>1983-02-16</td>\n",
       "      <td>1983-02-16</td>\n",
       "      <td>0.0</td>\n",
       "      <td>N</td>\n",
       "      <td>None</td>\n",
       "      <td>0.0</td>\n",
       "    </tr>\n",
       "    <tr>\n",
       "      <th>5</th>\n",
       "      <td>10036701.0</td>\n",
       "      <td>10809.0</td>\n",
       "      <td>0000218</td>\n",
       "      <td>1960-05-31</td>\n",
       "      <td>F</td>\n",
       "      <td>91008.0</td>\n",
       "      <td>34.0</td>\n",
       "      <td>C</td>\n",
       "      <td>CASADO(A)</td>\n",
       "      <td>None</td>\n",
       "      <td>1983-11-21</td>\n",
       "      <td>1983-11-21</td>\n",
       "      <td>0.0</td>\n",
       "      <td>N</td>\n",
       "      <td>None</td>\n",
       "      <td>0.0</td>\n",
       "    </tr>\n",
       "    <tr>\n",
       "      <th>6</th>\n",
       "      <td>10036702.0</td>\n",
       "      <td>10809.0</td>\n",
       "      <td>0000224</td>\n",
       "      <td>1959-07-21</td>\n",
       "      <td>M</td>\n",
       "      <td>91008.0</td>\n",
       "      <td>8.0</td>\n",
       "      <td>C</td>\n",
       "      <td>CASADO(A)</td>\n",
       "      <td>None</td>\n",
       "      <td>1983-02-16</td>\n",
       "      <td>1983-02-16</td>\n",
       "      <td>0.0</td>\n",
       "      <td>N</td>\n",
       "      <td>None</td>\n",
       "      <td>0.0</td>\n",
       "    </tr>\n",
       "    <tr>\n",
       "      <th>7</th>\n",
       "      <td>10036703.0</td>\n",
       "      <td>10809.0</td>\n",
       "      <td>0000260</td>\n",
       "      <td>1958-01-24</td>\n",
       "      <td>M</td>\n",
       "      <td>91008.0</td>\n",
       "      <td>8.0</td>\n",
       "      <td>S</td>\n",
       "      <td>SOLTEIRO(A)</td>\n",
       "      <td>None</td>\n",
       "      <td>1983-02-28</td>\n",
       "      <td>1983-02-28</td>\n",
       "      <td>0.0</td>\n",
       "      <td>N</td>\n",
       "      <td>None</td>\n",
       "      <td>0.0</td>\n",
       "    </tr>\n",
       "  </tbody>\n",
       "</table>\n",
       "</div>"
      ],
      "text/plain": [
       "   ID_PARTICIPANTE  ID_CADASTRO NR_MATRICULA DT_NASCIMENTO IR_SEXO  \\\n",
       "0       10036696.0      10809.0      0000017    1958-09-04       M   \n",
       "1       10036697.0      10809.0      0000030    1961-02-04       F   \n",
       "2       10036698.0      10809.0      0000129    1959-12-17       M   \n",
       "3       10036699.0      10809.0      0000135    1958-09-02       M   \n",
       "4       10036700.0      10809.0      0000170    1959-11-04       M   \n",
       "5       10036701.0      10809.0      0000218    1960-05-31       F   \n",
       "6       10036702.0      10809.0      0000224    1959-07-21       M   \n",
       "7       10036703.0      10809.0      0000260    1958-01-24       M   \n",
       "\n",
       "   ID_PATROCINADORA  CD_SITUACAO_PATROC CD_ESTADO_CIVIL DS_ESTADO_CIVIL  \\\n",
       "0           91008.0                 8.0               C       CASADO(A)   \n",
       "1           91008.0                 8.0               C       CASADO(A)   \n",
       "2           91008.0                 8.0               C       CASADO(A)   \n",
       "3           91008.0                 8.0               C       CASADO(A)   \n",
       "4           91008.0                 8.0               D   DIVORCIADO(A)   \n",
       "5           91008.0                34.0               C       CASADO(A)   \n",
       "6           91008.0                 8.0               C       CASADO(A)   \n",
       "7           91008.0                 8.0               S     SOLTEIRO(A)   \n",
       "\n",
       "  DT_OPCAO_BPD DT_ADMISSAO DT_ASSOCIACAO_FUNDACAO  PC_BENEFICIO_ESPECIAL  \\\n",
       "0         None  1983-02-21             1983-02-21                    0.0   \n",
       "1         None  1983-02-10             1983-02-10                    0.0   \n",
       "2         None  1983-02-16             1983-02-16                    0.0   \n",
       "3         None  1983-02-16             1983-02-16                    0.0   \n",
       "4         None  1983-02-16             1983-02-16                    0.0   \n",
       "5         None  1983-11-21             1983-11-21                    0.0   \n",
       "6         None  1983-02-16             1983-02-16                    0.0   \n",
       "7         None  1983-02-28             1983-02-28                    0.0   \n",
       "\n",
       "  FL_DEFICIENTE NR_MATRICULA_TITULAR  FL_MIGRADO  \n",
       "0             N                 None         0.0  \n",
       "1             N                 None         0.0  \n",
       "2             N                 None         0.0  \n",
       "3             N                 None         0.0  \n",
       "4             N                 None         0.0  \n",
       "5             N                 None         0.0  \n",
       "6             N                 None         0.0  \n",
       "7             N                 None         0.0  "
      ]
     },
     "execution_count": 36,
     "metadata": {},
     "output_type": "execute_result"
    }
   ],
   "source": [
    "df_partic.head(8)"
   ]
  },
  {
   "cell_type": "code",
   "execution_count": 37,
   "metadata": {
    "collapsed": false
   },
   "outputs": [],
   "source": [
    "oraQuery = \"SELECT  t1.ID_PARTICIPANTE, \\\n",
    "                    t1.DT_ADESAO, \\\n",
    "                    t1.VL_SLD_SUBCONTA_PARTICIPANTE, \\\n",
    "                    t1.VL_SLD_SUBCONTA_PATROCINADORA, \\\n",
    "                    t1.VL_RESERVA_BPD, \\\n",
    "                    t1.VL_SALDO_PORTADO, \\\n",
    "                    t1.VL_BEN_SALDADO_INICIAL, \\\n",
    "                    t1.VL_SALARIO_PARTICIPACAO, \\\n",
    "                    t1.CD_SITUACAO_FUNDACAO, \\\n",
    "                    t1.PC_CONTRIBUICAO_PARTICIPANTE, \\\n",
    "                    t1.PC_CONTRIBUICAO_PATROCINADORA \\\n",
    "               FROM TB_ATU_PARTIC_PLANO t1 \\\n",
    "              INNER JOIN TB_ATU_PARTICIPANTE t2 ON (t1.ID_PARTICIPANTE = t2.ID_PARTICIPANTE AND t2.ID_CADASTRO = \" + str(int(df_aval['ID_CADASTRO'])) + \") \\\n",
    "              WHERE t1.IDPLANOPREV = \" + str(int(df_aval['IDPLANOPREV'])) + \" ORDER BY t1.ID_PARTICIPANTE\""
   ]
  },
  {
   "cell_type": "code",
   "execution_count": 38,
   "metadata": {
    "collapsed": true
   },
   "outputs": [],
   "source": [
    "df_plano = pd.read_sql(oraQuery, oraCon)"
   ]
  },
  {
   "cell_type": "code",
   "execution_count": 39,
   "metadata": {
    "collapsed": false
   },
   "outputs": [
    {
     "data": {
      "text/plain": [
       "ID_PARTICIPANTE                         float64\n",
       "DT_ADESAO                        datetime64[ns]\n",
       "VL_SLD_SUBCONTA_PARTICIPANTE            float64\n",
       "VL_SLD_SUBCONTA_PATROCINADORA           float64\n",
       "VL_RESERVA_BPD                          float64\n",
       "VL_SALDO_PORTADO                        float64\n",
       "VL_BEN_SALDADO_INICIAL                  float64\n",
       "VL_SALARIO_PARTICIPACAO                 float64\n",
       "CD_SITUACAO_FUNDACAO                    float64\n",
       "PC_CONTRIBUICAO_PARTICIPANTE            float64\n",
       "PC_CONTRIBUICAO_PATROCINADORA           float64\n",
       "dtype: object"
      ]
     },
     "execution_count": 39,
     "metadata": {},
     "output_type": "execute_result"
    }
   ],
   "source": [
    "df_plano.dtypes"
   ]
  },
  {
   "cell_type": "code",
   "execution_count": 40,
   "metadata": {
    "collapsed": false
   },
   "outputs": [
    {
     "data": {
      "text/html": [
       "<div>\n",
       "<table border=\"1\" class=\"dataframe\">\n",
       "  <thead>\n",
       "    <tr style=\"text-align: right;\">\n",
       "      <th></th>\n",
       "      <th>ID_PARTICIPANTE</th>\n",
       "      <th>DT_ADESAO</th>\n",
       "      <th>VL_SLD_SUBCONTA_PARTICIPANTE</th>\n",
       "      <th>VL_SLD_SUBCONTA_PATROCINADORA</th>\n",
       "      <th>VL_RESERVA_BPD</th>\n",
       "      <th>VL_SALDO_PORTADO</th>\n",
       "      <th>VL_BEN_SALDADO_INICIAL</th>\n",
       "      <th>VL_SALARIO_PARTICIPACAO</th>\n",
       "      <th>CD_SITUACAO_FUNDACAO</th>\n",
       "      <th>PC_CONTRIBUICAO_PARTICIPANTE</th>\n",
       "      <th>PC_CONTRIBUICAO_PATROCINADORA</th>\n",
       "    </tr>\n",
       "  </thead>\n",
       "  <tbody>\n",
       "    <tr>\n",
       "      <th>0</th>\n",
       "      <td>10036696.0</td>\n",
       "      <td>2006-09-01</td>\n",
       "      <td>131686.86</td>\n",
       "      <td>129553.83</td>\n",
       "      <td>0.0</td>\n",
       "      <td>0.0</td>\n",
       "      <td>1925.46</td>\n",
       "      <td>13574.57</td>\n",
       "      <td>1.0</td>\n",
       "      <td>12.00</td>\n",
       "      <td>12.00</td>\n",
       "    </tr>\n",
       "    <tr>\n",
       "      <th>1</th>\n",
       "      <td>10036697.0</td>\n",
       "      <td>2006-09-01</td>\n",
       "      <td>144031.70</td>\n",
       "      <td>138926.83</td>\n",
       "      <td>0.0</td>\n",
       "      <td>0.0</td>\n",
       "      <td>4109.00</td>\n",
       "      <td>21851.89</td>\n",
       "      <td>1.0</td>\n",
       "      <td>5.36</td>\n",
       "      <td>5.36</td>\n",
       "    </tr>\n",
       "    <tr>\n",
       "      <th>2</th>\n",
       "      <td>10036698.0</td>\n",
       "      <td>2006-09-01</td>\n",
       "      <td>124043.99</td>\n",
       "      <td>121493.24</td>\n",
       "      <td>0.0</td>\n",
       "      <td>0.0</td>\n",
       "      <td>3519.18</td>\n",
       "      <td>13432.95</td>\n",
       "      <td>1.0</td>\n",
       "      <td>12.00</td>\n",
       "      <td>12.00</td>\n",
       "    </tr>\n",
       "    <tr>\n",
       "      <th>3</th>\n",
       "      <td>10036699.0</td>\n",
       "      <td>2006-09-01</td>\n",
       "      <td>152490.91</td>\n",
       "      <td>149994.91</td>\n",
       "      <td>0.0</td>\n",
       "      <td>0.0</td>\n",
       "      <td>2915.02</td>\n",
       "      <td>13448.68</td>\n",
       "      <td>1.0</td>\n",
       "      <td>12.00</td>\n",
       "      <td>12.00</td>\n",
       "    </tr>\n",
       "    <tr>\n",
       "      <th>4</th>\n",
       "      <td>10036700.0</td>\n",
       "      <td>2006-09-01</td>\n",
       "      <td>145427.77</td>\n",
       "      <td>142346.31</td>\n",
       "      <td>0.0</td>\n",
       "      <td>0.0</td>\n",
       "      <td>2742.64</td>\n",
       "      <td>15057.81</td>\n",
       "      <td>1.0</td>\n",
       "      <td>5.00</td>\n",
       "      <td>5.00</td>\n",
       "    </tr>\n",
       "    <tr>\n",
       "      <th>5</th>\n",
       "      <td>10036701.0</td>\n",
       "      <td>2006-09-01</td>\n",
       "      <td>8.69</td>\n",
       "      <td>17.83</td>\n",
       "      <td>0.0</td>\n",
       "      <td>0.0</td>\n",
       "      <td>2347.82</td>\n",
       "      <td>0.00</td>\n",
       "      <td>9.0</td>\n",
       "      <td>0.00</td>\n",
       "      <td>0.00</td>\n",
       "    </tr>\n",
       "    <tr>\n",
       "      <th>6</th>\n",
       "      <td>10036702.0</td>\n",
       "      <td>2006-09-01</td>\n",
       "      <td>94886.31</td>\n",
       "      <td>92936.85</td>\n",
       "      <td>0.0</td>\n",
       "      <td>0.0</td>\n",
       "      <td>1992.63</td>\n",
       "      <td>11368.36</td>\n",
       "      <td>1.0</td>\n",
       "      <td>5.00</td>\n",
       "      <td>5.00</td>\n",
       "    </tr>\n",
       "    <tr>\n",
       "      <th>7</th>\n",
       "      <td>10036703.0</td>\n",
       "      <td>2006-09-01</td>\n",
       "      <td>110972.46</td>\n",
       "      <td>97495.97</td>\n",
       "      <td>0.0</td>\n",
       "      <td>0.0</td>\n",
       "      <td>1046.31</td>\n",
       "      <td>8839.07</td>\n",
       "      <td>1.0</td>\n",
       "      <td>15.00</td>\n",
       "      <td>15.00</td>\n",
       "    </tr>\n",
       "  </tbody>\n",
       "</table>\n",
       "</div>"
      ],
      "text/plain": [
       "   ID_PARTICIPANTE  DT_ADESAO  VL_SLD_SUBCONTA_PARTICIPANTE  \\\n",
       "0       10036696.0 2006-09-01                     131686.86   \n",
       "1       10036697.0 2006-09-01                     144031.70   \n",
       "2       10036698.0 2006-09-01                     124043.99   \n",
       "3       10036699.0 2006-09-01                     152490.91   \n",
       "4       10036700.0 2006-09-01                     145427.77   \n",
       "5       10036701.0 2006-09-01                          8.69   \n",
       "6       10036702.0 2006-09-01                      94886.31   \n",
       "7       10036703.0 2006-09-01                     110972.46   \n",
       "\n",
       "   VL_SLD_SUBCONTA_PATROCINADORA  VL_RESERVA_BPD  VL_SALDO_PORTADO  \\\n",
       "0                      129553.83             0.0               0.0   \n",
       "1                      138926.83             0.0               0.0   \n",
       "2                      121493.24             0.0               0.0   \n",
       "3                      149994.91             0.0               0.0   \n",
       "4                      142346.31             0.0               0.0   \n",
       "5                          17.83             0.0               0.0   \n",
       "6                       92936.85             0.0               0.0   \n",
       "7                       97495.97             0.0               0.0   \n",
       "\n",
       "   VL_BEN_SALDADO_INICIAL  VL_SALARIO_PARTICIPACAO  CD_SITUACAO_FUNDACAO  \\\n",
       "0                 1925.46                 13574.57                   1.0   \n",
       "1                 4109.00                 21851.89                   1.0   \n",
       "2                 3519.18                 13432.95                   1.0   \n",
       "3                 2915.02                 13448.68                   1.0   \n",
       "4                 2742.64                 15057.81                   1.0   \n",
       "5                 2347.82                     0.00                   9.0   \n",
       "6                 1992.63                 11368.36                   1.0   \n",
       "7                 1046.31                  8839.07                   1.0   \n",
       "\n",
       "   PC_CONTRIBUICAO_PARTICIPANTE  PC_CONTRIBUICAO_PATROCINADORA  \n",
       "0                         12.00                          12.00  \n",
       "1                          5.36                           5.36  \n",
       "2                         12.00                          12.00  \n",
       "3                         12.00                          12.00  \n",
       "4                          5.00                           5.00  \n",
       "5                          0.00                           0.00  \n",
       "6                          5.00                           5.00  \n",
       "7                         15.00                          15.00  "
      ]
     },
     "execution_count": 40,
     "metadata": {},
     "output_type": "execute_result"
    }
   ],
   "source": [
    "df_plano.head(8)"
   ]
  },
  {
   "cell_type": "code",
   "execution_count": 41,
   "metadata": {
    "collapsed": true
   },
   "outputs": [],
   "source": [
    "oraQuery = \"SELECT t1.ID_PARTICIPANTE, t1.DT_INICIO_BENEFICIO, t1.VL_VALOR \\\n",
    "              FROM TB_ATU_PARTIC_BEN_RGPS t1 \\\n",
    "             INNER JOIN TB_ATU_PARTICIPANTE t2 ON (t1.ID_PARTICIPANTE = t2.ID_PARTICIPANTE AND t2.ID_CADASTRO = \" + str(int(df_aval['ID_CADASTRO'])) + \")\\\n",
    "             ORDER BY t1.ID_PARTICIPANTE\""
   ]
  },
  {
   "cell_type": "code",
   "execution_count": 42,
   "metadata": {
    "collapsed": true
   },
   "outputs": [],
   "source": [
    "df_ben_inss = pd.read_sql(oraQuery, oraCon)"
   ]
  },
  {
   "cell_type": "code",
   "execution_count": 43,
   "metadata": {
    "collapsed": false
   },
   "outputs": [
    {
     "data": {
      "text/plain": [
       "ID_PARTICIPANTE               float64\n",
       "DT_INICIO_BENEFICIO    datetime64[ns]\n",
       "VL_VALOR                      float64\n",
       "dtype: object"
      ]
     },
     "execution_count": 43,
     "metadata": {},
     "output_type": "execute_result"
    }
   ],
   "source": [
    "df_ben_inss.dtypes"
   ]
  },
  {
   "cell_type": "code",
   "execution_count": 44,
   "metadata": {
    "collapsed": false
   },
   "outputs": [
    {
     "data": {
      "text/html": [
       "<div>\n",
       "<table border=\"1\" class=\"dataframe\">\n",
       "  <thead>\n",
       "    <tr style=\"text-align: right;\">\n",
       "      <th></th>\n",
       "      <th>ID_PARTICIPANTE</th>\n",
       "      <th>DT_INICIO_BENEFICIO</th>\n",
       "      <th>VL_VALOR</th>\n",
       "    </tr>\n",
       "  </thead>\n",
       "  <tbody>\n",
       "    <tr>\n",
       "      <th>0</th>\n",
       "      <td>10123420.0</td>\n",
       "      <td>2010-11-01</td>\n",
       "      <td>3182.15</td>\n",
       "    </tr>\n",
       "    <tr>\n",
       "      <th>1</th>\n",
       "      <td>10123421.0</td>\n",
       "      <td>2013-02-21</td>\n",
       "      <td>2875.15</td>\n",
       "    </tr>\n",
       "    <tr>\n",
       "      <th>2</th>\n",
       "      <td>10123422.0</td>\n",
       "      <td>2011-04-24</td>\n",
       "      <td>2903.90</td>\n",
       "    </tr>\n",
       "    <tr>\n",
       "      <th>3</th>\n",
       "      <td>10123423.0</td>\n",
       "      <td>2012-01-03</td>\n",
       "      <td>4190.99</td>\n",
       "    </tr>\n",
       "    <tr>\n",
       "      <th>4</th>\n",
       "      <td>10123424.0</td>\n",
       "      <td>2009-03-01</td>\n",
       "      <td>2755.83</td>\n",
       "    </tr>\n",
       "    <tr>\n",
       "      <th>5</th>\n",
       "      <td>10123425.0</td>\n",
       "      <td>2010-01-19</td>\n",
       "      <td>2581.31</td>\n",
       "    </tr>\n",
       "    <tr>\n",
       "      <th>6</th>\n",
       "      <td>10123426.0</td>\n",
       "      <td>2016-06-30</td>\n",
       "      <td>3602.10</td>\n",
       "    </tr>\n",
       "    <tr>\n",
       "      <th>7</th>\n",
       "      <td>10123427.0</td>\n",
       "      <td>2015-06-30</td>\n",
       "      <td>4738.04</td>\n",
       "    </tr>\n",
       "  </tbody>\n",
       "</table>\n",
       "</div>"
      ],
      "text/plain": [
       "   ID_PARTICIPANTE DT_INICIO_BENEFICIO  VL_VALOR\n",
       "0       10123420.0          2010-11-01   3182.15\n",
       "1       10123421.0          2013-02-21   2875.15\n",
       "2       10123422.0          2011-04-24   2903.90\n",
       "3       10123423.0          2012-01-03   4190.99\n",
       "4       10123424.0          2009-03-01   2755.83\n",
       "5       10123425.0          2010-01-19   2581.31\n",
       "6       10123426.0          2016-06-30   3602.10\n",
       "7       10123427.0          2015-06-30   4738.04"
      ]
     },
     "execution_count": 44,
     "metadata": {},
     "output_type": "execute_result"
    }
   ],
   "source": [
    "df_ben_inss.head(8)"
   ]
  },
  {
   "cell_type": "code",
   "execution_count": 45,
   "metadata": {
    "collapsed": true
   },
   "outputs": [],
   "source": [
    "oraQuery = \"SELECT t1.ID_PARTICIPANTE, t1.IDBENEFICIO, b1.nome, t1.VL_VALOR, t1.DT_INICIO_BENEFICIO \\\n",
    "              FROM TB_ATU_PARTIC_BEN_FUNCEF t1 \\\n",
    "             INNER JOIN TB_ATU_PARTICIPANTE t2 ON (t1.ID_PARTICIPANTE = t2.ID_PARTICIPANTE AND t2.ID_CADASTRO = \" + str(int(df_aval['ID_CADASTRO'])) + \")\\\n",
    "             inner join beneficio b1 on (t1.idbeneficio = b1.idbeneficio) \\\n",
    "             WHERE t1.IDPLANOPREV = \" + str(int(df_aval['IDPLANOPREV'])) + \" ORDER BY t1.ID_PARTICIPANTE\""
   ]
  },
  {
   "cell_type": "code",
   "execution_count": 46,
   "metadata": {
    "collapsed": true
   },
   "outputs": [],
   "source": [
    "df_ben_func = pd.read_sql(oraQuery, oraCon)"
   ]
  },
  {
   "cell_type": "code",
   "execution_count": 47,
   "metadata": {
    "collapsed": false
   },
   "outputs": [
    {
     "data": {
      "text/plain": [
       "ID_PARTICIPANTE               float64\n",
       "IDBENEFICIO                   float64\n",
       "NOME                           object\n",
       "VL_VALOR                      float64\n",
       "DT_INICIO_BENEFICIO    datetime64[ns]\n",
       "dtype: object"
      ]
     },
     "execution_count": 47,
     "metadata": {},
     "output_type": "execute_result"
    }
   ],
   "source": [
    "df_ben_func.dtypes"
   ]
  },
  {
   "cell_type": "code",
   "execution_count": 48,
   "metadata": {
    "collapsed": false
   },
   "outputs": [
    {
     "data": {
      "text/html": [
       "<div>\n",
       "<table border=\"1\" class=\"dataframe\">\n",
       "  <thead>\n",
       "    <tr style=\"text-align: right;\">\n",
       "      <th></th>\n",
       "      <th>ID_PARTICIPANTE</th>\n",
       "      <th>IDBENEFICIO</th>\n",
       "      <th>NOME</th>\n",
       "      <th>VL_VALOR</th>\n",
       "      <th>DT_INICIO_BENEFICIO</th>\n",
       "    </tr>\n",
       "  </thead>\n",
       "  <tbody>\n",
       "    <tr>\n",
       "      <th>0</th>\n",
       "      <td>10123420.0</td>\n",
       "      <td>487.0</td>\n",
       "      <td>NP - Beneficio Pleno</td>\n",
       "      <td>707.70</td>\n",
       "      <td>2013-03-01</td>\n",
       "    </tr>\n",
       "    <tr>\n",
       "      <th>1</th>\n",
       "      <td>10123421.0</td>\n",
       "      <td>487.0</td>\n",
       "      <td>NP - Beneficio Pleno</td>\n",
       "      <td>834.72</td>\n",
       "      <td>2016-04-25</td>\n",
       "    </tr>\n",
       "    <tr>\n",
       "      <th>2</th>\n",
       "      <td>10123422.0</td>\n",
       "      <td>487.0</td>\n",
       "      <td>NP - Beneficio Pleno</td>\n",
       "      <td>440.59</td>\n",
       "      <td>2012-07-28</td>\n",
       "    </tr>\n",
       "    <tr>\n",
       "      <th>3</th>\n",
       "      <td>10123423.0</td>\n",
       "      <td>487.0</td>\n",
       "      <td>NP - Beneficio Pleno</td>\n",
       "      <td>146.30</td>\n",
       "      <td>2012-01-03</td>\n",
       "    </tr>\n",
       "    <tr>\n",
       "      <th>4</th>\n",
       "      <td>10123424.0</td>\n",
       "      <td>487.0</td>\n",
       "      <td>NP - Beneficio Pleno</td>\n",
       "      <td>394.41</td>\n",
       "      <td>2010-04-27</td>\n",
       "    </tr>\n",
       "    <tr>\n",
       "      <th>5</th>\n",
       "      <td>10123425.0</td>\n",
       "      <td>487.0</td>\n",
       "      <td>NP - Beneficio Pleno</td>\n",
       "      <td>554.30</td>\n",
       "      <td>2013-02-01</td>\n",
       "    </tr>\n",
       "    <tr>\n",
       "      <th>6</th>\n",
       "      <td>10123426.0</td>\n",
       "      <td>487.0</td>\n",
       "      <td>NP - Beneficio Pleno</td>\n",
       "      <td>1150.17</td>\n",
       "      <td>2016-07-30</td>\n",
       "    </tr>\n",
       "    <tr>\n",
       "      <th>7</th>\n",
       "      <td>10123427.0</td>\n",
       "      <td>487.0</td>\n",
       "      <td>NP - Beneficio Pleno</td>\n",
       "      <td>813.99</td>\n",
       "      <td>2016-04-30</td>\n",
       "    </tr>\n",
       "  </tbody>\n",
       "</table>\n",
       "</div>"
      ],
      "text/plain": [
       "   ID_PARTICIPANTE  IDBENEFICIO                  NOME  VL_VALOR  \\\n",
       "0       10123420.0        487.0  NP - Beneficio Pleno    707.70   \n",
       "1       10123421.0        487.0  NP - Beneficio Pleno    834.72   \n",
       "2       10123422.0        487.0  NP - Beneficio Pleno    440.59   \n",
       "3       10123423.0        487.0  NP - Beneficio Pleno    146.30   \n",
       "4       10123424.0        487.0  NP - Beneficio Pleno    394.41   \n",
       "5       10123425.0        487.0  NP - Beneficio Pleno    554.30   \n",
       "6       10123426.0        487.0  NP - Beneficio Pleno   1150.17   \n",
       "7       10123427.0        487.0  NP - Beneficio Pleno    813.99   \n",
       "\n",
       "  DT_INICIO_BENEFICIO  \n",
       "0          2013-03-01  \n",
       "1          2016-04-25  \n",
       "2          2012-07-28  \n",
       "3          2012-01-03  \n",
       "4          2010-04-27  \n",
       "5          2013-02-01  \n",
       "6          2016-07-30  \n",
       "7          2016-04-30  "
      ]
     },
     "execution_count": 48,
     "metadata": {},
     "output_type": "execute_result"
    }
   ],
   "source": [
    "df_ben_func.head(8)"
   ]
  },
  {
   "cell_type": "code",
   "execution_count": 49,
   "metadata": {
    "collapsed": true
   },
   "outputs": [],
   "source": [
    "oraQuery = \"SELECT t1.ID_PARTICIPANTE, t1.DT_INICIO_BENEFICIO, t1.VL_VALOR \\\n",
    "              FROM TB_ATU_PARTIC_RUB_JUDICIAL t1 \\\n",
    "             INNER JOIN TB_ATU_PARTICIPANTE t2 ON (t1.ID_PARTICIPANTE = t2.ID_PARTICIPANTE AND t2.ID_CADASTRO = \" + str(int(df_aval['ID_CADASTRO'])) + \") \\\n",
    "             INNER JOIN TB_ATU_PARTIC_PLANO t3 ON (t1.ID_PARTICIPANTE = t3.ID_PARTICIPANTE AND t1.IDPLANOPREV = t3.IDPLANOPREV) \\\n",
    "             ORDER BY t1.ID_PARTICIPANTE\""
   ]
  },
  {
   "cell_type": "code",
   "execution_count": 50,
   "metadata": {
    "collapsed": true
   },
   "outputs": [],
   "source": [
    "df_rubr = pd.read_sql(oraQuery, oraCon)"
   ]
  },
  {
   "cell_type": "code",
   "execution_count": 51,
   "metadata": {
    "collapsed": false
   },
   "outputs": [
    {
     "data": {
      "text/plain": [
       "ID_PARTICIPANTE        object\n",
       "DT_INICIO_BENEFICIO    object\n",
       "VL_VALOR               object\n",
       "dtype: object"
      ]
     },
     "execution_count": 51,
     "metadata": {},
     "output_type": "execute_result"
    }
   ],
   "source": [
    "df_rubr.dtypes"
   ]
  },
  {
   "cell_type": "code",
   "execution_count": 52,
   "metadata": {
    "collapsed": false
   },
   "outputs": [
    {
     "data": {
      "text/html": [
       "<div>\n",
       "<table border=\"1\" class=\"dataframe\">\n",
       "  <thead>\n",
       "    <tr style=\"text-align: right;\">\n",
       "      <th></th>\n",
       "      <th>ID_PARTICIPANTE</th>\n",
       "      <th>DT_INICIO_BENEFICIO</th>\n",
       "      <th>VL_VALOR</th>\n",
       "    </tr>\n",
       "  </thead>\n",
       "  <tbody>\n",
       "  </tbody>\n",
       "</table>\n",
       "</div>"
      ],
      "text/plain": [
       "Empty DataFrame\n",
       "Columns: [ID_PARTICIPANTE, DT_INICIO_BENEFICIO, VL_VALOR]\n",
       "Index: []"
      ]
     },
     "execution_count": 52,
     "metadata": {},
     "output_type": "execute_result"
    }
   ],
   "source": [
    "df_rubr.head(8)"
   ]
  },
  {
   "cell_type": "code",
   "execution_count": 53,
   "metadata": {
    "collapsed": true
   },
   "outputs": [],
   "source": [
    "oraQuery = \"SELECT t1.ID_PARTICIPANTE, \\\n",
    "                   t1.CD_GRAU_DEPENDENCIA, \\\n",
    "                   t1.DT_NASCIMENTO, \\\n",
    "                   t1.IR_SEXO, \\\n",
    "                   t1.FL_INVALIDO, \\\n",
    "                   t1.FL_DESIGNADO_RESGATE, \\\n",
    "                   t1.FL_DEPENDENTE_LEGAL \\\n",
    "              FROM TB_ATU_PARTIC_DEPENDENTE t1 \\\n",
    "             INNER JOIN TB_ATU_PARTICIPANTE t2 ON (t1.ID_PARTICIPANTE = t2.ID_PARTICIPANTE AND t2.ID_CADASTRO = \" + str(int(df_aval['ID_CADASTRO'])) + \")\\\n",
    "             ORDER BY t1.ID_PARTICIPANTE\""
   ]
  },
  {
   "cell_type": "code",
   "execution_count": 54,
   "metadata": {
    "collapsed": true
   },
   "outputs": [],
   "source": [
    "df_depen = pd.read_sql(oraQuery, oraCon)"
   ]
  },
  {
   "cell_type": "code",
   "execution_count": 55,
   "metadata": {
    "collapsed": false
   },
   "outputs": [
    {
     "data": {
      "text/plain": [
       "ID_PARTICIPANTE                float64\n",
       "CD_GRAU_DEPENDENCIA             object\n",
       "DT_NASCIMENTO           datetime64[ns]\n",
       "IR_SEXO                         object\n",
       "FL_INVALIDO                     object\n",
       "FL_DESIGNADO_RESGATE           float64\n",
       "FL_DEPENDENTE_LEGAL            float64\n",
       "dtype: object"
      ]
     },
     "execution_count": 55,
     "metadata": {},
     "output_type": "execute_result"
    }
   ],
   "source": [
    "df_depen.dtypes"
   ]
  },
  {
   "cell_type": "code",
   "execution_count": 56,
   "metadata": {
    "collapsed": false
   },
   "outputs": [
    {
     "data": {
      "text/html": [
       "<div>\n",
       "<table border=\"1\" class=\"dataframe\">\n",
       "  <thead>\n",
       "    <tr style=\"text-align: right;\">\n",
       "      <th></th>\n",
       "      <th>ID_PARTICIPANTE</th>\n",
       "      <th>CD_GRAU_DEPENDENCIA</th>\n",
       "      <th>DT_NASCIMENTO</th>\n",
       "      <th>IR_SEXO</th>\n",
       "      <th>FL_INVALIDO</th>\n",
       "      <th>FL_DESIGNADO_RESGATE</th>\n",
       "      <th>FL_DEPENDENTE_LEGAL</th>\n",
       "    </tr>\n",
       "  </thead>\n",
       "  <tbody>\n",
       "    <tr>\n",
       "      <th>0</th>\n",
       "      <td>10036696.0</td>\n",
       "      <td>FIL</td>\n",
       "      <td>1994-08-19</td>\n",
       "      <td>M</td>\n",
       "      <td>N</td>\n",
       "      <td>0.0</td>\n",
       "      <td>0.0</td>\n",
       "    </tr>\n",
       "    <tr>\n",
       "      <th>1</th>\n",
       "      <td>10036696.0</td>\n",
       "      <td>COM</td>\n",
       "      <td>1960-09-15</td>\n",
       "      <td>F</td>\n",
       "      <td>N</td>\n",
       "      <td>0.0</td>\n",
       "      <td>0.0</td>\n",
       "    </tr>\n",
       "    <tr>\n",
       "      <th>2</th>\n",
       "      <td>10036698.0</td>\n",
       "      <td>COM</td>\n",
       "      <td>1962-12-19</td>\n",
       "      <td>F</td>\n",
       "      <td>N</td>\n",
       "      <td>0.0</td>\n",
       "      <td>0.0</td>\n",
       "    </tr>\n",
       "    <tr>\n",
       "      <th>3</th>\n",
       "      <td>10036698.0</td>\n",
       "      <td>FIL</td>\n",
       "      <td>1993-04-05</td>\n",
       "      <td>M</td>\n",
       "      <td>N</td>\n",
       "      <td>0.0</td>\n",
       "      <td>0.0</td>\n",
       "    </tr>\n",
       "    <tr>\n",
       "      <th>4</th>\n",
       "      <td>10036699.0</td>\n",
       "      <td>COM</td>\n",
       "      <td>1962-10-06</td>\n",
       "      <td>F</td>\n",
       "      <td>N</td>\n",
       "      <td>0.0</td>\n",
       "      <td>0.0</td>\n",
       "    </tr>\n",
       "    <tr>\n",
       "      <th>5</th>\n",
       "      <td>10036699.0</td>\n",
       "      <td>FIL</td>\n",
       "      <td>1997-07-03</td>\n",
       "      <td>M</td>\n",
       "      <td>N</td>\n",
       "      <td>0.0</td>\n",
       "      <td>0.0</td>\n",
       "    </tr>\n",
       "    <tr>\n",
       "      <th>6</th>\n",
       "      <td>10036700.0</td>\n",
       "      <td>FIL</td>\n",
       "      <td>2007-05-21</td>\n",
       "      <td>M</td>\n",
       "      <td>N</td>\n",
       "      <td>0.0</td>\n",
       "      <td>0.0</td>\n",
       "    </tr>\n",
       "    <tr>\n",
       "      <th>7</th>\n",
       "      <td>10036700.0</td>\n",
       "      <td>COM</td>\n",
       "      <td>1981-04-11</td>\n",
       "      <td>F</td>\n",
       "      <td>N</td>\n",
       "      <td>0.0</td>\n",
       "      <td>0.0</td>\n",
       "    </tr>\n",
       "  </tbody>\n",
       "</table>\n",
       "</div>"
      ],
      "text/plain": [
       "   ID_PARTICIPANTE CD_GRAU_DEPENDENCIA DT_NASCIMENTO IR_SEXO FL_INVALIDO  \\\n",
       "0       10036696.0                 FIL    1994-08-19       M           N   \n",
       "1       10036696.0                 COM    1960-09-15       F           N   \n",
       "2       10036698.0                 COM    1962-12-19       F           N   \n",
       "3       10036698.0                 FIL    1993-04-05       M           N   \n",
       "4       10036699.0                 COM    1962-10-06       F           N   \n",
       "5       10036699.0                 FIL    1997-07-03       M           N   \n",
       "6       10036700.0                 FIL    2007-05-21       M           N   \n",
       "7       10036700.0                 COM    1981-04-11       F           N   \n",
       "\n",
       "   FL_DESIGNADO_RESGATE  FL_DEPENDENTE_LEGAL  \n",
       "0                   0.0                  0.0  \n",
       "1                   0.0                  0.0  \n",
       "2                   0.0                  0.0  \n",
       "3                   0.0                  0.0  \n",
       "4                   0.0                  0.0  \n",
       "5                   0.0                  0.0  \n",
       "6                   0.0                  0.0  \n",
       "7                   0.0                  0.0  "
      ]
     },
     "execution_count": 56,
     "metadata": {},
     "output_type": "execute_result"
    }
   ],
   "source": [
    "df_depen.head(8)"
   ]
  },
  {
   "cell_type": "code",
   "execution_count": 57,
   "metadata": {
    "collapsed": false
   },
   "outputs": [],
   "source": [
    "# fecha conexao com o banco de dados\n",
    "oraCon.close()"
   ]
  },
  {
   "cell_type": "code",
   "execution_count": null,
   "metadata": {
    "collapsed": true
   },
   "outputs": [],
   "source": [
    ""
   ]
  }
 ],
 "metadata": {
  "anaconda-cloud": {},
  "kernelspec": {
   "display_name": "Python [default]",
   "language": "python",
   "name": "python3"
  },
  "language_info": {
   "codemirror_mode": {
    "name": "ipython",
    "version": 3.0
   },
   "file_extension": ".py",
   "mimetype": "text/x-python",
   "name": "python",
   "nbconvert_exporter": "python",
   "pygments_lexer": "ipython3",
   "version": "3.5.2"
  }
 },
 "nbformat": 4,
 "nbformat_minor": 0
}