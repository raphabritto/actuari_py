{
 "cells": [
  {
   "cell_type": "code",
   "execution_count": 1,
   "metadata": {
    "collapsed": true
   },
   "outputs": [],
   "source": [
    "import pandas as pd"
   ]
  },
  {
   "cell_type": "markdown",
   "metadata": {},
   "source": [
    "# macro variaveis calculo"
   ]
  },
  {
   "cell_type": "code",
   "execution_count": 2,
   "metadata": {
    "collapsed": true
   },
   "outputs": [],
   "source": [
    "max_idade = 125"
   ]
  },
  {
   "cell_type": "markdown",
   "metadata": {},
   "source": [
    "# AVALIACAO"
   ]
  },
  {
   "cell_type": "code",
   "execution_count": 3,
   "metadata": {
    "collapsed": true
   },
   "outputs": [],
   "source": [
    "date_columns = ['DT_CALCULO', 'DT_REAJUSTE_BENEFICIO']"
   ]
  },
  {
   "cell_type": "code",
   "execution_count": 4,
   "metadata": {},
   "outputs": [],
   "source": [
    "avaliacao = pd.read_csv(\"input_csv/30318/avaliacao.csv\", sep=\";\", decimal=\",\", parse_dates=date_columns)"
   ]
  },
  {
   "cell_type": "code",
   "execution_count": 5,
   "metadata": {},
   "outputs": [
    {
     "data": {
      "text/plain": [
       "ID_AVALIACAO                               int64\n",
       "DT_CALCULO                        datetime64[ns]\n",
       "FL_CALCULAR_DEMONS_RESULTADO               int64\n",
       "FL_FLUXO_RECEITA_DESPESA_FOLHA             int64\n",
       "FL_MEMORIA_CALCULO                         int64\n",
       "NR_IDADE_INI_CONT_INSS_MAS                 int64\n",
       "NR_IDADE_INI_CONT_INSS_FEM                 int64\n",
       "NR_IDADE_INI_APOS_MAS                      int64\n",
       "NR_IDADE_INI_APOS_FEM                      int64\n",
       "NR_TEMPO_CONT_INSS_MAS                     int64\n",
       "NR_TEMPO_CONT_INSS_FEM                     int64\n",
       "NR_MAIORIDADE_PLANO                        int64\n",
       "DT_REAJUSTE_BENEFICIO             datetime64[ns]\n",
       "VL_BENEFICIO_MINIMO                      float64\n",
       "PC_DESPESA_ADM_PARTICIPANTE              float64\n",
       "PC_BENEF_RISCO_PARTICIPANTE                int64\n",
       "PC_DESPESA_ADM_PATROCINADORA             float64\n",
       "PC_BENEF_RISCO_PATROCINADORA             float64\n",
       "PC_SAIDA_BPD                               int64\n",
       "PC_SAIDA_PORTABILIDADE                     int64\n",
       "PC_SAIDA_RESGATE                           int64\n",
       "VL_PECULIO_MINIMO_MORTE                  float64\n",
       "PC_PECULIO_MINIMO_MORTE                  float64\n",
       "NR_PAGTOS_BENEF_CONTRIB_ANO                int64\n",
       "PC_FAIXA_01_CONTRIBUICAO                   int64\n",
       "PC_FAIXA_02_CONTRIBUICAO                   int64\n",
       "PC_FAIXA_03_CONTRIBUICAO                   int64\n",
       "PC_CONTRIBUICAO_PATROCINADORA            float64\n",
       "PC_META_CUSTEIO_ADMIN                    float64\n",
       "PC_TAXA_ADMIN_BENEFICIO                  float64\n",
       "VL_INICIAL_LX                              int64\n",
       "PC_TAXA_REAL_JUROS_ANUAL                 float64\n",
       "PC_TAXA_REAL_CRESC_SALARIAL              float64\n",
       "PC_TAXA_REAL_CRESC_BENEFICIO               int64\n",
       "PC_COTA_FAMILIAR_PENSAO                  float64\n",
       "PC_PROB_PARTIC_CAS_APOS_MAS              float64\n",
       "PC_PROB_PARTIC_CAS_APOS_FEM              float64\n",
       "NR_DIFERENCIA_IDADE_CONJ_MAS               int64\n",
       "NR_DIFERENCIA_IDADE_CONJ_FEM               int64\n",
       "PC_FATOR_VLR_REAL_SALARIO                float64\n",
       "PC_FATOR_VLR_REAL_BEN_FUNCEF             float64\n",
       "PC_FATOR_VLR_REAL_BEN_INSS               float64\n",
       "VL_TETO_INSS_CONTRIBUICAO                float64\n",
       "VL_TETO_INSS_BENEFICIO                   float64\n",
       "VL_SALARIO_CAIXA                         float64\n",
       "VL_SALARIO_MINIMO                        float64\n",
       "PC_FATOR_REAJ_BENEF_LIQUIDO                int64\n",
       "CD_COMPOSICAO_FAMILIAR                     int64\n",
       "ID_PLANO_BENEFICIO                         int64\n",
       "IDPLANOPREV                                int64\n",
       "ID_CADASTRO                                int64\n",
       "PC_OPCAO_BUA                             float64\n",
       "PC_SAQUE_BUA                             float64\n",
       "VL_PECULIO_MORTE_ASSISTIDO               float64\n",
       "NR_MULT_SAL_PARTIC_BENEF_RISCO           float64\n",
       "dtype: object"
      ]
     },
     "execution_count": 5,
     "metadata": {},
     "output_type": "execute_result"
    }
   ],
   "source": [
    "avaliacao.dtypes"
   ]
  },
  {
   "cell_type": "code",
   "execution_count": 6,
   "metadata": {},
   "outputs": [
    {
     "data": {
      "text/html": [
       "<div>\n",
       "<style>\n",
       "    .dataframe thead tr:only-child th {\n",
       "        text-align: right;\n",
       "    }\n",
       "\n",
       "    .dataframe thead th {\n",
       "        text-align: left;\n",
       "    }\n",
       "\n",
       "    .dataframe tbody tr th {\n",
       "        vertical-align: top;\n",
       "    }\n",
       "</style>\n",
       "<table border=\"1\" class=\"dataframe\">\n",
       "  <thead>\n",
       "    <tr style=\"text-align: right;\">\n",
       "      <th></th>\n",
       "      <th>ID_AVALIACAO</th>\n",
       "      <th>DT_CALCULO</th>\n",
       "      <th>FL_CALCULAR_DEMONS_RESULTADO</th>\n",
       "      <th>FL_FLUXO_RECEITA_DESPESA_FOLHA</th>\n",
       "      <th>FL_MEMORIA_CALCULO</th>\n",
       "      <th>NR_IDADE_INI_CONT_INSS_MAS</th>\n",
       "      <th>NR_IDADE_INI_CONT_INSS_FEM</th>\n",
       "      <th>NR_IDADE_INI_APOS_MAS</th>\n",
       "      <th>NR_IDADE_INI_APOS_FEM</th>\n",
       "      <th>NR_TEMPO_CONT_INSS_MAS</th>\n",
       "      <th>...</th>\n",
       "      <th>VL_SALARIO_MINIMO</th>\n",
       "      <th>PC_FATOR_REAJ_BENEF_LIQUIDO</th>\n",
       "      <th>CD_COMPOSICAO_FAMILIAR</th>\n",
       "      <th>ID_PLANO_BENEFICIO</th>\n",
       "      <th>IDPLANOPREV</th>\n",
       "      <th>ID_CADASTRO</th>\n",
       "      <th>PC_OPCAO_BUA</th>\n",
       "      <th>PC_SAQUE_BUA</th>\n",
       "      <th>VL_PECULIO_MORTE_ASSISTIDO</th>\n",
       "      <th>NR_MULT_SAL_PARTIC_BENEF_RISCO</th>\n",
       "    </tr>\n",
       "  </thead>\n",
       "  <tbody>\n",
       "    <tr>\n",
       "      <th>0</th>\n",
       "      <td>30318</td>\n",
       "      <td>2017-06-30</td>\n",
       "      <td>1</td>\n",
       "      <td>1</td>\n",
       "      <td>0</td>\n",
       "      <td>18</td>\n",
       "      <td>18</td>\n",
       "      <td>53</td>\n",
       "      <td>48</td>\n",
       "      <td>35</td>\n",
       "      <td>...</td>\n",
       "      <td>937.0</td>\n",
       "      <td>1</td>\n",
       "      <td>1</td>\n",
       "      <td>5</td>\n",
       "      <td>74</td>\n",
       "      <td>11753</td>\n",
       "      <td>0.0</td>\n",
       "      <td>0.0</td>\n",
       "      <td>11.62</td>\n",
       "      <td>0.2</td>\n",
       "    </tr>\n",
       "  </tbody>\n",
       "</table>\n",
       "<p>1 rows × 55 columns</p>\n",
       "</div>"
      ],
      "text/plain": [
       "   ID_AVALIACAO DT_CALCULO  FL_CALCULAR_DEMONS_RESULTADO  \\\n",
       "0         30318 2017-06-30                             1   \n",
       "\n",
       "   FL_FLUXO_RECEITA_DESPESA_FOLHA  FL_MEMORIA_CALCULO  \\\n",
       "0                               1                   0   \n",
       "\n",
       "   NR_IDADE_INI_CONT_INSS_MAS  NR_IDADE_INI_CONT_INSS_FEM  \\\n",
       "0                          18                          18   \n",
       "\n",
       "   NR_IDADE_INI_APOS_MAS  NR_IDADE_INI_APOS_FEM  NR_TEMPO_CONT_INSS_MAS  \\\n",
       "0                     53                     48                      35   \n",
       "\n",
       "                ...                VL_SALARIO_MINIMO  \\\n",
       "0               ...                            937.0   \n",
       "\n",
       "   PC_FATOR_REAJ_BENEF_LIQUIDO CD_COMPOSICAO_FAMILIAR  ID_PLANO_BENEFICIO  \\\n",
       "0                            1                      1                   5   \n",
       "\n",
       "   IDPLANOPREV  ID_CADASTRO  PC_OPCAO_BUA  PC_SAQUE_BUA  \\\n",
       "0           74        11753           0.0           0.0   \n",
       "\n",
       "   VL_PECULIO_MORTE_ASSISTIDO  NR_MULT_SAL_PARTIC_BENEF_RISCO  \n",
       "0                       11.62                             0.2  \n",
       "\n",
       "[1 rows x 55 columns]"
      ]
     },
     "execution_count": 6,
     "metadata": {},
     "output_type": "execute_result"
    }
   ],
   "source": [
    "avaliacao"
   ]
  },
  {
   "cell_type": "markdown",
   "metadata": {},
   "source": [
    "# PARAMETROS GLOBAIS"
   ]
  },
  {
   "cell_type": "code",
   "execution_count": 7,
   "metadata": {
    "collapsed": true
   },
   "outputs": [],
   "source": [
    "date_columns = ['DT_ORIGEM_BNH', 'DT_INICIO_LEI_9876_1999', 'DT_INICIO_MEDIA_80PC_MAIORES_S']"
   ]
  },
  {
   "cell_type": "code",
   "execution_count": 8,
   "metadata": {},
   "outputs": [],
   "source": [
    "param_global = pd.read_csv(\"input_csv/30318/global.csv\", sep=\";\", decimal=\",\", parse_dates=date_columns)"
   ]
  },
  {
   "cell_type": "code",
   "execution_count": 9,
   "metadata": {},
   "outputs": [
    {
     "data": {
      "text/html": [
       "<div>\n",
       "<style>\n",
       "    .dataframe thead tr:only-child th {\n",
       "        text-align: right;\n",
       "    }\n",
       "\n",
       "    .dataframe thead th {\n",
       "        text-align: left;\n",
       "    }\n",
       "\n",
       "    .dataframe tbody tr th {\n",
       "        vertical-align: top;\n",
       "    }\n",
       "</style>\n",
       "<table border=\"1\" class=\"dataframe\">\n",
       "  <thead>\n",
       "    <tr style=\"text-align: right;\">\n",
       "      <th></th>\n",
       "      <th>DT_ORIGEM_BNH</th>\n",
       "      <th>DT_INICIO_LEI_9876_1999</th>\n",
       "      <th>DT_INICIO_MEDIA_80PC_MAIORES_S</th>\n",
       "    </tr>\n",
       "  </thead>\n",
       "  <tbody>\n",
       "    <tr>\n",
       "      <th>0</th>\n",
       "      <td>1998-09-23</td>\n",
       "      <td>1999-11-29</td>\n",
       "      <td>1994-07-31</td>\n",
       "    </tr>\n",
       "  </tbody>\n",
       "</table>\n",
       "</div>"
      ],
      "text/plain": [
       "  DT_ORIGEM_BNH DT_INICIO_LEI_9876_1999 DT_INICIO_MEDIA_80PC_MAIORES_S\n",
       "0    1998-09-23              1999-11-29                     1994-07-31"
      ]
     },
     "execution_count": 9,
     "metadata": {},
     "output_type": "execute_result"
    }
   ],
   "source": [
    "param_global"
   ]
  },
  {
   "cell_type": "markdown",
   "metadata": {},
   "source": [
    "# COTACAO"
   ]
  },
  {
   "cell_type": "code",
   "execution_count": 10,
   "metadata": {
    "collapsed": true
   },
   "outputs": [],
   "source": [
    "date_columns = ['COTDATA']"
   ]
  },
  {
   "cell_type": "code",
   "execution_count": 11,
   "metadata": {
    "collapsed": true
   },
   "outputs": [],
   "source": [
    "cotacao = pd.read_csv(\"input_csv/30318/cotacao.csv\", sep=\";\", decimal=\",\", parse_dates=date_columns)"
   ]
  },
  {
   "cell_type": "code",
   "execution_count": 12,
   "metadata": {},
   "outputs": [
    {
     "data": {
      "text/html": [
       "<div>\n",
       "<style>\n",
       "    .dataframe thead tr:only-child th {\n",
       "        text-align: right;\n",
       "    }\n",
       "\n",
       "    .dataframe thead th {\n",
       "        text-align: left;\n",
       "    }\n",
       "\n",
       "    .dataframe tbody tr th {\n",
       "        vertical-align: top;\n",
       "    }\n",
       "</style>\n",
       "<table border=\"1\" class=\"dataframe\">\n",
       "  <thead>\n",
       "    <tr style=\"text-align: right;\">\n",
       "      <th></th>\n",
       "      <th>IDCOTACAOMOEDA</th>\n",
       "      <th>MOECODIGO</th>\n",
       "      <th>COTDATA</th>\n",
       "      <th>COTVALOR</th>\n",
       "    </tr>\n",
       "  </thead>\n",
       "  <tbody>\n",
       "    <tr>\n",
       "      <th>458</th>\n",
       "      <td>525027</td>\n",
       "      <td>7</td>\n",
       "      <td>2017-01-06</td>\n",
       "      <td>0.9970</td>\n",
       "    </tr>\n",
       "    <tr>\n",
       "      <th>459</th>\n",
       "      <td>525028</td>\n",
       "      <td>7</td>\n",
       "      <td>2017-01-07</td>\n",
       "      <td>1.0017</td>\n",
       "    </tr>\n",
       "    <tr>\n",
       "      <th>460</th>\n",
       "      <td>525029</td>\n",
       "      <td>7</td>\n",
       "      <td>2017-01-08</td>\n",
       "      <td>0.9997</td>\n",
       "    </tr>\n",
       "    <tr>\n",
       "      <th>461</th>\n",
       "      <td>525030</td>\n",
       "      <td>7</td>\n",
       "      <td>2017-01-09</td>\n",
       "      <td>0.9998</td>\n",
       "    </tr>\n",
       "    <tr>\n",
       "      <th>462</th>\n",
       "      <td>525031</td>\n",
       "      <td>7</td>\n",
       "      <td>2017-01-10</td>\n",
       "      <td>1.0037</td>\n",
       "    </tr>\n",
       "  </tbody>\n",
       "</table>\n",
       "</div>"
      ],
      "text/plain": [
       "     IDCOTACAOMOEDA  MOECODIGO    COTDATA  COTVALOR\n",
       "458          525027          7 2017-01-06    0.9970\n",
       "459          525028          7 2017-01-07    1.0017\n",
       "460          525029          7 2017-01-08    0.9997\n",
       "461          525030          7 2017-01-09    0.9998\n",
       "462          525031          7 2017-01-10    1.0037"
      ]
     },
     "execution_count": 12,
     "metadata": {},
     "output_type": "execute_result"
    }
   ],
   "source": [
    "cotacao.tail()"
   ]
  },
  {
   "cell_type": "markdown",
   "metadata": {},
   "source": [
    "# INDEXADOR MONETARIO"
   ]
  },
  {
   "cell_type": "code",
   "execution_count": 13,
   "metadata": {
    "collapsed": true
   },
   "outputs": [],
   "source": [
    "indexador_monetario = pd.read_csv(\"input_csv/30318/indexador_monetario.csv\", sep=\";\", decimal=\",\")"
   ]
  },
  {
   "cell_type": "code",
   "execution_count": 14,
   "metadata": {},
   "outputs": [],
   "source": [
    "indexador_monetario = indexador_monetario.sort_values('ID_REFERENCIA_IDX_MON', ascending=True)"
   ]
  },
  {
   "cell_type": "code",
   "execution_count": 15,
   "metadata": {},
   "outputs": [
    {
     "data": {
      "text/html": [
       "<div>\n",
       "<style>\n",
       "    .dataframe thead tr:only-child th {\n",
       "        text-align: right;\n",
       "    }\n",
       "\n",
       "    .dataframe thead th {\n",
       "        text-align: left;\n",
       "    }\n",
       "\n",
       "    .dataframe tbody tr th {\n",
       "        vertical-align: top;\n",
       "    }\n",
       "</style>\n",
       "<table border=\"1\" class=\"dataframe\">\n",
       "  <thead>\n",
       "    <tr style=\"text-align: right;\">\n",
       "      <th></th>\n",
       "      <th>ID_AVAL_PLANO_IDX_MON</th>\n",
       "      <th>ID_REFERENCIA_IDX_MON</th>\n",
       "      <th>ID_AVALIACAO</th>\n",
       "      <th>CD_INDEXADOR</th>\n",
       "      <th>DT_INICIAL</th>\n",
       "      <th>DT_FINAL</th>\n",
       "      <th>PC_REAJUSTE</th>\n",
       "      <th>DS_REFERENCIA_IDX_MON</th>\n",
       "    </tr>\n",
       "  </thead>\n",
       "  <tbody>\n",
       "    <tr>\n",
       "      <th>2</th>\n",
       "      <td>1283</td>\n",
       "      <td>1</td>\n",
       "      <td>30318</td>\n",
       "      <td>7</td>\n",
       "      <td>01/09/2001</td>\n",
       "      <td>30/06/2017</td>\n",
       "      <td>3.078387</td>\n",
       "      <td>Beneficio Minimo</td>\n",
       "    </tr>\n",
       "    <tr>\n",
       "      <th>4</th>\n",
       "      <td>1285</td>\n",
       "      <td>2</td>\n",
       "      <td>30318</td>\n",
       "      <td>7</td>\n",
       "      <td>01/01/2017</td>\n",
       "      <td>30/06/2017</td>\n",
       "      <td>1.011235</td>\n",
       "      <td>INSS Beneficios</td>\n",
       "    </tr>\n",
       "    <tr>\n",
       "      <th>0</th>\n",
       "      <td>1281</td>\n",
       "      <td>3</td>\n",
       "      <td>30318</td>\n",
       "      <td>7</td>\n",
       "      <td>01/01/2017</td>\n",
       "      <td>30/06/2017</td>\n",
       "      <td>1.011235</td>\n",
       "      <td>Teto INSS Contribuic?o</td>\n",
       "    </tr>\n",
       "    <tr>\n",
       "      <th>5</th>\n",
       "      <td>1286</td>\n",
       "      <td>4</td>\n",
       "      <td>30318</td>\n",
       "      <td>7</td>\n",
       "      <td>01/01/2017</td>\n",
       "      <td>30/06/2017</td>\n",
       "      <td>1.000000</td>\n",
       "      <td>Teto INSS Beneficio</td>\n",
       "    </tr>\n",
       "    <tr>\n",
       "      <th>3</th>\n",
       "      <td>1284</td>\n",
       "      <td>5</td>\n",
       "      <td>30318</td>\n",
       "      <td>7</td>\n",
       "      <td>01/01/2017</td>\n",
       "      <td>30/06/2017</td>\n",
       "      <td>1.011235</td>\n",
       "      <td>Salario Minimo</td>\n",
       "    </tr>\n",
       "    <tr>\n",
       "      <th>1</th>\n",
       "      <td>1282</td>\n",
       "      <td>6</td>\n",
       "      <td>30318</td>\n",
       "      <td>7</td>\n",
       "      <td>01/01/2003</td>\n",
       "      <td>30/06/2017</td>\n",
       "      <td>1.000000</td>\n",
       "      <td>Peculio por Morte</td>\n",
       "    </tr>\n",
       "  </tbody>\n",
       "</table>\n",
       "</div>"
      ],
      "text/plain": [
       "   ID_AVAL_PLANO_IDX_MON  ID_REFERENCIA_IDX_MON  ID_AVALIACAO  CD_INDEXADOR  \\\n",
       "2                   1283                      1         30318             7   \n",
       "4                   1285                      2         30318             7   \n",
       "0                   1281                      3         30318             7   \n",
       "5                   1286                      4         30318             7   \n",
       "3                   1284                      5         30318             7   \n",
       "1                   1282                      6         30318             7   \n",
       "\n",
       "   DT_INICIAL    DT_FINAL  PC_REAJUSTE   DS_REFERENCIA_IDX_MON  \n",
       "2  01/09/2001  30/06/2017     3.078387        Beneficio Minimo  \n",
       "4  01/01/2017  30/06/2017     1.011235         INSS Beneficios  \n",
       "0  01/01/2017  30/06/2017     1.011235  Teto INSS Contribuic?o  \n",
       "5  01/01/2017  30/06/2017     1.000000     Teto INSS Beneficio  \n",
       "3  01/01/2017  30/06/2017     1.011235          Salario Minimo  \n",
       "1  01/01/2003  30/06/2017     1.000000       Peculio por Morte  "
      ]
     },
     "execution_count": 15,
     "metadata": {},
     "output_type": "execute_result"
    }
   ],
   "source": [
    "indexador_monetario"
   ]
  },
  {
   "cell_type": "markdown",
   "metadata": {},
   "source": [
    "# REAJUSTE SALARIAL"
   ]
  },
  {
   "cell_type": "code",
   "execution_count": 16,
   "metadata": {
    "collapsed": true
   },
   "outputs": [],
   "source": [
    "reajuste_salario = pd.read_csv(\"input_csv/30318/reajuste_salarial.csv\", sep=\";\", decimal=\",\")"
   ]
  },
  {
   "cell_type": "code",
   "execution_count": 17,
   "metadata": {},
   "outputs": [
    {
     "data": {
      "text/html": [
       "<div>\n",
       "<style>\n",
       "    .dataframe thead tr:only-child th {\n",
       "        text-align: right;\n",
       "    }\n",
       "\n",
       "    .dataframe thead th {\n",
       "        text-align: left;\n",
       "    }\n",
       "\n",
       "    .dataframe tbody tr th {\n",
       "        vertical-align: top;\n",
       "    }\n",
       "</style>\n",
       "<table border=\"1\" class=\"dataframe\">\n",
       "  <thead>\n",
       "    <tr style=\"text-align: right;\">\n",
       "      <th></th>\n",
       "      <th>ID_AVAL_PLANO_REAJ_SAL</th>\n",
       "      <th>ID_AVALIACAO</th>\n",
       "      <th>CD_TIPO_REAJUSTE_SALARIAL</th>\n",
       "      <th>ID_PATROCINADORA</th>\n",
       "      <th>CD_INDEXADOR</th>\n",
       "      <th>DT_INICIAL</th>\n",
       "      <th>DT_FINAL</th>\n",
       "      <th>PC_REAJUSTE</th>\n",
       "      <th>DS_TIPO_REAJUSTE_SALARIAL</th>\n",
       "    </tr>\n",
       "  </thead>\n",
       "  <tbody>\n",
       "    <tr>\n",
       "      <th>0</th>\n",
       "      <td>823</td>\n",
       "      <td>30318</td>\n",
       "      <td>1</td>\n",
       "      <td>1</td>\n",
       "      <td>7</td>\n",
       "      <td>NaN</td>\n",
       "      <td>NaN</td>\n",
       "      <td>1.000000</td>\n",
       "      <td>Fator de Atualizac?o do Salario de Participac?o</td>\n",
       "    </tr>\n",
       "    <tr>\n",
       "      <th>1</th>\n",
       "      <td>824</td>\n",
       "      <td>30318</td>\n",
       "      <td>2</td>\n",
       "      <td>1</td>\n",
       "      <td>7</td>\n",
       "      <td>NaN</td>\n",
       "      <td>NaN</td>\n",
       "      <td>1.000000</td>\n",
       "      <td>Fator de Atualizac?o do Beneficio</td>\n",
       "    </tr>\n",
       "    <tr>\n",
       "      <th>2</th>\n",
       "      <td>825</td>\n",
       "      <td>30318</td>\n",
       "      <td>1</td>\n",
       "      <td>91008</td>\n",
       "      <td>7</td>\n",
       "      <td>01/09/2016</td>\n",
       "      <td>30/06/2017</td>\n",
       "      <td>1.015894</td>\n",
       "      <td>Fator de Atualizac?o do Salario de Participac?o</td>\n",
       "    </tr>\n",
       "    <tr>\n",
       "      <th>3</th>\n",
       "      <td>826</td>\n",
       "      <td>30318</td>\n",
       "      <td>2</td>\n",
       "      <td>91008</td>\n",
       "      <td>7</td>\n",
       "      <td>01/01/2017</td>\n",
       "      <td>30/06/2017</td>\n",
       "      <td>1.011235</td>\n",
       "      <td>Fator de Atualizac?o do Beneficio</td>\n",
       "    </tr>\n",
       "  </tbody>\n",
       "</table>\n",
       "</div>"
      ],
      "text/plain": [
       "   ID_AVAL_PLANO_REAJ_SAL  ID_AVALIACAO  CD_TIPO_REAJUSTE_SALARIAL  \\\n",
       "0                     823         30318                          1   \n",
       "1                     824         30318                          2   \n",
       "2                     825         30318                          1   \n",
       "3                     826         30318                          2   \n",
       "\n",
       "   ID_PATROCINADORA  CD_INDEXADOR  DT_INICIAL    DT_FINAL  PC_REAJUSTE  \\\n",
       "0                 1             7         NaN         NaN     1.000000   \n",
       "1                 1             7         NaN         NaN     1.000000   \n",
       "2             91008             7  01/09/2016  30/06/2017     1.015894   \n",
       "3             91008             7  01/01/2017  30/06/2017     1.011235   \n",
       "\n",
       "                         DS_TIPO_REAJUSTE_SALARIAL  \n",
       "0  Fator de Atualizac?o do Salario de Participac?o  \n",
       "1                Fator de Atualizac?o do Beneficio  \n",
       "2  Fator de Atualizac?o do Salario de Participac?o  \n",
       "3                Fator de Atualizac?o do Beneficio  "
      ]
     },
     "execution_count": 17,
     "metadata": {},
     "output_type": "execute_result"
    }
   ],
   "source": [
    "reajuste_salario"
   ]
  },
  {
   "cell_type": "markdown",
   "metadata": {},
   "source": [
    "# TAXA JUROS"
   ]
  },
  {
   "cell_type": "code",
   "execution_count": 18,
   "metadata": {
    "collapsed": true
   },
   "outputs": [],
   "source": [
    "taxa_juros = pd.read_csv(\"input_csv/30318/taxa_juros.csv\", sep=\";\", decimal=\",\")"
   ]
  },
  {
   "cell_type": "code",
   "execution_count": 19,
   "metadata": {},
   "outputs": [
    {
     "data": {
      "text/html": [
       "<div>\n",
       "<style>\n",
       "    .dataframe thead tr:only-child th {\n",
       "        text-align: right;\n",
       "    }\n",
       "\n",
       "    .dataframe thead th {\n",
       "        text-align: left;\n",
       "    }\n",
       "\n",
       "    .dataframe tbody tr th {\n",
       "        vertical-align: top;\n",
       "    }\n",
       "</style>\n",
       "<table border=\"1\" class=\"dataframe\">\n",
       "  <thead>\n",
       "    <tr style=\"text-align: right;\">\n",
       "      <th></th>\n",
       "      <th>t</th>\n",
       "      <th>vl_taxa_juros</th>\n",
       "    </tr>\n",
       "  </thead>\n",
       "  <tbody>\n",
       "    <tr>\n",
       "      <th>0</th>\n",
       "      <td>0</td>\n",
       "      <td>0.0551</td>\n",
       "    </tr>\n",
       "  </tbody>\n",
       "</table>\n",
       "</div>"
      ],
      "text/plain": [
       "   t  vl_taxa_juros\n",
       "0  0         0.0551"
      ]
     },
     "execution_count": 19,
     "metadata": {},
     "output_type": "execute_result"
    }
   ],
   "source": [
    "taxa_juros"
   ]
  },
  {
   "cell_type": "markdown",
   "metadata": {},
   "source": [
    "# TAXA RISCO"
   ]
  },
  {
   "cell_type": "code",
   "execution_count": 20,
   "metadata": {
    "collapsed": true
   },
   "outputs": [],
   "source": [
    "taxa_risco = pd.read_csv(\"input_csv/30318/taxa_risco.csv\", sep=\";\", decimal=\",\")"
   ]
  },
  {
   "cell_type": "code",
   "execution_count": 21,
   "metadata": {},
   "outputs": [
    {
     "data": {
      "text/html": [
       "<div>\n",
       "<style>\n",
       "    .dataframe thead tr:only-child th {\n",
       "        text-align: right;\n",
       "    }\n",
       "\n",
       "    .dataframe thead th {\n",
       "        text-align: left;\n",
       "    }\n",
       "\n",
       "    .dataframe tbody tr th {\n",
       "        vertical-align: top;\n",
       "    }\n",
       "</style>\n",
       "<table border=\"1\" class=\"dataframe\">\n",
       "  <thead>\n",
       "    <tr style=\"text-align: right;\">\n",
       "      <th></th>\n",
       "      <th>t</th>\n",
       "      <th>ID_RESPONSABILIDADE</th>\n",
       "      <th>vl_taxa_risco</th>\n",
       "    </tr>\n",
       "  </thead>\n",
       "  <tbody>\n",
       "    <tr>\n",
       "      <th>0</th>\n",
       "      <td>0</td>\n",
       "      <td>1</td>\n",
       "      <td>0</td>\n",
       "    </tr>\n",
       "    <tr>\n",
       "      <th>1</th>\n",
       "      <td>0</td>\n",
       "      <td>2</td>\n",
       "      <td>0</td>\n",
       "    </tr>\n",
       "  </tbody>\n",
       "</table>\n",
       "</div>"
      ],
      "text/plain": [
       "   t  ID_RESPONSABILIDADE  vl_taxa_risco\n",
       "0  0                    1              0\n",
       "1  0                    2              0"
      ]
     },
     "execution_count": 21,
     "metadata": {},
     "output_type": "execute_result"
    }
   ],
   "source": [
    "taxa_risco"
   ]
  },
  {
   "cell_type": "markdown",
   "metadata": {},
   "source": [
    "# TABUA SERVICO E PENSAO"
   ]
  },
  {
   "cell_type": "code",
   "execution_count": 22,
   "metadata": {
    "collapsed": true
   },
   "outputs": [],
   "source": [
    "tabua_serv_normal = pd.read_csv(\"input_csv/30318/tabua_servico_normal.csv\", sep=\";\", decimal=\",\", thousands=\".\")"
   ]
  },
  {
   "cell_type": "code",
   "execution_count": 23,
   "metadata": {},
   "outputs": [
    {
     "data": {
      "text/plain": [
       "t           int64\n",
       "Sexo        int64\n",
       "Idade       int64\n",
       "ix        float64\n",
       "qxi       float64\n",
       "qx        float64\n",
       "wx        float64\n",
       "ex        float64\n",
       "apx       float64\n",
       "lx        float64\n",
       "dx        float64\n",
       "lxs       float64\n",
       "lxii      float64\n",
       "dxii      float64\n",
       "Dx*       float64\n",
       "Dxcb      float64\n",
       "Nxcb      float64\n",
       "Dxii*     float64\n",
       "Dxiicb    float64\n",
       "Nxiicb    float64\n",
       "Dxs       float64\n",
       "Nxs       float64\n",
       "Mx        float64\n",
       "Mxii      float64\n",
       "apxa      float64\n",
       "Mxcb      float64\n",
       "Mxcbii    float64\n",
       "dtype: object"
      ]
     },
     "execution_count": 23,
     "metadata": {},
     "output_type": "execute_result"
    }
   ],
   "source": [
    "tabua_serv_normal.dtypes"
   ]
  },
  {
   "cell_type": "code",
   "execution_count": 24,
   "metadata": {},
   "outputs": [
    {
     "data": {
      "text/html": [
       "<div>\n",
       "<style>\n",
       "    .dataframe thead tr:only-child th {\n",
       "        text-align: right;\n",
       "    }\n",
       "\n",
       "    .dataframe thead th {\n",
       "        text-align: left;\n",
       "    }\n",
       "\n",
       "    .dataframe tbody tr th {\n",
       "        vertical-align: top;\n",
       "    }\n",
       "</style>\n",
       "<table border=\"1\" class=\"dataframe\">\n",
       "  <thead>\n",
       "    <tr style=\"text-align: right;\">\n",
       "      <th></th>\n",
       "      <th>t</th>\n",
       "      <th>Sexo</th>\n",
       "      <th>Idade</th>\n",
       "      <th>ix</th>\n",
       "      <th>qxi</th>\n",
       "      <th>qx</th>\n",
       "      <th>wx</th>\n",
       "      <th>ex</th>\n",
       "      <th>apx</th>\n",
       "      <th>lx</th>\n",
       "      <th>...</th>\n",
       "      <th>Dxii*</th>\n",
       "      <th>Dxiicb</th>\n",
       "      <th>Nxiicb</th>\n",
       "      <th>Dxs</th>\n",
       "      <th>Nxs</th>\n",
       "      <th>Mx</th>\n",
       "      <th>Mxii</th>\n",
       "      <th>apxa</th>\n",
       "      <th>Mxcb</th>\n",
       "      <th>Mxcbii</th>\n",
       "    </tr>\n",
       "  </thead>\n",
       "  <tbody>\n",
       "    <tr>\n",
       "      <th>0</th>\n",
       "      <td>0</td>\n",
       "      <td>1</td>\n",
       "      <td>0</td>\n",
       "      <td>0.0</td>\n",
       "      <td>0.00708</td>\n",
       "      <td>0.000000</td>\n",
       "      <td>0.0</td>\n",
       "      <td>75.5</td>\n",
       "      <td>0.0</td>\n",
       "      <td>1.000000e+07</td>\n",
       "      <td>...</td>\n",
       "      <td>1.000000e+07</td>\n",
       "      <td>1.000000e+07</td>\n",
       "      <td>1.812159e+08</td>\n",
       "      <td>1.000000e+07</td>\n",
       "      <td>1.683990e+08</td>\n",
       "      <td>153549.547</td>\n",
       "      <td>536443.630</td>\n",
       "      <td>0.0</td>\n",
       "      <td>153549.547</td>\n",
       "      <td>536443.630</td>\n",
       "    </tr>\n",
       "    <tr>\n",
       "      <th>1</th>\n",
       "      <td>0</td>\n",
       "      <td>1</td>\n",
       "      <td>1</td>\n",
       "      <td>0.0</td>\n",
       "      <td>0.00176</td>\n",
       "      <td>0.000457</td>\n",
       "      <td>0.0</td>\n",
       "      <td>75.5</td>\n",
       "      <td>0.0</td>\n",
       "      <td>1.000000e+07</td>\n",
       "      <td>...</td>\n",
       "      <td>9.410672e+06</td>\n",
       "      <td>9.410672e+06</td>\n",
       "      <td>1.712159e+08</td>\n",
       "      <td>9.477775e+06</td>\n",
       "      <td>1.583990e+08</td>\n",
       "      <td>153549.547</td>\n",
       "      <td>469340.986</td>\n",
       "      <td>0.0</td>\n",
       "      <td>153549.547</td>\n",
       "      <td>469340.986</td>\n",
       "    </tr>\n",
       "    <tr>\n",
       "      <th>2</th>\n",
       "      <td>0</td>\n",
       "      <td>1</td>\n",
       "      <td>2</td>\n",
       "      <td>0.0</td>\n",
       "      <td>0.00152</td>\n",
       "      <td>0.000298</td>\n",
       "      <td>0.0</td>\n",
       "      <td>74.6</td>\n",
       "      <td>0.0</td>\n",
       "      <td>9.995432e+06</td>\n",
       "      <td>...</td>\n",
       "      <td>8.903525e+06</td>\n",
       "      <td>8.903525e+06</td>\n",
       "      <td>1.618053e+08</td>\n",
       "      <td>8.978718e+06</td>\n",
       "      <td>1.489212e+08</td>\n",
       "      <td>149446.194</td>\n",
       "      <td>453643.154</td>\n",
       "      <td>0.0</td>\n",
       "      <td>149446.194</td>\n",
       "      <td>453643.154</td>\n",
       "    </tr>\n",
       "    <tr>\n",
       "      <th>3</th>\n",
       "      <td>0</td>\n",
       "      <td>1</td>\n",
       "      <td>3</td>\n",
       "      <td>0.0</td>\n",
       "      <td>0.00146</td>\n",
       "      <td>0.000222</td>\n",
       "      <td>0.0</td>\n",
       "      <td>73.7</td>\n",
       "      <td>0.0</td>\n",
       "      <td>9.992457e+06</td>\n",
       "      <td>...</td>\n",
       "      <td>8.425734e+06</td>\n",
       "      <td>8.425734e+06</td>\n",
       "      <td>1.529017e+08</td>\n",
       "      <td>8.507294e+06</td>\n",
       "      <td>1.399425e+08</td>\n",
       "      <td>146913.670</td>\n",
       "      <td>440816.542</td>\n",
       "      <td>0.0</td>\n",
       "      <td>146913.670</td>\n",
       "      <td>440816.542</td>\n",
       "    </tr>\n",
       "    <tr>\n",
       "      <th>4</th>\n",
       "      <td>0</td>\n",
       "      <td>1</td>\n",
       "      <td>4</td>\n",
       "      <td>0.0</td>\n",
       "      <td>0.00140</td>\n",
       "      <td>0.000166</td>\n",
       "      <td>0.0</td>\n",
       "      <td>72.7</td>\n",
       "      <td>0.0</td>\n",
       "      <td>9.990235e+06</td>\n",
       "      <td>...</td>\n",
       "      <td>7.974061e+06</td>\n",
       "      <td>7.974061e+06</td>\n",
       "      <td>1.444760e+08</td>\n",
       "      <td>8.061228e+06</td>\n",
       "      <td>1.314352e+08</td>\n",
       "      <td>145120.454</td>\n",
       "      <td>429157.390</td>\n",
       "      <td>0.0</td>\n",
       "      <td>145120.454</td>\n",
       "      <td>429157.390</td>\n",
       "    </tr>\n",
       "  </tbody>\n",
       "</table>\n",
       "<p>5 rows × 27 columns</p>\n",
       "</div>"
      ],
      "text/plain": [
       "   t  Sexo  Idade   ix      qxi        qx   wx    ex  apx            lx  \\\n",
       "0  0     1      0  0.0  0.00708  0.000000  0.0  75.5  0.0  1.000000e+07   \n",
       "1  0     1      1  0.0  0.00176  0.000457  0.0  75.5  0.0  1.000000e+07   \n",
       "2  0     1      2  0.0  0.00152  0.000298  0.0  74.6  0.0  9.995432e+06   \n",
       "3  0     1      3  0.0  0.00146  0.000222  0.0  73.7  0.0  9.992457e+06   \n",
       "4  0     1      4  0.0  0.00140  0.000166  0.0  72.7  0.0  9.990235e+06   \n",
       "\n",
       "      ...             Dxii*        Dxiicb        Nxiicb           Dxs  \\\n",
       "0     ...      1.000000e+07  1.000000e+07  1.812159e+08  1.000000e+07   \n",
       "1     ...      9.410672e+06  9.410672e+06  1.712159e+08  9.477775e+06   \n",
       "2     ...      8.903525e+06  8.903525e+06  1.618053e+08  8.978718e+06   \n",
       "3     ...      8.425734e+06  8.425734e+06  1.529017e+08  8.507294e+06   \n",
       "4     ...      7.974061e+06  7.974061e+06  1.444760e+08  8.061228e+06   \n",
       "\n",
       "            Nxs          Mx        Mxii  apxa        Mxcb      Mxcbii  \n",
       "0  1.683990e+08  153549.547  536443.630   0.0  153549.547  536443.630  \n",
       "1  1.583990e+08  153549.547  469340.986   0.0  153549.547  469340.986  \n",
       "2  1.489212e+08  149446.194  453643.154   0.0  149446.194  453643.154  \n",
       "3  1.399425e+08  146913.670  440816.542   0.0  146913.670  440816.542  \n",
       "4  1.314352e+08  145120.454  429157.390   0.0  145120.454  429157.390  \n",
       "\n",
       "[5 rows x 27 columns]"
      ]
     },
     "execution_count": 24,
     "metadata": {},
     "output_type": "execute_result"
    }
   ],
   "source": [
    "tabua_serv_normal.head()"
   ]
  },
  {
   "cell_type": "code",
   "execution_count": 25,
   "metadata": {
    "collapsed": true
   },
   "outputs": [],
   "source": [
    "tabua_serv_ajustada = pd.read_csv(\"input_csv/30318/tabua_servico_ajustada.csv\", sep=\";\", decimal=\",\", thousands=\".\")"
   ]
  },
  {
   "cell_type": "code",
   "execution_count": 26,
   "metadata": {},
   "outputs": [
    {
     "data": {
      "text/plain": [
       "t           int64\n",
       "Sexo        int64\n",
       "Idade       int64\n",
       "ix        float64\n",
       "qxi       float64\n",
       "qx        float64\n",
       "wx        float64\n",
       "ex        float64\n",
       "lx        float64\n",
       "dx        float64\n",
       "lxs       float64\n",
       "lxii      float64\n",
       "dxii      float64\n",
       "Dx*       float64\n",
       "Dxcb      float64\n",
       "Nxcb      float64\n",
       "Dxii*     float64\n",
       "Dxiicb    float64\n",
       "Nxiicb    float64\n",
       "Dxs       float64\n",
       "Nxs       float64\n",
       "Mx        float64\n",
       "Mxii      float64\n",
       "Mxcb      float64\n",
       "Mxcbii    float64\n",
       "dtype: object"
      ]
     },
     "execution_count": 26,
     "metadata": {},
     "output_type": "execute_result"
    }
   ],
   "source": [
    "tabua_serv_ajustada.dtypes"
   ]
  },
  {
   "cell_type": "code",
   "execution_count": 27,
   "metadata": {},
   "outputs": [
    {
     "data": {
      "text/html": [
       "<div>\n",
       "<style>\n",
       "    .dataframe thead tr:only-child th {\n",
       "        text-align: right;\n",
       "    }\n",
       "\n",
       "    .dataframe thead th {\n",
       "        text-align: left;\n",
       "    }\n",
       "\n",
       "    .dataframe tbody tr th {\n",
       "        vertical-align: top;\n",
       "    }\n",
       "</style>\n",
       "<table border=\"1\" class=\"dataframe\">\n",
       "  <thead>\n",
       "    <tr style=\"text-align: right;\">\n",
       "      <th></th>\n",
       "      <th>t</th>\n",
       "      <th>Sexo</th>\n",
       "      <th>Idade</th>\n",
       "      <th>ix</th>\n",
       "      <th>qxi</th>\n",
       "      <th>qx</th>\n",
       "      <th>wx</th>\n",
       "      <th>ex</th>\n",
       "      <th>lx</th>\n",
       "      <th>dx</th>\n",
       "      <th>...</th>\n",
       "      <th>Nxcb</th>\n",
       "      <th>Dxii*</th>\n",
       "      <th>Dxiicb</th>\n",
       "      <th>Nxiicb</th>\n",
       "      <th>Dxs</th>\n",
       "      <th>Nxs</th>\n",
       "      <th>Mx</th>\n",
       "      <th>Mxii</th>\n",
       "      <th>Mxcb</th>\n",
       "      <th>Mxcbii</th>\n",
       "    </tr>\n",
       "  </thead>\n",
       "  <tbody>\n",
       "    <tr>\n",
       "      <th>0</th>\n",
       "      <td>0</td>\n",
       "      <td>1</td>\n",
       "      <td>0</td>\n",
       "      <td>0.0</td>\n",
       "      <td>0.00708</td>\n",
       "      <td>0.000000</td>\n",
       "      <td>0.0</td>\n",
       "      <td>75.5</td>\n",
       "      <td>1.000000e+07</td>\n",
       "      <td>0.000</td>\n",
       "      <td>...</td>\n",
       "      <td>1.885224e+08</td>\n",
       "      <td>1.000000e+07</td>\n",
       "      <td>1.000000e+07</td>\n",
       "      <td>1.812159e+08</td>\n",
       "      <td>1.000000e+07</td>\n",
       "      <td>1.683660e+08</td>\n",
       "      <td>154880.383</td>\n",
       "      <td>536443.630</td>\n",
       "      <td>154880.383</td>\n",
       "      <td>536443.630</td>\n",
       "    </tr>\n",
       "    <tr>\n",
       "      <th>1</th>\n",
       "      <td>0</td>\n",
       "      <td>1</td>\n",
       "      <td>1</td>\n",
       "      <td>0.0</td>\n",
       "      <td>0.00176</td>\n",
       "      <td>0.000457</td>\n",
       "      <td>0.0</td>\n",
       "      <td>75.5</td>\n",
       "      <td>1.000000e+07</td>\n",
       "      <td>4568.000</td>\n",
       "      <td>...</td>\n",
       "      <td>1.785224e+08</td>\n",
       "      <td>9.410672e+06</td>\n",
       "      <td>9.410672e+06</td>\n",
       "      <td>1.712159e+08</td>\n",
       "      <td>9.477775e+06</td>\n",
       "      <td>1.583660e+08</td>\n",
       "      <td>154880.383</td>\n",
       "      <td>469340.986</td>\n",
       "      <td>154880.383</td>\n",
       "      <td>469340.986</td>\n",
       "    </tr>\n",
       "    <tr>\n",
       "      <th>2</th>\n",
       "      <td>0</td>\n",
       "      <td>1</td>\n",
       "      <td>2</td>\n",
       "      <td>0.0</td>\n",
       "      <td>0.00152</td>\n",
       "      <td>0.000298</td>\n",
       "      <td>0.0</td>\n",
       "      <td>74.6</td>\n",
       "      <td>9.995432e+06</td>\n",
       "      <td>2974.641</td>\n",
       "      <td>...</td>\n",
       "      <td>1.690447e+08</td>\n",
       "      <td>8.903525e+06</td>\n",
       "      <td>8.903525e+06</td>\n",
       "      <td>1.618053e+08</td>\n",
       "      <td>8.978718e+06</td>\n",
       "      <td>1.488882e+08</td>\n",
       "      <td>150777.030</td>\n",
       "      <td>453643.154</td>\n",
       "      <td>150777.030</td>\n",
       "      <td>453643.154</td>\n",
       "    </tr>\n",
       "    <tr>\n",
       "      <th>3</th>\n",
       "      <td>0</td>\n",
       "      <td>1</td>\n",
       "      <td>3</td>\n",
       "      <td>0.0</td>\n",
       "      <td>0.00146</td>\n",
       "      <td>0.000222</td>\n",
       "      <td>0.0</td>\n",
       "      <td>73.7</td>\n",
       "      <td>9.992457e+06</td>\n",
       "      <td>2222.323</td>\n",
       "      <td>...</td>\n",
       "      <td>1.600659e+08</td>\n",
       "      <td>8.425734e+06</td>\n",
       "      <td>8.425734e+06</td>\n",
       "      <td>1.529017e+08</td>\n",
       "      <td>8.507294e+06</td>\n",
       "      <td>1.399095e+08</td>\n",
       "      <td>148244.506</td>\n",
       "      <td>440816.542</td>\n",
       "      <td>148244.506</td>\n",
       "      <td>440816.542</td>\n",
       "    </tr>\n",
       "    <tr>\n",
       "      <th>4</th>\n",
       "      <td>0</td>\n",
       "      <td>1</td>\n",
       "      <td>4</td>\n",
       "      <td>0.0</td>\n",
       "      <td>0.00140</td>\n",
       "      <td>0.000166</td>\n",
       "      <td>0.0</td>\n",
       "      <td>72.7</td>\n",
       "      <td>9.990235e+06</td>\n",
       "      <td>1662.375</td>\n",
       "      <td>...</td>\n",
       "      <td>1.515586e+08</td>\n",
       "      <td>7.974061e+06</td>\n",
       "      <td>7.974061e+06</td>\n",
       "      <td>1.444760e+08</td>\n",
       "      <td>8.061228e+06</td>\n",
       "      <td>1.314022e+08</td>\n",
       "      <td>146451.290</td>\n",
       "      <td>429157.390</td>\n",
       "      <td>146451.290</td>\n",
       "      <td>429157.390</td>\n",
       "    </tr>\n",
       "  </tbody>\n",
       "</table>\n",
       "<p>5 rows × 25 columns</p>\n",
       "</div>"
      ],
      "text/plain": [
       "   t  Sexo  Idade   ix      qxi        qx   wx    ex            lx        dx  \\\n",
       "0  0     1      0  0.0  0.00708  0.000000  0.0  75.5  1.000000e+07     0.000   \n",
       "1  0     1      1  0.0  0.00176  0.000457  0.0  75.5  1.000000e+07  4568.000   \n",
       "2  0     1      2  0.0  0.00152  0.000298  0.0  74.6  9.995432e+06  2974.641   \n",
       "3  0     1      3  0.0  0.00146  0.000222  0.0  73.7  9.992457e+06  2222.323   \n",
       "4  0     1      4  0.0  0.00140  0.000166  0.0  72.7  9.990235e+06  1662.375   \n",
       "\n",
       "      ...              Nxcb         Dxii*        Dxiicb        Nxiicb  \\\n",
       "0     ...      1.885224e+08  1.000000e+07  1.000000e+07  1.812159e+08   \n",
       "1     ...      1.785224e+08  9.410672e+06  9.410672e+06  1.712159e+08   \n",
       "2     ...      1.690447e+08  8.903525e+06  8.903525e+06  1.618053e+08   \n",
       "3     ...      1.600659e+08  8.425734e+06  8.425734e+06  1.529017e+08   \n",
       "4     ...      1.515586e+08  7.974061e+06  7.974061e+06  1.444760e+08   \n",
       "\n",
       "            Dxs           Nxs          Mx        Mxii        Mxcb      Mxcbii  \n",
       "0  1.000000e+07  1.683660e+08  154880.383  536443.630  154880.383  536443.630  \n",
       "1  9.477775e+06  1.583660e+08  154880.383  469340.986  154880.383  469340.986  \n",
       "2  8.978718e+06  1.488882e+08  150777.030  453643.154  150777.030  453643.154  \n",
       "3  8.507294e+06  1.399095e+08  148244.506  440816.542  148244.506  440816.542  \n",
       "4  8.061228e+06  1.314022e+08  146451.290  429157.390  146451.290  429157.390  \n",
       "\n",
       "[5 rows x 25 columns]"
      ]
     },
     "execution_count": 27,
     "metadata": {},
     "output_type": "execute_result"
    }
   ],
   "source": [
    "tabua_serv_ajustada.head()"
   ]
  },
  {
   "cell_type": "code",
   "execution_count": 28,
   "metadata": {
    "collapsed": true
   },
   "outputs": [],
   "source": [
    "tabua_pens_djxx = pd.read_csv(\"input_csv/30318/tabua_pensao_djxx.csv\", sep=\";\", decimal=\",\", thousands=\".\")"
   ]
  },
  {
   "cell_type": "code",
   "execution_count": 29,
   "metadata": {},
   "outputs": [
    {
     "data": {
      "text/plain": [
       "t            int64\n",
       "tipo         int64\n",
       "sexo         int64\n",
       "idade_x      int64\n",
       "idade_j      int64\n",
       "djxx       float64\n",
       "dtype: object"
      ]
     },
     "execution_count": 29,
     "metadata": {},
     "output_type": "execute_result"
    }
   ],
   "source": [
    "tabua_pens_djxx.dtypes"
   ]
  },
  {
   "cell_type": "code",
   "execution_count": 30,
   "metadata": {},
   "outputs": [
    {
     "data": {
      "text/html": [
       "<div>\n",
       "<style>\n",
       "    .dataframe thead tr:only-child th {\n",
       "        text-align: right;\n",
       "    }\n",
       "\n",
       "    .dataframe thead th {\n",
       "        text-align: left;\n",
       "    }\n",
       "\n",
       "    .dataframe tbody tr th {\n",
       "        vertical-align: top;\n",
       "    }\n",
       "</style>\n",
       "<table border=\"1\" class=\"dataframe\">\n",
       "  <thead>\n",
       "    <tr style=\"text-align: right;\">\n",
       "      <th></th>\n",
       "      <th>t</th>\n",
       "      <th>tipo</th>\n",
       "      <th>sexo</th>\n",
       "      <th>idade_x</th>\n",
       "      <th>idade_j</th>\n",
       "      <th>djxx</th>\n",
       "    </tr>\n",
       "  </thead>\n",
       "  <tbody>\n",
       "    <tr>\n",
       "      <th>0</th>\n",
       "      <td>0</td>\n",
       "      <td>1</td>\n",
       "      <td>1</td>\n",
       "      <td>0</td>\n",
       "      <td>0</td>\n",
       "      <td>1.000000e+14</td>\n",
       "    </tr>\n",
       "    <tr>\n",
       "      <th>1</th>\n",
       "      <td>0</td>\n",
       "      <td>1</td>\n",
       "      <td>1</td>\n",
       "      <td>0</td>\n",
       "      <td>1</td>\n",
       "      <td>9.477775e+13</td>\n",
       "    </tr>\n",
       "    <tr>\n",
       "      <th>2</th>\n",
       "      <td>0</td>\n",
       "      <td>1</td>\n",
       "      <td>1</td>\n",
       "      <td>0</td>\n",
       "      <td>2</td>\n",
       "      <td>8.978244e+13</td>\n",
       "    </tr>\n",
       "    <tr>\n",
       "      <th>3</th>\n",
       "      <td>0</td>\n",
       "      <td>1</td>\n",
       "      <td>1</td>\n",
       "      <td>0</td>\n",
       "      <td>3</td>\n",
       "      <td>8.506450e+13</td>\n",
       "    </tr>\n",
       "    <tr>\n",
       "      <th>4</th>\n",
       "      <td>0</td>\n",
       "      <td>1</td>\n",
       "      <td>1</td>\n",
       "      <td>0</td>\n",
       "      <td>4</td>\n",
       "      <td>8.059919e+13</td>\n",
       "    </tr>\n",
       "  </tbody>\n",
       "</table>\n",
       "</div>"
      ],
      "text/plain": [
       "   t  tipo  sexo  idade_x  idade_j          djxx\n",
       "0  0     1     1        0        0  1.000000e+14\n",
       "1  0     1     1        0        1  9.477775e+13\n",
       "2  0     1     1        0        2  8.978244e+13\n",
       "3  0     1     1        0        3  8.506450e+13\n",
       "4  0     1     1        0        4  8.059919e+13"
      ]
     },
     "execution_count": 30,
     "metadata": {},
     "output_type": "execute_result"
    }
   ],
   "source": [
    "tabua_pens_djxx.head()"
   ]
  },
  {
   "cell_type": "code",
   "execution_count": 31,
   "metadata": {
    "collapsed": true
   },
   "outputs": [],
   "source": [
    "tabua_pens_njxx = pd.read_csv(\"input_csv/30318/tabua_pensao_njxx.csv\", sep=\";\", decimal=\",\", thousands=\".\")"
   ]
  },
  {
   "cell_type": "code",
   "execution_count": 32,
   "metadata": {},
   "outputs": [
    {
     "data": {
      "text/plain": [
       "t            int64\n",
       "tipo         int64\n",
       "sexo         int64\n",
       "idade_x      int64\n",
       "idade_j      int64\n",
       "njxx       float64\n",
       "dtype: object"
      ]
     },
     "execution_count": 32,
     "metadata": {},
     "output_type": "execute_result"
    }
   ],
   "source": [
    "tabua_pens_njxx.dtypes"
   ]
  },
  {
   "cell_type": "code",
   "execution_count": 33,
   "metadata": {},
   "outputs": [
    {
     "data": {
      "text/html": [
       "<div>\n",
       "<style>\n",
       "    .dataframe thead tr:only-child th {\n",
       "        text-align: right;\n",
       "    }\n",
       "\n",
       "    .dataframe thead th {\n",
       "        text-align: left;\n",
       "    }\n",
       "\n",
       "    .dataframe tbody tr th {\n",
       "        vertical-align: top;\n",
       "    }\n",
       "</style>\n",
       "<table border=\"1\" class=\"dataframe\">\n",
       "  <thead>\n",
       "    <tr style=\"text-align: right;\">\n",
       "      <th></th>\n",
       "      <th>t</th>\n",
       "      <th>tipo</th>\n",
       "      <th>sexo</th>\n",
       "      <th>idade_x</th>\n",
       "      <th>idade_j</th>\n",
       "      <th>njxx</th>\n",
       "    </tr>\n",
       "  </thead>\n",
       "  <tbody>\n",
       "    <tr>\n",
       "      <th>0</th>\n",
       "      <td>0</td>\n",
       "      <td>1</td>\n",
       "      <td>1</td>\n",
       "      <td>0</td>\n",
       "      <td>0</td>\n",
       "      <td>1.866478e+15</td>\n",
       "    </tr>\n",
       "    <tr>\n",
       "      <th>1</th>\n",
       "      <td>0</td>\n",
       "      <td>1</td>\n",
       "      <td>1</td>\n",
       "      <td>0</td>\n",
       "      <td>1</td>\n",
       "      <td>1.767521e+15</td>\n",
       "    </tr>\n",
       "    <tr>\n",
       "      <th>2</th>\n",
       "      <td>0</td>\n",
       "      <td>1</td>\n",
       "      <td>1</td>\n",
       "      <td>0</td>\n",
       "      <td>2</td>\n",
       "      <td>1.673706e+15</td>\n",
       "    </tr>\n",
       "    <tr>\n",
       "      <th>3</th>\n",
       "      <td>0</td>\n",
       "      <td>1</td>\n",
       "      <td>1</td>\n",
       "      <td>0</td>\n",
       "      <td>3</td>\n",
       "      <td>1.584811e+15</td>\n",
       "    </tr>\n",
       "    <tr>\n",
       "      <th>4</th>\n",
       "      <td>0</td>\n",
       "      <td>1</td>\n",
       "      <td>1</td>\n",
       "      <td>0</td>\n",
       "      <td>4</td>\n",
       "      <td>1.500563e+15</td>\n",
       "    </tr>\n",
       "  </tbody>\n",
       "</table>\n",
       "</div>"
      ],
      "text/plain": [
       "   t  tipo  sexo  idade_x  idade_j          njxx\n",
       "0  0     1     1        0        0  1.866478e+15\n",
       "1  0     1     1        0        1  1.767521e+15\n",
       "2  0     1     1        0        2  1.673706e+15\n",
       "3  0     1     1        0        3  1.584811e+15\n",
       "4  0     1     1        0        4  1.500563e+15"
      ]
     },
     "execution_count": 33,
     "metadata": {},
     "output_type": "execute_result"
    }
   ],
   "source": [
    "tabua_pens_njxx.head()"
   ]
  },
  {
   "cell_type": "markdown",
   "metadata": {},
   "source": [
    "# ATIVO"
   ]
  },
  {
   "cell_type": "code",
   "execution_count": 34,
   "metadata": {
    "collapsed": true
   },
   "outputs": [],
   "source": [
    "date_columns = ['DtNascPartic', 'DtAdmPatroci', 'DtAssEntPrev', 'DtAdesaoPlan', 'DtIniBenInss', 'DtIniBenPrev', 'DtNascConjug', 'DtNascFilJov', 'DtNascFilInv', 'DtIniApoInss', 'DtIniContInss', 'DtApoEntPrev']"
   ]
  },
  {
   "cell_type": "code",
   "execution_count": 35,
   "metadata": {},
   "outputs": [],
   "source": [
    "ativo = pd.read_csv(\"input_csv/30318/ativo.csv\", sep=\";\", decimal=\",\", parse_dates=date_columns, thousands=\".\")"
   ]
  },
  {
   "cell_type": "code",
   "execution_count": 36,
   "metadata": {
    "scrolled": true
   },
   "outputs": [
    {
     "data": {
      "text/plain": [
       "ID_PARTICIPANTE                  int64\n",
       "CdSitCadPart                     int64\n",
       "NoNomePartic                    object\n",
       "NuMatrPartic                     int64\n",
       "DtNascPartic            datetime64[ns]\n",
       "CdSexoPartic                     int64\n",
       "CdPatrocPlan                     int64\n",
       "CD_SITUACAO_PATROC               int64\n",
       "CdEstCivPart                     int64\n",
       "EstCivPart                      object\n",
       "CdExDirPatro                     int64\n",
       "DT_OPCAO_BPD                   float64\n",
       "DtAdmPatroci            datetime64[ns]\n",
       "DtAssEntPrev            datetime64[ns]\n",
       "PeFatReduPbe                   float64\n",
       "CdElegApoEsp                     int64\n",
       "CdParEntPrev                     int64\n",
       "FL_DEFICIENTE                    int64\n",
       "NuMatrOrigem                   float64\n",
       "FlgPensionista                   int64\n",
       "FL_MIGRADO                       int64\n",
       "IDPLANOPREV                      int64\n",
       "DtAdesaoPlan            datetime64[ns]\n",
       "VlSdoConPart                   float64\n",
       "VlSdoConPatr                   float64\n",
       "VL_RESERVA_BPD                 float64\n",
       "VL_SALDO_PORTADO               float64\n",
       "VlBenSaldado                   float64\n",
       "VlSalEntPrev                   float64\n",
       "CD_SITUACAO_FUNDACAO             int64\n",
       "                             ...      \n",
       "CdSexoFilInv                   float64\n",
       "DtNascFilInv            datetime64[ns]\n",
       "CdAutoPatroc                     int64\n",
       "flg_manutencao_saldo             int64\n",
       "IddPartiCalc                     int64\n",
       "IddPartiFrac                   float64\n",
       "IddAdmPatroc                     int64\n",
       "IddAdmFracao                   float64\n",
       "IddAssEntPre                     int64\n",
       "TmpAdmIns                      float64\n",
       "DtIniApoInss            datetime64[ns]\n",
       "IddIniciInss                     int64\n",
       "IddIniApoInss                    int64\n",
       "DtIniContInss           datetime64[ns]\n",
       "PrbCasado                      float64\n",
       "TmpInssCalcu                     int64\n",
       "TmpInssResto                     int64\n",
       "TmpInssTotal                     int64\n",
       "TmpContribInss                   int64\n",
       "DtApoEntPrev            datetime64[ns]\n",
       "IddApoEntPre                     int64\n",
       "TmpPlanoPrev                   float64\n",
       "TmpPlanoRest                     int64\n",
       "IddConjuCalc                     int64\n",
       "IddCjgApoEnt                     int64\n",
       "IddFilJovCalc                  float64\n",
       "IddFilJovApoEnt                float64\n",
       "IddFilInvCalc                  float64\n",
       "IddFilInvApoEnt                float64\n",
       "id_bloco                         int64\n",
       "Length: 71, dtype: object"
      ]
     },
     "execution_count": 36,
     "metadata": {},
     "output_type": "execute_result"
    }
   ],
   "source": [
    "ativo.dtypes"
   ]
  },
  {
   "cell_type": "code",
   "execution_count": 37,
   "metadata": {},
   "outputs": [
    {
     "data": {
      "text/html": [
       "<div>\n",
       "<style>\n",
       "    .dataframe thead tr:only-child th {\n",
       "        text-align: right;\n",
       "    }\n",
       "\n",
       "    .dataframe thead th {\n",
       "        text-align: left;\n",
       "    }\n",
       "\n",
       "    .dataframe tbody tr th {\n",
       "        vertical-align: top;\n",
       "    }\n",
       "</style>\n",
       "<table border=\"1\" class=\"dataframe\">\n",
       "  <thead>\n",
       "    <tr style=\"text-align: right;\">\n",
       "      <th></th>\n",
       "      <th>ID_PARTICIPANTE</th>\n",
       "      <th>CdSitCadPart</th>\n",
       "      <th>NoNomePartic</th>\n",
       "      <th>NuMatrPartic</th>\n",
       "      <th>DtNascPartic</th>\n",
       "      <th>CdSexoPartic</th>\n",
       "      <th>CdPatrocPlan</th>\n",
       "      <th>CD_SITUACAO_PATROC</th>\n",
       "      <th>CdEstCivPart</th>\n",
       "      <th>EstCivPart</th>\n",
       "      <th>...</th>\n",
       "      <th>IddApoEntPre</th>\n",
       "      <th>TmpPlanoPrev</th>\n",
       "      <th>TmpPlanoRest</th>\n",
       "      <th>IddConjuCalc</th>\n",
       "      <th>IddCjgApoEnt</th>\n",
       "      <th>IddFilJovCalc</th>\n",
       "      <th>IddFilJovApoEnt</th>\n",
       "      <th>IddFilInvCalc</th>\n",
       "      <th>IddFilInvApoEnt</th>\n",
       "      <th>id_bloco</th>\n",
       "    </tr>\n",
       "  </thead>\n",
       "  <tbody>\n",
       "    <tr>\n",
       "      <th>0</th>\n",
       "      <td>13410587</td>\n",
       "      <td>11753</td>\n",
       "      <td>SAYONARA MEIRELLES</td>\n",
       "      <td>30</td>\n",
       "      <td>1961-04-02</td>\n",
       "      <td>1</td>\n",
       "      <td>91008</td>\n",
       "      <td>8</td>\n",
       "      <td>1</td>\n",
       "      <td>CASADO(A)</td>\n",
       "      <td>...</td>\n",
       "      <td>56</td>\n",
       "      <td>34.383562</td>\n",
       "      <td>0</td>\n",
       "      <td>58</td>\n",
       "      <td>58</td>\n",
       "      <td>NaN</td>\n",
       "      <td>NaN</td>\n",
       "      <td>NaN</td>\n",
       "      <td>NaN</td>\n",
       "      <td>1</td>\n",
       "    </tr>\n",
       "    <tr>\n",
       "      <th>1</th>\n",
       "      <td>13410588</td>\n",
       "      <td>11753</td>\n",
       "      <td>KLAUSS NAGHETINI BORBA</td>\n",
       "      <td>129</td>\n",
       "      <td>1959-12-17</td>\n",
       "      <td>2</td>\n",
       "      <td>91008</td>\n",
       "      <td>8</td>\n",
       "      <td>1</td>\n",
       "      <td>CASADO(A)</td>\n",
       "      <td>...</td>\n",
       "      <td>58</td>\n",
       "      <td>34.367123</td>\n",
       "      <td>0</td>\n",
       "      <td>53</td>\n",
       "      <td>53</td>\n",
       "      <td>NaN</td>\n",
       "      <td>NaN</td>\n",
       "      <td>NaN</td>\n",
       "      <td>NaN</td>\n",
       "      <td>1</td>\n",
       "    </tr>\n",
       "    <tr>\n",
       "      <th>2</th>\n",
       "      <td>13410589</td>\n",
       "      <td>11753</td>\n",
       "      <td>JOSE HENRIQUE MOTTA DE CASTRO</td>\n",
       "      <td>135</td>\n",
       "      <td>1958-02-09</td>\n",
       "      <td>2</td>\n",
       "      <td>91008</td>\n",
       "      <td>8</td>\n",
       "      <td>1</td>\n",
       "      <td>CASADO(A)</td>\n",
       "      <td>...</td>\n",
       "      <td>59</td>\n",
       "      <td>34.367123</td>\n",
       "      <td>0</td>\n",
       "      <td>54</td>\n",
       "      <td>54</td>\n",
       "      <td>NaN</td>\n",
       "      <td>NaN</td>\n",
       "      <td>NaN</td>\n",
       "      <td>NaN</td>\n",
       "      <td>1</td>\n",
       "    </tr>\n",
       "    <tr>\n",
       "      <th>3</th>\n",
       "      <td>13410590</td>\n",
       "      <td>11753</td>\n",
       "      <td>JOAO CARLOS FERRO</td>\n",
       "      <td>170</td>\n",
       "      <td>1959-04-11</td>\n",
       "      <td>2</td>\n",
       "      <td>91008</td>\n",
       "      <td>8</td>\n",
       "      <td>2</td>\n",
       "      <td>DIVORCIADO(A)</td>\n",
       "      <td>...</td>\n",
       "      <td>58</td>\n",
       "      <td>34.367123</td>\n",
       "      <td>0</td>\n",
       "      <td>53</td>\n",
       "      <td>53</td>\n",
       "      <td>NaN</td>\n",
       "      <td>NaN</td>\n",
       "      <td>NaN</td>\n",
       "      <td>NaN</td>\n",
       "      <td>1</td>\n",
       "    </tr>\n",
       "    <tr>\n",
       "      <th>4</th>\n",
       "      <td>13410591</td>\n",
       "      <td>11753</td>\n",
       "      <td>MARIA AMELIA DE AQUINO NASCIMENTO</td>\n",
       "      <td>218</td>\n",
       "      <td>1960-05-31</td>\n",
       "      <td>1</td>\n",
       "      <td>91008</td>\n",
       "      <td>34</td>\n",
       "      <td>1</td>\n",
       "      <td>CASADO(A)</td>\n",
       "      <td>...</td>\n",
       "      <td>57</td>\n",
       "      <td>33.605479</td>\n",
       "      <td>0</td>\n",
       "      <td>59</td>\n",
       "      <td>59</td>\n",
       "      <td>NaN</td>\n",
       "      <td>NaN</td>\n",
       "      <td>NaN</td>\n",
       "      <td>NaN</td>\n",
       "      <td>1</td>\n",
       "    </tr>\n",
       "  </tbody>\n",
       "</table>\n",
       "<p>5 rows × 71 columns</p>\n",
       "</div>"
      ],
      "text/plain": [
       "   ID_PARTICIPANTE  CdSitCadPart                       NoNomePartic  \\\n",
       "0         13410587         11753                 SAYONARA MEIRELLES   \n",
       "1         13410588         11753             KLAUSS NAGHETINI BORBA   \n",
       "2         13410589         11753      JOSE HENRIQUE MOTTA DE CASTRO   \n",
       "3         13410590         11753                  JOAO CARLOS FERRO   \n",
       "4         13410591         11753  MARIA AMELIA DE AQUINO NASCIMENTO   \n",
       "\n",
       "   NuMatrPartic DtNascPartic  CdSexoPartic  CdPatrocPlan  CD_SITUACAO_PATROC  \\\n",
       "0            30   1961-04-02             1         91008                   8   \n",
       "1           129   1959-12-17             2         91008                   8   \n",
       "2           135   1958-02-09             2         91008                   8   \n",
       "3           170   1959-04-11             2         91008                   8   \n",
       "4           218   1960-05-31             1         91008                  34   \n",
       "\n",
       "   CdEstCivPart     EstCivPart    ...     IddApoEntPre  TmpPlanoPrev  \\\n",
       "0             1      CASADO(A)    ...               56     34.383562   \n",
       "1             1      CASADO(A)    ...               58     34.367123   \n",
       "2             1      CASADO(A)    ...               59     34.367123   \n",
       "3             2  DIVORCIADO(A)    ...               58     34.367123   \n",
       "4             1      CASADO(A)    ...               57     33.605479   \n",
       "\n",
       "  TmpPlanoRest IddConjuCalc  IddCjgApoEnt  IddFilJovCalc  IddFilJovApoEnt  \\\n",
       "0            0           58            58            NaN              NaN   \n",
       "1            0           53            53            NaN              NaN   \n",
       "2            0           54            54            NaN              NaN   \n",
       "3            0           53            53            NaN              NaN   \n",
       "4            0           59            59            NaN              NaN   \n",
       "\n",
       "   IddFilInvCalc  IddFilInvApoEnt  id_bloco  \n",
       "0            NaN              NaN         1  \n",
       "1            NaN              NaN         1  \n",
       "2            NaN              NaN         1  \n",
       "3            NaN              NaN         1  \n",
       "4            NaN              NaN         1  \n",
       "\n",
       "[5 rows x 71 columns]"
      ]
     },
     "execution_count": 37,
     "metadata": {},
     "output_type": "execute_result"
    }
   ],
   "source": [
    "ativo.head()"
   ]
  },
  {
   "cell_type": "code",
   "execution_count": 38,
   "metadata": {},
   "outputs": [
    {
     "data": {
      "text/plain": [
       "(82953, 71)"
      ]
     },
     "execution_count": 38,
     "metadata": {},
     "output_type": "execute_result"
    }
   ],
   "source": [
    "ativo.shape"
   ]
  },
  {
   "cell_type": "markdown",
   "metadata": {},
   "source": [
    "# CALCULAR BENEFICIO INSS"
   ]
  },
  {
   "cell_type": "code",
   "execution_count": 39,
   "metadata": {},
   "outputs": [],
   "source": [
    "def calcular_idade_beneficio_v1(idade_participante, idade_conjuge):\n",
    "    for t in range(0, (max_idade + 1) - idade_participante, 1):\n",
    "        print(t)\n",
    "        print(min(idade_participante + t, max_idade))\n",
    "        print(min(idade_conjuge + t, max_idade))"
   ]
  },
  {
   "cell_type": "code",
   "execution_count": 40,
   "metadata": {},
   "outputs": [],
   "source": [
    "def calcular_idade_beneficio_v2(idade_participante, idade_conjuge):\n",
    "    t = 0\n",
    "    while(t <= max_idade - idade_participante):\n",
    "        print(t)\n",
    "        print(min(idade_participante + t, max_idade))\n",
    "        print(min(idade_conjuge + t, max_idade))\n",
    "        t += 1"
   ]
  },
  {
   "cell_type": "code",
   "execution_count": 115,
   "metadata": {},
   "outputs": [],
   "source": [
    "def calcular_idade_beneficio_v3(row):\n",
    "    t = 0\n",
    "    idades = []\n",
    "    while(t <= max_idade - row['IddPartiCalc']):\n",
    "        idade_partic_t1 = min(row['IddPartiCalc'] + t, max_idade)\n",
    "        idade_conjug_t1 = min(row['IddConjuCalc'] + t, max_idade)\n",
    "        idade_dic = {'id_participante': row['ID_PARTICIPANTE'], 't': t, 'idade_partic_t1': idade_partic_t1, 'idade_conjug_t1': idade_conjug_t1}\n",
    "#         x = [id_partic, t, idade_partic_t1, idade_conjug_t1]\n",
    "        idades.append(idade_dic)\n",
    "        t +=1\n",
    "#     return pd.DataFrame(x)\n",
    "#     print(pd.DataFrame(x))\n",
    "#     print(pd.DataFrame(idades))\n",
    "#     print(out);\n",
    "    return idades;\n",
    "#     return(pd.DataFrame(idades))"
   ]
  },
  {
   "cell_type": "code",
   "execution_count": null,
   "metadata": {
    "scrolled": false
   },
   "outputs": [],
   "source": [
    "for index, row in ativo.iloc[:5].iterrows():\n",
    "    calcular_idade_beneficio(row['IddPartiCalc'], row['IddConjuCalc'])\n",
    "#     print(index, row['ID_PARTICIPANTE'], row['IddPartiCalc'])"
   ]
  },
  {
   "cell_type": "code",
   "execution_count": null,
   "metadata": {},
   "outputs": [],
   "source": [
    "for index, row in ativo.iloc[:5].iterrows():\n",
    "    calcular_idade_beneficio_2(row['IddPartiCalc'], row['IddConjuCalc'])"
   ]
  },
  {
   "cell_type": "code",
   "execution_count": null,
   "metadata": {},
   "outputs": [],
   "source": [
    "x = pd.DataFrame()\n",
    "x.append(ativo.iloc[:5].apply(calcular_idade_beneficio_v3, axis=1), ignore_index=True)"
   ]
  },
  {
   "cell_type": "code",
   "execution_count": 122,
   "metadata": {},
   "outputs": [
    {
     "ename": "ValueError",
     "evalue": "Shape of passed values is (1, 70), indices imply (1, 71)",
     "output_type": "error",
     "traceback": [
      "\u001b[1;31m---------------------------------------------------------------------------\u001b[0m",
      "\u001b[1;31mValueError\u001b[0m                                Traceback (most recent call last)",
      "\u001b[1;32mC:\\ProgramData\\Anaconda3\\lib\\site-packages\\pandas\\core\\internals.py\u001b[0m in \u001b[0;36mcreate_block_manager_from_arrays\u001b[1;34m(arrays, names, axes)\u001b[0m\n\u001b[0;32m   4309\u001b[0m         \u001b[0mblocks\u001b[0m \u001b[1;33m=\u001b[0m \u001b[0mform_blocks\u001b[0m\u001b[1;33m(\u001b[0m\u001b[0marrays\u001b[0m\u001b[1;33m,\u001b[0m \u001b[0mnames\u001b[0m\u001b[1;33m,\u001b[0m \u001b[0maxes\u001b[0m\u001b[1;33m)\u001b[0m\u001b[1;33m\u001b[0m\u001b[0m\n\u001b[1;32m-> 4310\u001b[1;33m         \u001b[0mmgr\u001b[0m \u001b[1;33m=\u001b[0m \u001b[0mBlockManager\u001b[0m\u001b[1;33m(\u001b[0m\u001b[0mblocks\u001b[0m\u001b[1;33m,\u001b[0m \u001b[0maxes\u001b[0m\u001b[1;33m)\u001b[0m\u001b[1;33m\u001b[0m\u001b[0m\n\u001b[0m\u001b[0;32m   4311\u001b[0m         \u001b[0mmgr\u001b[0m\u001b[1;33m.\u001b[0m\u001b[0m_consolidate_inplace\u001b[0m\u001b[1;33m(\u001b[0m\u001b[1;33m)\u001b[0m\u001b[1;33m\u001b[0m\u001b[0m\n",
      "\u001b[1;32mC:\\ProgramData\\Anaconda3\\lib\\site-packages\\pandas\\core\\internals.py\u001b[0m in \u001b[0;36m__init__\u001b[1;34m(self, blocks, axes, do_integrity_check, fastpath)\u001b[0m\n\u001b[0;32m   2794\u001b[0m         \u001b[1;32mif\u001b[0m \u001b[0mdo_integrity_check\u001b[0m\u001b[1;33m:\u001b[0m\u001b[1;33m\u001b[0m\u001b[0m\n\u001b[1;32m-> 2795\u001b[1;33m             \u001b[0mself\u001b[0m\u001b[1;33m.\u001b[0m\u001b[0m_verify_integrity\u001b[0m\u001b[1;33m(\u001b[0m\u001b[1;33m)\u001b[0m\u001b[1;33m\u001b[0m\u001b[0m\n\u001b[0m\u001b[0;32m   2796\u001b[0m \u001b[1;33m\u001b[0m\u001b[0m\n",
      "\u001b[1;32mC:\\ProgramData\\Anaconda3\\lib\\site-packages\\pandas\\core\\internals.py\u001b[0m in \u001b[0;36m_verify_integrity\u001b[1;34m(self)\u001b[0m\n\u001b[0;32m   3005\u001b[0m             \u001b[1;32mif\u001b[0m \u001b[0mblock\u001b[0m\u001b[1;33m.\u001b[0m\u001b[0m_verify_integrity\u001b[0m \u001b[1;32mand\u001b[0m \u001b[0mblock\u001b[0m\u001b[1;33m.\u001b[0m\u001b[0mshape\u001b[0m\u001b[1;33m[\u001b[0m\u001b[1;36m1\u001b[0m\u001b[1;33m:\u001b[0m\u001b[1;33m]\u001b[0m \u001b[1;33m!=\u001b[0m \u001b[0mmgr_shape\u001b[0m\u001b[1;33m[\u001b[0m\u001b[1;36m1\u001b[0m\u001b[1;33m:\u001b[0m\u001b[1;33m]\u001b[0m\u001b[1;33m:\u001b[0m\u001b[1;33m\u001b[0m\u001b[0m\n\u001b[1;32m-> 3006\u001b[1;33m                 \u001b[0mconstruction_error\u001b[0m\u001b[1;33m(\u001b[0m\u001b[0mtot_items\u001b[0m\u001b[1;33m,\u001b[0m \u001b[0mblock\u001b[0m\u001b[1;33m.\u001b[0m\u001b[0mshape\u001b[0m\u001b[1;33m[\u001b[0m\u001b[1;36m1\u001b[0m\u001b[1;33m:\u001b[0m\u001b[1;33m]\u001b[0m\u001b[1;33m,\u001b[0m \u001b[0mself\u001b[0m\u001b[1;33m.\u001b[0m\u001b[0maxes\u001b[0m\u001b[1;33m)\u001b[0m\u001b[1;33m\u001b[0m\u001b[0m\n\u001b[0m\u001b[0;32m   3007\u001b[0m         \u001b[1;32mif\u001b[0m \u001b[0mlen\u001b[0m\u001b[1;33m(\u001b[0m\u001b[0mself\u001b[0m\u001b[1;33m.\u001b[0m\u001b[0mitems\u001b[0m\u001b[1;33m)\u001b[0m \u001b[1;33m!=\u001b[0m \u001b[0mtot_items\u001b[0m\u001b[1;33m:\u001b[0m\u001b[1;33m\u001b[0m\u001b[0m\n",
      "\u001b[1;32mC:\\ProgramData\\Anaconda3\\lib\\site-packages\\pandas\\core\\internals.py\u001b[0m in \u001b[0;36mconstruction_error\u001b[1;34m(tot_items, block_shape, axes, e)\u001b[0m\n\u001b[0;32m   4279\u001b[0m     raise ValueError(\"Shape of passed values is {0}, indices imply {1}\".format(\n\u001b[1;32m-> 4280\u001b[1;33m         passed, implied))\n\u001b[0m\u001b[0;32m   4281\u001b[0m \u001b[1;33m\u001b[0m\u001b[0m\n",
      "\u001b[1;31mValueError\u001b[0m: Shape of passed values is (1, 70), indices imply (1, 71)",
      "\nDuring handling of the above exception, another exception occurred:\n",
      "\u001b[1;31mValueError\u001b[0m                                Traceback (most recent call last)",
      "\u001b[1;32m<ipython-input-122-7d5c4c3d6448>\u001b[0m in \u001b[0;36m<module>\u001b[1;34m()\u001b[0m\n\u001b[1;32m----> 1\u001b[1;33m \u001b[0mx\u001b[0m \u001b[1;33m=\u001b[0m \u001b[0mativo\u001b[0m\u001b[1;33m.\u001b[0m\u001b[0miloc\u001b[0m\u001b[1;33m[\u001b[0m\u001b[1;33m:\u001b[0m\u001b[1;36m1\u001b[0m\u001b[1;33m]\u001b[0m\u001b[1;33m.\u001b[0m\u001b[0mapply\u001b[0m\u001b[1;33m(\u001b[0m\u001b[0mcalcular_idade_beneficio_v3\u001b[0m\u001b[1;33m,\u001b[0m \u001b[0maxis\u001b[0m\u001b[1;33m=\u001b[0m\u001b[1;36m1\u001b[0m\u001b[1;33m)\u001b[0m\u001b[1;33m\u001b[0m\u001b[0m\n\u001b[0m",
      "\u001b[1;32mC:\\ProgramData\\Anaconda3\\lib\\site-packages\\pandas\\core\\frame.py\u001b[0m in \u001b[0;36mapply\u001b[1;34m(self, func, axis, broadcast, raw, reduce, args, **kwds)\u001b[0m\n\u001b[0;32m   4260\u001b[0m                         \u001b[0mf\u001b[0m\u001b[1;33m,\u001b[0m \u001b[0maxis\u001b[0m\u001b[1;33m,\u001b[0m\u001b[1;33m\u001b[0m\u001b[0m\n\u001b[0;32m   4261\u001b[0m                         \u001b[0mreduce\u001b[0m\u001b[1;33m=\u001b[0m\u001b[0mreduce\u001b[0m\u001b[1;33m,\u001b[0m\u001b[1;33m\u001b[0m\u001b[0m\n\u001b[1;32m-> 4262\u001b[1;33m                         ignore_failures=ignore_failures)\n\u001b[0m\u001b[0;32m   4263\u001b[0m             \u001b[1;32melse\u001b[0m\u001b[1;33m:\u001b[0m\u001b[1;33m\u001b[0m\u001b[0m\n\u001b[0;32m   4264\u001b[0m                 \u001b[1;32mreturn\u001b[0m \u001b[0mself\u001b[0m\u001b[1;33m.\u001b[0m\u001b[0m_apply_broadcast\u001b[0m\u001b[1;33m(\u001b[0m\u001b[0mf\u001b[0m\u001b[1;33m,\u001b[0m \u001b[0maxis\u001b[0m\u001b[1;33m)\u001b[0m\u001b[1;33m\u001b[0m\u001b[0m\n",
      "\u001b[1;32mC:\\ProgramData\\Anaconda3\\lib\\site-packages\\pandas\\core\\frame.py\u001b[0m in \u001b[0;36m_apply_standard\u001b[1;34m(self, func, axis, ignore_failures, reduce)\u001b[0m\n\u001b[0;32m   4373\u001b[0m                 \u001b[0mindex\u001b[0m \u001b[1;33m=\u001b[0m \u001b[1;32mNone\u001b[0m\u001b[1;33m\u001b[0m\u001b[0m\n\u001b[0;32m   4374\u001b[0m \u001b[1;33m\u001b[0m\u001b[0m\n\u001b[1;32m-> 4375\u001b[1;33m             \u001b[0mresult\u001b[0m \u001b[1;33m=\u001b[0m \u001b[0mself\u001b[0m\u001b[1;33m.\u001b[0m\u001b[0m_constructor\u001b[0m\u001b[1;33m(\u001b[0m\u001b[0mdata\u001b[0m\u001b[1;33m=\u001b[0m\u001b[0mresults\u001b[0m\u001b[1;33m,\u001b[0m \u001b[0mindex\u001b[0m\u001b[1;33m=\u001b[0m\u001b[0mindex\u001b[0m\u001b[1;33m)\u001b[0m\u001b[1;33m\u001b[0m\u001b[0m\n\u001b[0m\u001b[0;32m   4376\u001b[0m             \u001b[0mresult\u001b[0m\u001b[1;33m.\u001b[0m\u001b[0mcolumns\u001b[0m \u001b[1;33m=\u001b[0m \u001b[0mres_index\u001b[0m\u001b[1;33m\u001b[0m\u001b[0m\n\u001b[0;32m   4377\u001b[0m \u001b[1;33m\u001b[0m\u001b[0m\n",
      "\u001b[1;32mC:\\ProgramData\\Anaconda3\\lib\\site-packages\\pandas\\core\\frame.py\u001b[0m in \u001b[0;36m__init__\u001b[1;34m(self, data, index, columns, dtype, copy)\u001b[0m\n\u001b[0;32m    273\u001b[0m                                  dtype=dtype, copy=copy)\n\u001b[0;32m    274\u001b[0m         \u001b[1;32melif\u001b[0m \u001b[0misinstance\u001b[0m\u001b[1;33m(\u001b[0m\u001b[0mdata\u001b[0m\u001b[1;33m,\u001b[0m \u001b[0mdict\u001b[0m\u001b[1;33m)\u001b[0m\u001b[1;33m:\u001b[0m\u001b[1;33m\u001b[0m\u001b[0m\n\u001b[1;32m--> 275\u001b[1;33m             \u001b[0mmgr\u001b[0m \u001b[1;33m=\u001b[0m \u001b[0mself\u001b[0m\u001b[1;33m.\u001b[0m\u001b[0m_init_dict\u001b[0m\u001b[1;33m(\u001b[0m\u001b[0mdata\u001b[0m\u001b[1;33m,\u001b[0m \u001b[0mindex\u001b[0m\u001b[1;33m,\u001b[0m \u001b[0mcolumns\u001b[0m\u001b[1;33m,\u001b[0m \u001b[0mdtype\u001b[0m\u001b[1;33m=\u001b[0m\u001b[0mdtype\u001b[0m\u001b[1;33m)\u001b[0m\u001b[1;33m\u001b[0m\u001b[0m\n\u001b[0m\u001b[0;32m    276\u001b[0m         \u001b[1;32melif\u001b[0m \u001b[0misinstance\u001b[0m\u001b[1;33m(\u001b[0m\u001b[0mdata\u001b[0m\u001b[1;33m,\u001b[0m \u001b[0mma\u001b[0m\u001b[1;33m.\u001b[0m\u001b[0mMaskedArray\u001b[0m\u001b[1;33m)\u001b[0m\u001b[1;33m:\u001b[0m\u001b[1;33m\u001b[0m\u001b[0m\n\u001b[0;32m    277\u001b[0m             \u001b[1;32mimport\u001b[0m \u001b[0mnumpy\u001b[0m\u001b[1;33m.\u001b[0m\u001b[0mma\u001b[0m\u001b[1;33m.\u001b[0m\u001b[0mmrecords\u001b[0m \u001b[1;32mas\u001b[0m \u001b[0mmrecords\u001b[0m\u001b[1;33m\u001b[0m\u001b[0m\n",
      "\u001b[1;32mC:\\ProgramData\\Anaconda3\\lib\\site-packages\\pandas\\core\\frame.py\u001b[0m in \u001b[0;36m_init_dict\u001b[1;34m(self, data, index, columns, dtype)\u001b[0m\n\u001b[0;32m    409\u001b[0m             \u001b[0marrays\u001b[0m \u001b[1;33m=\u001b[0m \u001b[1;33m[\u001b[0m\u001b[0mdata\u001b[0m\u001b[1;33m[\u001b[0m\u001b[0mk\u001b[0m\u001b[1;33m]\u001b[0m \u001b[1;32mfor\u001b[0m \u001b[0mk\u001b[0m \u001b[1;32min\u001b[0m \u001b[0mkeys\u001b[0m\u001b[1;33m]\u001b[0m\u001b[1;33m\u001b[0m\u001b[0m\n\u001b[0;32m    410\u001b[0m \u001b[1;33m\u001b[0m\u001b[0m\n\u001b[1;32m--> 411\u001b[1;33m         \u001b[1;32mreturn\u001b[0m \u001b[0m_arrays_to_mgr\u001b[0m\u001b[1;33m(\u001b[0m\u001b[0marrays\u001b[0m\u001b[1;33m,\u001b[0m \u001b[0mdata_names\u001b[0m\u001b[1;33m,\u001b[0m \u001b[0mindex\u001b[0m\u001b[1;33m,\u001b[0m \u001b[0mcolumns\u001b[0m\u001b[1;33m,\u001b[0m \u001b[0mdtype\u001b[0m\u001b[1;33m=\u001b[0m\u001b[0mdtype\u001b[0m\u001b[1;33m)\u001b[0m\u001b[1;33m\u001b[0m\u001b[0m\n\u001b[0m\u001b[0;32m    412\u001b[0m \u001b[1;33m\u001b[0m\u001b[0m\n\u001b[0;32m    413\u001b[0m     \u001b[1;32mdef\u001b[0m \u001b[0m_init_ndarray\u001b[0m\u001b[1;33m(\u001b[0m\u001b[0mself\u001b[0m\u001b[1;33m,\u001b[0m \u001b[0mvalues\u001b[0m\u001b[1;33m,\u001b[0m \u001b[0mindex\u001b[0m\u001b[1;33m,\u001b[0m \u001b[0mcolumns\u001b[0m\u001b[1;33m,\u001b[0m \u001b[0mdtype\u001b[0m\u001b[1;33m=\u001b[0m\u001b[1;32mNone\u001b[0m\u001b[1;33m,\u001b[0m \u001b[0mcopy\u001b[0m\u001b[1;33m=\u001b[0m\u001b[1;32mFalse\u001b[0m\u001b[1;33m)\u001b[0m\u001b[1;33m:\u001b[0m\u001b[1;33m\u001b[0m\u001b[0m\n",
      "\u001b[1;32mC:\\ProgramData\\Anaconda3\\lib\\site-packages\\pandas\\core\\frame.py\u001b[0m in \u001b[0;36m_arrays_to_mgr\u001b[1;34m(arrays, arr_names, index, columns, dtype)\u001b[0m\n\u001b[0;32m   5504\u001b[0m     \u001b[0maxes\u001b[0m \u001b[1;33m=\u001b[0m \u001b[1;33m[\u001b[0m\u001b[0m_ensure_index\u001b[0m\u001b[1;33m(\u001b[0m\u001b[0mcolumns\u001b[0m\u001b[1;33m)\u001b[0m\u001b[1;33m,\u001b[0m \u001b[0m_ensure_index\u001b[0m\u001b[1;33m(\u001b[0m\u001b[0mindex\u001b[0m\u001b[1;33m)\u001b[0m\u001b[1;33m]\u001b[0m\u001b[1;33m\u001b[0m\u001b[0m\n\u001b[0;32m   5505\u001b[0m \u001b[1;33m\u001b[0m\u001b[0m\n\u001b[1;32m-> 5506\u001b[1;33m     \u001b[1;32mreturn\u001b[0m \u001b[0mcreate_block_manager_from_arrays\u001b[0m\u001b[1;33m(\u001b[0m\u001b[0marrays\u001b[0m\u001b[1;33m,\u001b[0m \u001b[0marr_names\u001b[0m\u001b[1;33m,\u001b[0m \u001b[0maxes\u001b[0m\u001b[1;33m)\u001b[0m\u001b[1;33m\u001b[0m\u001b[0m\n\u001b[0m\u001b[0;32m   5507\u001b[0m \u001b[1;33m\u001b[0m\u001b[0m\n\u001b[0;32m   5508\u001b[0m \u001b[1;33m\u001b[0m\u001b[0m\n",
      "\u001b[1;32mC:\\ProgramData\\Anaconda3\\lib\\site-packages\\pandas\\core\\internals.py\u001b[0m in \u001b[0;36mcreate_block_manager_from_arrays\u001b[1;34m(arrays, names, axes)\u001b[0m\n\u001b[0;32m   4312\u001b[0m         \u001b[1;32mreturn\u001b[0m \u001b[0mmgr\u001b[0m\u001b[1;33m\u001b[0m\u001b[0m\n\u001b[0;32m   4313\u001b[0m     \u001b[1;32mexcept\u001b[0m \u001b[0mValueError\u001b[0m \u001b[1;32mas\u001b[0m \u001b[0me\u001b[0m\u001b[1;33m:\u001b[0m\u001b[1;33m\u001b[0m\u001b[0m\n\u001b[1;32m-> 4314\u001b[1;33m         \u001b[0mconstruction_error\u001b[0m\u001b[1;33m(\u001b[0m\u001b[0mlen\u001b[0m\u001b[1;33m(\u001b[0m\u001b[0marrays\u001b[0m\u001b[1;33m)\u001b[0m\u001b[1;33m,\u001b[0m \u001b[0marrays\u001b[0m\u001b[1;33m[\u001b[0m\u001b[1;36m0\u001b[0m\u001b[1;33m]\u001b[0m\u001b[1;33m.\u001b[0m\u001b[0mshape\u001b[0m\u001b[1;33m,\u001b[0m \u001b[0maxes\u001b[0m\u001b[1;33m,\u001b[0m \u001b[0me\u001b[0m\u001b[1;33m)\u001b[0m\u001b[1;33m\u001b[0m\u001b[0m\n\u001b[0m\u001b[0;32m   4315\u001b[0m \u001b[1;33m\u001b[0m\u001b[0m\n\u001b[0;32m   4316\u001b[0m \u001b[1;33m\u001b[0m\u001b[0m\n",
      "\u001b[1;32mC:\\ProgramData\\Anaconda3\\lib\\site-packages\\pandas\\core\\internals.py\u001b[0m in \u001b[0;36mconstruction_error\u001b[1;34m(tot_items, block_shape, axes, e)\u001b[0m\n\u001b[0;32m   4278\u001b[0m         \u001b[1;32mraise\u001b[0m \u001b[0mValueError\u001b[0m\u001b[1;33m(\u001b[0m\u001b[1;34m\"Empty data passed with indices specified.\"\u001b[0m\u001b[1;33m)\u001b[0m\u001b[1;33m\u001b[0m\u001b[0m\n\u001b[0;32m   4279\u001b[0m     raise ValueError(\"Shape of passed values is {0}, indices imply {1}\".format(\n\u001b[1;32m-> 4280\u001b[1;33m         passed, implied))\n\u001b[0m\u001b[0;32m   4281\u001b[0m \u001b[1;33m\u001b[0m\u001b[0m\n\u001b[0;32m   4282\u001b[0m \u001b[1;33m\u001b[0m\u001b[0m\n",
      "\u001b[1;31mValueError\u001b[0m: Shape of passed values is (1, 70), indices imply (1, 71)"
     ]
    }
   ],
   "source": [
    "x = ativo.iloc[:5].apply(calcular_idade_beneficio_v3, axis=1)"
   ]
  },
  {
   "cell_type": "code",
   "execution_count": 121,
   "metadata": {},
   "outputs": [
    {
     "data": {
      "text/html": [
       "<div>\n",
       "<style>\n",
       "    .dataframe thead tr:only-child th {\n",
       "        text-align: right;\n",
       "    }\n",
       "\n",
       "    .dataframe thead th {\n",
       "        text-align: left;\n",
       "    }\n",
       "\n",
       "    .dataframe tbody tr th {\n",
       "        vertical-align: top;\n",
       "    }\n",
       "</style>\n",
       "<table border=\"1\" class=\"dataframe\">\n",
       "  <thead>\n",
       "    <tr style=\"text-align: right;\">\n",
       "      <th></th>\n",
       "      <th>ID_PARTICIPANTE</th>\n",
       "      <th>CdSitCadPart</th>\n",
       "      <th>NoNomePartic</th>\n",
       "      <th>NuMatrPartic</th>\n",
       "      <th>DtNascPartic</th>\n",
       "      <th>CdSexoPartic</th>\n",
       "      <th>CdPatrocPlan</th>\n",
       "      <th>CD_SITUACAO_PATROC</th>\n",
       "      <th>CdEstCivPart</th>\n",
       "      <th>EstCivPart</th>\n",
       "      <th>...</th>\n",
       "      <th>IddApoEntPre</th>\n",
       "      <th>TmpPlanoPrev</th>\n",
       "      <th>TmpPlanoRest</th>\n",
       "      <th>IddConjuCalc</th>\n",
       "      <th>IddCjgApoEnt</th>\n",
       "      <th>IddFilJovCalc</th>\n",
       "      <th>IddFilJovApoEnt</th>\n",
       "      <th>IddFilInvCalc</th>\n",
       "      <th>IddFilInvApoEnt</th>\n",
       "      <th>id_bloco</th>\n",
       "    </tr>\n",
       "  </thead>\n",
       "  <tbody>\n",
       "  </tbody>\n",
       "</table>\n",
       "<p>0 rows × 71 columns</p>\n",
       "</div>"
      ],
      "text/plain": [
       "Empty DataFrame\n",
       "Columns: [ID_PARTICIPANTE, CdSitCadPart, NoNomePartic, NuMatrPartic, DtNascPartic, CdSexoPartic, CdPatrocPlan, CD_SITUACAO_PATROC, CdEstCivPart, EstCivPart, CdExDirPatro, DT_OPCAO_BPD, DtAdmPatroci, DtAssEntPrev, PeFatReduPbe, CdElegApoEsp, CdParEntPrev, FL_DEFICIENTE, NuMatrOrigem, FlgPensionista, FL_MIGRADO, IDPLANOPREV, DtAdesaoPlan, VlSdoConPart, VlSdoConPatr, VL_RESERVA_BPD, VL_SALDO_PORTADO, VlBenSaldado, VlSalEntPrev, CD_SITUACAO_FUNDACAO, PeContrParti, PeContrPatro, DtIniBenInss, VlBenefiInss, VlBenefiPrev, CdTipoBenefi, DtIniBenPrev, CdSexoConjug, DtNascConjug, CdSexoFilJov, DtNascFilJov, CdSexoFilInv, DtNascFilInv, CdAutoPatroc, flg_manutencao_saldo, IddPartiCalc, IddPartiFrac, IddAdmPatroc, IddAdmFracao, IddAssEntPre, TmpAdmIns, DtIniApoInss, IddIniciInss, IddIniApoInss, DtIniContInss, PrbCasado, TmpInssCalcu, TmpInssResto, TmpInssTotal, TmpContribInss, DtApoEntPrev, IddApoEntPre, TmpPlanoPrev, TmpPlanoRest, IddConjuCalc, IddCjgApoEnt, IddFilJovCalc, IddFilJovApoEnt, IddFilInvCalc, IddFilInvApoEnt, id_bloco]\n",
       "Index: []\n",
       "\n",
       "[0 rows x 71 columns]"
      ]
     },
     "execution_count": 121,
     "metadata": {},
     "output_type": "execute_result"
    }
   ],
   "source": [
    "x"
   ]
  },
  {
   "cell_type": "code",
   "execution_count": null,
   "metadata": {
    "collapsed": true
   },
   "outputs": [],
   "source": [
    "[print(idade+t) for idade in ativo['IddPartiCalc']]"
   ]
  },
  {
   "cell_type": "code",
   "execution_count": null,
   "metadata": {
    "collapsed": true
   },
   "outputs": [],
   "source": []
  }
 ],
 "metadata": {
  "kernelspec": {
   "display_name": "Python 3",
   "language": "python",
   "name": "python3"
  },
  "language_info": {
   "codemirror_mode": {
    "name": "ipython",
    "version": 3
   },
   "file_extension": ".py",
   "mimetype": "text/x-python",
   "name": "python",
   "nbconvert_exporter": "python",
   "pygments_lexer": "ipython3",
   "version": "3.6.3"
  }
 },
 "nbformat": 4,
 "nbformat_minor": 2
}
